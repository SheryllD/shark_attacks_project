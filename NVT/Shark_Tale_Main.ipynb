{
 "cells": [
  {
   "cell_type": "markdown",
   "metadata": {},
   "source": [
    "# Project: Sharktale, SharkTrack"
   ]
  },
  {
   "cell_type": "code",
   "execution_count": 112,
   "metadata": {},
   "outputs": [
    {
     "name": "stdout",
     "output_type": "stream",
     "text": [
      "Requirement already satisfied: xlrd in /opt/anaconda3/lib/python3.12/site-packages (2.0.1)\n"
     ]
    }
   ],
   "source": [
    "!pip install xlrd #!pip install country_converter, keep this here pls"
   ]
  },
  {
   "cell_type": "markdown",
   "metadata": {},
   "source": [
    "### Import of Libraries"
   ]
  },
  {
   "cell_type": "code",
   "execution_count": 113,
   "metadata": {},
   "outputs": [],
   "source": [
    "import pandas as pd\n",
    "import numpy as np\n",
    "import re\n",
    "import matplotlib.pyplot as plt\n",
    "import seaborn as sns\n",
    "import warnings\n",
    "warnings.filterwarnings('ignore')"
   ]
  },
  {
   "cell_type": "markdown",
   "metadata": {},
   "source": [
    "## Loading the Shark Data"
   ]
  },
  {
   "cell_type": "code",
   "execution_count": 114,
   "metadata": {},
   "outputs": [],
   "source": [
    "#define path to xls\n",
    "url = 'https://www.sharkattackfile.net/spreadsheets/GSAF5.xls'\n",
    "df = pd.read_excel(url)"
   ]
  },
  {
   "cell_type": "markdown",
   "metadata": {},
   "source": [
    "## The Data at a Glance:"
   ]
  },
  {
   "cell_type": "code",
   "execution_count": 115,
   "metadata": {},
   "outputs": [
    {
     "data": {
      "text/html": [
       "<div>\n",
       "<style scoped>\n",
       "    .dataframe tbody tr th:only-of-type {\n",
       "        vertical-align: middle;\n",
       "    }\n",
       "\n",
       "    .dataframe tbody tr th {\n",
       "        vertical-align: top;\n",
       "    }\n",
       "\n",
       "    .dataframe thead th {\n",
       "        text-align: right;\n",
       "    }\n",
       "</style>\n",
       "<table border=\"1\" class=\"dataframe\">\n",
       "  <thead>\n",
       "    <tr style=\"text-align: right;\">\n",
       "      <th></th>\n",
       "      <th>Date</th>\n",
       "      <th>Year</th>\n",
       "      <th>Type</th>\n",
       "      <th>Country</th>\n",
       "      <th>State</th>\n",
       "      <th>Location</th>\n",
       "      <th>Activity</th>\n",
       "      <th>Name</th>\n",
       "      <th>Sex</th>\n",
       "      <th>Age</th>\n",
       "      <th>...</th>\n",
       "      <th>Species</th>\n",
       "      <th>Source</th>\n",
       "      <th>pdf</th>\n",
       "      <th>href formula</th>\n",
       "      <th>href</th>\n",
       "      <th>Case Number</th>\n",
       "      <th>Case Number.1</th>\n",
       "      <th>original order</th>\n",
       "      <th>Unnamed: 21</th>\n",
       "      <th>Unnamed: 22</th>\n",
       "    </tr>\n",
       "  </thead>\n",
       "  <tbody>\n",
       "    <tr>\n",
       "      <th>0</th>\n",
       "      <td>2025-02-07 00:00:00</td>\n",
       "      <td>2025.0</td>\n",
       "      <td>Unprovoked</td>\n",
       "      <td>Turks and Caicos</td>\n",
       "      <td>NaN</td>\n",
       "      <td>Thompson Cove Beach</td>\n",
       "      <td>Swimming</td>\n",
       "      <td>Unknown</td>\n",
       "      <td>F</td>\n",
       "      <td>55</td>\n",
       "      <td>...</td>\n",
       "      <td>Unknown</td>\n",
       "      <td>Todd Smith: Platform X</td>\n",
       "      <td>NaN</td>\n",
       "      <td>NaN</td>\n",
       "      <td>NaN</td>\n",
       "      <td>NaN</td>\n",
       "      <td>NaN</td>\n",
       "      <td>NaN</td>\n",
       "      <td>NaN</td>\n",
       "      <td>NaN</td>\n",
       "    </tr>\n",
       "    <tr>\n",
       "      <th>1</th>\n",
       "      <td>2025-02-03 00:00:00</td>\n",
       "      <td>2025.0</td>\n",
       "      <td>Unprovoked</td>\n",
       "      <td>Australia</td>\n",
       "      <td>Queensland</td>\n",
       "      <td>Woorim Beach, Bribie Island,</td>\n",
       "      <td>Swimming</td>\n",
       "      <td>Charlize Zmuda</td>\n",
       "      <td>F</td>\n",
       "      <td>17</td>\n",
       "      <td>...</td>\n",
       "      <td>Bull shark</td>\n",
       "      <td>9 News: The Brisbane Times: The Guardian</td>\n",
       "      <td>NaN</td>\n",
       "      <td>NaN</td>\n",
       "      <td>NaN</td>\n",
       "      <td>NaN</td>\n",
       "      <td>NaN</td>\n",
       "      <td>NaN</td>\n",
       "      <td>NaN</td>\n",
       "      <td>NaN</td>\n",
       "    </tr>\n",
       "    <tr>\n",
       "      <th>2</th>\n",
       "      <td>2025-01-23 00:00:00</td>\n",
       "      <td>2025.0</td>\n",
       "      <td>Unprovoked</td>\n",
       "      <td>Australia</td>\n",
       "      <td>Western Australia</td>\n",
       "      <td>Shipwreck Cove</td>\n",
       "      <td>Bathing</td>\n",
       "      <td>Boy</td>\n",
       "      <td>M</td>\n",
       "      <td>12</td>\n",
       "      <td>...</td>\n",
       "      <td>Not stated</td>\n",
       "      <td>Bob Myatt GSAF</td>\n",
       "      <td>NaN</td>\n",
       "      <td>NaN</td>\n",
       "      <td>NaN</td>\n",
       "      <td>NaN</td>\n",
       "      <td>NaN</td>\n",
       "      <td>NaN</td>\n",
       "      <td>NaN</td>\n",
       "      <td>NaN</td>\n",
       "    </tr>\n",
       "    <tr>\n",
       "      <th>3</th>\n",
       "      <td>2025-01-22 00:00:00</td>\n",
       "      <td>2025.0</td>\n",
       "      <td>Unprovoked</td>\n",
       "      <td>Australia</td>\n",
       "      <td>Western Australia</td>\n",
       "      <td>Cheynes beach</td>\n",
       "      <td>Surfing</td>\n",
       "      <td>Dale Kittow</td>\n",
       "      <td>M</td>\n",
       "      <td>37</td>\n",
       "      <td>...</td>\n",
       "      <td>Bronze whaler</td>\n",
       "      <td>Bob Myatt GSAF</td>\n",
       "      <td>NaN</td>\n",
       "      <td>NaN</td>\n",
       "      <td>NaN</td>\n",
       "      <td>NaN</td>\n",
       "      <td>NaN</td>\n",
       "      <td>NaN</td>\n",
       "      <td>NaN</td>\n",
       "      <td>NaN</td>\n",
       "    </tr>\n",
       "    <tr>\n",
       "      <th>4</th>\n",
       "      <td>2025-01-11 00:00:00</td>\n",
       "      <td>2025.0</td>\n",
       "      <td>Provoked</td>\n",
       "      <td>USA</td>\n",
       "      <td>Hawaii</td>\n",
       "      <td>Off Haleiwa Boat Harbour Oahu</td>\n",
       "      <td>Diving</td>\n",
       "      <td>Male not stated was a dive tour worker</td>\n",
       "      <td>M</td>\n",
       "      <td>23</td>\n",
       "      <td>...</td>\n",
       "      <td>Not stated</td>\n",
       "      <td>Kevin McMurray Trackingsharks.com</td>\n",
       "      <td>NaN</td>\n",
       "      <td>NaN</td>\n",
       "      <td>NaN</td>\n",
       "      <td>NaN</td>\n",
       "      <td>NaN</td>\n",
       "      <td>NaN</td>\n",
       "      <td>NaN</td>\n",
       "      <td>NaN</td>\n",
       "    </tr>\n",
       "  </tbody>\n",
       "</table>\n",
       "<p>5 rows × 23 columns</p>\n",
       "</div>"
      ],
      "text/plain": [
       "                  Date    Year        Type           Country  \\\n",
       "0  2025-02-07 00:00:00  2025.0  Unprovoked  Turks and Caicos   \n",
       "1  2025-02-03 00:00:00  2025.0  Unprovoked         Australia   \n",
       "2  2025-01-23 00:00:00  2025.0  Unprovoked         Australia   \n",
       "3  2025-01-22 00:00:00  2025.0  Unprovoked         Australia   \n",
       "4  2025-01-11 00:00:00  2025.0    Provoked               USA   \n",
       "\n",
       "               State                       Location  Activity  \\\n",
       "0                NaN            Thompson Cove Beach  Swimming   \n",
       "1         Queensland   Woorim Beach, Bribie Island,  Swimming   \n",
       "2  Western Australia                 Shipwreck Cove   Bathing   \n",
       "3  Western Australia                 Cheynes beach    Surfing   \n",
       "4             Hawaii  Off Haleiwa Boat Harbour Oahu    Diving   \n",
       "\n",
       "                                     Name Sex Age  ...       Species   \\\n",
       "0                                Unknown    F  55  ...        Unknown   \n",
       "1                          Charlize Zmuda   F  17  ...     Bull shark   \n",
       "2                                    Boy    M  12  ...     Not stated   \n",
       "3                             Dale Kittow   M  37  ...  Bronze whaler   \n",
       "4  Male not stated was a dive tour worker   M  23  ...     Not stated   \n",
       "\n",
       "                                     Source  pdf href formula href  \\\n",
       "0                    Todd Smith: Platform X  NaN          NaN  NaN   \n",
       "1  9 News: The Brisbane Times: The Guardian  NaN          NaN  NaN   \n",
       "2                            Bob Myatt GSAF  NaN          NaN  NaN   \n",
       "3                            Bob Myatt GSAF  NaN          NaN  NaN   \n",
       "4         Kevin McMurray Trackingsharks.com  NaN          NaN  NaN   \n",
       "\n",
       "  Case Number Case Number.1 original order Unnamed: 21 Unnamed: 22  \n",
       "0         NaN           NaN            NaN         NaN         NaN  \n",
       "1         NaN           NaN            NaN         NaN         NaN  \n",
       "2         NaN           NaN            NaN         NaN         NaN  \n",
       "3         NaN           NaN            NaN         NaN         NaN  \n",
       "4         NaN           NaN            NaN         NaN         NaN  \n",
       "\n",
       "[5 rows x 23 columns]"
      ]
     },
     "execution_count": 115,
     "metadata": {},
     "output_type": "execute_result"
    }
   ],
   "source": [
    "df.head()"
   ]
  },
  {
   "cell_type": "code",
   "execution_count": 116,
   "metadata": {},
   "outputs": [
    {
     "name": "stdout",
     "output_type": "stream",
     "text": [
      "<class 'pandas.core.frame.DataFrame'>\n",
      "RangeIndex: 6994 entries, 0 to 6993\n",
      "Data columns (total 23 columns):\n",
      " #   Column          Non-Null Count  Dtype  \n",
      "---  ------          --------------  -----  \n",
      " 0   Date            6994 non-null   object \n",
      " 1   Year            6992 non-null   float64\n",
      " 2   Type            6976 non-null   object \n",
      " 3   Country         6944 non-null   object \n",
      " 4   State           6511 non-null   object \n",
      " 5   Location        6429 non-null   object \n",
      " 6   Activity        6409 non-null   object \n",
      " 7   Name            6775 non-null   object \n",
      " 8   Sex             6415 non-null   object \n",
      " 9   Age             4000 non-null   object \n",
      " 10  Injury          6959 non-null   object \n",
      " 11  Fatal Y/N       6433 non-null   object \n",
      " 12  Time            3468 non-null   object \n",
      " 13  Species         3862 non-null   object \n",
      " 14  Source          6975 non-null   object \n",
      " 15  pdf             6799 non-null   object \n",
      " 16  href formula    6794 non-null   object \n",
      " 17  href            6796 non-null   object \n",
      " 18  Case Number     6798 non-null   object \n",
      " 19  Case Number.1   6797 non-null   object \n",
      " 20  original order  6799 non-null   float64\n",
      " 21  Unnamed: 21     1 non-null      object \n",
      " 22  Unnamed: 22     2 non-null      object \n",
      "dtypes: float64(2), object(21)\n",
      "memory usage: 1.2+ MB\n"
     ]
    }
   ],
   "source": [
    "df.info()"
   ]
  },
  {
   "cell_type": "code",
   "execution_count": 117,
   "metadata": {},
   "outputs": [
    {
     "data": {
      "text/html": [
       "<div>\n",
       "<style scoped>\n",
       "    .dataframe tbody tr th:only-of-type {\n",
       "        vertical-align: middle;\n",
       "    }\n",
       "\n",
       "    .dataframe tbody tr th {\n",
       "        vertical-align: top;\n",
       "    }\n",
       "\n",
       "    .dataframe thead th {\n",
       "        text-align: right;\n",
       "    }\n",
       "</style>\n",
       "<table border=\"1\" class=\"dataframe\">\n",
       "  <thead>\n",
       "    <tr style=\"text-align: right;\">\n",
       "      <th></th>\n",
       "      <th>Date</th>\n",
       "      <th>Year</th>\n",
       "      <th>Type</th>\n",
       "      <th>Country</th>\n",
       "      <th>State</th>\n",
       "      <th>Location</th>\n",
       "      <th>Activity</th>\n",
       "      <th>Name</th>\n",
       "      <th>Sex</th>\n",
       "      <th>Age</th>\n",
       "      <th>...</th>\n",
       "      <th>Species</th>\n",
       "      <th>Source</th>\n",
       "      <th>pdf</th>\n",
       "      <th>href formula</th>\n",
       "      <th>href</th>\n",
       "      <th>Case Number</th>\n",
       "      <th>Case Number.1</th>\n",
       "      <th>original order</th>\n",
       "      <th>Unnamed: 21</th>\n",
       "      <th>Unnamed: 22</th>\n",
       "    </tr>\n",
       "  </thead>\n",
       "  <tbody>\n",
       "    <tr>\n",
       "      <th>6989</th>\n",
       "      <td>Before 1903</td>\n",
       "      <td>0.0</td>\n",
       "      <td>Unprovoked</td>\n",
       "      <td>AUSTRALIA</td>\n",
       "      <td>Western Australia</td>\n",
       "      <td>Roebuck Bay</td>\n",
       "      <td>Diving</td>\n",
       "      <td>male</td>\n",
       "      <td>M</td>\n",
       "      <td>NaN</td>\n",
       "      <td>...</td>\n",
       "      <td>NaN</td>\n",
       "      <td>H. Taunton; N. Bartlett,  p. 234</td>\n",
       "      <td>ND-0005-RoebuckBay.pdf</td>\n",
       "      <td>http://sharkattackfile.net/spreadsheets/pdf_di...</td>\n",
       "      <td>http://sharkattackfile.net/spreadsheets/pdf_di...</td>\n",
       "      <td>ND.0005</td>\n",
       "      <td>ND.0005</td>\n",
       "      <td>6.0</td>\n",
       "      <td>NaN</td>\n",
       "      <td>NaN</td>\n",
       "    </tr>\n",
       "    <tr>\n",
       "      <th>6990</th>\n",
       "      <td>Before 1903</td>\n",
       "      <td>0.0</td>\n",
       "      <td>Unprovoked</td>\n",
       "      <td>AUSTRALIA</td>\n",
       "      <td>Western Australia</td>\n",
       "      <td>NaN</td>\n",
       "      <td>Pearl diving</td>\n",
       "      <td>Ahmun</td>\n",
       "      <td>M</td>\n",
       "      <td>NaN</td>\n",
       "      <td>...</td>\n",
       "      <td>NaN</td>\n",
       "      <td>H. Taunton; N. Bartlett,  pp. 233-234</td>\n",
       "      <td>ND-0004-Ahmun.pdf</td>\n",
       "      <td>http://sharkattackfile.net/spreadsheets/pdf_di...</td>\n",
       "      <td>http://sharkattackfile.net/spreadsheets/pdf_di...</td>\n",
       "      <td>ND.0004</td>\n",
       "      <td>ND.0004</td>\n",
       "      <td>5.0</td>\n",
       "      <td>NaN</td>\n",
       "      <td>NaN</td>\n",
       "    </tr>\n",
       "    <tr>\n",
       "      <th>6991</th>\n",
       "      <td>1900-1905</td>\n",
       "      <td>0.0</td>\n",
       "      <td>Unprovoked</td>\n",
       "      <td>USA</td>\n",
       "      <td>North Carolina</td>\n",
       "      <td>Ocracoke Inlet</td>\n",
       "      <td>Swimming</td>\n",
       "      <td>Coast Guard personnel</td>\n",
       "      <td>M</td>\n",
       "      <td>NaN</td>\n",
       "      <td>...</td>\n",
       "      <td>NaN</td>\n",
       "      <td>F. Schwartz, p.23; C. Creswell, GSAF</td>\n",
       "      <td>ND-0003-Ocracoke_1900-1905.pdf</td>\n",
       "      <td>http://sharkattackfile.net/spreadsheets/pdf_di...</td>\n",
       "      <td>http://sharkattackfile.net/spreadsheets/pdf_di...</td>\n",
       "      <td>ND.0003</td>\n",
       "      <td>ND.0003</td>\n",
       "      <td>4.0</td>\n",
       "      <td>NaN</td>\n",
       "      <td>NaN</td>\n",
       "    </tr>\n",
       "    <tr>\n",
       "      <th>6992</th>\n",
       "      <td>1883-1889</td>\n",
       "      <td>0.0</td>\n",
       "      <td>Unprovoked</td>\n",
       "      <td>PANAMA</td>\n",
       "      <td>NaN</td>\n",
       "      <td>Panama Bay 8ºN, 79ºW</td>\n",
       "      <td>NaN</td>\n",
       "      <td>Jules Patterson</td>\n",
       "      <td>M</td>\n",
       "      <td>NaN</td>\n",
       "      <td>...</td>\n",
       "      <td>NaN</td>\n",
       "      <td>The Sun, 10/20/1938</td>\n",
       "      <td>ND-0002-JulesPatterson.pdf</td>\n",
       "      <td>http://sharkattackfile.net/spreadsheets/pdf_di...</td>\n",
       "      <td>http://sharkattackfile.net/spreadsheets/pdf_di...</td>\n",
       "      <td>ND.0002</td>\n",
       "      <td>ND.0002</td>\n",
       "      <td>3.0</td>\n",
       "      <td>NaN</td>\n",
       "      <td>NaN</td>\n",
       "    </tr>\n",
       "    <tr>\n",
       "      <th>6993</th>\n",
       "      <td>1845-1853</td>\n",
       "      <td>0.0</td>\n",
       "      <td>Unprovoked</td>\n",
       "      <td>CEYLON (SRI LANKA)</td>\n",
       "      <td>Eastern Province</td>\n",
       "      <td>Below the English fort, Trincomalee</td>\n",
       "      <td>Swimming</td>\n",
       "      <td>male</td>\n",
       "      <td>M</td>\n",
       "      <td>15</td>\n",
       "      <td>...</td>\n",
       "      <td>NaN</td>\n",
       "      <td>S.W. Baker</td>\n",
       "      <td>ND-0001-Ceylon.pdf</td>\n",
       "      <td>http://sharkattackfile.net/spreadsheets/pdf_di...</td>\n",
       "      <td>http://sharkattackfile.net/spreadsheets/pdf_di...</td>\n",
       "      <td>ND.0001</td>\n",
       "      <td>ND.0001</td>\n",
       "      <td>2.0</td>\n",
       "      <td>NaN</td>\n",
       "      <td>NaN</td>\n",
       "    </tr>\n",
       "  </tbody>\n",
       "</table>\n",
       "<p>5 rows × 23 columns</p>\n",
       "</div>"
      ],
      "text/plain": [
       "             Date  Year        Type             Country              State  \\\n",
       "6989  Before 1903   0.0  Unprovoked           AUSTRALIA  Western Australia   \n",
       "6990  Before 1903   0.0  Unprovoked           AUSTRALIA  Western Australia   \n",
       "6991    1900-1905   0.0  Unprovoked                 USA     North Carolina   \n",
       "6992    1883-1889   0.0  Unprovoked              PANAMA                NaN   \n",
       "6993    1845-1853   0.0  Unprovoked  CEYLON (SRI LANKA)   Eastern Province   \n",
       "\n",
       "                                 Location      Activity  \\\n",
       "6989                          Roebuck Bay        Diving   \n",
       "6990                                  NaN  Pearl diving   \n",
       "6991                       Ocracoke Inlet      Swimming   \n",
       "6992                 Panama Bay 8ºN, 79ºW           NaN   \n",
       "6993  Below the English fort, Trincomalee      Swimming   \n",
       "\n",
       "                       Name Sex  Age  ... Species   \\\n",
       "6989                   male   M  NaN  ...      NaN   \n",
       "6990                  Ahmun   M  NaN  ...      NaN   \n",
       "6991  Coast Guard personnel   M  NaN  ...      NaN   \n",
       "6992        Jules Patterson   M  NaN  ...      NaN   \n",
       "6993                   male   M   15  ...      NaN   \n",
       "\n",
       "                                     Source                             pdf  \\\n",
       "6989       H. Taunton; N. Bartlett,  p. 234          ND-0005-RoebuckBay.pdf   \n",
       "6990  H. Taunton; N. Bartlett,  pp. 233-234               ND-0004-Ahmun.pdf   \n",
       "6991   F. Schwartz, p.23; C. Creswell, GSAF  ND-0003-Ocracoke_1900-1905.pdf   \n",
       "6992                    The Sun, 10/20/1938      ND-0002-JulesPatterson.pdf   \n",
       "6993                             S.W. Baker              ND-0001-Ceylon.pdf   \n",
       "\n",
       "                                           href formula  \\\n",
       "6989  http://sharkattackfile.net/spreadsheets/pdf_di...   \n",
       "6990  http://sharkattackfile.net/spreadsheets/pdf_di...   \n",
       "6991  http://sharkattackfile.net/spreadsheets/pdf_di...   \n",
       "6992  http://sharkattackfile.net/spreadsheets/pdf_di...   \n",
       "6993  http://sharkattackfile.net/spreadsheets/pdf_di...   \n",
       "\n",
       "                                                   href Case Number  \\\n",
       "6989  http://sharkattackfile.net/spreadsheets/pdf_di...     ND.0005   \n",
       "6990  http://sharkattackfile.net/spreadsheets/pdf_di...     ND.0004   \n",
       "6991  http://sharkattackfile.net/spreadsheets/pdf_di...     ND.0003   \n",
       "6992  http://sharkattackfile.net/spreadsheets/pdf_di...     ND.0002   \n",
       "6993  http://sharkattackfile.net/spreadsheets/pdf_di...     ND.0001   \n",
       "\n",
       "     Case Number.1 original order Unnamed: 21 Unnamed: 22  \n",
       "6989       ND.0005            6.0         NaN         NaN  \n",
       "6990       ND.0004            5.0         NaN         NaN  \n",
       "6991       ND.0003            4.0         NaN         NaN  \n",
       "6992       ND.0002            3.0         NaN         NaN  \n",
       "6993       ND.0001            2.0         NaN         NaN  \n",
       "\n",
       "[5 rows x 23 columns]"
      ]
     },
     "execution_count": 117,
     "metadata": {},
     "output_type": "execute_result"
    }
   ],
   "source": [
    "df.tail()"
   ]
  },
  {
   "cell_type": "code",
   "execution_count": 118,
   "metadata": {},
   "outputs": [
    {
     "name": "stdout",
     "output_type": "stream",
     "text": [
      "Number of Rows:  6994\n",
      "Number of Columns:  23\n"
     ]
    },
    {
     "data": {
      "text/plain": [
       "Index(['Date', 'Year', 'Type', 'Country', 'State', 'Location', 'Activity',\n",
       "       'Name', 'Sex', 'Age', 'Injury', 'Fatal Y/N', 'Time', 'Species ',\n",
       "       'Source', 'pdf', 'href formula', 'href', 'Case Number', 'Case Number.1',\n",
       "       'original order', 'Unnamed: 21', 'Unnamed: 22'],\n",
       "      dtype='object')"
      ]
     },
     "execution_count": 118,
     "metadata": {},
     "output_type": "execute_result"
    }
   ],
   "source": [
    "df.shape[0]\n",
    "df.shape[1]\n",
    "\n",
    "print(\"Number of Rows: \", df.shape[0])\n",
    "print(\"Number of Columns: \", df.shape[1])\n",
    "\n",
    "df.columns\n",
    "# Issues w/ og file –> extra 8 columns on VSC? to preserve NaN\n",
    "# Date, Year, Type, Country, State, Location, Activity, Name, Sex, Age, Injury, Fatal Y/N, Time, Specie, Source\n",
    "# check search tool between uppercase and lowercase e.g. Australia / AUSTRALIA"
   ]
  },
  {
   "cell_type": "code",
   "execution_count": 119,
   "metadata": {},
   "outputs": [
    {
     "data": {
      "text/html": [
       "<div>\n",
       "<style scoped>\n",
       "    .dataframe tbody tr th:only-of-type {\n",
       "        vertical-align: middle;\n",
       "    }\n",
       "\n",
       "    .dataframe tbody tr th {\n",
       "        vertical-align: top;\n",
       "    }\n",
       "\n",
       "    .dataframe thead th {\n",
       "        text-align: right;\n",
       "    }\n",
       "</style>\n",
       "<table border=\"1\" class=\"dataframe\">\n",
       "  <thead>\n",
       "    <tr style=\"text-align: right;\">\n",
       "      <th></th>\n",
       "      <th>Year</th>\n",
       "      <th>original order</th>\n",
       "    </tr>\n",
       "  </thead>\n",
       "  <tbody>\n",
       "    <tr>\n",
       "      <th>count</th>\n",
       "      <td>6992.000000</td>\n",
       "      <td>6799.000000</td>\n",
       "    </tr>\n",
       "    <tr>\n",
       "      <th>mean</th>\n",
       "      <td>1935.044336</td>\n",
       "      <td>3401.152081</td>\n",
       "    </tr>\n",
       "    <tr>\n",
       "      <th>std</th>\n",
       "      <td>272.048128</td>\n",
       "      <td>1963.076319</td>\n",
       "    </tr>\n",
       "    <tr>\n",
       "      <th>min</th>\n",
       "      <td>0.000000</td>\n",
       "      <td>2.000000</td>\n",
       "    </tr>\n",
       "    <tr>\n",
       "      <th>25%</th>\n",
       "      <td>1947.000000</td>\n",
       "      <td>1701.500000</td>\n",
       "    </tr>\n",
       "    <tr>\n",
       "      <th>50%</th>\n",
       "      <td>1986.000000</td>\n",
       "      <td>3401.000000</td>\n",
       "    </tr>\n",
       "    <tr>\n",
       "      <th>75%</th>\n",
       "      <td>2009.000000</td>\n",
       "      <td>5100.500000</td>\n",
       "    </tr>\n",
       "    <tr>\n",
       "      <th>max</th>\n",
       "      <td>2026.000000</td>\n",
       "      <td>6802.000000</td>\n",
       "    </tr>\n",
       "  </tbody>\n",
       "</table>\n",
       "</div>"
      ],
      "text/plain": [
       "              Year  original order\n",
       "count  6992.000000     6799.000000\n",
       "mean   1935.044336     3401.152081\n",
       "std     272.048128     1963.076319\n",
       "min       0.000000        2.000000\n",
       "25%    1947.000000     1701.500000\n",
       "50%    1986.000000     3401.000000\n",
       "75%    2009.000000     5100.500000\n",
       "max    2026.000000     6802.000000"
      ]
     },
     "execution_count": 119,
     "metadata": {},
     "output_type": "execute_result"
    }
   ],
   "source": [
    "df.describe()"
   ]
  },
  {
   "cell_type": "code",
   "execution_count": 120,
   "metadata": {},
   "outputs": [
    {
     "name": "stdout",
     "output_type": "stream",
     "text": [
      "Index(['Date', 'Year', 'Type', 'Country', 'State', 'Location', 'Activity',\n",
      "       'Name', 'Gender', 'Age', 'Injury', 'Fatal', 'Time', 'Species', 'Source',\n",
      "       'PDF', 'Href_formula', 'Href', 'Case_Number', 'Case_Number_1',\n",
      "       'Original_Order', 'Unnamed_21', 'Unnamed_22'],\n",
      "      dtype='object')\n"
     ]
    }
   ],
   "source": [
    "df.rename(columns= {\n",
    "    'Fatal Y/N': 'Fatal',\n",
    "    'Species ': 'Species',\n",
    "    'pdf': 'PDF', \n",
    "    'Sex': 'Gender',\n",
    "    'href formula': 'Href_formula', \n",
    "    'href': 'Href',\n",
    "    'Case Number': 'Case_Number', \n",
    "    'Case Number.1': 'Case_Number_1',\n",
    "    'original order': 'Original_Order', \n",
    "    'Unnamed: 21': 'Unnamed_21', \n",
    "    'Unnamed: 22': 'Unnamed_22'\n",
    "}, inplace=True)\n",
    "print(df.columns)"
   ]
  },
  {
   "cell_type": "code",
   "execution_count": 121,
   "metadata": {},
   "outputs": [
    {
     "data": {
      "text/plain": [
       "False"
      ]
     },
     "execution_count": 121,
     "metadata": {},
     "output_type": "execute_result"
    }
   ],
   "source": [
    "df[\"Href_formula\"].equals(df[\"Href\"]) # Checking if its the same "
   ]
  },
  {
   "cell_type": "code",
   "execution_count": 122,
   "metadata": {},
   "outputs": [
    {
     "data": {
      "text/plain": [
       "Href_formula\n",
       "True     6900\n",
       "False      94\n",
       "Name: count, dtype: int64"
      ]
     },
     "execution_count": 122,
     "metadata": {},
     "output_type": "execute_result"
    }
   ],
   "source": [
    "df[\"Href_formula\"].isin(df[\"Href\"]).value_counts() # There is less than 10% difference between the columns. I am keeping Href"
   ]
  },
  {
   "cell_type": "code",
   "execution_count": 123,
   "metadata": {},
   "outputs": [
    {
     "data": {
      "text/html": [
       "<div>\n",
       "<style scoped>\n",
       "    .dataframe tbody tr th:only-of-type {\n",
       "        vertical-align: middle;\n",
       "    }\n",
       "\n",
       "    .dataframe tbody tr th {\n",
       "        vertical-align: top;\n",
       "    }\n",
       "\n",
       "    .dataframe thead th {\n",
       "        text-align: right;\n",
       "    }\n",
       "</style>\n",
       "<table border=\"1\" class=\"dataframe\">\n",
       "  <thead>\n",
       "    <tr style=\"text-align: right;\">\n",
       "      <th></th>\n",
       "      <th>Date</th>\n",
       "      <th>Year</th>\n",
       "      <th>Type</th>\n",
       "      <th>Country</th>\n",
       "      <th>State</th>\n",
       "      <th>Location</th>\n",
       "      <th>Activity</th>\n",
       "      <th>Name</th>\n",
       "      <th>Gender</th>\n",
       "      <th>Age</th>\n",
       "      <th>Injury</th>\n",
       "      <th>Fatal</th>\n",
       "      <th>Time</th>\n",
       "      <th>Species</th>\n",
       "      <th>Source</th>\n",
       "      <th>Href</th>\n",
       "      <th>Original_Order</th>\n",
       "    </tr>\n",
       "  </thead>\n",
       "  <tbody>\n",
       "    <tr>\n",
       "      <th>0</th>\n",
       "      <td>2025-02-07 00:00:00</td>\n",
       "      <td>2025.0</td>\n",
       "      <td>Unprovoked</td>\n",
       "      <td>Turks and Caicos</td>\n",
       "      <td>NaN</td>\n",
       "      <td>Thompson Cove Beach</td>\n",
       "      <td>Swimming</td>\n",
       "      <td>Unknown</td>\n",
       "      <td>F</td>\n",
       "      <td>55</td>\n",
       "      <td>Unknown</td>\n",
       "      <td>N</td>\n",
       "      <td>Unknown</td>\n",
       "      <td>Unknown</td>\n",
       "      <td>Todd Smith: Platform X</td>\n",
       "      <td>NaN</td>\n",
       "      <td>NaN</td>\n",
       "    </tr>\n",
       "    <tr>\n",
       "      <th>1</th>\n",
       "      <td>2025-02-03 00:00:00</td>\n",
       "      <td>2025.0</td>\n",
       "      <td>Unprovoked</td>\n",
       "      <td>Australia</td>\n",
       "      <td>Queensland</td>\n",
       "      <td>Woorim Beach, Bribie Island,</td>\n",
       "      <td>Swimming</td>\n",
       "      <td>Charlize Zmuda</td>\n",
       "      <td>F</td>\n",
       "      <td>17</td>\n",
       "      <td>Bites to arm and upper body</td>\n",
       "      <td>Y</td>\n",
       "      <td>1645 hrs</td>\n",
       "      <td>Bull shark</td>\n",
       "      <td>9 News: The Brisbane Times: The Guardian</td>\n",
       "      <td>NaN</td>\n",
       "      <td>NaN</td>\n",
       "    </tr>\n",
       "    <tr>\n",
       "      <th>2</th>\n",
       "      <td>2025-01-23 00:00:00</td>\n",
       "      <td>2025.0</td>\n",
       "      <td>Unprovoked</td>\n",
       "      <td>Australia</td>\n",
       "      <td>Western Australia</td>\n",
       "      <td>Shipwreck Cove</td>\n",
       "      <td>Bathing</td>\n",
       "      <td>Boy</td>\n",
       "      <td>M</td>\n",
       "      <td>12</td>\n",
       "      <td>Minor bite to lower body</td>\n",
       "      <td>N</td>\n",
       "      <td>1711hrs</td>\n",
       "      <td>Not stated</td>\n",
       "      <td>Bob Myatt GSAF</td>\n",
       "      <td>NaN</td>\n",
       "      <td>NaN</td>\n",
       "    </tr>\n",
       "    <tr>\n",
       "      <th>3</th>\n",
       "      <td>2025-01-22 00:00:00</td>\n",
       "      <td>2025.0</td>\n",
       "      <td>Unprovoked</td>\n",
       "      <td>Australia</td>\n",
       "      <td>Western Australia</td>\n",
       "      <td>Cheynes beach</td>\n",
       "      <td>Surfing</td>\n",
       "      <td>Dale Kittow</td>\n",
       "      <td>M</td>\n",
       "      <td>37</td>\n",
       "      <td>None - chunk of surfboard  bitten out</td>\n",
       "      <td>N</td>\n",
       "      <td>1600hrs</td>\n",
       "      <td>Bronze whaler</td>\n",
       "      <td>Bob Myatt GSAF</td>\n",
       "      <td>NaN</td>\n",
       "      <td>NaN</td>\n",
       "    </tr>\n",
       "    <tr>\n",
       "      <th>4</th>\n",
       "      <td>2025-01-11 00:00:00</td>\n",
       "      <td>2025.0</td>\n",
       "      <td>Provoked</td>\n",
       "      <td>USA</td>\n",
       "      <td>Hawaii</td>\n",
       "      <td>Off Haleiwa Boat Harbour Oahu</td>\n",
       "      <td>Diving</td>\n",
       "      <td>Male not stated was a dive tour worker</td>\n",
       "      <td>M</td>\n",
       "      <td>23</td>\n",
       "      <td>Bitten on the arm</td>\n",
       "      <td>N</td>\n",
       "      <td>1340hrs</td>\n",
       "      <td>Not stated</td>\n",
       "      <td>Kevin McMurray Trackingsharks.com</td>\n",
       "      <td>NaN</td>\n",
       "      <td>NaN</td>\n",
       "    </tr>\n",
       "  </tbody>\n",
       "</table>\n",
       "</div>"
      ],
      "text/plain": [
       "                  Date    Year        Type           Country  \\\n",
       "0  2025-02-07 00:00:00  2025.0  Unprovoked  Turks and Caicos   \n",
       "1  2025-02-03 00:00:00  2025.0  Unprovoked         Australia   \n",
       "2  2025-01-23 00:00:00  2025.0  Unprovoked         Australia   \n",
       "3  2025-01-22 00:00:00  2025.0  Unprovoked         Australia   \n",
       "4  2025-01-11 00:00:00  2025.0    Provoked               USA   \n",
       "\n",
       "               State                       Location  Activity  \\\n",
       "0                NaN            Thompson Cove Beach  Swimming   \n",
       "1         Queensland   Woorim Beach, Bribie Island,  Swimming   \n",
       "2  Western Australia                 Shipwreck Cove   Bathing   \n",
       "3  Western Australia                 Cheynes beach    Surfing   \n",
       "4             Hawaii  Off Haleiwa Boat Harbour Oahu    Diving   \n",
       "\n",
       "                                     Name Gender Age  \\\n",
       "0                                Unknown       F  55   \n",
       "1                          Charlize Zmuda      F  17   \n",
       "2                                    Boy       M  12   \n",
       "3                             Dale Kittow      M  37   \n",
       "4  Male not stated was a dive tour worker      M  23   \n",
       "\n",
       "                                  Injury Fatal      Time        Species  \\\n",
       "0                                Unknown     N   Unknown        Unknown   \n",
       "1            Bites to arm and upper body     Y  1645 hrs     Bull shark   \n",
       "2               Minor bite to lower body     N   1711hrs     Not stated   \n",
       "3  None - chunk of surfboard  bitten out     N   1600hrs  Bronze whaler   \n",
       "4                      Bitten on the arm     N   1340hrs     Not stated   \n",
       "\n",
       "                                     Source Href  Original_Order  \n",
       "0                    Todd Smith: Platform X  NaN             NaN  \n",
       "1  9 News: The Brisbane Times: The Guardian  NaN             NaN  \n",
       "2                            Bob Myatt GSAF  NaN             NaN  \n",
       "3                            Bob Myatt GSAF  NaN             NaN  \n",
       "4         Kevin McMurray Trackingsharks.com  NaN             NaN  "
      ]
     },
     "execution_count": 123,
     "metadata": {},
     "output_type": "execute_result"
    }
   ],
   "source": [
    "# Dropping Columns\n",
    "df = df.drop(columns=[\"Unnamed_21\", \"PDF\", \"Unnamed_22\", \"Href_formula\", \"Case_Number\", \"Case_Number_1\"])\n",
    "df.head()"
   ]
  },
  {
   "cell_type": "code",
   "execution_count": 124,
   "metadata": {},
   "outputs": [
    {
     "data": {
      "text/html": [
       "<div>\n",
       "<style scoped>\n",
       "    .dataframe tbody tr th:only-of-type {\n",
       "        vertical-align: middle;\n",
       "    }\n",
       "\n",
       "    .dataframe tbody tr th {\n",
       "        vertical-align: top;\n",
       "    }\n",
       "\n",
       "    .dataframe thead th {\n",
       "        text-align: right;\n",
       "    }\n",
       "</style>\n",
       "<table border=\"1\" class=\"dataframe\">\n",
       "  <thead>\n",
       "    <tr style=\"text-align: right;\">\n",
       "      <th></th>\n",
       "      <th>Date</th>\n",
       "      <th>Year</th>\n",
       "      <th>Type</th>\n",
       "      <th>Country</th>\n",
       "      <th>State</th>\n",
       "      <th>Location</th>\n",
       "      <th>Activity</th>\n",
       "      <th>Name</th>\n",
       "      <th>Gender</th>\n",
       "      <th>Age</th>\n",
       "      <th>Injury</th>\n",
       "      <th>Fatal</th>\n",
       "      <th>Time</th>\n",
       "      <th>Species</th>\n",
       "      <th>Source</th>\n",
       "      <th>Href</th>\n",
       "      <th>Original_Order</th>\n",
       "    </tr>\n",
       "  </thead>\n",
       "  <tbody>\n",
       "    <tr>\n",
       "      <th>0</th>\n",
       "      <td>2025-02-07 00:00:00</td>\n",
       "      <td>2025.0</td>\n",
       "      <td>Unprovoked</td>\n",
       "      <td>Turks and Caicos</td>\n",
       "      <td>NaN</td>\n",
       "      <td>Thompson Cove Beach</td>\n",
       "      <td>Swimming</td>\n",
       "      <td>Unknown</td>\n",
       "      <td>F</td>\n",
       "      <td>55</td>\n",
       "      <td>Unknown</td>\n",
       "      <td>N</td>\n",
       "      <td>Unknown</td>\n",
       "      <td>Unknown</td>\n",
       "      <td>Todd Smith: Platform X</td>\n",
       "      <td>NaN</td>\n",
       "      <td>NaN</td>\n",
       "    </tr>\n",
       "    <tr>\n",
       "      <th>1</th>\n",
       "      <td>2025-02-03 00:00:00</td>\n",
       "      <td>2025.0</td>\n",
       "      <td>Unprovoked</td>\n",
       "      <td>Australia</td>\n",
       "      <td>Queensland</td>\n",
       "      <td>Woorim Beach, Bribie Island,</td>\n",
       "      <td>Swimming</td>\n",
       "      <td>Charlize Zmuda</td>\n",
       "      <td>F</td>\n",
       "      <td>17</td>\n",
       "      <td>Bites to arm and upper body</td>\n",
       "      <td>Y</td>\n",
       "      <td>1645 hrs</td>\n",
       "      <td>Bull shark</td>\n",
       "      <td>9 News: The Brisbane Times: The Guardian</td>\n",
       "      <td>NaN</td>\n",
       "      <td>NaN</td>\n",
       "    </tr>\n",
       "    <tr>\n",
       "      <th>2</th>\n",
       "      <td>2025-01-23 00:00:00</td>\n",
       "      <td>2025.0</td>\n",
       "      <td>Unprovoked</td>\n",
       "      <td>Australia</td>\n",
       "      <td>Western Australia</td>\n",
       "      <td>Shipwreck Cove</td>\n",
       "      <td>Bathing</td>\n",
       "      <td>Boy</td>\n",
       "      <td>M</td>\n",
       "      <td>12</td>\n",
       "      <td>Minor bite to lower body</td>\n",
       "      <td>N</td>\n",
       "      <td>1711hrs</td>\n",
       "      <td>Not stated</td>\n",
       "      <td>Bob Myatt GSAF</td>\n",
       "      <td>NaN</td>\n",
       "      <td>NaN</td>\n",
       "    </tr>\n",
       "    <tr>\n",
       "      <th>3</th>\n",
       "      <td>2025-01-22 00:00:00</td>\n",
       "      <td>2025.0</td>\n",
       "      <td>Unprovoked</td>\n",
       "      <td>Australia</td>\n",
       "      <td>Western Australia</td>\n",
       "      <td>Cheynes beach</td>\n",
       "      <td>Surfing</td>\n",
       "      <td>Dale Kittow</td>\n",
       "      <td>M</td>\n",
       "      <td>37</td>\n",
       "      <td>None - chunk of surfboard  bitten out</td>\n",
       "      <td>N</td>\n",
       "      <td>1600hrs</td>\n",
       "      <td>Bronze whaler</td>\n",
       "      <td>Bob Myatt GSAF</td>\n",
       "      <td>NaN</td>\n",
       "      <td>NaN</td>\n",
       "    </tr>\n",
       "    <tr>\n",
       "      <th>4</th>\n",
       "      <td>2025-01-11 00:00:00</td>\n",
       "      <td>2025.0</td>\n",
       "      <td>Provoked</td>\n",
       "      <td>USA</td>\n",
       "      <td>Hawaii</td>\n",
       "      <td>Off Haleiwa Boat Harbour Oahu</td>\n",
       "      <td>Diving</td>\n",
       "      <td>Male not stated was a dive tour worker</td>\n",
       "      <td>M</td>\n",
       "      <td>23</td>\n",
       "      <td>Bitten on the arm</td>\n",
       "      <td>N</td>\n",
       "      <td>1340hrs</td>\n",
       "      <td>Not stated</td>\n",
       "      <td>Kevin McMurray Trackingsharks.com</td>\n",
       "      <td>NaN</td>\n",
       "      <td>NaN</td>\n",
       "    </tr>\n",
       "  </tbody>\n",
       "</table>\n",
       "</div>"
      ],
      "text/plain": [
       "                  Date    Year        Type           Country  \\\n",
       "0  2025-02-07 00:00:00  2025.0  Unprovoked  Turks and Caicos   \n",
       "1  2025-02-03 00:00:00  2025.0  Unprovoked         Australia   \n",
       "2  2025-01-23 00:00:00  2025.0  Unprovoked         Australia   \n",
       "3  2025-01-22 00:00:00  2025.0  Unprovoked         Australia   \n",
       "4  2025-01-11 00:00:00  2025.0    Provoked               USA   \n",
       "\n",
       "               State                       Location  Activity  \\\n",
       "0                NaN            Thompson Cove Beach  Swimming   \n",
       "1         Queensland   Woorim Beach, Bribie Island,  Swimming   \n",
       "2  Western Australia                 Shipwreck Cove   Bathing   \n",
       "3  Western Australia                 Cheynes beach    Surfing   \n",
       "4             Hawaii  Off Haleiwa Boat Harbour Oahu    Diving   \n",
       "\n",
       "                                     Name Gender Age  \\\n",
       "0                                Unknown       F  55   \n",
       "1                          Charlize Zmuda      F  17   \n",
       "2                                    Boy       M  12   \n",
       "3                             Dale Kittow      M  37   \n",
       "4  Male not stated was a dive tour worker      M  23   \n",
       "\n",
       "                                  Injury Fatal      Time        Species  \\\n",
       "0                                Unknown     N   Unknown        Unknown   \n",
       "1            Bites to arm and upper body     Y  1645 hrs     Bull shark   \n",
       "2               Minor bite to lower body     N   1711hrs     Not stated   \n",
       "3  None - chunk of surfboard  bitten out     N   1600hrs  Bronze whaler   \n",
       "4                      Bitten on the arm     N   1340hrs     Not stated   \n",
       "\n",
       "                                     Source Href  Original_Order  \n",
       "0                    Todd Smith: Platform X  NaN             NaN  \n",
       "1  9 News: The Brisbane Times: The Guardian  NaN             NaN  \n",
       "2                            Bob Myatt GSAF  NaN             NaN  \n",
       "3                            Bob Myatt GSAF  NaN             NaN  \n",
       "4         Kevin McMurray Trackingsharks.com  NaN             NaN  "
      ]
     },
     "execution_count": 124,
     "metadata": {},
     "output_type": "execute_result"
    }
   ],
   "source": [
    "df.head()"
   ]
  },
  {
   "cell_type": "code",
   "execution_count": 125,
   "metadata": {},
   "outputs": [
    {
     "name": "stdout",
     "output_type": "stream",
     "text": [
      "\n",
      "Unique value counts per column: \n",
      "Date              6042\n",
      "Year               261\n",
      "Type                12\n",
      "Country            239\n",
      "State              920\n",
      "Location          4554\n",
      "Activity          1598\n",
      "Name              5728\n",
      "Gender               8\n",
      "Age                246\n",
      "Injury            4122\n",
      "Fatal               12\n",
      "Time               436\n",
      "Species           1706\n",
      "Source            5347\n",
      "Href              6776\n",
      "Original_Order    6797\n",
      "dtype: int64\n"
     ]
    }
   ],
   "source": [
    "# Here I am trying to identify the number of unique values for each column and determine which columns appear to be categorical. \n",
    "unique_counts = df.nunique() # Identify the number of unique values for each column\n",
    "print(\"\\nUnique value counts per column: \")\n",
    "print(unique_counts)"
   ]
  },
  {
   "cell_type": "code",
   "execution_count": 126,
   "metadata": {},
   "outputs": [
    {
     "data": {
      "text/plain": [
       "Date              False\n",
       "Year               True\n",
       "Type               True\n",
       "Country            True\n",
       "State              True\n",
       "Location           True\n",
       "Activity           True\n",
       "Name               True\n",
       "Gender             True\n",
       "Age                True\n",
       "Injury             True\n",
       "Fatal              True\n",
       "Time               True\n",
       "Species            True\n",
       "Source             True\n",
       "Href               True\n",
       "Original_Order     True\n",
       "dtype: bool"
      ]
     },
     "execution_count": 126,
     "metadata": {},
     "output_type": "execute_result"
    }
   ],
   "source": [
    "#Checking for null values in each column \n",
    "df.isna().any()"
   ]
  },
  {
   "cell_type": "code",
   "execution_count": 127,
   "metadata": {},
   "outputs": [
    {
     "data": {
      "text/plain": [
       "Date                 0\n",
       "Year                 2\n",
       "Type                18\n",
       "Country             50\n",
       "State              483\n",
       "Location           565\n",
       "Activity           585\n",
       "Name               219\n",
       "Gender             579\n",
       "Age               2994\n",
       "Injury              35\n",
       "Fatal              561\n",
       "Time              3526\n",
       "Species           3132\n",
       "Source              19\n",
       "Href               198\n",
       "Original_Order     195\n",
       "dtype: int64"
      ]
     },
     "execution_count": 127,
     "metadata": {},
     "output_type": "execute_result"
    }
   ],
   "source": [
    "df.isna().sum()"
   ]
  },
  {
   "cell_type": "code",
   "execution_count": 128,
   "metadata": {},
   "outputs": [
    {
     "data": {
      "text/plain": [
       "0"
      ]
     },
     "execution_count": 128,
     "metadata": {},
     "output_type": "execute_result"
    }
   ],
   "source": [
    "df.duplicated().sum()"
   ]
  },
  {
   "cell_type": "code",
   "execution_count": 129,
   "metadata": {},
   "outputs": [
    {
     "data": {
      "text/plain": [
       "False"
      ]
     },
     "execution_count": 129,
     "metadata": {},
     "output_type": "execute_result"
    }
   ],
   "source": [
    "df.duplicated().any()"
   ]
  },
  {
   "cell_type": "code",
   "execution_count": 130,
   "metadata": {},
   "outputs": [
    {
     "data": {
      "text/plain": [
       "Date                 0\n",
       "Year                 2\n",
       "Type                18\n",
       "Country             50\n",
       "State              483\n",
       "Location           565\n",
       "Activity           585\n",
       "Name               219\n",
       "Gender             579\n",
       "Age               2994\n",
       "Injury              35\n",
       "Fatal              561\n",
       "Time              3526\n",
       "Species           3132\n",
       "Source              19\n",
       "Href               198\n",
       "Original_Order     195\n",
       "dtype: int64"
      ]
     },
     "execution_count": 130,
     "metadata": {},
     "output_type": "execute_result"
    }
   ],
   "source": [
    "#Count the number of null values in each column\n",
    "df.isna().sum()"
   ]
  },
  {
   "cell_type": "markdown",
   "metadata": {},
   "source": [
    "### Data Cleaning for the Column 'Type' "
   ]
  },
  {
   "cell_type": "code",
   "execution_count": 131,
   "metadata": {},
   "outputs": [
    {
     "data": {
      "text/plain": [
       "array(['Unprovoked', 'Provoked', ' Provoked', 'Questionable',\n",
       "       'Watercraft', 'Sea Disaster', nan, '?', 'Unconfirmed',\n",
       "       'Unverified', 'Invalid', 'Under investigation', 'Boat'],\n",
       "      dtype=object)"
      ]
     },
     "execution_count": 131,
     "metadata": {},
     "output_type": "execute_result"
    }
   ],
   "source": [
    "df.Type.unique()"
   ]
  },
  {
   "cell_type": "code",
   "execution_count": 132,
   "metadata": {},
   "outputs": [
    {
     "name": "stdout",
     "output_type": "stream",
     "text": [
      "Type\n",
      "Unprovoked             5155\n",
      "Provoked                637\n",
      "Invalid                 552\n",
      "Watercraft              355\n",
      "Sea Disaster            242\n",
      "Questionable             22\n",
      "Boat                      7\n",
      " Provoked                 2\n",
      "?                         1\n",
      "Unconfirmed               1\n",
      "Unverified                1\n",
      "Under investigation       1\n",
      "Name: count, dtype: int64\n"
     ]
    }
   ],
   "source": [
    "print(df[\"Type\"].value_counts()) "
   ]
  },
  {
   "cell_type": "code",
   "execution_count": 133,
   "metadata": {},
   "outputs": [
    {
     "name": "stdout",
     "output_type": "stream",
     "text": [
      "Type\n",
      "Unprovoked             5155\n",
      "Provoked                637\n",
      "Invalid                 552\n",
      "Watercraft              355\n",
      "Sea Disaster            242\n",
      "Questionable             22\n",
      "NaN                      18\n",
      "Boat                      7\n",
      " Provoked                 2\n",
      "?                         1\n",
      "Unconfirmed               1\n",
      "Unverified                1\n",
      "Under investigation       1\n",
      "Name: count, dtype: int64\n"
     ]
    }
   ],
   "source": [
    "print(df[\"Type\"].value_counts(dropna=False)) # I wanted to review the Nan "
   ]
  },
  {
   "cell_type": "code",
   "execution_count": 134,
   "metadata": {},
   "outputs": [],
   "source": [
    "#df_nan = df[df[\"Type\"].isna()]\n",
    "#df_nan\n",
    "#df[\"Type\"] = df[\"Type\"].isnull().sum"
   ]
  },
  {
   "cell_type": "code",
   "execution_count": 135,
   "metadata": {},
   "outputs": [
    {
     "name": "stdout",
     "output_type": "stream",
     "text": [
      "['Unprovoked' 'Provoked' ' Provoked' 'Questionable' 'Watercraft'\n",
      " 'Sea Disaster' nan '?' 'Unconfirmed' 'Unverified' 'Invalid'\n",
      " 'Under investigation' 'Boat']\n"
     ]
    }
   ],
   "source": [
    "#Reviewing how many were provoked and unprovoked \n",
    "print(df[\"Type\"].unique())\n"
   ]
  },
  {
   "cell_type": "code",
   "execution_count": 136,
   "metadata": {},
   "outputs": [
    {
     "name": "stdout",
     "output_type": "stream",
     "text": [
      "['Unprovoked' 'Provoked' 'Unknown' 'Water Vehicle' 'Sea Disaster'\n",
      " 'Unverified']\n"
     ]
    }
   ],
   "source": [
    "df[\"Type\"] = df[\"Type\"].str.strip()\n",
    "df[\"Type\"] = df[\"Type\"].replace({\n",
    "    \" Provoked\": \"Provoked\", \n",
    "    \"Unconfirmed\": \"Unknown\",\n",
    "    \"?\" : \"Unknown\",\n",
    "    \"Invalid\": \"Unknown\",\n",
    "    \"Under investigation\": \"Unknown\",\n",
    "    \"Questionable\": \"Unknown\", \n",
    "    \"Watercraft\" : \"Water Vehicle\", \n",
    "    \"Boat\" : \"Water Vehicle\"\n",
    "})\n",
    "\n",
    "df[\"Type\"] = df[\"Type\"].fillna(\"Unknown\")\n",
    "print(df[\"Type\"].unique())"
   ]
  },
  {
   "cell_type": "markdown",
   "metadata": {},
   "source": [
    "### Data Cleaning for the Column 'Gender'"
   ]
  },
  {
   "cell_type": "code",
   "execution_count": 137,
   "metadata": {},
   "outputs": [
    {
     "data": {
      "text/plain": [
       "array(['F', 'M', 'Unknown'], dtype=object)"
      ]
     },
     "execution_count": 137,
     "metadata": {},
     "output_type": "execute_result"
    }
   ],
   "source": [
    "df[\"Gender\"] = df[\"Gender\"].replace({\n",
    "    \" M\": \"M\", \n",
    "    \"M \": \"M\", \n",
    "    \"M x 2\": \"M\", \n",
    "    \" nan\": \"Unknown\", \n",
    "    \"lli\": \"Unknown\", \n",
    "    \"N\": \"M\", \n",
    "    \".\": \"Unknown\"\n",
    "    })\n",
    "df[\"Gender\"] = df[\"Gender\"].fillna(\"Unknown\")\n",
    "df.Gender.unique()"
   ]
  },
  {
   "cell_type": "markdown",
   "metadata": {},
   "source": [
    "#### Visualisation: Gender of Victims"
   ]
  },
  {
   "cell_type": "code",
   "execution_count": 138,
   "metadata": {},
   "outputs": [
    {
     "data": {
      "text/plain": [
       "<Axes: title={'center': 'Gender of the Victim'}, ylabel='count'>"
      ]
     },
     "execution_count": 138,
     "metadata": {},
     "output_type": "execute_result"
    },
    {
     "data": {
      "image/png": "[encoded data removed]",
      "text/plain": [
       "<Figure size 640x480 with 1 Axes>"
      ]
     },
     "metadata": {},
     "output_type": "display_data"
    }
   ],
   "source": [
    "# Piechart to see the distribution between \"M\", \"F\". \n",
    "df[df[\"Gender\"].isin([\"M\", \"F\", \"Unknown\"])][\"Gender\"].value_counts().plot(kind=\"pie\", title= \"Gender of the Victim\", autopct=\"%1.1f%%\", colors=[\"skyblue\", \"dodgerblue\", \"deepskyblue\"], table=True)"
   ]
  },
  {
   "cell_type": "code",
   "execution_count": 139,
   "metadata": {},
   "outputs": [
    {
     "data": {
      "text/html": [
       "<div>\n",
       "<style scoped>\n",
       "    .dataframe tbody tr th:only-of-type {\n",
       "        vertical-align: middle;\n",
       "    }\n",
       "\n",
       "    .dataframe tbody tr th {\n",
       "        vertical-align: top;\n",
       "    }\n",
       "\n",
       "    .dataframe thead th {\n",
       "        text-align: right;\n",
       "    }\n",
       "</style>\n",
       "<table border=\"1\" class=\"dataframe\">\n",
       "  <thead>\n",
       "    <tr style=\"text-align: right;\">\n",
       "      <th></th>\n",
       "      <th>Gender</th>\n",
       "      <th>Country</th>\n",
       "      <th>count</th>\n",
       "    </tr>\n",
       "  </thead>\n",
       "  <tbody>\n",
       "    <tr>\n",
       "      <th>0</th>\n",
       "      <td>F</td>\n",
       "      <td>ATLANTIC OCEAN</td>\n",
       "      <td>3</td>\n",
       "    </tr>\n",
       "    <tr>\n",
       "      <th>1</th>\n",
       "      <td>F</td>\n",
       "      <td>AUSTRALIA</td>\n",
       "      <td>112</td>\n",
       "    </tr>\n",
       "    <tr>\n",
       "      <th>2</th>\n",
       "      <td>F</td>\n",
       "      <td>Australia</td>\n",
       "      <td>2</td>\n",
       "    </tr>\n",
       "    <tr>\n",
       "      <th>3</th>\n",
       "      <td>F</td>\n",
       "      <td>BAHAMAS</td>\n",
       "      <td>26</td>\n",
       "    </tr>\n",
       "    <tr>\n",
       "      <th>4</th>\n",
       "      <td>F</td>\n",
       "      <td>BELIZE</td>\n",
       "      <td>2</td>\n",
       "    </tr>\n",
       "    <tr>\n",
       "      <th>...</th>\n",
       "      <td>...</td>\n",
       "      <td>...</td>\n",
       "      <td>...</td>\n",
       "    </tr>\n",
       "    <tr>\n",
       "      <th>373</th>\n",
       "      <td>Unknown</td>\n",
       "      <td>URUGUAY</td>\n",
       "      <td>1</td>\n",
       "    </tr>\n",
       "    <tr>\n",
       "      <th>374</th>\n",
       "      <td>Unknown</td>\n",
       "      <td>USA</td>\n",
       "      <td>105</td>\n",
       "    </tr>\n",
       "    <tr>\n",
       "      <th>375</th>\n",
       "      <td>Unknown</td>\n",
       "      <td>VANUATU</td>\n",
       "      <td>1</td>\n",
       "    </tr>\n",
       "    <tr>\n",
       "      <th>376</th>\n",
       "      <td>Unknown</td>\n",
       "      <td>YEMEN</td>\n",
       "      <td>1</td>\n",
       "    </tr>\n",
       "    <tr>\n",
       "      <th>377</th>\n",
       "      <td>Unknown</td>\n",
       "      <td>YEMEN</td>\n",
       "      <td>1</td>\n",
       "    </tr>\n",
       "  </tbody>\n",
       "</table>\n",
       "<p>378 rows × 3 columns</p>\n",
       "</div>"
      ],
      "text/plain": [
       "      Gender         Country  count\n",
       "0          F  ATLANTIC OCEAN      3\n",
       "1          F       AUSTRALIA    112\n",
       "2          F       Australia      2\n",
       "3          F         BAHAMAS     26\n",
       "4          F          BELIZE      2\n",
       "..       ...             ...    ...\n",
       "373  Unknown         URUGUAY      1\n",
       "374  Unknown             USA    105\n",
       "375  Unknown         VANUATU      1\n",
       "376  Unknown           YEMEN      1\n",
       "377  Unknown          YEMEN       1\n",
       "\n",
       "[378 rows x 3 columns]"
      ]
     },
     "execution_count": 139,
     "metadata": {},
     "output_type": "execute_result"
    }
   ],
   "source": [
    "country_gender = df.groupby([\"Gender\", \"Country\"]).size().to_frame(\"count\").reset_index()\n",
    "country_gender"
   ]
  },
  {
   "cell_type": "markdown",
   "metadata": {},
   "source": [
    "### Data Cleaning for the Column 'Species'"
   ]
  },
  {
   "cell_type": "code",
   "execution_count": 140,
   "metadata": {},
   "outputs": [
    {
     "name": "stdout",
     "output_type": "stream",
     "text": [
      "['Unknown' 'Bull shark' 'Not stated' 'Bronze whaler'\n",
      " 'Reportedly Tiger or Bull shark' 'Great White Shart estimated 4.8m 16 ft'\n",
      " 'Reportedly a Tiger Shark' 'Unknown ' '1m shark species unknown'\n",
      " 'Great White Shark' 'Reported as a large Tiger shark'\n",
      " 'Bull or tiger 7-8ft' 'Bull shark 6ft' 'Bull shark 6-7ft'\n",
      " 'Reportedly a Great White' 'Reportedly Tiger Shark'\n",
      " 'Reef shark 6ft (1.8m)' '3m White Shark' 'Undetermined small shall shark'\n",
      " '4-5ft Blacktip shark' 'Not specified' 'Bull shark 6 ft' '6 ft shark'\n",
      " '6ft shark' 'Not stated area has Tiger and Galapogas sharks'\n",
      " 'Not specified Bull shark highly suspect' 'Large shark' '2.5m shark'\n",
      " '3m Sandbar shark' 'Bull shark 3m ' 'Carribean reef shark 7ft'\n",
      " 'Great White' 'Tiger shark' \"Tiger shark 8'\" \"3' to 4' shark\"\n",
      " \"Bull shark, 7'\" 'Blacktip reef shark' nan 'White shark'\n",
      " 'Raggedtooth shark' \"White shark, 13'\" 'Broze whaler?' 'Sevengill shark'\n",
      " 'Shark involment not confirmed' '1.8m bull shark' 'Lemon shark'\n",
      " 'Oceanic whitetip shark' 'White Shark, 4.5 m' \"8' tiger shark\"\n",
      " \"Bronze whaler, 6'\" \"Nurse shark, 5' to 6'\" \"10' tiger shark\"\n",
      " \"10' to 12' Galapagos shark\" 'Tiger shark?' 'Cookiecutter sharks'\n",
      " 'White shark, 3.8-4.2m' 'Blue shark' 'Wfite shark' 'Wobbegong shark'\n",
      " \"8' shark\" \"4' shark\" \"3' shark\" 'Sand tiger shark' 'Tiger sharks'\n",
      " \"Tiger shark, 13'\" 'Caribbean rreef shark' 'Grey reef shark, 2 m'\n",
      " 'Caribbean reef shark' 'Shark involvement not confirmes'\n",
      " '18\" - 23\" Horn shark' \"Bull shark, 4'\" '1m shark' \"Bull shark, 6'\"\n",
      " 'Bronze whaler shark, 1.5 m' \"Tiger shark, 8'-10'\"\n",
      " \"Blacktip reef shark 5'\" 'Authorities report injury caused bya barracuda'\n",
      " '5m to 6m shark' 'A small shark' 'Mako shark' 'Nurse shark' 'Blacktip'\n",
      " 'Tiger  shark?' 'Juvenile white shark' \"5'shark\" '3m shark'\n",
      " 'Juvenile nurse shark' 'Bu.ll' 'White shark, 3 m' 'Blacktip shark'\n",
      " \"Bull shark, 9'\" 'Blacktip shark?' \"6' shark\"\n",
      " 'Shark involvement not confirmed' \"Lemon shark  6'\" '\"A small shark\"'\n",
      " \"Thought to involve a 4' sandtiger shark\"\n",
      " 'Oceaniic whitetip shark/tiger shark'\n",
      " 'Oceaniic whitetip shark/tiger shark, 2m shark' \"9' shark\" 'While shark'\n",
      " \"Tiger shark, 15'\" \"White shark, 16'\" 'Bronze whaler shark, 2m'\n",
      " \"5' shark\" 'Atlantic blacktip shark' 'Tiger shark, 2 to 2.5m'\n",
      " 'Epaulette shark' \"Blacktip shark, 5' to 6'\" 'Tiger shark, 3 m'\n",
      " 'Bull shark, 3m' 'Blacktip or spinner shark' 'dogfish'\n",
      " 'Broadnose seven gill shark' 'No shark invovlement ' 'White xhark'\n",
      " 'small blacktip shark' 'Sickelfin lemon shark, 3m' 'Bull shark, +100kg'\n",
      " 'White shark, 3m' \" Spinner shark, 4'?\" \"2' to 3' shark\"\n",
      " 'Said to involve a bull shark' 'Galapagos shark' \"White shark, 6' to 8'\"\n",
      " \"7' to 8' shark \" \"Tope shark, 6'\" 'Bronze whaler shark, 2 m'\n",
      " 'White shark, 4.5 m' '5 to 8-ff tiger shark' '8 ft shark' '5.5 ft shark'\n",
      " 'Mako shark, 4 juvenile' '1.3m shark' 'Whaler or bull shark, 2m'\n",
      " \"3' to 5' shark\" '  ' 'Blacktip whaler,      Carcharhinus tilstoni, 2m'\n",
      " \"Blacktip shark, 6'\" 'Tiger shark, 4 m' 'Bull shark, 80cm'\n",
      " 'Bronze whaler shark' 'Juvenile shark' ' ' '8\" shark'\n",
      " \"Bull shark, 6.5 to 10 '\" 'Tiger shark. 14\\'3\"' 'Tiger shark, 4m '\n",
      " \"Blacktip shark, 6' to 7'\" '\"Reef shark\"' '4m shark' 'Bronze whaler 1.5m'\n",
      " 'Small nurse shark' 'Injuries not caused by a shark' '\"whitetip shark\"'\n",
      " \"4' to 5' shark\" 'Nurse shark, juvenile' 'White shark, 2-to 3m'\n",
      " \"Nurse shark, 5'\" 'Blacktip or Spinner shark' 'White shark, 4m'\n",
      " \"Lemon shark, 8'\" 'Blacktip reef shark, juvenile' \"White shark, 11'?\"\n",
      " \"Reef shark, 5' to 6 '\" \"Bull shark. 6.5'\" \"Bull shark, 4' to 6'\"\n",
      " '2 m shark' 'White shark, 2.5 m' 'Juvenile bull shark?'\n",
      " 'White shark, 3.5 m'\n",
      " 'Shark involvement unconfirmed but considered probable' \"Bull shark, 8'\"\n",
      " 'Angel shark' \"5' to 6' shark\" 'White shark, 2.5 to 3 m'\n",
      " 'Broadnose seven gill shark?'\n",
      " 'Shovelnose \"shark\" which is a ray, not a shark)' '3.4 m tiger shark'\n",
      " \"10'-12' tiger shark\" 'Juvenile blacktip shark' \"5' blacktip shark\"\n",
      " \"4' to 5' blacktip shark\" 'White shark, 4 m' 'Juvenile white shark?'\n",
      " \"7' shark\" '1+ m shark' \"6' to 7' shark\" \"2' shark\"\n",
      " \"Galapagos shark, 5'-9'\" \"14' white shark\" \"6.5' shark\"\n",
      " 'Grey reef shark 1.5m' \"10' to 12' shark\" 'Cookiecutter shark'\n",
      " \"Blacktip shark, 5' \" 'Sandtiger shark' 'shark pup'\n",
      " 'White shark, juvenile' 'Bull shark pup' \"Bull shark, 4' to 5'\"\n",
      " 'Bull shark, 3.5 m' 'Tiger shark, 4m to 5m' 'Lemon shark pup'\n",
      " 'Grey nurse shark, 3 m female' \"12' shark\" \"Grey reef shark, 4' \"\n",
      " 'Spinner shark' '2.5 m shark' 'Reef shark, '\n",
      " 'Reported as shark bite but injury caused by stingray'\n",
      " 'Reported as shark attacks but injuries caused by toadfish'\n",
      " 'White shark, 4.6m' \"Mako shark, 7'\" 'Bronze whaler 2.5m'\n",
      " 'Reef shark x 2' \"White shark, 17' female\" 'Bull shark?'\n",
      " 'White Shark, 3.2m to 3.5m' 'White shark, 5m female' '\"reef shark\"'\n",
      " \"White shark, 11'\" \"Tiger shark, 10' to 12'\" 'Blue shark, 47kg'\n",
      " \"5' to 8' shark\" 'Reef shark' \"Said to involve a bull shark, 5' to 6'\"\n",
      " 'Said to involve a blacktip shark' 'Salmon shark, juvenile'\n",
      " 'Injury most likely caused by barracuda, not a shark' 'Tiger shark, 3m'\n",
      " \"Lemon shark, 3'\" 'Grey reef shark' 'Invalid incident'\n",
      " 'Tawny nurse shark, 2m' \"Sandtiger shark'\" 'Questionable' '3 m shark'\n",
      " 'Juvenile bull shark' \"Tiger shark, 12'\" '3.5 m shark' '1.8 m shark'\n",
      " 'Juvenile white shark,  2.7 to 3.2 m' 'Bull shark, 2 m'\n",
      " 'Possibly a wobbegong' 'Injury believed caused by an eel, not a shark'\n",
      " 'Galapagos shark?' '2m shark' 'Bull shark, 3 m ' 'Sicklefin Lemon Shark,'\n",
      " 'Grey reef shark. 2 m' 'small shark' 'Wobbegong shark?' \"Nurse shark. 5'\"\n",
      " 'Great White 6.0m' 'Tiger shark, female'\n",
      " 'Some drowned but other may have been killed by blue sharks'\n",
      " 'White shark, 4.6 m' 'Wobbegong shark, 1 m' 'Spinner shark, 4 to 5 feet'\n",
      " 'Tiger shark, 8 to 10 feet' 'Porbeagle, 1.5 m' 'White shark, 3.5m'\n",
      " 'White shark, 3 to 3.5m ' 'Shark involvement questionable'\n",
      " \"White shark, 5' to 7'\" 'Possibly a juvenile blacktip shark'\n",
      " 'Oceanic whitetip shark, 1.8 to 2 m' \"White shark, 10'\"\n",
      " \"Sandtiger shark  2'\" \"Blue shark 6'\" \"White shark, 11' to 13'\"\n",
      " \"White shark, 8' to 10'\" \"White shark, 9'\" 'Tiger shark, 100 kg'\n",
      " 'Shark involvement prior to death not confirmed' 'Bull shark, 2m'\n",
      " 'Seven-gill shark' '3m shark, probably a smooth hound'\n",
      " 'Shark involvement highly doubtful'\n",
      " 'No shark invovlement - it ws a publicity stunt' \"Bull shark, 5' to 7'\"\n",
      " \"10' shark\" 'Bull shark, 1.5' \"White shark, female, 14'\"\n",
      " 'Bull shark, 4 m' 'Bull shark, 1 m' 'a small shark' 'Wobbegong shark, 2m'\n",
      " 'Broadnose sevengill shark, 1.5 m' \" 6' to 8' shark\" \"Tiger shark, 10'\"\n",
      " 'Invalid' \"Tiger shark, 10' \" \"Nurse shark, 4'\" 'reef shark, 1m'\n",
      " \"White shark, 10' to 12'\" \"Lemon shark, 9'\" 'dogfish shark'\n",
      " 'Tawny nurse shark' \"Caribbean reef shark, 4.5'\"\n",
      " \"Said to involve an 8' shark but more likely damage caused by debris\"\n",
      " '3+ m shark' 'Bronze whaler sharks x 3' \"Blacktip shark, 4'\"\n",
      " \"Nurse shark, 2'\" \"Mako shark, 1.5 m [5'] \" 'Blacktip shark, juvenile'\n",
      " 'Tiger shark, 2.5 m' 'Nurse shark, 2.5-ft' 'No shark involvement'\n",
      " \"Reef shark, 5'\" 'Bull sharks x 2' \"Tiger shark, 14'\" \"Silky shark, 6.5'\"\n",
      " \"Bronze whaler shark, 6'\" 'Tiger shark, 1.5 m ' \"Spinner shark, 7'\"\n",
      " 'Bull shark, 2.8 to 3.1 m' \"Spinner shark, 5'\" \"Tiger shark, 7'\"\n",
      " 'Hammerhead sp.' \"Tiger shark, 13' \" \"Blacktip shark, 4' to 5'\"\n",
      " \"White shark, 19'\" 'juvenile shark' 'Hammerhead shark'\n",
      " \"White shark, 11' to 12'\" 'Hammerhead shark.' \"4' shark?\"\n",
      " \"White shark, 10' to 12' \" \"Hammerhead shark. 6' to 7'\"\n",
      " \"Blacktip or spinner shark, 4'\"\n",
      " \"Thought to involve a 3' to 4' shark, but shark involvement not confirmed\"\n",
      " 'White shark, 3.9 to 4.2 m' 'Mako shark, 100-lb'\n",
      " 'Bronze whaler shark, 1.5m' \"White shark, 7'\"\n",
      " 'Shark involvement not cofirmed' 'White shark, 2m to 3 m'\n",
      " \"Bull shark, 5'\" 'small nurse shark' 'Bull shark, 2.5 m'\n",
      " '1m to 1.2 m shark' '3- to 4-foot shark' 'White shark, 6 m'\n",
      " 'Blue shark, 8 to 9 feet' 'Tiger shark, 8 to 12 feet'\n",
      " 'Blacktip Reef shark ' 'Tiger shark, 3.5 m' '3.5 to 4 m shark'\n",
      " '2 m to  3 m shark' 'Bull shark, 1.3 m' '5 m shark' '1.5 m shark'\n",
      " 'White shark or oceanic whitetip shark' 'Raggedtooth shark, 1.3 m'\n",
      " 'White shark, 4 to 5 m'\n",
      " 'Shark involvement prior to death still to be determined'\n",
      " 'Shark involvement not confirmed & highly unlikely' 'Goblin shark'\n",
      " '1 m shark' \"Bull shark, 3' to 4'\" \"White shark, 18' to 20'\"\n",
      " \"8' to 10' shark\" '2 white shark: 13\\' & 9\"8\"' \"White shark, 12' to 14'\"\n",
      " 'Spinner shark or blacktip shark' \"4' to 6' shark\" \"Bull shark, 4.5' \"\n",
      " 'reef shark' \" Bull shark, 8'\" \"Bull shark, 9' to 10'\" \" Bull shark, 5'\"\n",
      " \"4' tp 5' shark\" 'Possibly juvenile tiger shark' '1.8 metre shark'\n",
      " \"6' to 8' shark\" \" White shark, 7' \" \"Oceanic whitetip shark'\"\n",
      " \"Caribbean reef shark, 7' to 8'\" ' Lemon shark, 3.5 m'\n",
      " \" Sandbar shark, 3' to 4'\" ' Bull shark, 1.2m ' ' Tawney nurse shark, 1m'\n",
      " \" white shark, 15' \" 'Cow shark' 'reef shark?' ' Raggedtooth shark, 2m'\n",
      " '3 m to 4 m white shark' 'Blacktip or spinner shark?'\n",
      " 'Blacktip reef shark ' '7-gill shark?' '7-gill shark'\n",
      " 'Reported to involve a bull shark' 'White shark, 3m '\n",
      " ' Wobbegong shark, 1.6 to 1.8m ' 'Tiger shark, 3m '\n",
      " 'Thought to involve a white shark' \"White shark, 10 '\"\n",
      " 'Reported to involve a white shark' 'Blacktip reef shark, 1m'\n",
      " 'Thought to involve a bull shark' 'Reported to involve a 4 m white shark'\n",
      " \"Whitetip reef shark, 4' to 6'\" 'Nurse shark?' 'Small bull shark'\n",
      " 'Salmon shark' \"Mako shark, 5'\" \"Bull shark, 6' to 8'\"\n",
      " \"Tiger shark, 8' to 10' \" \"Possibly a Bull shark, 3'\" \"Lemon shark, 4'\"\n",
      " 'Wobbegong, 2m' 'Grey nurse shark, 3m' 'Possibly a blacktip reef shark'\n",
      " 'shark involvement not confirmed' 'Raggedtooth shark, 1.5 m'\n",
      " 'Tiger shark, 4.8 m' 'Bronze whaler shark, 2.5m' '\"small sharks\"'\n",
      " 'White shark, 5m' 'Bronze whaler shark, 3m' 'Bull shark, 2m '\n",
      " \"Tiger shark, 6'\" \"Tiger shark, 8'\" \"Tiger shark, 10' to 12' \"\n",
      " \"White shark, 15' to 16' \" 'Possibly a 3 m bull shark' \"3.5' to 4' shark\"\n",
      " \"Porbeagle shark, 7'\" '4.5 m shark' \"Lemon shark, 4' to 5' \"\n",
      " 'Lemon shark, 2.5m to 3m ' 'White shark or bronze whaler'\n",
      " 'Salmon shark suspected, but unlikely' \"14' to 18'shark\" \"15' shark\"\n",
      " 'possibly a bull shark' 'a small reef shark' 'small blacktip shark?'\n",
      " 'Blacktip shark ' 'Blue shark, 2.5m' 'White shark, 2 m'\n",
      " '18\" to 24\" shark' \"Tiger shark, 8' to 9' \" 'White shark, 4 m to 5m '\n",
      " 'White shark, 6m ' \"Tiger shark, 10'  \" 'White shark, 4m '\n",
      " 'Possibly a bull shark' \"Possibly a 5' to 6' bull shark\"\n",
      " 'Tawny nurse shark, 40cm' 'Grey nurse shark' 'White shark, 7m'\n",
      " 'Blue shark, 70-kg blue shark' 'White shark, 2.7 m'\n",
      " 'Allegedly a 4 m tiger shark' 'White shark, 2.5m'\n",
      " \"White shark, 15' to 16'\" \"White shark, 15'\" 'Port Jackson shark, 1m'\n",
      " '2 to 2.5 m shark' 'Tiger shark, 2m'\n",
      " \"6' shark, possibly a blactip or spinner shark\" \"White shark, >6'\"\n",
      " \"Possibly a 5' to 6' sandtiger shark\" '4 m shark' 'Grey reef shark '\n",
      " 'White shark, 3m to 4m' 'Bull shark, 3m female' \"White shark, 5' k\"\n",
      " \"Oceanic whitetip shark, 7'\" \"Sevengill shark, 6' to 8'\" 'Zambesi shark'\n",
      " ' Tiger shark, 2.8m' \"Sandbar shark, 8'\" \"Bull shark, 12'\"\n",
      " 'reef shark, 1.5m' \"1' to 2' shark\" 'possibly a bronze whaler shark'\n",
      " ' Bull shark, 2.5 m' 'Blacktip shark pup' 'Bull shark, 2.5m'\n",
      " '3 m to 4 m shark' 'White shark x 2' 'Oceanic whitetip shark, 2.5m '\n",
      " 'Mako shark ' 'Oceanic whitetip shark, 2.5m, female'\n",
      " \"Porbeagle shark, 8' \" \"White shark, 14' to 18' \" 'Bull shark, 1.4m '\n",
      " \"Possibly a 6' lemon shark\"\n",
      " 'Shark involvement prior to death was not confirmed'\n",
      " 'Possibly a small blacktip shark' \"Sandtiger shark, 4' to 5'\"\n",
      " 'A small spinner shark' 'Nurse shark, juvenile ' \"Blue shark, 7'\"\n",
      " '20 to 30kg shark' \"Lemon shark, 6'\" \"14' shark\"\n",
      " \"Oceanic whitetip shark, 6'\" 'Possibly a blue shark'\n",
      " 'Wobbegong shark, 1.6m' '2 m to 3 m shark' \"Spinner shark, 6'\"\n",
      " 'Thought to involve a juvenile hammerhead shark'\n",
      " 'Whitetip reef shark, 1m' 'Zambesi shark, 2m ' 'White shark, 2.8 to 3 m '\n",
      " \"Sandtiger shark, 8'\" 'Thresher shark' \"Bull shark, 10'\" 'Spurdog'\n",
      " \"White shark, 5' to 6' juvenile \" 'White shark, 2m' 'Tiger shark, 12'\n",
      " \"Caribbean reef shark, 6'\" \"Nurse shark, 6'\"\n",
      " 'Thought to involve a Bronze whale shark, 2m'\n",
      " 'Shark involvement probable, but not confirmed'\n",
      " 'Oceanic whitetip shark, 2.5 to 3m' '80 kg shark'\n",
      " 'blacktip or spinner shark' \"White shark, 12' to 15' female\"\n",
      " 'Bronze whaler shark?' 'Blacktip reef shark pup'\n",
      " 'Thought to involve a cookiecutter shark' 'Wobbegong shark, 60cm'\n",
      " 'Blue shark, 1m' '2.6 m shark' 'White shark, 2.5m ' 'Bull shark, 2.7 m '\n",
      " \"White shark, 12' \" 'White shark, 5.5 m ' 'White sharks'\n",
      " 'Dusky shark, 2m' 'Mako shark, 3m' 'Broadnose sevengill shark'\n",
      " 'White shark, 4m to 5m ' '4 to 5m white shark' 'Raggedtooth shark, 2m'\n",
      " 'White shark, 4.5 to 5 m ' 'Zambesi shark?' ' reef shark, 1.8m'\n",
      " '5 m white shark' \"+3' shark\" \"2' to 3' juvenile shark\"\n",
      " \"White shark, 14' to 16' \" \"8' bull shark or Caribbean reef shark\"\n",
      " \"8' white shark or 7-gill shark\" \"3'  shark\" \"2'  shark\"\n",
      " \"2' to 3' reef shark\" 'Starry smoothhound shark, 1m'\n",
      " \"Bull shark, 6' to 7'\" 'White shark, 4.5m' \"4.5 to 5' shark\"\n",
      " 'Basking shark' 'Tiger sharks in area' '2 small bull sharks'\n",
      " 'Bull shark, 1.8m' \"White shark, 12' to 15'\" 'Tiger shark, 2.3m '\n",
      " \"Tiger shark, 13' female\"\n",
      " 'Reported by media as shark attack, but shark involvement prior to death was not confirmed'\n",
      " 'Shark involvement not confirmed; thought to be a barracuda bite'\n",
      " \"1.5' to 2' shark\" \"2.5' shark\"\n",
      " 'A bull shark, according to some of the divers on the boat'\n",
      " \"Goblin shark, 4.2'\" 'Blacktip shark, 2m' 'Mako shark, 90kg'\n",
      " 'Bronze whaler shark, 4m' \"Nurse shark, 10'\"\n",
      " 'Possibly a hammerhead shark' '\"a small shark\"'\n",
      " 'Not a shark attack; it was a hoax' '2.27 m shark' '1.5 to 2 m shark'\n",
      " \"Blacktip shark, 5'\" 'Oceanic whitetip sharks were in the vicinity'\n",
      " 'Gray reef shark' \"9.5' shark?\" \"Nurse shark, 2' to 3' \"\n",
      " 'Possibly a spinner shark' \"White shark, 12'\" 'Sand shark'\n",
      " \"Possibly a 6' bull shark\" \"Possibly a 10' bull shark\"\n",
      " 'Bronze whaler shark, 1.5 m '\n",
      " \"3' small spotted catshark, Scyliorhinus canicula\" \"Bull shark, 5' \"\n",
      " 'Questionable Incident' \"Lemon shark, 6' female \"\n",
      " 'A 10-year-old 94-pound pregnant blacktip reef shark'\n",
      " 'Lesser spotted dogfish, Scyliorhinus canicula, less than 80 cm in length'\n",
      " 'White shark, 2m ' \"Tiger shark, 14' \"]\n"
     ]
    }
   ],
   "source": [
    "df[\"Species\"].unique()\n",
    "print(df[\"Species\"].unique()[:600])"
   ]
  },
  {
   "cell_type": "code",
   "execution_count": 141,
   "metadata": {},
   "outputs": [
    {
     "name": "stdout",
     "output_type": "stream",
     "text": [
      "0             Unknown\n",
      "1          Bull shark\n",
      "2             Unknown\n",
      "3       Bronze whaler\n",
      "4             Unknown\n",
      "            ...      \n",
      "6989          Unknown\n",
      "6990          Unknown\n",
      "6991          Unknown\n",
      "6992          Unknown\n",
      "6993          Unknown\n",
      "Name: Species, Length: 6994, dtype: object\n"
     ]
    }
   ],
   "source": [
    "# Cleaning the Column 'Species' a bit \n",
    "df[\"Species\"] = df[\"Species\"].str.extract(r'([A-Za-z\\s-]+)').fillna(\"Unknown\") # Cleaning here the unnecessary details\n",
    "df[\"Species\"] = df[\"Species\"].replace({\n",
    "    \"Not stated\":\"Unknown\"\n",
    "})\n",
    "print(df[\"Species\"])"
   ]
  },
  {
   "cell_type": "code",
   "execution_count": 142,
   "metadata": {},
   "outputs": [],
   "source": [
    "df[\"Species_Types\"] = df[\"Species\"].copy() # creating a copy of species and naming it Species_Types"
   ]
  },
  {
   "cell_type": "code",
   "execution_count": 143,
   "metadata": {},
   "outputs": [],
   "source": [
    "df[\"Species_Types\"] = df[\"Species_Types\"].fillna(\"Unknown\").astype(str)"
   ]
  },
  {
   "cell_type": "code",
   "execution_count": 144,
   "metadata": {},
   "outputs": [],
   "source": [
    "df[\"Species_Types\"] = df[\"Species_Types\"].replace({\n",
    "    \"Not stated\": \"Unknown\",\n",
    "    \"Not specified\": \"Unknown\",\n",
    "    \"Invalid\": \"Unknown\",\n",
    "    \"Great White Shark\": \"White Shark\"   \n",
    "}) "
   ]
  },
  {
   "cell_type": "code",
   "execution_count": 145,
   "metadata": {},
   "outputs": [
    {
     "name": "stdout",
     "output_type": "stream",
     "text": [
      "Species_Types\n",
      "Other/Unknown       5567\n",
      "White Shark          552\n",
      "Tiger Shark          314\n",
      "Bull Shark           197\n",
      "Nurse Shark          110\n",
      "Blacktip Shark       101\n",
      "Reef Shark            57\n",
      "Mako Shark            56\n",
      "Hammerhead Shark      37\n",
      "Whale Shark            3\n",
      "Name: count, dtype: int64\n",
      "6989    Other/Unknown\n",
      "6990    Other/Unknown\n",
      "6991    Other/Unknown\n",
      "6992    Other/Unknown\n",
      "6993    Other/Unknown\n",
      "Name: Species_Types, dtype: object\n"
     ]
    }
   ],
   "source": [
    "#Data Cleanining for the Column 'Species'\n",
    "#df[\"Species\"].unique() df[\"Species\"] = df[\"Species\"]\n",
    "#df[\"Species\"]\n",
    "#df.Species.unique()\n",
    "\n",
    "def clean_shark_name(species): \n",
    "    species = species.strip().lower()\n",
    "\n",
    "    match = re.search(r\"(?:\\b\\w+\\s+)*?(great white|horn|white|tiger|bull|Bull|hammerhead|hammer|Hammerhead|blacktip|whale|nurse|mako|reef|Reef)(?:\\s+\\w+)*?\\s*shark(?:\\s+\\w+)*?\", species)\n",
    "    #match = re.search(r\"(great white|white|tiger|bull|hammerhead|blacktip|whale|nurse|mako|reef)s*shark\", species)\n",
    "\n",
    "    if match:\n",
    "        #return match.group(0).title()\n",
    "        return match.group(1).title() + \" Shark\"\n",
    "    else: \n",
    "        return \"Other/Unknown\"\n",
    "\n",
    "df[\"Species_Types\"] = df[\"Species_Types\"].apply(clean_shark_name)\n",
    "\n",
    "print(df[\"Species_Types\"].value_counts())  # Check unique values\n",
    "print(df[\"Species_Types\"].tail())  # Display first few rows\n",
    "#print(df_Species.nunique()) \n",
    "#print(df_Species.unique()[:100])"
   ]
  },
  {
   "cell_type": "code",
   "execution_count": 146,
   "metadata": {},
   "outputs": [
    {
     "data": {
      "text/plain": [
       "Species_Types\n",
       "Other/Unknown       5567\n",
       "White Shark          552\n",
       "Tiger Shark          314\n",
       "Bull Shark           197\n",
       "Nurse Shark          110\n",
       "Blacktip Shark       101\n",
       "Reef Shark            57\n",
       "Mako Shark            56\n",
       "Hammerhead Shark      37\n",
       "Whale Shark            3\n",
       "Name: count, dtype: int64"
      ]
     },
     "execution_count": 146,
     "metadata": {},
     "output_type": "execute_result"
    }
   ],
   "source": [
    "#df.dtypes\n",
    "df[\"Species_Types\"].value_counts()"
   ]
  },
  {
   "cell_type": "code",
   "execution_count": 147,
   "metadata": {},
   "outputs": [],
   "source": [
    "df[\"Species_Types\"] = df[\"Species_Types\"].str.strip()"
   ]
  },
  {
   "cell_type": "code",
   "execution_count": 148,
   "metadata": {},
   "outputs": [
    {
     "name": "stdout",
     "output_type": "stream",
     "text": [
      "Species_Types\n",
      "Other/Unknown       5567\n",
      "White Shark          552\n",
      "Tiger Shark          314\n",
      "Bull Shark           197\n",
      "Nurse Shark          110\n",
      "Blacktip Shark       101\n",
      "Reef Shark            57\n",
      "Mako Shark            56\n",
      "Hammerhead Shark      37\n",
      "Whale Shark            3\n",
      "Name: count, dtype: int64\n"
     ]
    }
   ],
   "source": [
    "print(df[\"Species_Types\"].value_counts())"
   ]
  },
  {
   "cell_type": "markdown",
   "metadata": {},
   "source": [
    "#### Visualisation for Species Types"
   ]
  },
  {
   "cell_type": "code",
   "execution_count": 149,
   "metadata": {},
   "outputs": [
    {
     "data": {
      "text/plain": [
       "Species_Types\n",
       "Other/Unknown       5567\n",
       "White Shark          552\n",
       "Tiger Shark          314\n",
       "Bull Shark           197\n",
       "Nurse Shark          110\n",
       "Blacktip Shark       101\n",
       "Reef Shark            57\n",
       "Mako Shark            56\n",
       "Hammerhead Shark      37\n",
       "Whale Shark            3\n",
       "Name: Species_Types, dtype: int64"
      ]
     },
     "execution_count": 149,
     "metadata": {},
     "output_type": "execute_result"
    }
   ],
   "source": [
    "species_types_group = df.groupby(\"Species_Types\")\n",
    "shark_attack_by_species_types = species_types_group[\"Species_Types\"].count()\n",
    "shark_attack_by_species_types = shark_attack_by_species_types.sort_values(ascending=False)\n",
    "top_species_types_attack = shark_attack_by_species_types.head(15)\n",
    "top_species_types_attack"
   ]
  },
  {
   "cell_type": "code",
   "execution_count": 150,
   "metadata": {},
   "outputs": [
    {
     "data": {
      "image/png": "[encoded data removed]",
      "text/plain": [
       "<Figure size 1500x200 with 1 Axes>"
      ]
     },
     "metadata": {},
     "output_type": "display_data"
    }
   ],
   "source": [
    "plt.figure(figsize=(15,2))\n",
    "sns.barplot(x=top_species_types_attack.index, y=top_species_types_attack, color=\"skyblue\")\n",
    "plt.title(\"Number of Attacks by Species Types\")\n",
    "plt.ylabel(\"Number of Attacks\")\n",
    "plt.show()"
   ]
  },
  {
   "cell_type": "code",
   "execution_count": 151,
   "metadata": {},
   "outputs": [],
   "source": [
    "# This can be ignored, but can be usable for in the future\n",
    "#Group_Species = df.groupby(\"Species\")\n",
    "\n",
    "#for species, group in Group_Species:\n",
    "#    print(f\"Group name: {species}\")\n",
    "#   # display(group)\n",
    "#df[\"Species\"].nunique() == len(Grouped_Species)"
   ]
  },
  {
   "cell_type": "code",
   "execution_count": 152,
   "metadata": {},
   "outputs": [],
   "source": [
    "#df[\"Date\"] = pd.to_datetime(df[\"Date\"], errors=\"coerce\")"
   ]
  },
  {
   "cell_type": "markdown",
   "metadata": {},
   "source": [
    "### Data Cleaning for the 'Country' Column"
   ]
  },
  {
   "cell_type": "code",
   "execution_count": 153,
   "metadata": {},
   "outputs": [
    {
     "data": {
      "text/plain": [
       "array(['Turks and Caicos', 'Australia', 'USA', 'New Caledonia', 'Egypt',\n",
       "       'Thailand', 'New Zealand', 'Maldives', 'Hawaii', 'Honduras',\n",
       "       'Morocco', 'Jamaica', 'Belize', 'Maldive Islands',\n",
       "       'French Polynesia', 'Tobago', 'Bahamas', 'AUSTRALIA', 'INDIA',\n",
       "       'TRINIDAD', 'BAHAMAS', 'SOUTH AFRICA', 'MEXICO', 'NEW ZEALAND',\n",
       "       'EGYPT', 'Mexico', 'BELIZE', 'PHILIPPINES', 'Coral Sea', 'SPAIN',\n",
       "       'PORTUGAL', 'SAMOA', 'COLOMBIA', 'ECUADOR', 'FRENCH POLYNESIA',\n",
       "       'NEW CALEDONIA', 'TURKS and CaICOS', 'CUBA', 'BRAZIL',\n",
       "       'SEYCHELLES', 'ARGENTINA', 'FIJI', 'MeXICO', 'South Africa',\n",
       "       'ENGLAND', 'JAPAN', 'INDONESIA', 'JAMAICA', 'MALDIVES', 'THAILAND',\n",
       "       'COLUMBIA', 'COSTA RICA', 'British Overseas Territory', 'CANADA',\n",
       "       'JORDAN', 'ST KITTS / NEVIS', 'ST MARTIN', 'PAPUA NEW GUINEA',\n",
       "       'REUNION ISLAND', 'ISRAEL', 'CHINA', 'IRELAND', 'ITALY',\n",
       "       'MALAYSIA', 'LIBYA', nan, 'MAURITIUS', 'SOLOMON ISLANDS',\n",
       "       'ST HELENA, British overseas territory', 'COMOROS', 'REUNION',\n",
       "       'UNITED KINGDOM', 'UNITED ARAB EMIRATES', 'CAPE VERDE', 'Fiji',\n",
       "       'DOMINICAN REPUBLIC', 'CAYMAN ISLANDS', 'ARUBA', 'MOZAMBIQUE',\n",
       "       'PUERTO RICO', 'ATLANTIC OCEAN', 'GREECE', 'ST. MARTIN', 'FRANCE',\n",
       "       'TRINIDAD & TOBAGO', 'KIRIBATI', 'DIEGO GARCIA', 'TAIWAN',\n",
       "       'PALESTINIAN TERRITORIES', 'GUAM', 'NIGERIA', 'TONGA', 'SCOTLAND',\n",
       "       'CROATIA', 'SAUDI ARABIA', 'CHILE', 'ANTIGUA', 'KENYA', 'RUSSIA',\n",
       "       'TURKS & CAICOS', 'UNITED ARAB EMIRATES (UAE)', 'AZORES',\n",
       "       'SOUTH KOREA', 'MALTA', 'VIETNAM', 'MADAGASCAR', 'PANAMA',\n",
       "       'SOMALIA', 'NEVIS', 'BRITISH VIRGIN ISLANDS', 'NORWAY', 'SENEGAL',\n",
       "       'YEMEN', 'GULF OF ADEN', 'Sierra Leone', 'ST. MAARTIN',\n",
       "       'GRAND CAYMAN', 'Seychelles', 'LIBERIA', 'VANUATU', 'MEXICO ',\n",
       "       'HONDURAS', 'VENEZUELA', 'SRI LANKA', ' TONGA', 'URUGUAY',\n",
       "       'MICRONESIA', 'CARIBBEAN SEA', 'OKINAWA', 'TANZANIA',\n",
       "       'MARSHALL ISLANDS', 'EGYPT / ISRAEL', 'NORTHERN ARABIAN SEA',\n",
       "       'HONG KONG', 'EL SALVADOR', 'ANGOLA', 'BERMUDA', 'MONTENEGRO',\n",
       "       'IRAN', 'TUNISIA', 'NAMIBIA', 'NORTH ATLANTIC OCEAN',\n",
       "       'SOUTH CHINA SEA', 'BANGLADESH', 'PALAU', 'WESTERN SAMOA',\n",
       "       'PACIFIC OCEAN ', 'BRITISH ISLES', 'GRENADA', 'IRAQ', 'TURKEY',\n",
       "       'SINGAPORE', 'NEW BRITAIN', 'SUDAN', 'JOHNSTON ISLAND',\n",
       "       'SOUTH PACIFIC OCEAN', 'NEW GUINEA', 'RED SEA',\n",
       "       'NORTH PACIFIC OCEAN', 'FEDERATED STATES OF MICRONESIA',\n",
       "       'MID ATLANTIC OCEAN', 'ADMIRALTY ISLANDS', 'BRITISH WEST INDIES',\n",
       "       'SOUTH ATLANTIC OCEAN', 'PERSIAN GULF', 'RED SEA / INDIAN OCEAN',\n",
       "       'PACIFIC OCEAN', 'NORTH SEA', 'NICARAGUA ', 'MALDIVE ISLANDS',\n",
       "       'AMERICAN SAMOA', 'ANDAMAN / NICOBAR ISLANDAS', 'GABON', 'MAYOTTE',\n",
       "       'NORTH ATLANTIC OCEAN ', 'THE BALKANS', 'SUDAN?', 'MARTINIQUE',\n",
       "       'INDIAN OCEAN', 'GUATEMALA', 'NETHERLANDS ANTILLES',\n",
       "       'NORTHERN MARIANA ISLANDS', 'IRAN / IRAQ', 'JAVA', 'SIERRA LEONE',\n",
       "       ' PHILIPPINES', 'NICARAGUA', 'CENTRAL PACIFIC',\n",
       "       'SOLOMON ISLANDS / VANUATU', 'SOUTHWEST PACIFIC OCEAN',\n",
       "       'BAY OF BENGAL', 'MID-PACIFC OCEAN', 'SLOVENIA', 'CURACAO',\n",
       "       'ICELAND', 'ITALY / CROATIA', 'BARBADOS', 'MONACO', 'GUYANA',\n",
       "       'HAITI', 'SAN DOMINGO', 'KUWAIT', 'YEMEN ', 'FALKLAND ISLANDS',\n",
       "       'CRETE', 'CYPRUS', 'EGYPT ', 'WEST INDIES', 'BURMA', 'LEBANON',\n",
       "       'PARAGUAY', 'BRITISH NEW GUINEA', 'CEYLON', 'OCEAN', 'GEORGIA',\n",
       "       'SYRIA', 'TUVALU', 'INDIAN OCEAN?', 'GUINEA', 'ANDAMAN ISLANDS',\n",
       "       'EQUATORIAL GUINEA / CAMEROON', 'COOK ISLANDS', 'TOBAGO', 'PERU',\n",
       "       'AFRICA', 'ALGERIA', 'Coast of AFRICA', 'TASMAN SEA', 'GHANA',\n",
       "       'GREENLAND', 'MEDITERRANEAN SEA', 'SWEDEN', 'ROATAN',\n",
       "       'Between PORTUGAL & INDIA', 'DJIBOUTI', 'BAHREIN', 'KOREA',\n",
       "       'RED SEA?', 'ASIA?', 'CEYLON (SRI LANKA)'], dtype=object)"
      ]
     },
     "execution_count": 153,
     "metadata": {},
     "output_type": "execute_result"
    }
   ],
   "source": [
    "df[\"Country\"].unique()"
   ]
  },
  {
   "cell_type": "code",
   "execution_count": 154,
   "metadata": {},
   "outputs": [
    {
     "data": {
      "text/plain": [
       "240"
      ]
     },
     "execution_count": 154,
     "metadata": {},
     "output_type": "execute_result"
    }
   ],
   "source": [
    "len(df[\"Country\"].unique())"
   ]
  },
  {
   "cell_type": "code",
   "execution_count": 155,
   "metadata": {},
   "outputs": [],
   "source": [
    "update_country = {\n",
    "    'AUSTRALIA': 'Australia',\n",
    "    'BAHAMAS': 'Bahamas',\n",
    "    'BELIZE': 'Belize',\n",
    "    'COLOMBIA': 'Colombia',\n",
    "    'COLUMBIA': 'Colombia',\n",
    "    'EGYPT': 'Egypt',\n",
    "    'ENGLAND': 'United Kingdom',\n",
    "    'FRENCH POLYNESIA': 'French Polynesia',\n",
    "    'INDIA': 'India',\n",
    "    'INDONESIA': 'Indonesia',\n",
    "    'JAMAICA': 'Jamaica',\n",
    "    'JAPAN': 'Japan',\n",
    "    'MALDIVE ISLANDS': 'Maldives',\n",
    "    'MALDIVES': 'Maldives',\n",
    "    'MEXICO': 'Mexico',\n",
    "    'MeXICO': 'Mexico',\n",
    "    'MEXICO ': 'Mexico',\n",
    "    'NEW CALEDONIA': 'New Caledonia',\n",
    "    'NEW ZEALAND': 'New Zealand',\n",
    "    'PHILIPPINES': 'Philippines',\n",
    "    'SPAIN': 'Spain',\n",
    "    'SOUTH AFRICA': 'South Africa',\n",
    "    'South Africa': 'South Africa',\n",
    "    'THAILAND': 'Thailand',\n",
    "    'TRINIDAD': 'Trinidad and Tobago',\n",
    "    'TRINIDAD & TOBAGO': 'Trinidad and Tobago',\n",
    "    'TURKS & CAICOS': 'Turks and Caicos',\n",
    "    'TURKS and CaICOS': 'Turks and Caicos',\n",
    "    'UNITED ARAB EMIRATES (UAE)': 'United Arab Emirates',\n",
    "    'UNITED KINGDOM': 'United Kingdom',\n",
    "    'USA': 'United States',\n",
    "    'UAE': 'United Arab Emirates',\n",
    "    'UNITED STATES': 'United States',\n",
    "    'REUNION ISLAND': 'Reunion',\n",
    "    'REUNION': 'Reunion',\n",
    "    'ST MARTIN': 'Saint Martin',\n",
    "    'ST. MARTIN': 'Saint Martin',\n",
    "    'ST. MAARTIN': 'Saint Martin',\n",
    "    'SAINT MAARTEN': 'Saint Martin',\n",
    "    'PAPUA NEW GUINEA': 'Papua New Guinea',\n",
    "    'FIJI': 'Fiji',\n",
    "    'Fiji': 'Fiji',\n",
    "    'CANADA': 'Canada',\n",
    "    'CUBA': 'Cuba',\n",
    "    'ARGENTINA': 'Argentina',\n",
    "    'BRAZIL': 'Brazil',\n",
    "    'CHILE': 'Chile',\n",
    "    'ECUADOR': 'Ecuador',\n",
    "    'PERU': 'Peru',\n",
    "    'VENEZUELA': 'Venezuela',\n",
    "    'COOK ISLANDS': 'Cook Islands',\n",
    "    'DOMINICAN REPUBLIC': 'Dominican Republic',\n",
    "    'SEYCHELLES': 'Seychelles',\n",
    "    'ST KITTS / NEVIS': 'Saint Kitts and Nevis',\n",
    "    'ST HELENA, British overseas territory': 'Saint Helena',\n",
    "    'SOLOMON ISLANDS': 'Solomon Islands',\n",
    "    'TONGA': 'Tonga',\n",
    "    ' TONGA': 'Tonga',\n",
    "    'KIRIBATI': 'Kiribati',\n",
    "    'PALAU': 'Palau',\n",
    "    'MALTA': 'Malta',\n",
    "    'SCOTLAND': 'United Kingdom',\n",
    "    'IRELAND': 'Ireland',\n",
    "    'ITALY': 'Italy',\n",
    "    'MALAYSIA': 'Malaysia',\n",
    "    'LIBYA': 'Libya',\n",
    "    'JORDAN': 'Jordan',\n",
    "    'ISRAEL': 'Israel',\n",
    "    'CHINA': 'China',\n",
    "    'TAIWAN': 'Taiwan',\n",
    "    'INDIAN OCEAN': 'Indian Ocean',\n",
    "    'INDIAN OCEAN?': 'Indian Ocean',\n",
    "    'INDIAN OCEAN?': 'Indian Ocean',\n",
    "    'NORTH ATLANTIC OCEAN': 'North Atlantic Ocean',\n",
    "    'NORTH ATLANTIC OCEAN ': 'North Atlantic Ocean',\n",
    "    'SOUTH ATLANTIC OCEAN': 'South Atlantic Ocean',\n",
    "    'ATLANTIC OCEAN': 'Atlantic Ocean',\n",
    "    'PACIFIC OCEAN': 'Pacific Ocean',\n",
    "    'PACIFIC OCEAN ': 'Pacific Ocean',\n",
    "    'SOUTH PACIFIC OCEAN': 'South Pacific Ocean',\n",
    "    'NORTH PACIFIC OCEAN': 'North Pacific Ocean',\n",
    "    'CARIBBEAN SEA': 'Caribbean Sea',\n",
    "    'MID ATLANTIC OCEAN': 'Mid Atlantic Ocean',\n",
    "    'SOUTH CHINA SEA': 'South China Sea',\n",
    "    'BAY OF BENGAL': 'Bay of Bengal',\n",
    "    'RED SEA': 'Red Sea',\n",
    "    'RED SEA?': 'Red Sea',\n",
    "    'RED SEA / INDIAN OCEAN': 'Red Sea',\n",
    "    'GULF OF ADEN': 'Gulf of Aden',\n",
    "    'PERSIAN GULF': 'Persian Gulf',\n",
    "    'CEYLON': 'Sri Lanka',\n",
    "    'CEYLON (SRI LANKA)': 'Sri Lanka',\n",
    "    'SRI LANKA': 'Sri Lanka',\n",
    "    'BANGLADESH': 'Bangladesh',\n",
    "    'BURMA': 'Myanmar',\n",
    "    'MYANMAR': 'Myanmar',\n",
    "    'VIETNAM': 'Vietnam',\n",
    "    'HONG KONG': 'Hong Kong',\n",
    "    'MARTINIQUE': 'Martinique',\n",
    "    'NETHERLANDS ANTILLES': 'Netherlands Antilles',\n",
    "    'NORTHERN MARIANA ISLANDS': 'Northern Mariana Islands',\n",
    "    'FEDERATED STATES OF MICRONESIA': 'Micronesia',\n",
    "    'MICRONESIA': 'Micronesia',\n",
    "    'FALKLAND ISLANDS': 'Falkland Islands',\n",
    "    'GIBRALTAR': 'Gibraltar',\n",
    "    'SAUDI ARABIA': 'Saudi Arabia',\n",
    "    'SINGAPORE': 'Singapore',\n",
    "    'SENEGAL': 'Senegal',\n",
    "    'SOMALIA': 'Somalia',\n",
    "    'SOUTH KOREA': 'South Korea',\n",
    "    'NORTH KOREA': 'North Korea',\n",
    "    'RUSSIA': 'Russia',\n",
    "    'GREECE': 'Greece',\n",
    "    'TUNISIA': 'Tunisia',\n",
    "    'TURKEY': 'Turkey',\n",
    "    'IRAN': 'Iran',\n",
    "    'IRAQ': 'Iraq',\n",
    "    'KUWAIT': 'Kuwait',\n",
    "    'LEBANON': 'Lebanon',\n",
    "    'SYRIA': 'Syria',\n",
    "    'AFRICA': 'Africa',\n",
    "    'Coast of AFRICA': 'Africa',\n",
    "    'GEORGIA': 'Georgia',\n",
    "    'GHANA': 'Ghana',\n",
    "    'GUINEA': 'Guinea',\n",
    "    'NAMIBIA': 'Namibia',\n",
    "    'TANZANIA': 'Tanzania',\n",
    "    'ALGERIA': 'Algeria',\n",
    "    'DJIBOUTI': 'Djibouti',\n",
    "    'EQUATORIAL GUINEA / CAMEROON': 'Equatorial Guinea',\n",
    "    'WEST INDIES': 'Caribbean',\n",
    "    'BRITISH ISLES': 'United Kingdom',\n",
    "    'BRITISH WEST INDIES': 'Caribbean',\n",
    "    'ST HELENA, British overseas territory': 'Saint Helena',\n",
    "    'NORWAY': 'Norway',\n",
    "    'ICELAND': 'Iceland',\n",
    "    'GABON': 'Gabon',\n",
    "    'MAYOTTE': 'Mayotte',\n",
    "    'SWEDEN': 'Sweden',\n",
    "    'SLOVENIA': 'Slovenia',\n",
    "    'CURACAO': 'Curaçao',\n",
    "    'HAITI': 'Haiti',\n",
    "    'GUATEMALA': 'Guatemala',\n",
    "    'NICARAGUA': 'Nicaragua',\n",
    "    'NICARAGUA ': 'Nicaragua',\n",
    "    'HONDURAS': 'Honduras',\n",
    "    'EL SALVADOR': 'El Salvador',\n",
    "    'COSTA RICA': 'Costa Rica',\n",
    "    'PANAMA': 'Panama',\n",
    "    'BARBADOS': 'Barbados',\n",
    "    'ARUBA': 'Aruba',\n",
    "    'GRAND CAYMAN': 'Cayman Islands',\n",
    "    'CAYMAN ISLANDS': 'Cayman Islands',\n",
    "    'SAINT LUCIA': 'Saint Lucia',\n",
    "    'USA': 'United States', \n",
    "    'Usa': 'United States'\n",
    "}"
   ]
  },
  {
   "cell_type": "code",
   "execution_count": 156,
   "metadata": {},
   "outputs": [],
   "source": [
    "df['Country'] = df['Country'].replace(update_country).fillna('Unknown')"
   ]
  },
  {
   "cell_type": "code",
   "execution_count": 157,
   "metadata": {},
   "outputs": [
    {
     "data": {
      "text/plain": [
       "array(['Turks and Caicos', 'Australia', 'United States', 'New Caledonia',\n",
       "       'Egypt', 'Thailand', 'New Zealand', 'Maldives', 'Hawaii',\n",
       "       'Honduras', 'Morocco', 'Jamaica', 'Belize', 'Maldive Islands',\n",
       "       'French Polynesia', 'Tobago', 'Bahamas', 'India',\n",
       "       'Trinidad and Tobago', 'South Africa', 'Mexico', 'Philippines',\n",
       "       'Coral Sea', 'Spain', 'PORTUGAL', 'SAMOA', 'Colombia', 'Ecuador',\n",
       "       'Cuba', 'Brazil', 'Seychelles', 'Argentina', 'Fiji',\n",
       "       'United Kingdom', 'Japan', 'Indonesia', 'Costa Rica',\n",
       "       'British Overseas Territory', 'Canada', 'Jordan',\n",
       "       'Saint Kitts and Nevis', 'Saint Martin', 'Papua New Guinea',\n",
       "       'Reunion', 'Israel', 'China', 'Ireland', 'Italy', 'Malaysia',\n",
       "       'Libya', 'Unknown', 'MAURITIUS', 'Solomon Islands', 'Saint Helena',\n",
       "       'COMOROS', 'UNITED ARAB EMIRATES', 'CAPE VERDE',\n",
       "       'Dominican Republic', 'Cayman Islands', 'Aruba', 'MOZAMBIQUE',\n",
       "       'PUERTO RICO', 'Atlantic Ocean', 'Greece', 'FRANCE', 'Kiribati',\n",
       "       'DIEGO GARCIA', 'Taiwan', 'PALESTINIAN TERRITORIES', 'GUAM',\n",
       "       'NIGERIA', 'Tonga', 'CROATIA', 'Saudi Arabia', 'Chile', 'ANTIGUA',\n",
       "       'KENYA', 'Russia', 'United Arab Emirates', 'AZORES', 'South Korea',\n",
       "       'Malta', 'Vietnam', 'MADAGASCAR', 'Panama', 'Somalia', 'NEVIS',\n",
       "       'BRITISH VIRGIN ISLANDS', 'Norway', 'Senegal', 'YEMEN',\n",
       "       'Gulf of Aden', 'Sierra Leone', 'LIBERIA', 'VANUATU', 'Venezuela',\n",
       "       'Sri Lanka', 'URUGUAY', 'Micronesia', 'Caribbean Sea', 'OKINAWA',\n",
       "       'Tanzania', 'MARSHALL ISLANDS', 'EGYPT / ISRAEL',\n",
       "       'NORTHERN ARABIAN SEA', 'Hong Kong', 'El Salvador', 'ANGOLA',\n",
       "       'BERMUDA', 'MONTENEGRO', 'Iran', 'Tunisia', 'Namibia',\n",
       "       'North Atlantic Ocean', 'South China Sea', 'Bangladesh', 'Palau',\n",
       "       'WESTERN SAMOA', 'Pacific Ocean', 'GRENADA', 'Iraq', 'Turkey',\n",
       "       'Singapore', 'NEW BRITAIN', 'SUDAN', 'JOHNSTON ISLAND',\n",
       "       'South Pacific Ocean', 'NEW GUINEA', 'Red Sea',\n",
       "       'North Pacific Ocean', 'Mid Atlantic Ocean', 'ADMIRALTY ISLANDS',\n",
       "       'Caribbean', 'South Atlantic Ocean', 'Persian Gulf', 'NORTH SEA',\n",
       "       'Nicaragua', 'AMERICAN SAMOA', 'ANDAMAN / NICOBAR ISLANDAS',\n",
       "       'Gabon', 'Mayotte', 'THE BALKANS', 'SUDAN?', 'Martinique',\n",
       "       'Indian Ocean', 'Guatemala', 'Netherlands Antilles',\n",
       "       'Northern Mariana Islands', 'IRAN / IRAQ', 'JAVA', 'SIERRA LEONE',\n",
       "       ' PHILIPPINES', 'CENTRAL PACIFIC', 'SOLOMON ISLANDS / VANUATU',\n",
       "       'SOUTHWEST PACIFIC OCEAN', 'Bay of Bengal', 'MID-PACIFC OCEAN',\n",
       "       'Slovenia', 'Curaçao', 'Iceland', 'ITALY / CROATIA', 'Barbados',\n",
       "       'MONACO', 'GUYANA', 'Haiti', 'SAN DOMINGO', 'Kuwait', 'YEMEN ',\n",
       "       'Falkland Islands', 'CRETE', 'CYPRUS', 'EGYPT ', 'Myanmar',\n",
       "       'Lebanon', 'PARAGUAY', 'BRITISH NEW GUINEA', 'OCEAN', 'Georgia',\n",
       "       'Syria', 'TUVALU', 'Guinea', 'ANDAMAN ISLANDS',\n",
       "       'Equatorial Guinea', 'Cook Islands', 'TOBAGO', 'Peru', 'Africa',\n",
       "       'Algeria', 'TASMAN SEA', 'Ghana', 'GREENLAND', 'MEDITERRANEAN SEA',\n",
       "       'Sweden', 'ROATAN', 'Between PORTUGAL & INDIA', 'Djibouti',\n",
       "       'BAHREIN', 'KOREA', 'ASIA?'], dtype=object)"
      ]
     },
     "execution_count": 157,
     "metadata": {},
     "output_type": "execute_result"
    }
   ],
   "source": [
    "df['Country'].unique()"
   ]
  },
  {
   "cell_type": "code",
   "execution_count": 158,
   "metadata": {},
   "outputs": [
    {
     "name": "stdout",
     "output_type": "stream",
     "text": [
      "['Turks And Caicos' 'Australia' 'United States' 'New Caledonia' 'Egypt'\n",
      " 'Thailand' 'New Zealand' 'Maldives' 'Hawaii' 'Honduras' 'Morocco'\n",
      " 'Jamaica' 'Belize' 'Maldive Islands' 'French Polynesia' 'Tobago'\n",
      " 'Bahamas' 'India' 'Trinidad And Tobago' 'South Africa' 'Mexico'\n",
      " 'Philippines' 'Coral Sea' 'Spain' 'Portugal' 'Samoa' 'Colombia' 'Ecuador'\n",
      " 'Cuba' 'Brazil' 'Seychelles' 'Argentina' 'Fiji' 'United Kingdom' 'Japan'\n",
      " 'Indonesia' 'Costa Rica' 'British Overseas Territory' 'Canada' 'Jordan'\n",
      " 'Saint Kitts And Nevis' 'Saint Martin' 'Papua New Guinea' 'Reunion'\n",
      " 'Israel' 'China' 'Ireland' 'Italy' 'Malaysia' 'Libya' 'Unknown'\n",
      " 'Mauritius' 'Solomon Islands' 'Saint Helena' 'Comoros'\n",
      " 'United Arab Emirates' 'Cape Verde' 'Dominican Republic' 'Cayman Islands'\n",
      " 'Aruba' 'Mozambique' 'Puerto Rico' 'Atlantic Ocean' 'Greece' 'France'\n",
      " 'Kiribati' 'Diego Garcia' 'Taiwan' 'Palestinian Territories' 'Guam'\n",
      " 'Nigeria' 'Tonga' 'Croatia' 'Saudi Arabia' 'Chile' 'Antigua' 'Kenya'\n",
      " 'Russia' 'Azores' 'South Korea' 'Malta' 'Vietnam' 'Madagascar' 'Panama'\n",
      " 'Somalia' 'Nevis' 'British Virgin Islands' 'Norway' 'Senegal' 'Yemen'\n",
      " 'Gulf Of Aden' 'Sierra Leone' 'Liberia' 'Vanuatu' 'Venezuela' 'Sri Lanka'\n",
      " 'Uruguay' 'Micronesia' 'Caribbean Sea' 'Okinawa' 'Tanzania'\n",
      " 'Marshall Islands' 'Egypt  Israel' 'Northern Arabian Sea' 'Hong Kong'\n",
      " 'El Salvador' 'Angola' 'Bermuda' 'Montenegro' 'Iran' 'Tunisia' 'Namibia'\n",
      " 'North Atlantic Ocean' 'South China Sea' 'Bangladesh' 'Palau'\n",
      " 'Western Samoa' 'Pacific Ocean' 'Grenada' 'Iraq' 'Turkey' 'Singapore'\n",
      " 'New Britain' 'Sudan' 'Johnston Island' 'South Pacific Ocean'\n",
      " 'New Guinea' 'Red Sea' 'North Pacific Ocean' 'Mid Atlantic Ocean'\n",
      " 'Admiralty Islands' 'Caribbean' 'South Atlantic Ocean' 'Persian Gulf'\n",
      " 'North Sea' 'Nicaragua' 'American Samoa' 'Andaman  Nicobar Islandas'\n",
      " 'Gabon' 'Mayotte' 'The Balkans' 'Martinique' 'Indian Ocean' 'Guatemala'\n",
      " 'Netherlands Antilles' 'Northern Mariana Islands' 'Iran  Iraq' 'Java'\n",
      " 'Central Pacific' 'Solomon Islands  Vanuatu' 'Southwest Pacific Ocean'\n",
      " 'Bay Of Bengal' 'MidPacifc Ocean' 'Slovenia' 'Curaao' 'Iceland'\n",
      " 'Italy  Croatia' 'Barbados' 'Monaco' 'Guyana' 'Haiti' 'San Domingo'\n",
      " 'Kuwait' 'Falkland Islands' 'Crete' 'Cyprus' 'Myanmar' 'Lebanon'\n",
      " 'Paraguay' 'British New Guinea' 'Ocean' 'Georgia' 'Syria' 'Tuvalu'\n",
      " 'Guinea' 'Andaman Islands' 'Equatorial Guinea' 'Cook Islands' 'Peru'\n",
      " 'Africa' 'Algeria' 'Tasman Sea' 'Ghana' 'Greenland' 'Mediterranean Sea'\n",
      " 'Sweden' 'Roatan' 'Between Portugal  India' 'Djibouti' 'Bahrein' 'Korea'\n",
      " 'Asia']\n"
     ]
    }
   ],
   "source": [
    " #Data Cleaning for the column 'Country', I've tried to use regex \n",
    "df[\"Country\"] = df[\"Country\"].str.strip().str.title()\n",
    "df[\"Country\"] = df[\"Country\"].str.replace(r\"[^a-zA-Z\\s]\", \"\", regex=True)\n",
    "#df[\"Country\"] = df[\"Country\"].map(lambda x: x.upper())\n",
    "df[\"Country\"] = df[\"Country\"].fillna(\"Unknown\")\n",
    "print(df[\"Country\"].unique())"
   ]
  },
  {
   "cell_type": "code",
   "execution_count": 159,
   "metadata": {},
   "outputs": [
    {
     "data": {
      "text/plain": [
       "192"
      ]
     },
     "execution_count": 159,
     "metadata": {},
     "output_type": "execute_result"
    }
   ],
   "source": [
    "unique_country = len(df['Country'].unique())\n",
    "unique_country"
   ]
  },
  {
   "cell_type": "code",
   "execution_count": 160,
   "metadata": {},
   "outputs": [],
   "source": [
    "df[\"Country\"] = df[\"Country\"].replace(update_country) # Reassigning it back to \"Country\""
   ]
  },
  {
   "cell_type": "code",
   "execution_count": 161,
   "metadata": {},
   "outputs": [
    {
     "data": {
      "text/plain": [
       "Country\n",
       "United States       2556\n",
       "Australia           1494\n",
       "South Africa         598\n",
       "New Zealand          146\n",
       "Bahamas              137\n",
       "Papua New Guinea     136\n",
       "Brazil               122\n",
       "Mexico               106\n",
       "Italy                 72\n",
       "Fiji                  70\n",
       "Name: Country, dtype: int64"
      ]
     },
     "execution_count": 161,
     "metadata": {},
     "output_type": "execute_result"
    }
   ],
   "source": [
    "country_group = df.groupby('Country')\n",
    "number_of_attacks = country_group['Country'].count()\n",
    "number_of_attacks = number_of_attacks.sort_values(ascending=False)\n",
    "top_10_attacks = number_of_attacks.head(10)\n",
    "top_10_attacks"
   ]
  },
  {
   "cell_type": "markdown",
   "metadata": {},
   "source": [
    "#### Visualisation, Top 10 Countries of Number of Shark Attacks"
   ]
  },
  {
   "cell_type": "code",
   "execution_count": 164,
   "metadata": {},
   "outputs": [
    {
     "data": {
      "image/png": "[encoded data removed]",
      "text/plain": [
       "<Figure size 1500x300 with 1 Axes>"
      ]
     },
     "metadata": {},
     "output_type": "display_data"
    }
   ],
   "source": [
    "plt.figure(figsize=(15,3))\n",
    "sns.barplot(x=top_10_attacks.index, y=top_10_attacks, color=\"skyblue\")\n",
    "plt.title(\"Number of Attacks for the top 10 Most Effected Countries.\")\n",
    "plt.ylabel(\"Number of Attakcs\")\n",
    "plt.show()"
   ]
  },
  {
   "cell_type": "markdown",
   "metadata": {},
   "source": [
    "#### Top 10 Areas in The USA with Shark Attacks "
   ]
  },
  {
   "cell_type": "code",
   "execution_count": 163,
   "metadata": {},
   "outputs": [
    {
     "ename": "KeyError",
     "evalue": "'Area'",
     "output_type": "error",
     "traceback": [
      "\u001b[0;31m---------------------------------------------------------------------------\u001b[0m",
      "\u001b[0;31mKeyError\u001b[0m                                  Traceback (most recent call last)",
      "Cell \u001b[0;32mIn[163], line 1\u001b[0m\n\u001b[0;32m----> 1\u001b[0m USA_attacks \u001b[38;5;241m=\u001b[39m df[df\u001b[38;5;241m.\u001b[39mCountry \u001b[38;5;241m==\u001b[39m \u001b[38;5;124m\"\u001b[39m\u001b[38;5;124mUnited States\u001b[39m\u001b[38;5;124m\"\u001b[39m]\u001b[38;5;241m.\u001b[39mgroupby(\u001b[38;5;124m\"\u001b[39m\u001b[38;5;124mArea\u001b[39m\u001b[38;5;124m\"\u001b[39m)[\u001b[38;5;124m\"\u001b[39m\u001b[38;5;124mArea\u001b[39m\u001b[38;5;124m\"\u001b[39m]\u001b[38;5;241m.\u001b[39mcount()\u001b[38;5;241m.\u001b[39msort_values(ascending\u001b[38;5;241m=\u001b[39m\u001b[38;5;28;01mFalse\u001b[39;00m)[:\u001b[38;5;241m10\u001b[39m]\n",
      "File \u001b[0;32m/opt/anaconda3/lib/python3.12/site-packages/pandas/core/frame.py:9183\u001b[0m, in \u001b[0;36mDataFrame.groupby\u001b[0;34m(self, by, axis, level, as_index, sort, group_keys, observed, dropna)\u001b[0m\n\u001b[1;32m   9180\u001b[0m \u001b[38;5;28;01mif\u001b[39;00m level \u001b[38;5;129;01mis\u001b[39;00m \u001b[38;5;28;01mNone\u001b[39;00m \u001b[38;5;129;01mand\u001b[39;00m by \u001b[38;5;129;01mis\u001b[39;00m \u001b[38;5;28;01mNone\u001b[39;00m:\n\u001b[1;32m   9181\u001b[0m     \u001b[38;5;28;01mraise\u001b[39;00m \u001b[38;5;167;01mTypeError\u001b[39;00m(\u001b[38;5;124m\"\u001b[39m\u001b[38;5;124mYou have to supply one of \u001b[39m\u001b[38;5;124m'\u001b[39m\u001b[38;5;124mby\u001b[39m\u001b[38;5;124m'\u001b[39m\u001b[38;5;124m and \u001b[39m\u001b[38;5;124m'\u001b[39m\u001b[38;5;124mlevel\u001b[39m\u001b[38;5;124m'\u001b[39m\u001b[38;5;124m\"\u001b[39m)\n\u001b[0;32m-> 9183\u001b[0m \u001b[38;5;28;01mreturn\u001b[39;00m DataFrameGroupBy(\n\u001b[1;32m   9184\u001b[0m     obj\u001b[38;5;241m=\u001b[39m\u001b[38;5;28mself\u001b[39m,\n\u001b[1;32m   9185\u001b[0m     keys\u001b[38;5;241m=\u001b[39mby,\n\u001b[1;32m   9186\u001b[0m     axis\u001b[38;5;241m=\u001b[39maxis,\n\u001b[1;32m   9187\u001b[0m     level\u001b[38;5;241m=\u001b[39mlevel,\n\u001b[1;32m   9188\u001b[0m     as_index\u001b[38;5;241m=\u001b[39mas_index,\n\u001b[1;32m   9189\u001b[0m     sort\u001b[38;5;241m=\u001b[39msort,\n\u001b[1;32m   9190\u001b[0m     group_keys\u001b[38;5;241m=\u001b[39mgroup_keys,\n\u001b[1;32m   9191\u001b[0m     observed\u001b[38;5;241m=\u001b[39mobserved,\n\u001b[1;32m   9192\u001b[0m     dropna\u001b[38;5;241m=\u001b[39mdropna,\n\u001b[1;32m   9193\u001b[0m )\n",
      "File \u001b[0;32m/opt/anaconda3/lib/python3.12/site-packages/pandas/core/groupby/groupby.py:1329\u001b[0m, in \u001b[0;36mGroupBy.__init__\u001b[0;34m(self, obj, keys, axis, level, grouper, exclusions, selection, as_index, sort, group_keys, observed, dropna)\u001b[0m\n\u001b[1;32m   1326\u001b[0m \u001b[38;5;28mself\u001b[39m\u001b[38;5;241m.\u001b[39mdropna \u001b[38;5;241m=\u001b[39m dropna\n\u001b[1;32m   1328\u001b[0m \u001b[38;5;28;01mif\u001b[39;00m grouper \u001b[38;5;129;01mis\u001b[39;00m \u001b[38;5;28;01mNone\u001b[39;00m:\n\u001b[0;32m-> 1329\u001b[0m     grouper, exclusions, obj \u001b[38;5;241m=\u001b[39m get_grouper(\n\u001b[1;32m   1330\u001b[0m         obj,\n\u001b[1;32m   1331\u001b[0m         keys,\n\u001b[1;32m   1332\u001b[0m         axis\u001b[38;5;241m=\u001b[39maxis,\n\u001b[1;32m   1333\u001b[0m         level\u001b[38;5;241m=\u001b[39mlevel,\n\u001b[1;32m   1334\u001b[0m         sort\u001b[38;5;241m=\u001b[39msort,\n\u001b[1;32m   1335\u001b[0m         observed\u001b[38;5;241m=\u001b[39m\u001b[38;5;28;01mFalse\u001b[39;00m \u001b[38;5;28;01mif\u001b[39;00m observed \u001b[38;5;129;01mis\u001b[39;00m lib\u001b[38;5;241m.\u001b[39mno_default \u001b[38;5;28;01melse\u001b[39;00m observed,\n\u001b[1;32m   1336\u001b[0m         dropna\u001b[38;5;241m=\u001b[39m\u001b[38;5;28mself\u001b[39m\u001b[38;5;241m.\u001b[39mdropna,\n\u001b[1;32m   1337\u001b[0m     )\n\u001b[1;32m   1339\u001b[0m \u001b[38;5;28;01mif\u001b[39;00m observed \u001b[38;5;129;01mis\u001b[39;00m lib\u001b[38;5;241m.\u001b[39mno_default:\n\u001b[1;32m   1340\u001b[0m     \u001b[38;5;28;01mif\u001b[39;00m \u001b[38;5;28many\u001b[39m(ping\u001b[38;5;241m.\u001b[39m_passed_categorical \u001b[38;5;28;01mfor\u001b[39;00m ping \u001b[38;5;129;01min\u001b[39;00m grouper\u001b[38;5;241m.\u001b[39mgroupings):\n",
      "File \u001b[0;32m/opt/anaconda3/lib/python3.12/site-packages/pandas/core/groupby/grouper.py:1043\u001b[0m, in \u001b[0;36mget_grouper\u001b[0;34m(obj, key, axis, level, sort, observed, validate, dropna)\u001b[0m\n\u001b[1;32m   1041\u001b[0m         in_axis, level, gpr \u001b[38;5;241m=\u001b[39m \u001b[38;5;28;01mFalse\u001b[39;00m, gpr, \u001b[38;5;28;01mNone\u001b[39;00m\n\u001b[1;32m   1042\u001b[0m     \u001b[38;5;28;01melse\u001b[39;00m:\n\u001b[0;32m-> 1043\u001b[0m         \u001b[38;5;28;01mraise\u001b[39;00m \u001b[38;5;167;01mKeyError\u001b[39;00m(gpr)\n\u001b[1;32m   1044\u001b[0m \u001b[38;5;28;01melif\u001b[39;00m \u001b[38;5;28misinstance\u001b[39m(gpr, Grouper) \u001b[38;5;129;01mand\u001b[39;00m gpr\u001b[38;5;241m.\u001b[39mkey \u001b[38;5;129;01mis\u001b[39;00m \u001b[38;5;129;01mnot\u001b[39;00m \u001b[38;5;28;01mNone\u001b[39;00m:\n\u001b[1;32m   1045\u001b[0m     \u001b[38;5;66;03m# Add key to exclusions\u001b[39;00m\n\u001b[1;32m   1046\u001b[0m     exclusions\u001b[38;5;241m.\u001b[39madd(gpr\u001b[38;5;241m.\u001b[39mkey)\n",
      "\u001b[0;31mKeyError\u001b[0m: 'Area'"
     ]
    }
   ],
   "source": [
    "USA_attacks = df[df.Country == \"United States\"].groupby(\"Area\")[\"Area\"].count().sort_values(ascending=False)[:10]"
   ]
  },
  {
   "cell_type": "markdown",
   "metadata": {},
   "source": [
    "#### Visualisation: Gender Distribution of Victims of Shark Attacks."
   ]
  },
  {
   "cell_type": "code",
   "execution_count": 169,
   "metadata": {},
   "outputs": [
    {
     "data": {
      "image/png": "[encoded data removed]",
      "text/plain": [
       "<Figure size 800x800 with 1 Axes>"
      ]
     },
     "metadata": {},
     "output_type": "display_data"
    }
   ],
   "source": [
    "#df[\"Gender\"] = df[\"Gender\"].fillna(\"Unknown\")  # Replace NaN with \"Unknown\"\n",
    "\n",
    "gender_group = df.groupby(\"Gender\")\n",
    "gender_country_group = gender_group[\"Country\"].count()\n",
    "gender_of_injured = gender_country_group.sort_values(ascending=False)\n",
    "gender_of_injured.index = gender_of_injured.index.map({\"M\": \"Male\", \"F\": \"Female\"}).fillna(\"Unknown\")  # Map known values and keep \"Unknown\"\n",
    "\n",
    "plt.figure(figsize=(8, 8))\n",
    "plt.pie(gender_of_injured, labels=gender_of_injured.index, autopct=\"%1.1f%%\", startangle=90, colors=[\"skyblue\", \"lightcoral\", \"beige\"])\n",
    "plt.title(\"Gender Distribution in the Injured\")\n",
    "plt.show()"
   ]
  },
  {
   "cell_type": "markdown",
   "metadata": {},
   "source": [
    "### Data Cleaning for the Column 'Location'"
   ]
  },
  {
   "cell_type": "code",
   "execution_count": null,
   "metadata": {},
   "outputs": [],
   "source": [
    "# Cleaning for location\n",
    "df[\"Location\"] = df[\"Location\"].astype(str)\n",
    "df[\"Location\"] = df[\"Location\"].map(lambda x:x.upper())\n",
    "df[\"Location\"] = df[\"Location\"].fillna(\"Unknown\")\n",
    "df[\"Location\"] = df[\"Location\"].str.strip()\n",
    "df[\"Location\"] = df[\"Location\"].replace({\n",
    "    \"NAN\": \"Unknown\",\n",
    "     \"nan\": \"Unknown\",\n",
    "      \"Nan\": \"Unknown\", \n",
    "})\n",
    "df[\"Location\"] "
   ]
  },
  {
   "cell_type": "markdown",
   "metadata": {},
   "source": [
    "### Visualisation for 'Location'"
   ]
  },
  {
   "cell_type": "code",
   "execution_count": null,
   "metadata": {},
   "outputs": [],
   "source": [
    "# Data Cleaning for the Column 'State'\n",
    "#df[\"State\"] = df[\"State\"].\n",
    "df[\"State\"] = df[\"State\"].fillna(\"Unknown\")\n",
    "df[\"State\"] = df[\"State\"].astype(str)\n",
    "df[\"State\"] = df[\"State\"].str.strip()\n",
    "df[\"State\"] = df[\"State\"].replace({\n",
    "    \"NAN\": \"Unknown\",\n",
    "    \"nan\": \"Unknown\",\n",
    "    \"Nan\": \"Unknown\", \n",
    "    \" \": \"Unknown\",\n",
    "    \"  \": \"Unknown\"\n",
    "})\n",
    "print(df[\"State\"].unique())"
   ]
  },
  {
   "cell_type": "code",
   "execution_count": null,
   "metadata": {},
   "outputs": [],
   "source": [
    "# Data Cleaning for the Column Activity \n",
    "df[\"Activity\"] = df[\"Activity\"].fillna(\"Unknown\")\n",
    "df[\"Activity\"] = df[\"Activity\"].astype(str)\n",
    "df[\"Activity\"] = df[\"Activity\"].str.strip()\n",
    "df[\"Activity\"] = df[\"Activity\"].replace({\n",
    "    \"NAN\": \"Unknown\",\n",
    "     \"nan\": \"Unknown\",\n",
    "      \"Nan\": \"Unknown\",\n",
    "})\n",
    "# Needs more cleaning "
   ]
  },
  {
   "cell_type": "markdown",
   "metadata": {},
   "source": [
    "### Data Cleaning for the Column 'Activity'"
   ]
  },
  {
   "cell_type": "code",
   "execution_count": null,
   "metadata": {},
   "outputs": [],
   "source": [
    "df[\"Activity\"].describe()"
   ]
  },
  {
   "cell_type": "code",
   "execution_count": null,
   "metadata": {},
   "outputs": [],
   "source": [
    "df['Activity'].unique()[:100]"
   ]
  },
  {
   "cell_type": "code",
   "execution_count": null,
   "metadata": {},
   "outputs": [],
   "source": [
    "len(df['Activity'].unique())"
   ]
  },
  {
   "cell_type": "code",
   "execution_count": null,
   "metadata": {},
   "outputs": [],
   "source": [
    "# Data Cleaning for the Column 'Name' \n",
    "df[\"Activity\"] = df[\"Activity\"].fillna(\"Unknown\")\n",
    "df[\"Activity\"] = df[\"Activity\"].astype(str)\n",
    "df[\"Activity\"] = df[\"Activity\"].str.strip()\n",
    "df[\"Activity\"] = df[\"Activity\"].replace({\n",
    "    \"NAN\": \"Unknown\",\n",
    "     \"nan\": \"Unknown\",\n",
    "      \"Nan\": \"Unknown\"\n",
    "})\n",
    "df[\"Activity\"]\n",
    "# Needs to be furthered cleaned "
   ]
  },
  {
   "cell_type": "code",
   "execution_count": null,
   "metadata": {},
   "outputs": [],
   "source": [
    "def clean_activity(activity): \n",
    "    if not isinstance(activity, str):  # Handle NaN values\n",
    "        return \"Other/Unknown\"\n",
    "    \n",
    "    activity = activity.strip().lower()  # Normalize text\n",
    "    \n",
    "    pattern = r\"(?:\\b\\w+\\s+)*?\\b(surfing|swimming|fishing|kite|paddle(?:boarding)?|snorkeling|Shark|diving|kayaking|bathing|bodyboarding|spearfishing|boogie boarding|wading|floating|scuba diving|free diving|wakeboarding|windsurfing|sailing|jet skiing|canoeing|rafting|water skiing)(?:\\s+\\w+)*?\\b\"\n",
    "    \n",
    "    match = re.search(pattern, activity, re.IGNORECASE)  # Applying regex\n",
    "    \n",
    "    if match:\n",
    "        return match.group(1).title()  # Capitalize the matched activity\n",
    "    else: \n",
    "        return \"Other/Unknown\"\n",
    "\n",
    "# Apply function to the dataframe\n",
    "df['Cleaned_Activity'] = df['Activity'].apply(clean_activity)\n",
    "\n",
    "# Check the results\n",
    "print(df[\"Cleaned_Activity\"].value_counts())  # Count occurrences of each category\n",
    "print(df[\"Cleaned_Activity\"].tail())  # Displaying last few rows"
   ]
  },
  {
   "cell_type": "code",
   "execution_count": null,
   "metadata": {},
   "outputs": [],
   "source": [
    "df['Cleaned_Activity'].unique()[:100]"
   ]
  },
  {
   "cell_type": "code",
   "execution_count": null,
   "metadata": {},
   "outputs": [],
   "source": [
    "df[\"Cleaned_Activity\"] = df[\"Cleaned_Activity\"].replace({\"Kite\": \"Kite Surfing\", \"Shark\": \"Activity with Shark\"})"
   ]
  },
  {
   "cell_type": "code",
   "execution_count": null,
   "metadata": {},
   "outputs": [],
   "source": [
    "df[\"Cleaned_Activity\"].value_counts()"
   ]
  },
  {
   "cell_type": "markdown",
   "metadata": {},
   "source": [
    "### Data Cleaning for the Column 'Age'"
   ]
  },
  {
   "cell_type": "code",
   "execution_count": null,
   "metadata": {},
   "outputs": [],
   "source": [
    "# Data Cleaning for the Column Age\n",
    "df[\"Age\"] = pd.to_numeric(df[\"Age\"], errors=\"coerce\")\n",
    "df[\"Age\"].describe()"
   ]
  },
  {
   "cell_type": "code",
   "execution_count": null,
   "metadata": {},
   "outputs": [],
   "source": [
    "df[\"Age\"].describe()"
   ]
  },
  {
   "cell_type": "code",
   "execution_count": null,
   "metadata": {},
   "outputs": [],
   "source": [
    "# Since the Mean is 28.104841, I am going to replace it with all the null values, without greatily altering the distribution of the \"Age\" Column. \n",
    "df[\"Age\"] = df[\"Age\"].fillna(28.104841)\n",
    "df[\"Age\"]"
   ]
  },
  {
   "cell_type": "markdown",
   "metadata": {},
   "source": [
    "#### Visualtisation for Data & Age"
   ]
  },
  {
   "cell_type": "code",
   "execution_count": null,
   "metadata": {},
   "outputs": [],
   "source": [
    "df.plot(kind='scatter', x='Age', y='Cleaned_Activity', figsize=(6,6))"
   ]
  },
  {
   "cell_type": "code",
   "execution_count": null,
   "metadata": {},
   "outputs": [],
   "source": [
    "# I am graphicing here the Data & Age\n",
    "fix, ax = plt.subplots(figsize=(8,6))\n",
    "ax = sns.distplot(df[\"Age\"],\n",
    "ax = ax, \n",
    "hist_kws = {\"alpha\": 0.6, \"color\": \"#517AE9\"}, \n",
    "kde=False, bins=20)\n",
    "plt.xlabel(\"Age of the Victim in Years\")\n",
    "plt.ylabel(\"Count\")\n",
    "plt.title(\"Age Distribution\")"
   ]
  },
  {
   "cell_type": "code",
   "execution_count": null,
   "metadata": {},
   "outputs": [],
   "source": [
    "#sns.pairplot(df)\n",
    "#plt.suptitle(\"Relationships between Age, Year and Original Order\")"
   ]
  },
  {
   "cell_type": "markdown",
   "metadata": {},
   "source": [
    "### Fatal Rate of Shark Attacks "
   ]
  },
  {
   "cell_type": "code",
   "execution_count": null,
   "metadata": {},
   "outputs": [],
   "source": [
    "df[\"Fatal\"].unique()"
   ]
  },
  {
   "cell_type": "code",
   "execution_count": null,
   "metadata": {},
   "outputs": [],
   "source": [
    "df[\"Fatal\"] = df[\"Fatal\"].fillna(\"Unknown\").str.strip().astype(str)"
   ]
  },
  {
   "cell_type": "code",
   "execution_count": null,
   "metadata": {},
   "outputs": [],
   "source": [
    "# Data Cleaning for The Column Fatal\n",
    "df[\"Fatal\"] = df[\"Fatal\"].fillna(\"Unknown\")\n",
    "df[\"Fatal\"] = df[\"Fatal\"].str.strip()\n",
    "df[\"Fatal\"].value_counts(dropna=False)\n",
    "df[\"Fatal\"] = df[\"Fatal\"].astype(str)\n",
    "df[\"Fatal\"] = df[\"Fatal\"].replace({\n",
    "    \"Nan\": \"Unknown\",\n",
    "    \" N\": \"NO\",\n",
    "    \"UNKNOWN\": \"Unknown\",\n",
    "    \"F\": \"Unknown\",\\\n",
    "    \"M\": \"NO\",\n",
    "    \"n\": \"NO\",\n",
    "    \"N\": \"NO\",\n",
    "    \"Nq\": \"NO\",\n",
    "    \"Y\": \"YES\",\n",
    "    2017: \"Unknown\",\n",
    "    \"2017 \": \"Unknown\",\n",
    "     \"Y x 2\": \"Yes\",\n",
    "     \"y\": \"Yes\",\n",
    "     \"N   \": \"NO\",\n",
    "})\n",
    "#df[\"Fatal\"] = df[\"Fatal\"]\n",
    "#df[\"Fatal\"] = df[\"Fatal\"]\n",
    "#df[\"Fatal\"] = df[\"Fatal\"]\n",
    "df[\"Fatal\"].unique()"
   ]
  },
  {
   "cell_type": "code",
   "execution_count": null,
   "metadata": {},
   "outputs": [
    {
     "data": {
      "text/html": [
       "<div>\n",
       "<style scoped>\n",
       "    .dataframe tbody tr th:only-of-type {\n",
       "        vertical-align: middle;\n",
       "    }\n",
       "\n",
       "    .dataframe tbody tr th {\n",
       "        vertical-align: top;\n",
       "    }\n",
       "\n",
       "    .dataframe thead th {\n",
       "        text-align: right;\n",
       "    }\n",
       "</style>\n",
       "<table border=\"1\" class=\"dataframe\">\n",
       "  <thead>\n",
       "    <tr style=\"text-align: right;\">\n",
       "      <th></th>\n",
       "      <th>Date</th>\n",
       "      <th>Year</th>\n",
       "      <th>Type</th>\n",
       "      <th>Country</th>\n",
       "      <th>State</th>\n",
       "      <th>Location</th>\n",
       "      <th>Activity</th>\n",
       "      <th>Name</th>\n",
       "      <th>Gender</th>\n",
       "      <th>Age</th>\n",
       "      <th>...</th>\n",
       "      <th>Species</th>\n",
       "      <th>Source</th>\n",
       "      <th>PDF</th>\n",
       "      <th>Href_formula</th>\n",
       "      <th>Href</th>\n",
       "      <th>Case_Number</th>\n",
       "      <th>Case_Number_1</th>\n",
       "      <th>Original_Order</th>\n",
       "      <th>Unnamed_21</th>\n",
       "      <th>Unnamed_22</th>\n",
       "    </tr>\n",
       "    <tr>\n",
       "      <th>Fatal</th>\n",
       "      <th></th>\n",
       "      <th></th>\n",
       "      <th></th>\n",
       "      <th></th>\n",
       "      <th></th>\n",
       "      <th></th>\n",
       "      <th></th>\n",
       "      <th></th>\n",
       "      <th></th>\n",
       "      <th></th>\n",
       "      <th></th>\n",
       "      <th></th>\n",
       "      <th></th>\n",
       "      <th></th>\n",
       "      <th></th>\n",
       "      <th></th>\n",
       "      <th></th>\n",
       "      <th></th>\n",
       "      <th></th>\n",
       "      <th></th>\n",
       "      <th></th>\n",
       "    </tr>\n",
       "  </thead>\n",
       "  <tbody>\n",
       "    <tr>\n",
       "      <th>2017</th>\n",
       "      <td>1</td>\n",
       "      <td>1</td>\n",
       "      <td>1</td>\n",
       "      <td>1</td>\n",
       "      <td>1</td>\n",
       "      <td>1</td>\n",
       "      <td>1</td>\n",
       "      <td>1</td>\n",
       "      <td>1</td>\n",
       "      <td>1</td>\n",
       "      <td>...</td>\n",
       "      <td>1</td>\n",
       "      <td>1</td>\n",
       "      <td>1</td>\n",
       "      <td>1</td>\n",
       "      <td>1</td>\n",
       "      <td>1</td>\n",
       "      <td>1</td>\n",
       "      <td>1</td>\n",
       "      <td>0</td>\n",
       "      <td>0</td>\n",
       "    </tr>\n",
       "    <tr>\n",
       "      <th>N</th>\n",
       "      <td>7</td>\n",
       "      <td>7</td>\n",
       "      <td>7</td>\n",
       "      <td>7</td>\n",
       "      <td>7</td>\n",
       "      <td>7</td>\n",
       "      <td>5</td>\n",
       "      <td>6</td>\n",
       "      <td>7</td>\n",
       "      <td>6</td>\n",
       "      <td>...</td>\n",
       "      <td>5</td>\n",
       "      <td>7</td>\n",
       "      <td>7</td>\n",
       "      <td>7</td>\n",
       "      <td>7</td>\n",
       "      <td>7</td>\n",
       "      <td>7</td>\n",
       "      <td>7</td>\n",
       "      <td>0</td>\n",
       "      <td>0</td>\n",
       "    </tr>\n",
       "    <tr>\n",
       "      <th>F</th>\n",
       "      <td>4</td>\n",
       "      <td>4</td>\n",
       "      <td>4</td>\n",
       "      <td>4</td>\n",
       "      <td>3</td>\n",
       "      <td>3</td>\n",
       "      <td>4</td>\n",
       "      <td>3</td>\n",
       "      <td>4</td>\n",
       "      <td>4</td>\n",
       "      <td>...</td>\n",
       "      <td>3</td>\n",
       "      <td>4</td>\n",
       "      <td>2</td>\n",
       "      <td>2</td>\n",
       "      <td>2</td>\n",
       "      <td>2</td>\n",
       "      <td>2</td>\n",
       "      <td>2</td>\n",
       "      <td>0</td>\n",
       "      <td>0</td>\n",
       "    </tr>\n",
       "    <tr>\n",
       "      <th>M</th>\n",
       "      <td>3</td>\n",
       "      <td>3</td>\n",
       "      <td>2</td>\n",
       "      <td>3</td>\n",
       "      <td>3</td>\n",
       "      <td>3</td>\n",
       "      <td>2</td>\n",
       "      <td>3</td>\n",
       "      <td>3</td>\n",
       "      <td>1</td>\n",
       "      <td>...</td>\n",
       "      <td>1</td>\n",
       "      <td>3</td>\n",
       "      <td>2</td>\n",
       "      <td>2</td>\n",
       "      <td>2</td>\n",
       "      <td>2</td>\n",
       "      <td>2</td>\n",
       "      <td>2</td>\n",
       "      <td>0</td>\n",
       "      <td>0</td>\n",
       "    </tr>\n",
       "    <tr>\n",
       "      <th>N</th>\n",
       "      <td>4873</td>\n",
       "      <td>4873</td>\n",
       "      <td>4864</td>\n",
       "      <td>4854</td>\n",
       "      <td>4646</td>\n",
       "      <td>4574</td>\n",
       "      <td>4565</td>\n",
       "      <td>4801</td>\n",
       "      <td>4514</td>\n",
       "      <td>3045</td>\n",
       "      <td>...</td>\n",
       "      <td>2836</td>\n",
       "      <td>4860</td>\n",
       "      <td>4717</td>\n",
       "      <td>4713</td>\n",
       "      <td>4714</td>\n",
       "      <td>4716</td>\n",
       "      <td>4715</td>\n",
       "      <td>4717</td>\n",
       "      <td>1</td>\n",
       "      <td>2</td>\n",
       "    </tr>\n",
       "    <tr>\n",
       "      <th>N</th>\n",
       "      <td>1</td>\n",
       "      <td>1</td>\n",
       "      <td>1</td>\n",
       "      <td>1</td>\n",
       "      <td>1</td>\n",
       "      <td>1</td>\n",
       "      <td>0</td>\n",
       "      <td>1</td>\n",
       "      <td>0</td>\n",
       "      <td>0</td>\n",
       "      <td>...</td>\n",
       "      <td>0</td>\n",
       "      <td>1</td>\n",
       "      <td>1</td>\n",
       "      <td>1</td>\n",
       "      <td>1</td>\n",
       "      <td>1</td>\n",
       "      <td>1</td>\n",
       "      <td>1</td>\n",
       "      <td>0</td>\n",
       "      <td>0</td>\n",
       "    </tr>\n",
       "    <tr>\n",
       "      <th>Nq</th>\n",
       "      <td>1</td>\n",
       "      <td>1</td>\n",
       "      <td>1</td>\n",
       "      <td>1</td>\n",
       "      <td>1</td>\n",
       "      <td>1</td>\n",
       "      <td>1</td>\n",
       "      <td>1</td>\n",
       "      <td>1</td>\n",
       "      <td>0</td>\n",
       "      <td>...</td>\n",
       "      <td>0</td>\n",
       "      <td>1</td>\n",
       "      <td>1</td>\n",
       "      <td>1</td>\n",
       "      <td>1</td>\n",
       "      <td>1</td>\n",
       "      <td>1</td>\n",
       "      <td>1</td>\n",
       "      <td>0</td>\n",
       "      <td>0</td>\n",
       "    </tr>\n",
       "    <tr>\n",
       "      <th>UNKNOWN</th>\n",
       "      <td>71</td>\n",
       "      <td>71</td>\n",
       "      <td>71</td>\n",
       "      <td>69</td>\n",
       "      <td>64</td>\n",
       "      <td>60</td>\n",
       "      <td>36</td>\n",
       "      <td>63</td>\n",
       "      <td>40</td>\n",
       "      <td>10</td>\n",
       "      <td>...</td>\n",
       "      <td>17</td>\n",
       "      <td>70</td>\n",
       "      <td>71</td>\n",
       "      <td>71</td>\n",
       "      <td>71</td>\n",
       "      <td>71</td>\n",
       "      <td>71</td>\n",
       "      <td>71</td>\n",
       "      <td>0</td>\n",
       "      <td>0</td>\n",
       "    </tr>\n",
       "    <tr>\n",
       "      <th>Y</th>\n",
       "      <td>1469</td>\n",
       "      <td>1468</td>\n",
       "      <td>1465</td>\n",
       "      <td>1445</td>\n",
       "      <td>1275</td>\n",
       "      <td>1274</td>\n",
       "      <td>1359</td>\n",
       "      <td>1391</td>\n",
       "      <td>1362</td>\n",
       "      <td>694</td>\n",
       "      <td>...</td>\n",
       "      <td>473</td>\n",
       "      <td>1469</td>\n",
       "      <td>1438</td>\n",
       "      <td>1437</td>\n",
       "      <td>1438</td>\n",
       "      <td>1438</td>\n",
       "      <td>1438</td>\n",
       "      <td>1438</td>\n",
       "      <td>0</td>\n",
       "      <td>0</td>\n",
       "    </tr>\n",
       "    <tr>\n",
       "      <th>Y x 2</th>\n",
       "      <td>1</td>\n",
       "      <td>1</td>\n",
       "      <td>1</td>\n",
       "      <td>1</td>\n",
       "      <td>1</td>\n",
       "      <td>0</td>\n",
       "      <td>1</td>\n",
       "      <td>1</td>\n",
       "      <td>1</td>\n",
       "      <td>0</td>\n",
       "      <td>...</td>\n",
       "      <td>0</td>\n",
       "      <td>1</td>\n",
       "      <td>1</td>\n",
       "      <td>1</td>\n",
       "      <td>1</td>\n",
       "      <td>1</td>\n",
       "      <td>1</td>\n",
       "      <td>1</td>\n",
       "      <td>0</td>\n",
       "      <td>0</td>\n",
       "    </tr>\n",
       "    <tr>\n",
       "      <th>n</th>\n",
       "      <td>1</td>\n",
       "      <td>1</td>\n",
       "      <td>1</td>\n",
       "      <td>1</td>\n",
       "      <td>1</td>\n",
       "      <td>1</td>\n",
       "      <td>1</td>\n",
       "      <td>1</td>\n",
       "      <td>1</td>\n",
       "      <td>1</td>\n",
       "      <td>...</td>\n",
       "      <td>0</td>\n",
       "      <td>1</td>\n",
       "      <td>1</td>\n",
       "      <td>1</td>\n",
       "      <td>1</td>\n",
       "      <td>1</td>\n",
       "      <td>1</td>\n",
       "      <td>1</td>\n",
       "      <td>0</td>\n",
       "      <td>0</td>\n",
       "    </tr>\n",
       "    <tr>\n",
       "      <th>y</th>\n",
       "      <td>1</td>\n",
       "      <td>1</td>\n",
       "      <td>1</td>\n",
       "      <td>1</td>\n",
       "      <td>0</td>\n",
       "      <td>1</td>\n",
       "      <td>1</td>\n",
       "      <td>1</td>\n",
       "      <td>1</td>\n",
       "      <td>0</td>\n",
       "      <td>...</td>\n",
       "      <td>0</td>\n",
       "      <td>1</td>\n",
       "      <td>1</td>\n",
       "      <td>1</td>\n",
       "      <td>1</td>\n",
       "      <td>1</td>\n",
       "      <td>1</td>\n",
       "      <td>1</td>\n",
       "      <td>0</td>\n",
       "      <td>0</td>\n",
       "    </tr>\n",
       "  </tbody>\n",
       "</table>\n",
       "<p>12 rows × 22 columns</p>\n",
       "</div>"
      ],
      "text/plain": [
       "         Date  Year  Type  Country  State  Location  Activity  Name  Gender  \\\n",
       "Fatal                                                                         \n",
       "2017        1     1     1        1      1         1         1     1       1   \n",
       " N          7     7     7        7      7         7         5     6       7   \n",
       "F           4     4     4        4      3         3         4     3       4   \n",
       "M           3     3     2        3      3         3         2     3       3   \n",
       "N        4873  4873  4864     4854   4646      4574      4565  4801    4514   \n",
       "N           1     1     1        1      1         1         0     1       0   \n",
       "Nq          1     1     1        1      1         1         1     1       1   \n",
       "UNKNOWN    71    71    71       69     64        60        36    63      40   \n",
       "Y        1469  1468  1465     1445   1275      1274      1359  1391    1362   \n",
       "Y x 2       1     1     1        1      1         0         1     1       1   \n",
       "n           1     1     1        1      1         1         1     1       1   \n",
       "y           1     1     1        1      0         1         1     1       1   \n",
       "\n",
       "          Age  ...  Species  Source   PDF  Href_formula  Href  Case_Number  \\\n",
       "Fatal          ...                                                           \n",
       "2017        1  ...        1       1     1             1     1            1   \n",
       " N          6  ...        5       7     7             7     7            7   \n",
       "F           4  ...        3       4     2             2     2            2   \n",
       "M           1  ...        1       3     2             2     2            2   \n",
       "N        3045  ...     2836    4860  4717          4713  4714         4716   \n",
       "N           0  ...        0       1     1             1     1            1   \n",
       "Nq          0  ...        0       1     1             1     1            1   \n",
       "UNKNOWN    10  ...       17      70    71            71    71           71   \n",
       "Y         694  ...      473    1469  1438          1437  1438         1438   \n",
       "Y x 2       0  ...        0       1     1             1     1            1   \n",
       "n           1  ...        0       1     1             1     1            1   \n",
       "y           0  ...        0       1     1             1     1            1   \n",
       "\n",
       "         Case_Number_1  Original_Order  Unnamed_21  Unnamed_22  \n",
       "Fatal                                                           \n",
       "2017                 1               1           0           0  \n",
       " N                   7               7           0           0  \n",
       "F                    2               2           0           0  \n",
       "M                    2               2           0           0  \n",
       "N                 4715            4717           1           2  \n",
       "N                    1               1           0           0  \n",
       "Nq                   1               1           0           0  \n",
       "UNKNOWN             71              71           0           0  \n",
       "Y                 1438            1438           0           0  \n",
       "Y x 2                1               1           0           0  \n",
       "n                    1               1           0           0  \n",
       "y                    1               1           0           0  \n",
       "\n",
       "[12 rows x 22 columns]"
      ]
     },
     "execution_count": 109,
     "metadata": {},
     "output_type": "execute_result"
    }
   ],
   "source": [
    "gender_grp = df.groupby(\"Fatal\")\n",
    "gender_grp.count()"
   ]
  },
  {
   "cell_type": "markdown",
   "metadata": {},
   "source": [
    "#### Visualisation: Fatal Rate of Shark Attacks "
   ]
  },
  {
   "cell_type": "code",
   "execution_count": null,
   "metadata": {},
   "outputs": [
    {
     "data": {
      "image/png": "[encoded data removed]",
      "text/plain": [
       "<Figure size 800x800 with 1 Axes>"
      ]
     },
     "metadata": {},
     "output_type": "display_data"
    }
   ],
   "source": [
    "# Plot Pie Chart Column and COunt of Occurrences \n",
    "\n",
    "# Grouping by Fatal Column and Count Occurrences \n",
    "fatal_counts = df[\"Fatal\"].value_counts()\n",
    "\n",
    "plt.figure(figsize=(8, 8))\n",
    "plt.pie(fatal_counts, labels=fatal_counts.index, autopct=\"%1.1f%%\", startangle=90)\n",
    "plt.title(\"Fatality Rate\")\n",
    "plt.show()"
   ]
  },
  {
   "cell_type": "markdown",
   "metadata": {},
   "source": [
    "#### Fatality Rate by Gender"
   ]
  },
  {
   "cell_type": "code",
   "execution_count": null,
   "metadata": {},
   "outputs": [
    {
     "data": {
      "image/png": "[encoded data removed]",
      "text/plain": [
       "<Figure size 400x500 with 1 Axes>"
      ]
     },
     "metadata": {},
     "output_type": "display_data"
    }
   ],
   "source": [
    "# Group by gender and Fatality Rate\n",
    "gender_fatal_counts = df.groupby([\"Gender\", \"Fatal\"]).size().unstack()\n",
    "\n",
    "# Plot Stacked Bar Chart\n",
    "gender_fatal_counts.plot(kind=\"bar\", stacked=True, figsize=(4, 5))\n",
    "\n",
    "plt.xlabel(\"Gender\")\n",
    "plt.ylabel(\"Count\")\n",
    "plt.title(\"Fatality Rate by Gender\")\n",
    "plt.legend(title=\"Fatality\", labels=gender_fatal_counts.columns)\n",
    "plt.xticks(rotation=0)\n",
    "plt.show()"
   ]
  },
  {
   "cell_type": "code",
   "execution_count": null,
   "metadata": {},
   "outputs": [],
   "source": [
    "df_count = df.groupby(\"Year\")[\"Date\"].count()\n",
    "df_count"
   ]
  },
  {
   "cell_type": "markdown",
   "metadata": {},
   "source": [
    "### Data Cleaning for the Column 'Date'"
   ]
  },
  {
   "cell_type": "code",
   "execution_count": null,
   "metadata": {},
   "outputs": [],
   "source": [
    "df[\"Date\"].value_counts()"
   ]
  },
  {
   "cell_type": "markdown",
   "metadata": {},
   "source": [
    "#### Visualisation for Date"
   ]
  },
  {
   "cell_type": "code",
   "execution_count": null,
   "metadata": {},
   "outputs": [],
   "source": [
    "df_count = df.groupby(\"Year\")[\"Date\"].count()\n",
    "df_count[df_count.index > 1750].plot()"
   ]
  },
  {
   "cell_type": "code",
   "execution_count": null,
   "metadata": {},
   "outputs": [],
   "source": [
    "df_count#.isna().sum()"
   ]
  },
  {
   "cell_type": "code",
   "execution_count": null,
   "metadata": {},
   "outputs": [],
   "source": [
    "df_usa = df[df[\"Country\"] == \"USA\"]\n",
    "df_usa"
   ]
  },
  {
   "cell_type": "code",
   "execution_count": null,
   "metadata": {},
   "outputs": [],
   "source": [
    "#df_count = df.groupby(\"Country\")[\"Year\"].count()\n",
    "#df_count[df_count.index > 1750].plot()"
   ]
  },
  {
   "cell_type": "code",
   "execution_count": null,
   "metadata": {},
   "outputs": [],
   "source": [
    "#df[\"Date\"] = pd.to_datetime(df[\"Date\"]) # Converting Object to dfate \n",
    "set(df[\"Date\"].sample(n=50))"
   ]
  },
  {
   "cell_type": "code",
   "execution_count": null,
   "metadata": {},
   "outputs": [],
   "source": [
    "len(set(df[\"Date\"])) # Too Many Values To go One by One."
   ]
  },
  {
   "cell_type": "code",
   "execution_count": null,
   "metadata": {},
   "outputs": [],
   "source": [
    "#df_usa[\"Date\"].value_counts()"
   ]
  },
  {
   "cell_type": "code",
   "execution_count": null,
   "metadata": {},
   "outputs": [],
   "source": [
    "#pd.to_datetime(df_usa[\"Data_Clean\"])"
   ]
  }
 ],
 "metadata": {
  "kernelspec": {
   "display_name": "base",
   "language": "python",
   "name": "python3"
  },
  "language_info": {
   "codemirror_mode": {
    "name": "ipython",
    "version": 3
   },
   "file_extension": ".py",
   "mimetype": "text/x-python",
   "name": "python",
   "nbconvert_exporter": "python",
   "pygments_lexer": "ipython3",
   "version": "3.12.7"
  }
 },
 "nbformat": 4,
 "nbformat_minor": 4
}
