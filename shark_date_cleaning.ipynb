{
 "cells": [
  {
   "cell_type": "markdown",
   "metadata": {},
   "source": [
    "# Project: Sharktale, SharkTrack\n",
    "## Data Cleaning"
   ]
  },
  {
   "cell_type": "code",
   "execution_count": 2337,
   "metadata": {},
   "outputs": [
    {
     "name": "stdout",
     "output_type": "stream",
     "text": [
      "Requirement already satisfied: xlrd in /opt/anaconda3/lib/python3.12/site-packages (2.0.1)\n"
     ]
    }
   ],
   "source": [
    "!pip install xlrd #!pip install country_converter, keep this here pls"
   ]
  },
  {
   "cell_type": "markdown",
   "metadata": {},
   "source": [
    "### Import of Libraries"
   ]
  },
  {
   "cell_type": "code",
   "execution_count": 2338,
   "metadata": {},
   "outputs": [],
   "source": [
    "import pandas as pd\n",
    "import numpy as np\n",
    "import re\n",
    "import matplotlib.pyplot as plt\n",
    "import seaborn as sns\n",
    "import warnings\n",
    "from IPython.display import display\n",
    "warnings.filterwarnings('ignore')"
   ]
  },
  {
   "cell_type": "markdown",
   "metadata": {},
   "source": [
    "### Loading the Excel Data"
   ]
  },
  {
   "cell_type": "code",
   "execution_count": 2339,
   "metadata": {},
   "outputs": [
    {
     "data": {
      "text/html": [
       "<div>\n",
       "<style scoped>\n",
       "    .dataframe tbody tr th:only-of-type {\n",
       "        vertical-align: middle;\n",
       "    }\n",
       "\n",
       "    .dataframe tbody tr th {\n",
       "        vertical-align: top;\n",
       "    }\n",
       "\n",
       "    .dataframe thead th {\n",
       "        text-align: right;\n",
       "    }\n",
       "</style>\n",
       "<table border=\"1\" class=\"dataframe\">\n",
       "  <thead>\n",
       "    <tr style=\"text-align: right;\">\n",
       "      <th></th>\n",
       "      <th>Date</th>\n",
       "      <th>Year</th>\n",
       "      <th>Type</th>\n",
       "      <th>Country</th>\n",
       "      <th>State</th>\n",
       "      <th>Location</th>\n",
       "      <th>Activity</th>\n",
       "      <th>Name</th>\n",
       "      <th>Sex</th>\n",
       "      <th>Age</th>\n",
       "      <th>...</th>\n",
       "      <th>Species</th>\n",
       "      <th>Source</th>\n",
       "      <th>pdf</th>\n",
       "      <th>href formula</th>\n",
       "      <th>href</th>\n",
       "      <th>Case Number</th>\n",
       "      <th>Case Number.1</th>\n",
       "      <th>original order</th>\n",
       "      <th>Unnamed: 21</th>\n",
       "      <th>Unnamed: 22</th>\n",
       "    </tr>\n",
       "  </thead>\n",
       "  <tbody>\n",
       "    <tr>\n",
       "      <th>0</th>\n",
       "      <td>2025-02-07 00:00:00</td>\n",
       "      <td>2025.0</td>\n",
       "      <td>Unprovoked</td>\n",
       "      <td>Turks and Caicos</td>\n",
       "      <td>NaN</td>\n",
       "      <td>Thompson Cove Beach</td>\n",
       "      <td>Swimming</td>\n",
       "      <td>Unknown</td>\n",
       "      <td>F</td>\n",
       "      <td>55</td>\n",
       "      <td>...</td>\n",
       "      <td>Unknown</td>\n",
       "      <td>Todd Smith: Platform X</td>\n",
       "      <td>NaN</td>\n",
       "      <td>NaN</td>\n",
       "      <td>NaN</td>\n",
       "      <td>NaN</td>\n",
       "      <td>NaN</td>\n",
       "      <td>NaN</td>\n",
       "      <td>NaN</td>\n",
       "      <td>NaN</td>\n",
       "    </tr>\n",
       "    <tr>\n",
       "      <th>1</th>\n",
       "      <td>2025-02-03 00:00:00</td>\n",
       "      <td>2025.0</td>\n",
       "      <td>Unprovoked</td>\n",
       "      <td>Australia</td>\n",
       "      <td>Queensland</td>\n",
       "      <td>Woorim Beach, Bribie Island,</td>\n",
       "      <td>Swimming</td>\n",
       "      <td>Charlize Zmuda</td>\n",
       "      <td>F</td>\n",
       "      <td>17</td>\n",
       "      <td>...</td>\n",
       "      <td>Bull shark</td>\n",
       "      <td>9 News: The Brisbane Times: The Guardian</td>\n",
       "      <td>NaN</td>\n",
       "      <td>NaN</td>\n",
       "      <td>NaN</td>\n",
       "      <td>NaN</td>\n",
       "      <td>NaN</td>\n",
       "      <td>NaN</td>\n",
       "      <td>NaN</td>\n",
       "      <td>NaN</td>\n",
       "    </tr>\n",
       "    <tr>\n",
       "      <th>2</th>\n",
       "      <td>2025-01-23 00:00:00</td>\n",
       "      <td>2025.0</td>\n",
       "      <td>Unprovoked</td>\n",
       "      <td>Australia</td>\n",
       "      <td>Western Australia</td>\n",
       "      <td>Shipwreck Cove</td>\n",
       "      <td>Bathing</td>\n",
       "      <td>Boy</td>\n",
       "      <td>M</td>\n",
       "      <td>12</td>\n",
       "      <td>...</td>\n",
       "      <td>Not stated</td>\n",
       "      <td>Bob Myatt GSAF</td>\n",
       "      <td>NaN</td>\n",
       "      <td>NaN</td>\n",
       "      <td>NaN</td>\n",
       "      <td>NaN</td>\n",
       "      <td>NaN</td>\n",
       "      <td>NaN</td>\n",
       "      <td>NaN</td>\n",
       "      <td>NaN</td>\n",
       "    </tr>\n",
       "    <tr>\n",
       "      <th>3</th>\n",
       "      <td>2025-01-22 00:00:00</td>\n",
       "      <td>2025.0</td>\n",
       "      <td>Unprovoked</td>\n",
       "      <td>Australia</td>\n",
       "      <td>Western Australia</td>\n",
       "      <td>Cheynes beach</td>\n",
       "      <td>Surfing</td>\n",
       "      <td>Dale Kittow</td>\n",
       "      <td>M</td>\n",
       "      <td>37</td>\n",
       "      <td>...</td>\n",
       "      <td>Bronze whaler</td>\n",
       "      <td>Bob Myatt GSAF</td>\n",
       "      <td>NaN</td>\n",
       "      <td>NaN</td>\n",
       "      <td>NaN</td>\n",
       "      <td>NaN</td>\n",
       "      <td>NaN</td>\n",
       "      <td>NaN</td>\n",
       "      <td>NaN</td>\n",
       "      <td>NaN</td>\n",
       "    </tr>\n",
       "    <tr>\n",
       "      <th>4</th>\n",
       "      <td>2025-01-11 00:00:00</td>\n",
       "      <td>2025.0</td>\n",
       "      <td>Provoked</td>\n",
       "      <td>USA</td>\n",
       "      <td>Hawaii</td>\n",
       "      <td>Off Haleiwa Boat Harbour Oahu</td>\n",
       "      <td>Diving</td>\n",
       "      <td>Male not stated was a dive tour worker</td>\n",
       "      <td>M</td>\n",
       "      <td>23</td>\n",
       "      <td>...</td>\n",
       "      <td>Not stated</td>\n",
       "      <td>Kevin McMurray Trackingsharks.com</td>\n",
       "      <td>NaN</td>\n",
       "      <td>NaN</td>\n",
       "      <td>NaN</td>\n",
       "      <td>NaN</td>\n",
       "      <td>NaN</td>\n",
       "      <td>NaN</td>\n",
       "      <td>NaN</td>\n",
       "      <td>NaN</td>\n",
       "    </tr>\n",
       "    <tr>\n",
       "      <th>...</th>\n",
       "      <td>...</td>\n",
       "      <td>...</td>\n",
       "      <td>...</td>\n",
       "      <td>...</td>\n",
       "      <td>...</td>\n",
       "      <td>...</td>\n",
       "      <td>...</td>\n",
       "      <td>...</td>\n",
       "      <td>...</td>\n",
       "      <td>...</td>\n",
       "      <td>...</td>\n",
       "      <td>...</td>\n",
       "      <td>...</td>\n",
       "      <td>...</td>\n",
       "      <td>...</td>\n",
       "      <td>...</td>\n",
       "      <td>...</td>\n",
       "      <td>...</td>\n",
       "      <td>...</td>\n",
       "      <td>...</td>\n",
       "      <td>...</td>\n",
       "    </tr>\n",
       "    <tr>\n",
       "      <th>6989</th>\n",
       "      <td>Before 1903</td>\n",
       "      <td>0.0</td>\n",
       "      <td>Unprovoked</td>\n",
       "      <td>AUSTRALIA</td>\n",
       "      <td>Western Australia</td>\n",
       "      <td>Roebuck Bay</td>\n",
       "      <td>Diving</td>\n",
       "      <td>male</td>\n",
       "      <td>M</td>\n",
       "      <td>NaN</td>\n",
       "      <td>...</td>\n",
       "      <td>NaN</td>\n",
       "      <td>H. Taunton; N. Bartlett,  p. 234</td>\n",
       "      <td>ND-0005-RoebuckBay.pdf</td>\n",
       "      <td>http://sharkattackfile.net/spreadsheets/pdf_di...</td>\n",
       "      <td>http://sharkattackfile.net/spreadsheets/pdf_di...</td>\n",
       "      <td>ND.0005</td>\n",
       "      <td>ND.0005</td>\n",
       "      <td>6.0</td>\n",
       "      <td>NaN</td>\n",
       "      <td>NaN</td>\n",
       "    </tr>\n",
       "    <tr>\n",
       "      <th>6990</th>\n",
       "      <td>Before 1903</td>\n",
       "      <td>0.0</td>\n",
       "      <td>Unprovoked</td>\n",
       "      <td>AUSTRALIA</td>\n",
       "      <td>Western Australia</td>\n",
       "      <td>NaN</td>\n",
       "      <td>Pearl diving</td>\n",
       "      <td>Ahmun</td>\n",
       "      <td>M</td>\n",
       "      <td>NaN</td>\n",
       "      <td>...</td>\n",
       "      <td>NaN</td>\n",
       "      <td>H. Taunton; N. Bartlett,  pp. 233-234</td>\n",
       "      <td>ND-0004-Ahmun.pdf</td>\n",
       "      <td>http://sharkattackfile.net/spreadsheets/pdf_di...</td>\n",
       "      <td>http://sharkattackfile.net/spreadsheets/pdf_di...</td>\n",
       "      <td>ND.0004</td>\n",
       "      <td>ND.0004</td>\n",
       "      <td>5.0</td>\n",
       "      <td>NaN</td>\n",
       "      <td>NaN</td>\n",
       "    </tr>\n",
       "    <tr>\n",
       "      <th>6991</th>\n",
       "      <td>1900-1905</td>\n",
       "      <td>0.0</td>\n",
       "      <td>Unprovoked</td>\n",
       "      <td>USA</td>\n",
       "      <td>North Carolina</td>\n",
       "      <td>Ocracoke Inlet</td>\n",
       "      <td>Swimming</td>\n",
       "      <td>Coast Guard personnel</td>\n",
       "      <td>M</td>\n",
       "      <td>NaN</td>\n",
       "      <td>...</td>\n",
       "      <td>NaN</td>\n",
       "      <td>F. Schwartz, p.23; C. Creswell, GSAF</td>\n",
       "      <td>ND-0003-Ocracoke_1900-1905.pdf</td>\n",
       "      <td>http://sharkattackfile.net/spreadsheets/pdf_di...</td>\n",
       "      <td>http://sharkattackfile.net/spreadsheets/pdf_di...</td>\n",
       "      <td>ND.0003</td>\n",
       "      <td>ND.0003</td>\n",
       "      <td>4.0</td>\n",
       "      <td>NaN</td>\n",
       "      <td>NaN</td>\n",
       "    </tr>\n",
       "    <tr>\n",
       "      <th>6992</th>\n",
       "      <td>1883-1889</td>\n",
       "      <td>0.0</td>\n",
       "      <td>Unprovoked</td>\n",
       "      <td>PANAMA</td>\n",
       "      <td>NaN</td>\n",
       "      <td>Panama Bay 8ºN, 79ºW</td>\n",
       "      <td>NaN</td>\n",
       "      <td>Jules Patterson</td>\n",
       "      <td>M</td>\n",
       "      <td>NaN</td>\n",
       "      <td>...</td>\n",
       "      <td>NaN</td>\n",
       "      <td>The Sun, 10/20/1938</td>\n",
       "      <td>ND-0002-JulesPatterson.pdf</td>\n",
       "      <td>http://sharkattackfile.net/spreadsheets/pdf_di...</td>\n",
       "      <td>http://sharkattackfile.net/spreadsheets/pdf_di...</td>\n",
       "      <td>ND.0002</td>\n",
       "      <td>ND.0002</td>\n",
       "      <td>3.0</td>\n",
       "      <td>NaN</td>\n",
       "      <td>NaN</td>\n",
       "    </tr>\n",
       "    <tr>\n",
       "      <th>6993</th>\n",
       "      <td>1845-1853</td>\n",
       "      <td>0.0</td>\n",
       "      <td>Unprovoked</td>\n",
       "      <td>CEYLON (SRI LANKA)</td>\n",
       "      <td>Eastern Province</td>\n",
       "      <td>Below the English fort, Trincomalee</td>\n",
       "      <td>Swimming</td>\n",
       "      <td>male</td>\n",
       "      <td>M</td>\n",
       "      <td>15</td>\n",
       "      <td>...</td>\n",
       "      <td>NaN</td>\n",
       "      <td>S.W. Baker</td>\n",
       "      <td>ND-0001-Ceylon.pdf</td>\n",
       "      <td>http://sharkattackfile.net/spreadsheets/pdf_di...</td>\n",
       "      <td>http://sharkattackfile.net/spreadsheets/pdf_di...</td>\n",
       "      <td>ND.0001</td>\n",
       "      <td>ND.0001</td>\n",
       "      <td>2.0</td>\n",
       "      <td>NaN</td>\n",
       "      <td>NaN</td>\n",
       "    </tr>\n",
       "  </tbody>\n",
       "</table>\n",
       "<p>6994 rows × 23 columns</p>\n",
       "</div>"
      ],
      "text/plain": [
       "                     Date    Year        Type             Country  \\\n",
       "0     2025-02-07 00:00:00  2025.0  Unprovoked    Turks and Caicos   \n",
       "1     2025-02-03 00:00:00  2025.0  Unprovoked           Australia   \n",
       "2     2025-01-23 00:00:00  2025.0  Unprovoked           Australia   \n",
       "3     2025-01-22 00:00:00  2025.0  Unprovoked           Australia   \n",
       "4     2025-01-11 00:00:00  2025.0    Provoked                 USA   \n",
       "...                   ...     ...         ...                 ...   \n",
       "6989          Before 1903     0.0  Unprovoked           AUSTRALIA   \n",
       "6990          Before 1903     0.0  Unprovoked           AUSTRALIA   \n",
       "6991            1900-1905     0.0  Unprovoked                 USA   \n",
       "6992            1883-1889     0.0  Unprovoked              PANAMA   \n",
       "6993            1845-1853     0.0  Unprovoked  CEYLON (SRI LANKA)   \n",
       "\n",
       "                  State                             Location      Activity  \\\n",
       "0                   NaN                  Thompson Cove Beach      Swimming   \n",
       "1            Queensland         Woorim Beach, Bribie Island,      Swimming   \n",
       "2     Western Australia                       Shipwreck Cove       Bathing   \n",
       "3     Western Australia                       Cheynes beach        Surfing   \n",
       "4                Hawaii        Off Haleiwa Boat Harbour Oahu        Diving   \n",
       "...                 ...                                  ...           ...   \n",
       "6989  Western Australia                          Roebuck Bay        Diving   \n",
       "6990  Western Australia                                  NaN  Pearl diving   \n",
       "6991     North Carolina                       Ocracoke Inlet      Swimming   \n",
       "6992                NaN                 Panama Bay 8ºN, 79ºW           NaN   \n",
       "6993   Eastern Province  Below the English fort, Trincomalee      Swimming   \n",
       "\n",
       "                                        Name Sex  Age  ...       Species   \\\n",
       "0                                   Unknown    F   55  ...        Unknown   \n",
       "1                             Charlize Zmuda   F   17  ...     Bull shark   \n",
       "2                                       Boy    M   12  ...     Not stated   \n",
       "3                                Dale Kittow   M   37  ...  Bronze whaler   \n",
       "4     Male not stated was a dive tour worker   M   23  ...     Not stated   \n",
       "...                                      ...  ..  ...  ...            ...   \n",
       "6989                                    male   M  NaN  ...            NaN   \n",
       "6990                                   Ahmun   M  NaN  ...            NaN   \n",
       "6991                   Coast Guard personnel   M  NaN  ...            NaN   \n",
       "6992                         Jules Patterson   M  NaN  ...            NaN   \n",
       "6993                                    male   M   15  ...            NaN   \n",
       "\n",
       "                                        Source  \\\n",
       "0                       Todd Smith: Platform X   \n",
       "1     9 News: The Brisbane Times: The Guardian   \n",
       "2                               Bob Myatt GSAF   \n",
       "3                               Bob Myatt GSAF   \n",
       "4            Kevin McMurray Trackingsharks.com   \n",
       "...                                        ...   \n",
       "6989          H. Taunton; N. Bartlett,  p. 234   \n",
       "6990     H. Taunton; N. Bartlett,  pp. 233-234   \n",
       "6991      F. Schwartz, p.23; C. Creswell, GSAF   \n",
       "6992                       The Sun, 10/20/1938   \n",
       "6993                                S.W. Baker   \n",
       "\n",
       "                                 pdf  \\\n",
       "0                                NaN   \n",
       "1                                NaN   \n",
       "2                                NaN   \n",
       "3                                NaN   \n",
       "4                                NaN   \n",
       "...                              ...   \n",
       "6989          ND-0005-RoebuckBay.pdf   \n",
       "6990               ND-0004-Ahmun.pdf   \n",
       "6991  ND-0003-Ocracoke_1900-1905.pdf   \n",
       "6992      ND-0002-JulesPatterson.pdf   \n",
       "6993              ND-0001-Ceylon.pdf   \n",
       "\n",
       "                                           href formula  \\\n",
       "0                                                   NaN   \n",
       "1                                                   NaN   \n",
       "2                                                   NaN   \n",
       "3                                                   NaN   \n",
       "4                                                   NaN   \n",
       "...                                                 ...   \n",
       "6989  http://sharkattackfile.net/spreadsheets/pdf_di...   \n",
       "6990  http://sharkattackfile.net/spreadsheets/pdf_di...   \n",
       "6991  http://sharkattackfile.net/spreadsheets/pdf_di...   \n",
       "6992  http://sharkattackfile.net/spreadsheets/pdf_di...   \n",
       "6993  http://sharkattackfile.net/spreadsheets/pdf_di...   \n",
       "\n",
       "                                                   href Case Number  \\\n",
       "0                                                   NaN         NaN   \n",
       "1                                                   NaN         NaN   \n",
       "2                                                   NaN         NaN   \n",
       "3                                                   NaN         NaN   \n",
       "4                                                   NaN         NaN   \n",
       "...                                                 ...         ...   \n",
       "6989  http://sharkattackfile.net/spreadsheets/pdf_di...     ND.0005   \n",
       "6990  http://sharkattackfile.net/spreadsheets/pdf_di...     ND.0004   \n",
       "6991  http://sharkattackfile.net/spreadsheets/pdf_di...     ND.0003   \n",
       "6992  http://sharkattackfile.net/spreadsheets/pdf_di...     ND.0002   \n",
       "6993  http://sharkattackfile.net/spreadsheets/pdf_di...     ND.0001   \n",
       "\n",
       "     Case Number.1 original order Unnamed: 21 Unnamed: 22  \n",
       "0              NaN            NaN         NaN         NaN  \n",
       "1              NaN            NaN         NaN         NaN  \n",
       "2              NaN            NaN         NaN         NaN  \n",
       "3              NaN            NaN         NaN         NaN  \n",
       "4              NaN            NaN         NaN         NaN  \n",
       "...            ...            ...         ...         ...  \n",
       "6989       ND.0005            6.0         NaN         NaN  \n",
       "6990       ND.0004            5.0         NaN         NaN  \n",
       "6991       ND.0003            4.0         NaN         NaN  \n",
       "6992       ND.0002            3.0         NaN         NaN  \n",
       "6993       ND.0001            2.0         NaN         NaN  \n",
       "\n",
       "[6994 rows x 23 columns]"
      ]
     },
     "execution_count": 2339,
     "metadata": {},
     "output_type": "execute_result"
    }
   ],
   "source": [
    "#define path to xls\n",
    "url = 'https://www.sharkattackfile.net/spreadsheets/GSAF5.xls'\n",
    "df = pd.read_excel(url)\n",
    "df"
   ]
  },
  {
   "cell_type": "markdown",
   "metadata": {},
   "source": [
    "### Data at a Glance \n",
    "Reviewing how the database is organised by using .head(), .info(), .describe(), .tail(), .columns. This will help me on how to pepare the data cleaning process."
   ]
  },
  {
   "cell_type": "code",
   "execution_count": 2340,
   "metadata": {},
   "outputs": [
    {
     "data": {
      "text/html": [
       "<div>\n",
       "<style scoped>\n",
       "    .dataframe tbody tr th:only-of-type {\n",
       "        vertical-align: middle;\n",
       "    }\n",
       "\n",
       "    .dataframe tbody tr th {\n",
       "        vertical-align: top;\n",
       "    }\n",
       "\n",
       "    .dataframe thead th {\n",
       "        text-align: right;\n",
       "    }\n",
       "</style>\n",
       "<table border=\"1\" class=\"dataframe\">\n",
       "  <thead>\n",
       "    <tr style=\"text-align: right;\">\n",
       "      <th></th>\n",
       "      <th>Date</th>\n",
       "      <th>Year</th>\n",
       "      <th>Type</th>\n",
       "      <th>Country</th>\n",
       "      <th>State</th>\n",
       "      <th>Location</th>\n",
       "      <th>Activity</th>\n",
       "      <th>Name</th>\n",
       "      <th>Sex</th>\n",
       "      <th>Age</th>\n",
       "      <th>...</th>\n",
       "      <th>Species</th>\n",
       "      <th>Source</th>\n",
       "      <th>pdf</th>\n",
       "      <th>href formula</th>\n",
       "      <th>href</th>\n",
       "      <th>Case Number</th>\n",
       "      <th>Case Number.1</th>\n",
       "      <th>original order</th>\n",
       "      <th>Unnamed: 21</th>\n",
       "      <th>Unnamed: 22</th>\n",
       "    </tr>\n",
       "  </thead>\n",
       "  <tbody>\n",
       "    <tr>\n",
       "      <th>0</th>\n",
       "      <td>2025-02-07 00:00:00</td>\n",
       "      <td>2025.0</td>\n",
       "      <td>Unprovoked</td>\n",
       "      <td>Turks and Caicos</td>\n",
       "      <td>NaN</td>\n",
       "      <td>Thompson Cove Beach</td>\n",
       "      <td>Swimming</td>\n",
       "      <td>Unknown</td>\n",
       "      <td>F</td>\n",
       "      <td>55</td>\n",
       "      <td>...</td>\n",
       "      <td>Unknown</td>\n",
       "      <td>Todd Smith: Platform X</td>\n",
       "      <td>NaN</td>\n",
       "      <td>NaN</td>\n",
       "      <td>NaN</td>\n",
       "      <td>NaN</td>\n",
       "      <td>NaN</td>\n",
       "      <td>NaN</td>\n",
       "      <td>NaN</td>\n",
       "      <td>NaN</td>\n",
       "    </tr>\n",
       "    <tr>\n",
       "      <th>1</th>\n",
       "      <td>2025-02-03 00:00:00</td>\n",
       "      <td>2025.0</td>\n",
       "      <td>Unprovoked</td>\n",
       "      <td>Australia</td>\n",
       "      <td>Queensland</td>\n",
       "      <td>Woorim Beach, Bribie Island,</td>\n",
       "      <td>Swimming</td>\n",
       "      <td>Charlize Zmuda</td>\n",
       "      <td>F</td>\n",
       "      <td>17</td>\n",
       "      <td>...</td>\n",
       "      <td>Bull shark</td>\n",
       "      <td>9 News: The Brisbane Times: The Guardian</td>\n",
       "      <td>NaN</td>\n",
       "      <td>NaN</td>\n",
       "      <td>NaN</td>\n",
       "      <td>NaN</td>\n",
       "      <td>NaN</td>\n",
       "      <td>NaN</td>\n",
       "      <td>NaN</td>\n",
       "      <td>NaN</td>\n",
       "    </tr>\n",
       "    <tr>\n",
       "      <th>2</th>\n",
       "      <td>2025-01-23 00:00:00</td>\n",
       "      <td>2025.0</td>\n",
       "      <td>Unprovoked</td>\n",
       "      <td>Australia</td>\n",
       "      <td>Western Australia</td>\n",
       "      <td>Shipwreck Cove</td>\n",
       "      <td>Bathing</td>\n",
       "      <td>Boy</td>\n",
       "      <td>M</td>\n",
       "      <td>12</td>\n",
       "      <td>...</td>\n",
       "      <td>Not stated</td>\n",
       "      <td>Bob Myatt GSAF</td>\n",
       "      <td>NaN</td>\n",
       "      <td>NaN</td>\n",
       "      <td>NaN</td>\n",
       "      <td>NaN</td>\n",
       "      <td>NaN</td>\n",
       "      <td>NaN</td>\n",
       "      <td>NaN</td>\n",
       "      <td>NaN</td>\n",
       "    </tr>\n",
       "    <tr>\n",
       "      <th>3</th>\n",
       "      <td>2025-01-22 00:00:00</td>\n",
       "      <td>2025.0</td>\n",
       "      <td>Unprovoked</td>\n",
       "      <td>Australia</td>\n",
       "      <td>Western Australia</td>\n",
       "      <td>Cheynes beach</td>\n",
       "      <td>Surfing</td>\n",
       "      <td>Dale Kittow</td>\n",
       "      <td>M</td>\n",
       "      <td>37</td>\n",
       "      <td>...</td>\n",
       "      <td>Bronze whaler</td>\n",
       "      <td>Bob Myatt GSAF</td>\n",
       "      <td>NaN</td>\n",
       "      <td>NaN</td>\n",
       "      <td>NaN</td>\n",
       "      <td>NaN</td>\n",
       "      <td>NaN</td>\n",
       "      <td>NaN</td>\n",
       "      <td>NaN</td>\n",
       "      <td>NaN</td>\n",
       "    </tr>\n",
       "    <tr>\n",
       "      <th>4</th>\n",
       "      <td>2025-01-11 00:00:00</td>\n",
       "      <td>2025.0</td>\n",
       "      <td>Provoked</td>\n",
       "      <td>USA</td>\n",
       "      <td>Hawaii</td>\n",
       "      <td>Off Haleiwa Boat Harbour Oahu</td>\n",
       "      <td>Diving</td>\n",
       "      <td>Male not stated was a dive tour worker</td>\n",
       "      <td>M</td>\n",
       "      <td>23</td>\n",
       "      <td>...</td>\n",
       "      <td>Not stated</td>\n",
       "      <td>Kevin McMurray Trackingsharks.com</td>\n",
       "      <td>NaN</td>\n",
       "      <td>NaN</td>\n",
       "      <td>NaN</td>\n",
       "      <td>NaN</td>\n",
       "      <td>NaN</td>\n",
       "      <td>NaN</td>\n",
       "      <td>NaN</td>\n",
       "      <td>NaN</td>\n",
       "    </tr>\n",
       "  </tbody>\n",
       "</table>\n",
       "<p>5 rows × 23 columns</p>\n",
       "</div>"
      ],
      "text/plain": [
       "                  Date    Year        Type           Country  \\\n",
       "0  2025-02-07 00:00:00  2025.0  Unprovoked  Turks and Caicos   \n",
       "1  2025-02-03 00:00:00  2025.0  Unprovoked         Australia   \n",
       "2  2025-01-23 00:00:00  2025.0  Unprovoked         Australia   \n",
       "3  2025-01-22 00:00:00  2025.0  Unprovoked         Australia   \n",
       "4  2025-01-11 00:00:00  2025.0    Provoked               USA   \n",
       "\n",
       "               State                       Location  Activity  \\\n",
       "0                NaN            Thompson Cove Beach  Swimming   \n",
       "1         Queensland   Woorim Beach, Bribie Island,  Swimming   \n",
       "2  Western Australia                 Shipwreck Cove   Bathing   \n",
       "3  Western Australia                 Cheynes beach    Surfing   \n",
       "4             Hawaii  Off Haleiwa Boat Harbour Oahu    Diving   \n",
       "\n",
       "                                     Name Sex Age  ...       Species   \\\n",
       "0                                Unknown    F  55  ...        Unknown   \n",
       "1                          Charlize Zmuda   F  17  ...     Bull shark   \n",
       "2                                    Boy    M  12  ...     Not stated   \n",
       "3                             Dale Kittow   M  37  ...  Bronze whaler   \n",
       "4  Male not stated was a dive tour worker   M  23  ...     Not stated   \n",
       "\n",
       "                                     Source  pdf href formula href  \\\n",
       "0                    Todd Smith: Platform X  NaN          NaN  NaN   \n",
       "1  9 News: The Brisbane Times: The Guardian  NaN          NaN  NaN   \n",
       "2                            Bob Myatt GSAF  NaN          NaN  NaN   \n",
       "3                            Bob Myatt GSAF  NaN          NaN  NaN   \n",
       "4         Kevin McMurray Trackingsharks.com  NaN          NaN  NaN   \n",
       "\n",
       "  Case Number Case Number.1 original order Unnamed: 21 Unnamed: 22  \n",
       "0         NaN           NaN            NaN         NaN         NaN  \n",
       "1         NaN           NaN            NaN         NaN         NaN  \n",
       "2         NaN           NaN            NaN         NaN         NaN  \n",
       "3         NaN           NaN            NaN         NaN         NaN  \n",
       "4         NaN           NaN            NaN         NaN         NaN  \n",
       "\n",
       "[5 rows x 23 columns]"
      ]
     },
     "execution_count": 2340,
     "metadata": {},
     "output_type": "execute_result"
    }
   ],
   "source": [
    "df.head()"
   ]
  },
  {
   "cell_type": "code",
   "execution_count": 2341,
   "metadata": {},
   "outputs": [
    {
     "data": {
      "text/html": [
       "<div>\n",
       "<style scoped>\n",
       "    .dataframe tbody tr th:only-of-type {\n",
       "        vertical-align: middle;\n",
       "    }\n",
       "\n",
       "    .dataframe tbody tr th {\n",
       "        vertical-align: top;\n",
       "    }\n",
       "\n",
       "    .dataframe thead th {\n",
       "        text-align: right;\n",
       "    }\n",
       "</style>\n",
       "<table border=\"1\" class=\"dataframe\">\n",
       "  <thead>\n",
       "    <tr style=\"text-align: right;\">\n",
       "      <th></th>\n",
       "      <th>Date</th>\n",
       "      <th>Year</th>\n",
       "      <th>Type</th>\n",
       "      <th>Country</th>\n",
       "      <th>State</th>\n",
       "      <th>Location</th>\n",
       "      <th>Activity</th>\n",
       "      <th>Name</th>\n",
       "      <th>Sex</th>\n",
       "      <th>Age</th>\n",
       "      <th>...</th>\n",
       "      <th>Species</th>\n",
       "      <th>Source</th>\n",
       "      <th>pdf</th>\n",
       "      <th>href formula</th>\n",
       "      <th>href</th>\n",
       "      <th>Case Number</th>\n",
       "      <th>Case Number.1</th>\n",
       "      <th>original order</th>\n",
       "      <th>Unnamed: 21</th>\n",
       "      <th>Unnamed: 22</th>\n",
       "    </tr>\n",
       "  </thead>\n",
       "  <tbody>\n",
       "    <tr>\n",
       "      <th>6989</th>\n",
       "      <td>Before 1903</td>\n",
       "      <td>0.0</td>\n",
       "      <td>Unprovoked</td>\n",
       "      <td>AUSTRALIA</td>\n",
       "      <td>Western Australia</td>\n",
       "      <td>Roebuck Bay</td>\n",
       "      <td>Diving</td>\n",
       "      <td>male</td>\n",
       "      <td>M</td>\n",
       "      <td>NaN</td>\n",
       "      <td>...</td>\n",
       "      <td>NaN</td>\n",
       "      <td>H. Taunton; N. Bartlett,  p. 234</td>\n",
       "      <td>ND-0005-RoebuckBay.pdf</td>\n",
       "      <td>http://sharkattackfile.net/spreadsheets/pdf_di...</td>\n",
       "      <td>http://sharkattackfile.net/spreadsheets/pdf_di...</td>\n",
       "      <td>ND.0005</td>\n",
       "      <td>ND.0005</td>\n",
       "      <td>6.0</td>\n",
       "      <td>NaN</td>\n",
       "      <td>NaN</td>\n",
       "    </tr>\n",
       "    <tr>\n",
       "      <th>6990</th>\n",
       "      <td>Before 1903</td>\n",
       "      <td>0.0</td>\n",
       "      <td>Unprovoked</td>\n",
       "      <td>AUSTRALIA</td>\n",
       "      <td>Western Australia</td>\n",
       "      <td>NaN</td>\n",
       "      <td>Pearl diving</td>\n",
       "      <td>Ahmun</td>\n",
       "      <td>M</td>\n",
       "      <td>NaN</td>\n",
       "      <td>...</td>\n",
       "      <td>NaN</td>\n",
       "      <td>H. Taunton; N. Bartlett,  pp. 233-234</td>\n",
       "      <td>ND-0004-Ahmun.pdf</td>\n",
       "      <td>http://sharkattackfile.net/spreadsheets/pdf_di...</td>\n",
       "      <td>http://sharkattackfile.net/spreadsheets/pdf_di...</td>\n",
       "      <td>ND.0004</td>\n",
       "      <td>ND.0004</td>\n",
       "      <td>5.0</td>\n",
       "      <td>NaN</td>\n",
       "      <td>NaN</td>\n",
       "    </tr>\n",
       "    <tr>\n",
       "      <th>6991</th>\n",
       "      <td>1900-1905</td>\n",
       "      <td>0.0</td>\n",
       "      <td>Unprovoked</td>\n",
       "      <td>USA</td>\n",
       "      <td>North Carolina</td>\n",
       "      <td>Ocracoke Inlet</td>\n",
       "      <td>Swimming</td>\n",
       "      <td>Coast Guard personnel</td>\n",
       "      <td>M</td>\n",
       "      <td>NaN</td>\n",
       "      <td>...</td>\n",
       "      <td>NaN</td>\n",
       "      <td>F. Schwartz, p.23; C. Creswell, GSAF</td>\n",
       "      <td>ND-0003-Ocracoke_1900-1905.pdf</td>\n",
       "      <td>http://sharkattackfile.net/spreadsheets/pdf_di...</td>\n",
       "      <td>http://sharkattackfile.net/spreadsheets/pdf_di...</td>\n",
       "      <td>ND.0003</td>\n",
       "      <td>ND.0003</td>\n",
       "      <td>4.0</td>\n",
       "      <td>NaN</td>\n",
       "      <td>NaN</td>\n",
       "    </tr>\n",
       "    <tr>\n",
       "      <th>6992</th>\n",
       "      <td>1883-1889</td>\n",
       "      <td>0.0</td>\n",
       "      <td>Unprovoked</td>\n",
       "      <td>PANAMA</td>\n",
       "      <td>NaN</td>\n",
       "      <td>Panama Bay 8ºN, 79ºW</td>\n",
       "      <td>NaN</td>\n",
       "      <td>Jules Patterson</td>\n",
       "      <td>M</td>\n",
       "      <td>NaN</td>\n",
       "      <td>...</td>\n",
       "      <td>NaN</td>\n",
       "      <td>The Sun, 10/20/1938</td>\n",
       "      <td>ND-0002-JulesPatterson.pdf</td>\n",
       "      <td>http://sharkattackfile.net/spreadsheets/pdf_di...</td>\n",
       "      <td>http://sharkattackfile.net/spreadsheets/pdf_di...</td>\n",
       "      <td>ND.0002</td>\n",
       "      <td>ND.0002</td>\n",
       "      <td>3.0</td>\n",
       "      <td>NaN</td>\n",
       "      <td>NaN</td>\n",
       "    </tr>\n",
       "    <tr>\n",
       "      <th>6993</th>\n",
       "      <td>1845-1853</td>\n",
       "      <td>0.0</td>\n",
       "      <td>Unprovoked</td>\n",
       "      <td>CEYLON (SRI LANKA)</td>\n",
       "      <td>Eastern Province</td>\n",
       "      <td>Below the English fort, Trincomalee</td>\n",
       "      <td>Swimming</td>\n",
       "      <td>male</td>\n",
       "      <td>M</td>\n",
       "      <td>15</td>\n",
       "      <td>...</td>\n",
       "      <td>NaN</td>\n",
       "      <td>S.W. Baker</td>\n",
       "      <td>ND-0001-Ceylon.pdf</td>\n",
       "      <td>http://sharkattackfile.net/spreadsheets/pdf_di...</td>\n",
       "      <td>http://sharkattackfile.net/spreadsheets/pdf_di...</td>\n",
       "      <td>ND.0001</td>\n",
       "      <td>ND.0001</td>\n",
       "      <td>2.0</td>\n",
       "      <td>NaN</td>\n",
       "      <td>NaN</td>\n",
       "    </tr>\n",
       "  </tbody>\n",
       "</table>\n",
       "<p>5 rows × 23 columns</p>\n",
       "</div>"
      ],
      "text/plain": [
       "             Date  Year        Type             Country              State  \\\n",
       "6989  Before 1903   0.0  Unprovoked           AUSTRALIA  Western Australia   \n",
       "6990  Before 1903   0.0  Unprovoked           AUSTRALIA  Western Australia   \n",
       "6991    1900-1905   0.0  Unprovoked                 USA     North Carolina   \n",
       "6992    1883-1889   0.0  Unprovoked              PANAMA                NaN   \n",
       "6993    1845-1853   0.0  Unprovoked  CEYLON (SRI LANKA)   Eastern Province   \n",
       "\n",
       "                                 Location      Activity  \\\n",
       "6989                          Roebuck Bay        Diving   \n",
       "6990                                  NaN  Pearl diving   \n",
       "6991                       Ocracoke Inlet      Swimming   \n",
       "6992                 Panama Bay 8ºN, 79ºW           NaN   \n",
       "6993  Below the English fort, Trincomalee      Swimming   \n",
       "\n",
       "                       Name Sex  Age  ... Species   \\\n",
       "6989                   male   M  NaN  ...      NaN   \n",
       "6990                  Ahmun   M  NaN  ...      NaN   \n",
       "6991  Coast Guard personnel   M  NaN  ...      NaN   \n",
       "6992        Jules Patterson   M  NaN  ...      NaN   \n",
       "6993                   male   M   15  ...      NaN   \n",
       "\n",
       "                                     Source                             pdf  \\\n",
       "6989       H. Taunton; N. Bartlett,  p. 234          ND-0005-RoebuckBay.pdf   \n",
       "6990  H. Taunton; N. Bartlett,  pp. 233-234               ND-0004-Ahmun.pdf   \n",
       "6991   F. Schwartz, p.23; C. Creswell, GSAF  ND-0003-Ocracoke_1900-1905.pdf   \n",
       "6992                    The Sun, 10/20/1938      ND-0002-JulesPatterson.pdf   \n",
       "6993                             S.W. Baker              ND-0001-Ceylon.pdf   \n",
       "\n",
       "                                           href formula  \\\n",
       "6989  http://sharkattackfile.net/spreadsheets/pdf_di...   \n",
       "6990  http://sharkattackfile.net/spreadsheets/pdf_di...   \n",
       "6991  http://sharkattackfile.net/spreadsheets/pdf_di...   \n",
       "6992  http://sharkattackfile.net/spreadsheets/pdf_di...   \n",
       "6993  http://sharkattackfile.net/spreadsheets/pdf_di...   \n",
       "\n",
       "                                                   href Case Number  \\\n",
       "6989  http://sharkattackfile.net/spreadsheets/pdf_di...     ND.0005   \n",
       "6990  http://sharkattackfile.net/spreadsheets/pdf_di...     ND.0004   \n",
       "6991  http://sharkattackfile.net/spreadsheets/pdf_di...     ND.0003   \n",
       "6992  http://sharkattackfile.net/spreadsheets/pdf_di...     ND.0002   \n",
       "6993  http://sharkattackfile.net/spreadsheets/pdf_di...     ND.0001   \n",
       "\n",
       "     Case Number.1 original order Unnamed: 21 Unnamed: 22  \n",
       "6989       ND.0005            6.0         NaN         NaN  \n",
       "6990       ND.0004            5.0         NaN         NaN  \n",
       "6991       ND.0003            4.0         NaN         NaN  \n",
       "6992       ND.0002            3.0         NaN         NaN  \n",
       "6993       ND.0001            2.0         NaN         NaN  \n",
       "\n",
       "[5 rows x 23 columns]"
      ]
     },
     "execution_count": 2341,
     "metadata": {},
     "output_type": "execute_result"
    }
   ],
   "source": [
    "df.tail()"
   ]
  },
  {
   "cell_type": "code",
   "execution_count": 2342,
   "metadata": {},
   "outputs": [
    {
     "name": "stdout",
     "output_type": "stream",
     "text": [
      "<class 'pandas.core.frame.DataFrame'>\n",
      "RangeIndex: 6994 entries, 0 to 6993\n",
      "Data columns (total 23 columns):\n",
      " #   Column          Non-Null Count  Dtype  \n",
      "---  ------          --------------  -----  \n",
      " 0   Date            6994 non-null   object \n",
      " 1   Year            6992 non-null   float64\n",
      " 2   Type            6976 non-null   object \n",
      " 3   Country         6944 non-null   object \n",
      " 4   State           6511 non-null   object \n",
      " 5   Location        6429 non-null   object \n",
      " 6   Activity        6409 non-null   object \n",
      " 7   Name            6775 non-null   object \n",
      " 8   Sex             6415 non-null   object \n",
      " 9   Age             4000 non-null   object \n",
      " 10  Injury          6959 non-null   object \n",
      " 11  Fatal Y/N       6433 non-null   object \n",
      " 12  Time            3468 non-null   object \n",
      " 13  Species         3862 non-null   object \n",
      " 14  Source          6975 non-null   object \n",
      " 15  pdf             6799 non-null   object \n",
      " 16  href formula    6794 non-null   object \n",
      " 17  href            6796 non-null   object \n",
      " 18  Case Number     6798 non-null   object \n",
      " 19  Case Number.1   6797 non-null   object \n",
      " 20  original order  6799 non-null   float64\n",
      " 21  Unnamed: 21     1 non-null      object \n",
      " 22  Unnamed: 22     2 non-null      object \n",
      "dtypes: float64(2), object(21)\n",
      "memory usage: 1.2+ MB\n"
     ]
    }
   ],
   "source": [
    "df.info()"
   ]
  },
  {
   "cell_type": "code",
   "execution_count": 2343,
   "metadata": {},
   "outputs": [
    {
     "data": {
      "text/html": [
       "<div>\n",
       "<style scoped>\n",
       "    .dataframe tbody tr th:only-of-type {\n",
       "        vertical-align: middle;\n",
       "    }\n",
       "\n",
       "    .dataframe tbody tr th {\n",
       "        vertical-align: top;\n",
       "    }\n",
       "\n",
       "    .dataframe thead th {\n",
       "        text-align: right;\n",
       "    }\n",
       "</style>\n",
       "<table border=\"1\" class=\"dataframe\">\n",
       "  <thead>\n",
       "    <tr style=\"text-align: right;\">\n",
       "      <th></th>\n",
       "      <th>Year</th>\n",
       "      <th>original order</th>\n",
       "    </tr>\n",
       "  </thead>\n",
       "  <tbody>\n",
       "    <tr>\n",
       "      <th>count</th>\n",
       "      <td>6992.000000</td>\n",
       "      <td>6799.000000</td>\n",
       "    </tr>\n",
       "    <tr>\n",
       "      <th>mean</th>\n",
       "      <td>1935.044336</td>\n",
       "      <td>3401.152081</td>\n",
       "    </tr>\n",
       "    <tr>\n",
       "      <th>std</th>\n",
       "      <td>272.048128</td>\n",
       "      <td>1963.076319</td>\n",
       "    </tr>\n",
       "    <tr>\n",
       "      <th>min</th>\n",
       "      <td>0.000000</td>\n",
       "      <td>2.000000</td>\n",
       "    </tr>\n",
       "    <tr>\n",
       "      <th>25%</th>\n",
       "      <td>1947.000000</td>\n",
       "      <td>1701.500000</td>\n",
       "    </tr>\n",
       "    <tr>\n",
       "      <th>50%</th>\n",
       "      <td>1986.000000</td>\n",
       "      <td>3401.000000</td>\n",
       "    </tr>\n",
       "    <tr>\n",
       "      <th>75%</th>\n",
       "      <td>2009.000000</td>\n",
       "      <td>5100.500000</td>\n",
       "    </tr>\n",
       "    <tr>\n",
       "      <th>max</th>\n",
       "      <td>2026.000000</td>\n",
       "      <td>6802.000000</td>\n",
       "    </tr>\n",
       "  </tbody>\n",
       "</table>\n",
       "</div>"
      ],
      "text/plain": [
       "              Year  original order\n",
       "count  6992.000000     6799.000000\n",
       "mean   1935.044336     3401.152081\n",
       "std     272.048128     1963.076319\n",
       "min       0.000000        2.000000\n",
       "25%    1947.000000     1701.500000\n",
       "50%    1986.000000     3401.000000\n",
       "75%    2009.000000     5100.500000\n",
       "max    2026.000000     6802.000000"
      ]
     },
     "execution_count": 2343,
     "metadata": {},
     "output_type": "execute_result"
    }
   ],
   "source": [
    "df.describe()"
   ]
  },
  {
   "cell_type": "code",
   "execution_count": 2344,
   "metadata": {},
   "outputs": [
    {
     "data": {
      "text/plain": [
       "Index(['Date', 'Year', 'Type', 'Country', 'State', 'Location', 'Activity',\n",
       "       'Name', 'Sex', 'Age', 'Injury', 'Fatal Y/N', 'Time', 'Species ',\n",
       "       'Source', 'pdf', 'href formula', 'href', 'Case Number', 'Case Number.1',\n",
       "       'original order', 'Unnamed: 21', 'Unnamed: 22'],\n",
       "      dtype='object')"
      ]
     },
     "execution_count": 2344,
     "metadata": {},
     "output_type": "execute_result"
    }
   ],
   "source": [
    "df.columns"
   ]
  },
  {
   "cell_type": "markdown",
   "metadata": {},
   "source": [
    "### Columns Cleaning and Renaming "
   ]
  },
  {
   "cell_type": "markdown",
   "metadata": {},
   "source": [
    "I have reviewed the columns and decided to do the following: \n",
    "- Remove extra \" \" and also replacing extra \" \" with \"_\". \n",
    "- Dropping the following columns: \"Case_Number_1\", \"Unnamed_21\". \"Unnamed_22\" . \n",
    "- Renaming:  'Fatal Y/N': 'Fatal', 'Sex': 'Gender',  'pdf': 'PDF',  and  'Species ': 'Species', 'href': 'Link','original order': 'Original_Order', "
   ]
  },
  {
   "cell_type": "code",
   "execution_count": 2345,
   "metadata": {},
   "outputs": [
    {
     "data": {
      "text/plain": [
       "Index(['Date', 'Year', 'Type', 'Country', 'State', 'Location', 'Activity',\n",
       "       'Name', 'Gender', 'Age', 'Injury', 'Fatal', 'Time', 'Species', 'Source',\n",
       "       'PDF', 'Href_formula', 'Link', 'Case_Number', 'Case_Number_1',\n",
       "       'Original_Order', 'Unnamed_21', 'Unnamed_22'],\n",
       "      dtype='object')"
      ]
     },
     "execution_count": 2345,
     "metadata": {},
     "output_type": "execute_result"
    }
   ],
   "source": [
    "df = df.rename(columns= {\n",
    "    'Fatal Y/N': 'Fatal',\n",
    "    'Species ': 'Species',\n",
    "    'pdf': 'PDF', \n",
    "    'Sex': 'Gender',\n",
    "    'href formula': 'Href_formula', \n",
    "    'href': 'Link',\n",
    "    'Case Number': 'Case_Number', \n",
    "    'Case Number.1': 'Case_Number_1',\n",
    "    'original order': 'Original_Order', \n",
    "    'Unnamed: 21': 'Unnamed_21', \n",
    "    'Unnamed: 22': 'Unnamed_22'\n",
    "})\n",
    "df.columns"
   ]
  },
  {
   "cell_type": "code",
   "execution_count": 2346,
   "metadata": {},
   "outputs": [
    {
     "data": {
      "text/plain": [
       "Case_Number\n",
       "True     6945\n",
       "False      49\n",
       "Name: count, dtype: int64"
      ]
     },
     "execution_count": 2346,
     "metadata": {},
     "output_type": "execute_result"
    }
   ],
   "source": [
    "df[\"Case_Number\"].isin(df[\"Case_Number_1\"]).value_counts() # There is less than 10% difference "
   ]
  },
  {
   "cell_type": "code",
   "execution_count": 2347,
   "metadata": {},
   "outputs": [
    {
     "data": {
      "text/plain": [
       "Index(['Date', 'Year', 'Type', 'Country', 'State', 'Location', 'Activity',\n",
       "       'Name', 'Gender', 'Age', 'Injury', 'Fatal', 'Time', 'Species', 'Source',\n",
       "       'Link', 'Case_Number', 'Original_Order'],\n",
       "      dtype='object')"
      ]
     },
     "execution_count": 2347,
     "metadata": {},
     "output_type": "execute_result"
    }
   ],
   "source": [
    "# Dropping Columns\n",
    "df = df.drop(columns=[\"Unnamed_21\", \"Unnamed_22\", \"PDF\", \"Href_formula\", \"Case_Number_1\"])\n",
    "df.columns"
   ]
  },
  {
   "cell_type": "code",
   "execution_count": 2348,
   "metadata": {},
   "outputs": [],
   "source": [
    "### Cleaning and replacing all Nan's of Columns that are objects/strings\n",
    "df[\"Country\"] = df[\"Country\"].fillna(\"Unknown\").str.strip().astype(str)\n",
    "df[\"State\"] = df[\"State\"].fillna(\"Unknown\").str.strip().astype(str)\n",
    "df[\"Location\"] = df[\"Location\"].fillna(\"Unknown\").str.strip().astype(str)\n",
    "df[\"Activity\"] = df[\"Activity\"].fillna(\"Unknown\").str.strip().astype(str)\n",
    "df[\"Name\"] = df[\"Name\"].fillna(\"Unknown\").str.strip().astype(str)\n",
    "df[\"Gender\"] = df[\"Gender\"].fillna(\"Unknown\").str.strip().astype(str)\n",
    "df[\"Injury\"] = df[\"Injury\"].fillna(\"Unknown\").str.strip().astype(str)\n",
    "df[\"Species\"] = df[\"Species\"].fillna(\"Unknown\").str.strip().astype(str)\n",
    "df[\"Fatal\"] = df[\"Fatal\"].fillna(\"Unknown\").str.strip().astype(str)\n",
    "df[\"Link\"] = df[\"Link\"].fillna(\"Unknown\").str.strip().astype(str)\n",
    "df[\"Source\"] = df[\"Source\"].fillna(\"Unknown\").str.strip().astype(str)\n",
    "df[\"Type\"] = df[\"Type\"].fillna(\"Unknown\").str.strip().astype(str)\n",
    "df[\"Name\"] = df[\"Name\"].fillna(\"Unknown\").str.strip().astype(str)\n",
    "#df[\"Age\"] = df[\"Age\"].fillna(\"Unknown\").str.strip().astype(str)"
   ]
  },
  {
   "cell_type": "code",
   "execution_count": 2349,
   "metadata": {},
   "outputs": [
    {
     "name": "stdout",
     "output_type": "stream",
     "text": [
      "Date                 0\n",
      "Year                 2\n",
      "Type                 0\n",
      "Country              0\n",
      "State                0\n",
      "Location             0\n",
      "Activity             0\n",
      "Name                 0\n",
      "Gender               0\n",
      "Age               2994\n",
      "Injury               0\n",
      "Fatal                0\n",
      "Time              3526\n",
      "Species              0\n",
      "Source               0\n",
      "Link                 0\n",
      "Case_Number        196\n",
      "Original_Order     195\n",
      "dtype: int64\n"
     ]
    }
   ],
   "source": [
    "print(df.isna().sum())  # Check-up for all Nan's"
   ]
  },
  {
   "cell_type": "markdown",
   "metadata": {},
   "source": [
    "### Cleaning Column 'Month'"
   ]
  },
  {
   "cell_type": "code",
   "execution_count": 2350,
   "metadata": {},
   "outputs": [
    {
     "name": "stdout",
     "output_type": "stream",
     "text": [
      "Month\n",
      "Unknown    1186\n",
      "Jul         774\n",
      "Aug         667\n",
      "Jan         566\n",
      "Jun         545\n",
      "Oct         500\n",
      "Apr         493\n",
      "Dec         490\n",
      "Mar         458\n",
      "May         450\n",
      "Nov         449\n",
      "Feb         416\n",
      "Name: count, dtype: int64\n"
     ]
    }
   ],
   "source": [
    "def finding_month(date): \n",
    "    months = [\"Jan\", \"Feb\", \"Mar\", \"Apr\", \"May\", \"Jun\", \"Jul\", \"Aug\", \"Oct\", \"Nov\", \"Dec\"]\n",
    "    #If it founds the info of a given month, it returns an output of this cleaning function\n",
    "    try:\n",
    "        for month in months: \n",
    "            if re.search(month, date):\n",
    "                return month\n",
    "    except TypeError:\n",
    "        pass \n",
    "  \n",
    "df[\"Month\"] = df[\"Date\"]\n",
    "df[\"Month\"] = df[\"Date\"].apply(finding_month)\n",
    "df[\"Month\"].fillna(value=\"Unknown\", inplace=True)\n",
    "print(df[\"Month\"].value_counts())  # Check unique values"
   ]
  },
  {
   "cell_type": "markdown",
   "metadata": {},
   "source": [
    "### Cleaning Column 'Date'"
   ]
  },
  {
   "cell_type": "markdown",
   "metadata": {},
   "source": [
    "- Reviewing the column 'Date'. I am stripping the time component, because we already have a column with time."
   ]
  },
  {
   "cell_type": "code",
   "execution_count": 2351,
   "metadata": {},
   "outputs": [
    {
     "data": {
      "text/plain": [
       "array([datetime.datetime(2025, 2, 7, 0, 0),\n",
       "       datetime.datetime(2025, 2, 3, 0, 0),\n",
       "       datetime.datetime(2025, 1, 23, 0, 0),\n",
       "       datetime.datetime(2025, 1, 22, 0, 0),\n",
       "       datetime.datetime(2025, 1, 11, 0, 0),\n",
       "       datetime.datetime(2025, 1, 2, 0, 0),\n",
       "       datetime.datetime(2024, 12, 29, 0, 0),\n",
       "       datetime.datetime(2024, 12, 28, 0, 0),\n",
       "       datetime.datetime(2024, 12, 2, 0, 0),\n",
       "       datetime.datetime(2024, 12, 1, 0, 0),\n",
       "       datetime.datetime(2024, 11, 30, 0, 0),\n",
       "       datetime.datetime(2024, 11, 19, 0, 0),\n",
       "       datetime.datetime(2024, 11, 15, 0, 0),\n",
       "       datetime.datetime(2024, 11, 1, 0, 0),\n",
       "       datetime.datetime(2024, 10, 31, 0, 0),\n",
       "       datetime.datetime(2024, 10, 25, 0, 0),\n",
       "       datetime.datetime(2024, 10, 14, 0, 0),\n",
       "       datetime.datetime(2024, 10, 11, 0, 0),\n",
       "       datetime.datetime(2024, 9, 17, 0, 0),\n",
       "       datetime.datetime(2024, 9, 16, 0, 0),\n",
       "       datetime.datetime(2024, 8, 26, 0, 0),\n",
       "       datetime.datetime(2024, 8, 6, 0, 0),\n",
       "       datetime.datetime(2024, 7, 23, 0, 0),\n",
       "       datetime.datetime(2024, 7, 18, 0, 0),\n",
       "       datetime.datetime(2024, 7, 8, 0, 0),\n",
       "       datetime.datetime(2024, 7, 5, 0, 0),\n",
       "       datetime.datetime(2024, 7, 4, 0, 0),\n",
       "       datetime.datetime(2024, 6, 23, 0, 0),\n",
       "       datetime.datetime(2024, 6, 7, 0, 0),\n",
       "       datetime.datetime(2024, 6, 2, 0, 0),\n",
       "       datetime.datetime(2024, 5, 28, 0, 0),\n",
       "       datetime.datetime(2024, 5, 24, 0, 0),\n",
       "       datetime.datetime(2024, 5, 23, 0, 0),\n",
       "       datetime.datetime(2024, 5, 2, 0, 0),\n",
       "       datetime.datetime(2024, 4, 26, 0, 0),\n",
       "       datetime.datetime(2024, 4, 20, 0, 0),\n",
       "       datetime.datetime(2024, 4, 8, 0, 0), '15 Mar 2024', '04 Mar 2024',\n",
       "       '02 Mar-2024', '25 Feb-2024', '14 Feb-2024', '04-Feb-2024',\n",
       "       '29 Jan-2024', '15 Jan-2024', '09-Jan-2024', '05-Jan-2024',\n",
       "       '30 Dec-2023', '29 Dec-2023', '28 Dec-2023', '25 Dec-2023',\n",
       "       '24-Dec-2023', '18 Dec-2023', '14  Dec-2023', '08 Dec-2023',\n",
       "       '04 Dec-2023', '02 Dec-2023', '30 Nov-2023', '21 Nov-2023',\n",
       "       '10 Nov-2023', '05 Nov-2023', '03 Nov-2023', '02 Nov-2023',\n",
       "       'Reported 02 Nov-2023', '31 Oct-2023', '25 Oct 2023',\n",
       "       '23 Oct-2023', '21 Oct-2023', '20 Oct 2023', '15 Oct 2023',\n",
       "       '13 Oct-2023', '02 Oct-2023', '01 Oct-2023', '18 Sep-2023',\n",
       "       '13 Sep-2023', '12 Sep-2023', '11 Sep-2023', '09 Sep- 2023',\n",
       "       'Reported 06-Sep-2023', '04 Sep 2023', '25 Aug 2023',\n",
       "       '23 Aug-2023', '22 Aug-2023', '21 Aug-2023', '16 Aug-2023',\n",
       "       '12 Aug-2023', '07 Aug-2023', '31 Jul-2023', '30 Jul-2023',\n",
       "       '29 Jul-2023', '24 Jul-2023', '22 Jul-2023', '21 Jul-2023',\n",
       "       '18 Jul-2023', '15 Jul-2023', '14 Jul-2023',\n",
       "       'Reported 14 Jul-2023', '04 Jul-2023', '03 Jul-2023',\n",
       "       '23-Jun-2023'], dtype=object)"
      ]
     },
     "execution_count": 2351,
     "metadata": {},
     "output_type": "execute_result"
    }
   ],
   "source": [
    "df[\"Date\"].unique()[:100]"
   ]
  },
  {
   "cell_type": "code",
   "execution_count": 2352,
   "metadata": {},
   "outputs": [
    {
     "name": "stdout",
     "output_type": "stream",
     "text": [
      "object\n"
     ]
    }
   ],
   "source": [
    "print(df[\"Date\"].dtype)"
   ]
  },
  {
   "cell_type": "code",
   "execution_count": 2353,
   "metadata": {},
   "outputs": [],
   "source": [
    "# To ensure all values are strings before applying the function \n",
    "df[\"Date\"] = df[\"Date\"].astype(str).str.lower().str.strip() # Converting everything to lowercase, and removing extra spaces before and after text. "
   ]
  },
  {
   "cell_type": "code",
   "execution_count": 2354,
   "metadata": {},
   "outputs": [],
   "source": [
    "def extract_date(text):\n",
    "    \"\"\"\n",
    "    Extracts valid date-like information from messy strings.\n",
    "    Converts multiple formats into a standard date format (DD-MM-YYYY).\n",
    "    \"\"\"\n",
    "    if not isinstance(text, str) or text.lower().strip() in [\"none\", \"nan\", \"null\", \"\"]:\n",
    "        return None  # Handle missing values\n",
    "\n",
    "    text = text.strip()  # Remove leading/trailing spaces\n",
    "\n",
    "    # Define regex patterns to capture different date formats\n",
    "    date_patterns = [\n",
    "        r\"\\d{4}-\\d{2}-\\d{2}\",             # \"2023-05-20\" (ISO format)\n",
    "        r\"\\d{1,2}-[a-z]{3}-\\d{4}\",        # \"18-may-2023\"\n",
    "        r\"\\d{1,2} [a-z]{3}-\\d{4}\",        # \"09 may-2023\"\n",
    "        r\"\\d{1,2} [a-z]{3} \\d{4}\",        # \"15 Mar 2024\"\n",
    "        r\"\\d{1,2}-[A-Za-z]{3}-\\d{4}\",     # \"23-Jun-2023\"\n",
    "        r\"\\d{1,2} [A-Za-z]{3} \\d{4}\",     # \"15 Mar 2024\"\n",
    "        r\"\\d{1,2} [A-Za-z]+ \\d{4}\",       # \"15 March 2024\"\n",
    "        r\"\\d{1,2}(st|nd|rd|th)? of [A-Za-z]+, \\d{4}\"  # \"24th of May, 2022\"\n",
    "    ]\n",
    "\n",
    "    for pattern in date_patterns:\n",
    "        match = re.search(pattern, text, re.IGNORECASE)\n",
    "        if match:\n",
    "            return match.group(0)  # Extract the matched date part\n",
    "\n",
    "    return None  # Return None if no valid date is found\n",
    "\n",
    " # Clean the \"Date\" column before applying regex\n",
    "df[\"Date\"] = df[\"Date\"].astype(str).str.strip()\n",
    "\n",
    "# Apply extraction function\n",
    "df[\"Cleaned_Date\"] = df[\"Date\"].apply(extract_date)\n",
    "\n",
    "# Convert extracted dates into proper datetime format\n",
    "df[\"Cleaned_Date\"] = pd.to_datetime(df[\"Cleaned_Date\"], errors=\"coerce\")\n",
    "\n",
    "# Convert to DD-MM-YYYY format (Final Step)\n",
    "df[\"Cleaned_Date\"] = df[\"Cleaned_Date\"].dt.strftime('%d-%m-%Y')"
   ]
  },
  {
   "cell_type": "code",
   "execution_count": 2355,
   "metadata": {},
   "outputs": [
    {
     "name": "stdout",
     "output_type": "stream",
     "text": [
      "Number of null values: 6945\n"
     ]
    }
   ],
   "source": [
    "# Count missing values (NaN)\n",
    "null_count = df[\"Cleaned_Date\"].isna().sum()\n",
    "print(f\"Number of null values: {null_count}\")"
   ]
  },
  {
   "cell_type": "code",
   "execution_count": 2356,
   "metadata": {},
   "outputs": [
    {
     "data": {
      "text/html": [
       "<div>\n",
       "<style scoped>\n",
       "    .dataframe tbody tr th:only-of-type {\n",
       "        vertical-align: middle;\n",
       "    }\n",
       "\n",
       "    .dataframe tbody tr th {\n",
       "        vertical-align: top;\n",
       "    }\n",
       "\n",
       "    .dataframe thead th {\n",
       "        text-align: right;\n",
       "    }\n",
       "</style>\n",
       "<table border=\"1\" class=\"dataframe\">\n",
       "  <thead>\n",
       "    <tr style=\"text-align: right;\">\n",
       "      <th></th>\n",
       "      <th>Date</th>\n",
       "      <th>Year</th>\n",
       "      <th>Type</th>\n",
       "      <th>Country</th>\n",
       "      <th>State</th>\n",
       "      <th>Location</th>\n",
       "      <th>Activity</th>\n",
       "      <th>Name</th>\n",
       "      <th>Gender</th>\n",
       "      <th>Age</th>\n",
       "      <th>Injury</th>\n",
       "      <th>Fatal</th>\n",
       "      <th>Time</th>\n",
       "      <th>Species</th>\n",
       "      <th>Source</th>\n",
       "      <th>Link</th>\n",
       "      <th>Case_Number</th>\n",
       "      <th>Original_Order</th>\n",
       "      <th>Month</th>\n",
       "      <th>Cleaned_Date</th>\n",
       "    </tr>\n",
       "  </thead>\n",
       "  <tbody>\n",
       "    <tr>\n",
       "      <th>48</th>\n",
       "      <td>15 mar 2024</td>\n",
       "      <td>2024.0</td>\n",
       "      <td>Unprovoked</td>\n",
       "      <td>AUSTRALIA</td>\n",
       "      <td>Queensland</td>\n",
       "      <td>Bargara Beach</td>\n",
       "      <td>Swimming</td>\n",
       "      <td>Brooklyn Sauer</td>\n",
       "      <td>F</td>\n",
       "      <td>13</td>\n",
       "      <td>Minor injuries to back, abdomen and legs</td>\n",
       "      <td>N</td>\n",
       "      <td>16h00</td>\n",
       "      <td>Tiger shark</td>\n",
       "      <td>Yahoo News, 3/15/2024</td>\n",
       "      <td>Unknown</td>\n",
       "      <td>NaN</td>\n",
       "      <td>NaN</td>\n",
       "      <td>Mar</td>\n",
       "      <td>NaN</td>\n",
       "    </tr>\n",
       "    <tr>\n",
       "      <th>49</th>\n",
       "      <td>04 mar 2024</td>\n",
       "      <td>2024.0</td>\n",
       "      <td>Unprovoked</td>\n",
       "      <td>USA</td>\n",
       "      <td>Hawaii</td>\n",
       "      <td>Old Man's, Waikiki</td>\n",
       "      <td>Surfing</td>\n",
       "      <td>Matthew White</td>\n",
       "      <td>M</td>\n",
       "      <td>NaN</td>\n",
       "      <td>No injury, shark bit surfboard</td>\n",
       "      <td>N</td>\n",
       "      <td>NaN</td>\n",
       "      <td>Tiger shark 8'</td>\n",
       "      <td>Surfer, 3/6/2024F</td>\n",
       "      <td>Unknown</td>\n",
       "      <td>NaN</td>\n",
       "      <td>NaN</td>\n",
       "      <td>Mar</td>\n",
       "      <td>NaN</td>\n",
       "    </tr>\n",
       "    <tr>\n",
       "      <th>50</th>\n",
       "      <td>02 mar-2024</td>\n",
       "      <td>2024.0</td>\n",
       "      <td>Unprovoked</td>\n",
       "      <td>USA</td>\n",
       "      <td>Hawaii</td>\n",
       "      <td>Rainbows, Oahu</td>\n",
       "      <td>Swimming</td>\n",
       "      <td>Not stated</td>\n",
       "      <td>F</td>\n",
       "      <td>11</td>\n",
       "      <td>Lacerations to left foot</td>\n",
       "      <td>N</td>\n",
       "      <td>13h30</td>\n",
       "      <td>3' to 4' shark</td>\n",
       "      <td>Hawaii News Now, 3/4/2024</td>\n",
       "      <td>Unknown</td>\n",
       "      <td>NaN</td>\n",
       "      <td>NaN</td>\n",
       "      <td>Mar</td>\n",
       "      <td>NaN</td>\n",
       "    </tr>\n",
       "    <tr>\n",
       "      <th>51</th>\n",
       "      <td>25 feb-2024</td>\n",
       "      <td>2024.0</td>\n",
       "      <td>Unprovoked</td>\n",
       "      <td>AUSTRALIA</td>\n",
       "      <td>Western Australia</td>\n",
       "      <td>Sandlnd Island, Jurian Bay</td>\n",
       "      <td>Swimming</td>\n",
       "      <td>female</td>\n",
       "      <td>F</td>\n",
       "      <td>46</td>\n",
       "      <td>Leg bitten</td>\n",
       "      <td>N</td>\n",
       "      <td>11h30</td>\n",
       "      <td>Tiger shark</td>\n",
       "      <td>WA Today, 2/26/2024</td>\n",
       "      <td>Unknown</td>\n",
       "      <td>NaN</td>\n",
       "      <td>NaN</td>\n",
       "      <td>Feb</td>\n",
       "      <td>NaN</td>\n",
       "    </tr>\n",
       "    <tr>\n",
       "      <th>52</th>\n",
       "      <td>14 feb-2024</td>\n",
       "      <td>2024.0</td>\n",
       "      <td>Unprovoked</td>\n",
       "      <td>INDIA</td>\n",
       "      <td>Maharashtra</td>\n",
       "      <td>Vaitarna River, Palghar District</td>\n",
       "      <td>Fishing</td>\n",
       "      <td>Vicky Suresh Govari</td>\n",
       "      <td>M</td>\n",
       "      <td>32</td>\n",
       "      <td>Calf of lower left leg injured</td>\n",
       "      <td>N</td>\n",
       "      <td>NaN</td>\n",
       "      <td>Bull shark, 7'</td>\n",
       "      <td>Times of India, 2/14/2024</td>\n",
       "      <td>Unknown</td>\n",
       "      <td>NaN</td>\n",
       "      <td>NaN</td>\n",
       "      <td>Feb</td>\n",
       "      <td>NaN</td>\n",
       "    </tr>\n",
       "    <tr>\n",
       "      <th>...</th>\n",
       "      <td>...</td>\n",
       "      <td>...</td>\n",
       "      <td>...</td>\n",
       "      <td>...</td>\n",
       "      <td>...</td>\n",
       "      <td>...</td>\n",
       "      <td>...</td>\n",
       "      <td>...</td>\n",
       "      <td>...</td>\n",
       "      <td>...</td>\n",
       "      <td>...</td>\n",
       "      <td>...</td>\n",
       "      <td>...</td>\n",
       "      <td>...</td>\n",
       "      <td>...</td>\n",
       "      <td>...</td>\n",
       "      <td>...</td>\n",
       "      <td>...</td>\n",
       "      <td>...</td>\n",
       "      <td>...</td>\n",
       "    </tr>\n",
       "    <tr>\n",
       "      <th>6989</th>\n",
       "      <td>before 1903</td>\n",
       "      <td>0.0</td>\n",
       "      <td>Unprovoked</td>\n",
       "      <td>AUSTRALIA</td>\n",
       "      <td>Western Australia</td>\n",
       "      <td>Roebuck Bay</td>\n",
       "      <td>Diving</td>\n",
       "      <td>male</td>\n",
       "      <td>M</td>\n",
       "      <td>NaN</td>\n",
       "      <td>FATAL</td>\n",
       "      <td>Y</td>\n",
       "      <td>NaN</td>\n",
       "      <td>Unknown</td>\n",
       "      <td>H. Taunton; N. Bartlett,  p. 234</td>\n",
       "      <td>http://sharkattackfile.net/spreadsheets/pdf_di...</td>\n",
       "      <td>ND.0005</td>\n",
       "      <td>6.0</td>\n",
       "      <td>Unknown</td>\n",
       "      <td>NaN</td>\n",
       "    </tr>\n",
       "    <tr>\n",
       "      <th>6990</th>\n",
       "      <td>before 1903</td>\n",
       "      <td>0.0</td>\n",
       "      <td>Unprovoked</td>\n",
       "      <td>AUSTRALIA</td>\n",
       "      <td>Western Australia</td>\n",
       "      <td>Unknown</td>\n",
       "      <td>Pearl diving</td>\n",
       "      <td>Ahmun</td>\n",
       "      <td>M</td>\n",
       "      <td>NaN</td>\n",
       "      <td>FATAL</td>\n",
       "      <td>Y</td>\n",
       "      <td>NaN</td>\n",
       "      <td>Unknown</td>\n",
       "      <td>H. Taunton; N. Bartlett,  pp. 233-234</td>\n",
       "      <td>http://sharkattackfile.net/spreadsheets/pdf_di...</td>\n",
       "      <td>ND.0004</td>\n",
       "      <td>5.0</td>\n",
       "      <td>Unknown</td>\n",
       "      <td>NaN</td>\n",
       "    </tr>\n",
       "    <tr>\n",
       "      <th>6991</th>\n",
       "      <td>1900-1905</td>\n",
       "      <td>0.0</td>\n",
       "      <td>Unprovoked</td>\n",
       "      <td>USA</td>\n",
       "      <td>North Carolina</td>\n",
       "      <td>Ocracoke Inlet</td>\n",
       "      <td>Swimming</td>\n",
       "      <td>Coast Guard personnel</td>\n",
       "      <td>M</td>\n",
       "      <td>NaN</td>\n",
       "      <td>FATAL</td>\n",
       "      <td>Y</td>\n",
       "      <td>NaN</td>\n",
       "      <td>Unknown</td>\n",
       "      <td>F. Schwartz, p.23; C. Creswell, GSAF</td>\n",
       "      <td>http://sharkattackfile.net/spreadsheets/pdf_di...</td>\n",
       "      <td>ND.0003</td>\n",
       "      <td>4.0</td>\n",
       "      <td>Unknown</td>\n",
       "      <td>NaN</td>\n",
       "    </tr>\n",
       "    <tr>\n",
       "      <th>6992</th>\n",
       "      <td>1883-1889</td>\n",
       "      <td>0.0</td>\n",
       "      <td>Unprovoked</td>\n",
       "      <td>PANAMA</td>\n",
       "      <td>Unknown</td>\n",
       "      <td>Panama Bay 8ºN, 79ºW</td>\n",
       "      <td>Unknown</td>\n",
       "      <td>Jules Patterson</td>\n",
       "      <td>M</td>\n",
       "      <td>NaN</td>\n",
       "      <td>FATAL</td>\n",
       "      <td>Y</td>\n",
       "      <td>NaN</td>\n",
       "      <td>Unknown</td>\n",
       "      <td>The Sun, 10/20/1938</td>\n",
       "      <td>http://sharkattackfile.net/spreadsheets/pdf_di...</td>\n",
       "      <td>ND.0002</td>\n",
       "      <td>3.0</td>\n",
       "      <td>Unknown</td>\n",
       "      <td>NaN</td>\n",
       "    </tr>\n",
       "    <tr>\n",
       "      <th>6993</th>\n",
       "      <td>1845-1853</td>\n",
       "      <td>0.0</td>\n",
       "      <td>Unprovoked</td>\n",
       "      <td>CEYLON (SRI LANKA)</td>\n",
       "      <td>Eastern Province</td>\n",
       "      <td>Below the English fort, Trincomalee</td>\n",
       "      <td>Swimming</td>\n",
       "      <td>male</td>\n",
       "      <td>M</td>\n",
       "      <td>15</td>\n",
       "      <td>FATAL. \"Shark bit him in half, carrying away t...</td>\n",
       "      <td>Y</td>\n",
       "      <td>NaN</td>\n",
       "      <td>Unknown</td>\n",
       "      <td>S.W. Baker</td>\n",
       "      <td>http://sharkattackfile.net/spreadsheets/pdf_di...</td>\n",
       "      <td>ND.0001</td>\n",
       "      <td>2.0</td>\n",
       "      <td>Unknown</td>\n",
       "      <td>NaN</td>\n",
       "    </tr>\n",
       "  </tbody>\n",
       "</table>\n",
       "<p>6945 rows × 20 columns</p>\n",
       "</div>"
      ],
      "text/plain": [
       "             Date    Year        Type             Country              State  \\\n",
       "48    15 mar 2024  2024.0  Unprovoked           AUSTRALIA         Queensland   \n",
       "49    04 mar 2024  2024.0  Unprovoked                 USA             Hawaii   \n",
       "50    02 mar-2024  2024.0  Unprovoked                 USA             Hawaii   \n",
       "51    25 feb-2024  2024.0  Unprovoked           AUSTRALIA  Western Australia   \n",
       "52    14 feb-2024  2024.0  Unprovoked               INDIA        Maharashtra   \n",
       "...           ...     ...         ...                 ...                ...   \n",
       "6989  before 1903     0.0  Unprovoked           AUSTRALIA  Western Australia   \n",
       "6990  before 1903     0.0  Unprovoked           AUSTRALIA  Western Australia   \n",
       "6991    1900-1905     0.0  Unprovoked                 USA     North Carolina   \n",
       "6992    1883-1889     0.0  Unprovoked              PANAMA            Unknown   \n",
       "6993    1845-1853     0.0  Unprovoked  CEYLON (SRI LANKA)   Eastern Province   \n",
       "\n",
       "                                 Location      Activity  \\\n",
       "48                          Bargara Beach      Swimming   \n",
       "49                     Old Man's, Waikiki       Surfing   \n",
       "50                         Rainbows, Oahu      Swimming   \n",
       "51             Sandlnd Island, Jurian Bay      Swimming   \n",
       "52       Vaitarna River, Palghar District       Fishing   \n",
       "...                                   ...           ...   \n",
       "6989                          Roebuck Bay        Diving   \n",
       "6990                              Unknown  Pearl diving   \n",
       "6991                       Ocracoke Inlet      Swimming   \n",
       "6992                 Panama Bay 8ºN, 79ºW       Unknown   \n",
       "6993  Below the English fort, Trincomalee      Swimming   \n",
       "\n",
       "                       Name Gender  Age  \\\n",
       "48           Brooklyn Sauer      F   13   \n",
       "49            Matthew White      M  NaN   \n",
       "50               Not stated      F   11   \n",
       "51                   female      F   46   \n",
       "52      Vicky Suresh Govari      M   32   \n",
       "...                     ...    ...  ...   \n",
       "6989                   male      M  NaN   \n",
       "6990                  Ahmun      M  NaN   \n",
       "6991  Coast Guard personnel      M  NaN   \n",
       "6992        Jules Patterson      M  NaN   \n",
       "6993                   male      M   15   \n",
       "\n",
       "                                                 Injury Fatal   Time  \\\n",
       "48             Minor injuries to back, abdomen and legs     N  16h00   \n",
       "49                       No injury, shark bit surfboard     N    NaN   \n",
       "50                             Lacerations to left foot     N  13h30   \n",
       "51                                           Leg bitten     N  11h30   \n",
       "52                       Calf of lower left leg injured     N    NaN   \n",
       "...                                                 ...   ...    ...   \n",
       "6989                                              FATAL     Y    NaN   \n",
       "6990                                              FATAL     Y    NaN   \n",
       "6991                                              FATAL     Y    NaN   \n",
       "6992                                              FATAL     Y    NaN   \n",
       "6993  FATAL. \"Shark bit him in half, carrying away t...     Y    NaN   \n",
       "\n",
       "             Species                                 Source  \\\n",
       "48       Tiger shark                  Yahoo News, 3/15/2024   \n",
       "49    Tiger shark 8'                      Surfer, 3/6/2024F   \n",
       "50    3' to 4' shark              Hawaii News Now, 3/4/2024   \n",
       "51       Tiger shark                    WA Today, 2/26/2024   \n",
       "52    Bull shark, 7'              Times of India, 2/14/2024   \n",
       "...              ...                                    ...   \n",
       "6989         Unknown       H. Taunton; N. Bartlett,  p. 234   \n",
       "6990         Unknown  H. Taunton; N. Bartlett,  pp. 233-234   \n",
       "6991         Unknown   F. Schwartz, p.23; C. Creswell, GSAF   \n",
       "6992         Unknown                    The Sun, 10/20/1938   \n",
       "6993         Unknown                             S.W. Baker   \n",
       "\n",
       "                                                   Link Case_Number  \\\n",
       "48                                              Unknown         NaN   \n",
       "49                                              Unknown         NaN   \n",
       "50                                              Unknown         NaN   \n",
       "51                                              Unknown         NaN   \n",
       "52                                              Unknown         NaN   \n",
       "...                                                 ...         ...   \n",
       "6989  http://sharkattackfile.net/spreadsheets/pdf_di...     ND.0005   \n",
       "6990  http://sharkattackfile.net/spreadsheets/pdf_di...     ND.0004   \n",
       "6991  http://sharkattackfile.net/spreadsheets/pdf_di...     ND.0003   \n",
       "6992  http://sharkattackfile.net/spreadsheets/pdf_di...     ND.0002   \n",
       "6993  http://sharkattackfile.net/spreadsheets/pdf_di...     ND.0001   \n",
       "\n",
       "      Original_Order    Month Cleaned_Date  \n",
       "48               NaN      Mar          NaN  \n",
       "49               NaN      Mar          NaN  \n",
       "50               NaN      Mar          NaN  \n",
       "51               NaN      Feb          NaN  \n",
       "52               NaN      Feb          NaN  \n",
       "...              ...      ...          ...  \n",
       "6989             6.0  Unknown          NaN  \n",
       "6990             5.0  Unknown          NaN  \n",
       "6991             4.0  Unknown          NaN  \n",
       "6992             3.0  Unknown          NaN  \n",
       "6993             2.0  Unknown          NaN  \n",
       "\n",
       "[6945 rows x 20 columns]"
      ]
     },
     "execution_count": 2356,
     "metadata": {},
     "output_type": "execute_result"
    }
   ],
   "source": [
    "# Show only rows where Cleaned_Date is NaN\n",
    "missing_rows = df[df[\"Cleaned_Date\"].isna()]\n",
    "missing_rows"
   ]
  },
  {
   "cell_type": "code",
   "execution_count": 2357,
   "metadata": {},
   "outputs": [
    {
     "data": {
      "text/html": [
       "<div>\n",
       "<style scoped>\n",
       "    .dataframe tbody tr th:only-of-type {\n",
       "        vertical-align: middle;\n",
       "    }\n",
       "\n",
       "    .dataframe tbody tr th {\n",
       "        vertical-align: top;\n",
       "    }\n",
       "\n",
       "    .dataframe thead th {\n",
       "        text-align: right;\n",
       "    }\n",
       "</style>\n",
       "<table border=\"1\" class=\"dataframe\">\n",
       "  <thead>\n",
       "    <tr style=\"text-align: right;\">\n",
       "      <th></th>\n",
       "      <th>Date</th>\n",
       "      <th>Year</th>\n",
       "      <th>Type</th>\n",
       "      <th>Country</th>\n",
       "      <th>State</th>\n",
       "      <th>Location</th>\n",
       "      <th>Activity</th>\n",
       "      <th>Name</th>\n",
       "      <th>Gender</th>\n",
       "      <th>Age</th>\n",
       "      <th>Injury</th>\n",
       "      <th>Fatal</th>\n",
       "      <th>Time</th>\n",
       "      <th>Species</th>\n",
       "      <th>Source</th>\n",
       "      <th>Link</th>\n",
       "      <th>Case_Number</th>\n",
       "      <th>Original_Order</th>\n",
       "      <th>Month</th>\n",
       "      <th>Cleaned_Date</th>\n",
       "    </tr>\n",
       "  </thead>\n",
       "  <tbody>\n",
       "    <tr>\n",
       "      <th>0</th>\n",
       "      <td>2025-02-07 00:00:00</td>\n",
       "      <td>2025.0</td>\n",
       "      <td>Unprovoked</td>\n",
       "      <td>Turks and Caicos</td>\n",
       "      <td>Unknown</td>\n",
       "      <td>Thompson Cove Beach</td>\n",
       "      <td>Swimming</td>\n",
       "      <td>Unknown</td>\n",
       "      <td>F</td>\n",
       "      <td>55</td>\n",
       "      <td>Unknown</td>\n",
       "      <td>N</td>\n",
       "      <td>Unknown</td>\n",
       "      <td>Unknown</td>\n",
       "      <td>Todd Smith: Platform X</td>\n",
       "      <td>Unknown</td>\n",
       "      <td>NaN</td>\n",
       "      <td>NaN</td>\n",
       "      <td>Unknown</td>\n",
       "      <td>07-02-2025</td>\n",
       "    </tr>\n",
       "    <tr>\n",
       "      <th>1</th>\n",
       "      <td>2025-02-03 00:00:00</td>\n",
       "      <td>2025.0</td>\n",
       "      <td>Unprovoked</td>\n",
       "      <td>Australia</td>\n",
       "      <td>Queensland</td>\n",
       "      <td>Woorim Beach, Bribie Island,</td>\n",
       "      <td>Swimming</td>\n",
       "      <td>Charlize Zmuda</td>\n",
       "      <td>F</td>\n",
       "      <td>17</td>\n",
       "      <td>Bites to arm and upper body</td>\n",
       "      <td>Y</td>\n",
       "      <td>1645 hrs</td>\n",
       "      <td>Bull shark</td>\n",
       "      <td>9 News: The Brisbane Times: The Guardian</td>\n",
       "      <td>Unknown</td>\n",
       "      <td>NaN</td>\n",
       "      <td>NaN</td>\n",
       "      <td>Unknown</td>\n",
       "      <td>03-02-2025</td>\n",
       "    </tr>\n",
       "    <tr>\n",
       "      <th>2</th>\n",
       "      <td>2025-01-23 00:00:00</td>\n",
       "      <td>2025.0</td>\n",
       "      <td>Unprovoked</td>\n",
       "      <td>Australia</td>\n",
       "      <td>Western Australia</td>\n",
       "      <td>Shipwreck Cove</td>\n",
       "      <td>Bathing</td>\n",
       "      <td>Boy</td>\n",
       "      <td>M</td>\n",
       "      <td>12</td>\n",
       "      <td>Minor bite to lower body</td>\n",
       "      <td>N</td>\n",
       "      <td>1711hrs</td>\n",
       "      <td>Not stated</td>\n",
       "      <td>Bob Myatt GSAF</td>\n",
       "      <td>Unknown</td>\n",
       "      <td>NaN</td>\n",
       "      <td>NaN</td>\n",
       "      <td>Unknown</td>\n",
       "      <td>23-01-2025</td>\n",
       "    </tr>\n",
       "    <tr>\n",
       "      <th>3</th>\n",
       "      <td>2025-01-22 00:00:00</td>\n",
       "      <td>2025.0</td>\n",
       "      <td>Unprovoked</td>\n",
       "      <td>Australia</td>\n",
       "      <td>Western Australia</td>\n",
       "      <td>Cheynes beach</td>\n",
       "      <td>Surfing</td>\n",
       "      <td>Dale Kittow</td>\n",
       "      <td>M</td>\n",
       "      <td>37</td>\n",
       "      <td>None - chunk of surfboard  bitten out</td>\n",
       "      <td>N</td>\n",
       "      <td>1600hrs</td>\n",
       "      <td>Bronze whaler</td>\n",
       "      <td>Bob Myatt GSAF</td>\n",
       "      <td>Unknown</td>\n",
       "      <td>NaN</td>\n",
       "      <td>NaN</td>\n",
       "      <td>Unknown</td>\n",
       "      <td>22-01-2025</td>\n",
       "    </tr>\n",
       "    <tr>\n",
       "      <th>4</th>\n",
       "      <td>2025-01-11 00:00:00</td>\n",
       "      <td>2025.0</td>\n",
       "      <td>Provoked</td>\n",
       "      <td>USA</td>\n",
       "      <td>Hawaii</td>\n",
       "      <td>Off Haleiwa Boat Harbour Oahu</td>\n",
       "      <td>Diving</td>\n",
       "      <td>Male not stated was a dive tour worker</td>\n",
       "      <td>M</td>\n",
       "      <td>23</td>\n",
       "      <td>Bitten on the arm</td>\n",
       "      <td>N</td>\n",
       "      <td>1340hrs</td>\n",
       "      <td>Not stated</td>\n",
       "      <td>Kevin McMurray Trackingsharks.com</td>\n",
       "      <td>Unknown</td>\n",
       "      <td>NaN</td>\n",
       "      <td>NaN</td>\n",
       "      <td>Unknown</td>\n",
       "      <td>11-01-2025</td>\n",
       "    </tr>\n",
       "    <tr>\n",
       "      <th>...</th>\n",
       "      <td>...</td>\n",
       "      <td>...</td>\n",
       "      <td>...</td>\n",
       "      <td>...</td>\n",
       "      <td>...</td>\n",
       "      <td>...</td>\n",
       "      <td>...</td>\n",
       "      <td>...</td>\n",
       "      <td>...</td>\n",
       "      <td>...</td>\n",
       "      <td>...</td>\n",
       "      <td>...</td>\n",
       "      <td>...</td>\n",
       "      <td>...</td>\n",
       "      <td>...</td>\n",
       "      <td>...</td>\n",
       "      <td>...</td>\n",
       "      <td>...</td>\n",
       "      <td>...</td>\n",
       "      <td>...</td>\n",
       "    </tr>\n",
       "    <tr>\n",
       "      <th>6989</th>\n",
       "      <td>before 1903</td>\n",
       "      <td>0.0</td>\n",
       "      <td>Unprovoked</td>\n",
       "      <td>AUSTRALIA</td>\n",
       "      <td>Western Australia</td>\n",
       "      <td>Roebuck Bay</td>\n",
       "      <td>Diving</td>\n",
       "      <td>male</td>\n",
       "      <td>M</td>\n",
       "      <td>NaN</td>\n",
       "      <td>FATAL</td>\n",
       "      <td>Y</td>\n",
       "      <td>NaN</td>\n",
       "      <td>Unknown</td>\n",
       "      <td>H. Taunton; N. Bartlett,  p. 234</td>\n",
       "      <td>http://sharkattackfile.net/spreadsheets/pdf_di...</td>\n",
       "      <td>ND.0005</td>\n",
       "      <td>6.0</td>\n",
       "      <td>Unknown</td>\n",
       "      <td>NaN</td>\n",
       "    </tr>\n",
       "    <tr>\n",
       "      <th>6990</th>\n",
       "      <td>before 1903</td>\n",
       "      <td>0.0</td>\n",
       "      <td>Unprovoked</td>\n",
       "      <td>AUSTRALIA</td>\n",
       "      <td>Western Australia</td>\n",
       "      <td>Unknown</td>\n",
       "      <td>Pearl diving</td>\n",
       "      <td>Ahmun</td>\n",
       "      <td>M</td>\n",
       "      <td>NaN</td>\n",
       "      <td>FATAL</td>\n",
       "      <td>Y</td>\n",
       "      <td>NaN</td>\n",
       "      <td>Unknown</td>\n",
       "      <td>H. Taunton; N. Bartlett,  pp. 233-234</td>\n",
       "      <td>http://sharkattackfile.net/spreadsheets/pdf_di...</td>\n",
       "      <td>ND.0004</td>\n",
       "      <td>5.0</td>\n",
       "      <td>Unknown</td>\n",
       "      <td>NaN</td>\n",
       "    </tr>\n",
       "    <tr>\n",
       "      <th>6991</th>\n",
       "      <td>1900-1905</td>\n",
       "      <td>0.0</td>\n",
       "      <td>Unprovoked</td>\n",
       "      <td>USA</td>\n",
       "      <td>North Carolina</td>\n",
       "      <td>Ocracoke Inlet</td>\n",
       "      <td>Swimming</td>\n",
       "      <td>Coast Guard personnel</td>\n",
       "      <td>M</td>\n",
       "      <td>NaN</td>\n",
       "      <td>FATAL</td>\n",
       "      <td>Y</td>\n",
       "      <td>NaN</td>\n",
       "      <td>Unknown</td>\n",
       "      <td>F. Schwartz, p.23; C. Creswell, GSAF</td>\n",
       "      <td>http://sharkattackfile.net/spreadsheets/pdf_di...</td>\n",
       "      <td>ND.0003</td>\n",
       "      <td>4.0</td>\n",
       "      <td>Unknown</td>\n",
       "      <td>NaN</td>\n",
       "    </tr>\n",
       "    <tr>\n",
       "      <th>6992</th>\n",
       "      <td>1883-1889</td>\n",
       "      <td>0.0</td>\n",
       "      <td>Unprovoked</td>\n",
       "      <td>PANAMA</td>\n",
       "      <td>Unknown</td>\n",
       "      <td>Panama Bay 8ºN, 79ºW</td>\n",
       "      <td>Unknown</td>\n",
       "      <td>Jules Patterson</td>\n",
       "      <td>M</td>\n",
       "      <td>NaN</td>\n",
       "      <td>FATAL</td>\n",
       "      <td>Y</td>\n",
       "      <td>NaN</td>\n",
       "      <td>Unknown</td>\n",
       "      <td>The Sun, 10/20/1938</td>\n",
       "      <td>http://sharkattackfile.net/spreadsheets/pdf_di...</td>\n",
       "      <td>ND.0002</td>\n",
       "      <td>3.0</td>\n",
       "      <td>Unknown</td>\n",
       "      <td>NaN</td>\n",
       "    </tr>\n",
       "    <tr>\n",
       "      <th>6993</th>\n",
       "      <td>1845-1853</td>\n",
       "      <td>0.0</td>\n",
       "      <td>Unprovoked</td>\n",
       "      <td>CEYLON (SRI LANKA)</td>\n",
       "      <td>Eastern Province</td>\n",
       "      <td>Below the English fort, Trincomalee</td>\n",
       "      <td>Swimming</td>\n",
       "      <td>male</td>\n",
       "      <td>M</td>\n",
       "      <td>15</td>\n",
       "      <td>FATAL. \"Shark bit him in half, carrying away t...</td>\n",
       "      <td>Y</td>\n",
       "      <td>NaN</td>\n",
       "      <td>Unknown</td>\n",
       "      <td>S.W. Baker</td>\n",
       "      <td>http://sharkattackfile.net/spreadsheets/pdf_di...</td>\n",
       "      <td>ND.0001</td>\n",
       "      <td>2.0</td>\n",
       "      <td>Unknown</td>\n",
       "      <td>NaN</td>\n",
       "    </tr>\n",
       "  </tbody>\n",
       "</table>\n",
       "<p>6994 rows × 20 columns</p>\n",
       "</div>"
      ],
      "text/plain": [
       "                     Date    Year        Type             Country  \\\n",
       "0     2025-02-07 00:00:00  2025.0  Unprovoked    Turks and Caicos   \n",
       "1     2025-02-03 00:00:00  2025.0  Unprovoked           Australia   \n",
       "2     2025-01-23 00:00:00  2025.0  Unprovoked           Australia   \n",
       "3     2025-01-22 00:00:00  2025.0  Unprovoked           Australia   \n",
       "4     2025-01-11 00:00:00  2025.0    Provoked                 USA   \n",
       "...                   ...     ...         ...                 ...   \n",
       "6989          before 1903     0.0  Unprovoked           AUSTRALIA   \n",
       "6990          before 1903     0.0  Unprovoked           AUSTRALIA   \n",
       "6991            1900-1905     0.0  Unprovoked                 USA   \n",
       "6992            1883-1889     0.0  Unprovoked              PANAMA   \n",
       "6993            1845-1853     0.0  Unprovoked  CEYLON (SRI LANKA)   \n",
       "\n",
       "                  State                             Location      Activity  \\\n",
       "0               Unknown                  Thompson Cove Beach      Swimming   \n",
       "1            Queensland         Woorim Beach, Bribie Island,      Swimming   \n",
       "2     Western Australia                       Shipwreck Cove       Bathing   \n",
       "3     Western Australia                        Cheynes beach       Surfing   \n",
       "4                Hawaii        Off Haleiwa Boat Harbour Oahu        Diving   \n",
       "...                 ...                                  ...           ...   \n",
       "6989  Western Australia                          Roebuck Bay        Diving   \n",
       "6990  Western Australia                              Unknown  Pearl diving   \n",
       "6991     North Carolina                       Ocracoke Inlet      Swimming   \n",
       "6992            Unknown                 Panama Bay 8ºN, 79ºW       Unknown   \n",
       "6993   Eastern Province  Below the English fort, Trincomalee      Swimming   \n",
       "\n",
       "                                        Name Gender  Age  \\\n",
       "0                                    Unknown      F   55   \n",
       "1                             Charlize Zmuda      F   17   \n",
       "2                                        Boy      M   12   \n",
       "3                                Dale Kittow      M   37   \n",
       "4     Male not stated was a dive tour worker      M   23   \n",
       "...                                      ...    ...  ...   \n",
       "6989                                    male      M  NaN   \n",
       "6990                                   Ahmun      M  NaN   \n",
       "6991                   Coast Guard personnel      M  NaN   \n",
       "6992                         Jules Patterson      M  NaN   \n",
       "6993                                    male      M   15   \n",
       "\n",
       "                                                 Injury Fatal      Time  \\\n",
       "0                                               Unknown     N   Unknown   \n",
       "1                           Bites to arm and upper body     Y  1645 hrs   \n",
       "2                              Minor bite to lower body     N   1711hrs   \n",
       "3                 None - chunk of surfboard  bitten out     N   1600hrs   \n",
       "4                                     Bitten on the arm     N   1340hrs   \n",
       "...                                                 ...   ...       ...   \n",
       "6989                                              FATAL     Y       NaN   \n",
       "6990                                              FATAL     Y       NaN   \n",
       "6991                                              FATAL     Y       NaN   \n",
       "6992                                              FATAL     Y       NaN   \n",
       "6993  FATAL. \"Shark bit him in half, carrying away t...     Y       NaN   \n",
       "\n",
       "            Species                                    Source  \\\n",
       "0           Unknown                    Todd Smith: Platform X   \n",
       "1        Bull shark  9 News: The Brisbane Times: The Guardian   \n",
       "2        Not stated                            Bob Myatt GSAF   \n",
       "3     Bronze whaler                            Bob Myatt GSAF   \n",
       "4        Not stated         Kevin McMurray Trackingsharks.com   \n",
       "...             ...                                       ...   \n",
       "6989        Unknown          H. Taunton; N. Bartlett,  p. 234   \n",
       "6990        Unknown     H. Taunton; N. Bartlett,  pp. 233-234   \n",
       "6991        Unknown      F. Schwartz, p.23; C. Creswell, GSAF   \n",
       "6992        Unknown                       The Sun, 10/20/1938   \n",
       "6993        Unknown                                S.W. Baker   \n",
       "\n",
       "                                                   Link Case_Number  \\\n",
       "0                                               Unknown         NaN   \n",
       "1                                               Unknown         NaN   \n",
       "2                                               Unknown         NaN   \n",
       "3                                               Unknown         NaN   \n",
       "4                                               Unknown         NaN   \n",
       "...                                                 ...         ...   \n",
       "6989  http://sharkattackfile.net/spreadsheets/pdf_di...     ND.0005   \n",
       "6990  http://sharkattackfile.net/spreadsheets/pdf_di...     ND.0004   \n",
       "6991  http://sharkattackfile.net/spreadsheets/pdf_di...     ND.0003   \n",
       "6992  http://sharkattackfile.net/spreadsheets/pdf_di...     ND.0002   \n",
       "6993  http://sharkattackfile.net/spreadsheets/pdf_di...     ND.0001   \n",
       "\n",
       "      Original_Order    Month Cleaned_Date  \n",
       "0                NaN  Unknown   07-02-2025  \n",
       "1                NaN  Unknown   03-02-2025  \n",
       "2                NaN  Unknown   23-01-2025  \n",
       "3                NaN  Unknown   22-01-2025  \n",
       "4                NaN  Unknown   11-01-2025  \n",
       "...              ...      ...          ...  \n",
       "6989             6.0  Unknown          NaN  \n",
       "6990             5.0  Unknown          NaN  \n",
       "6991             4.0  Unknown          NaN  \n",
       "6992             3.0  Unknown          NaN  \n",
       "6993             2.0  Unknown          NaN  \n",
       "\n",
       "[6994 rows x 20 columns]"
      ]
     },
     "metadata": {},
     "output_type": "display_data"
    }
   ],
   "source": [
    "display(df)"
   ]
  },
  {
   "cell_type": "code",
   "execution_count": 2358,
   "metadata": {},
   "outputs": [
    {
     "data": {
      "image/png": "[encoded data removed]",
      "text/plain": [
       "<Figure size 640x480 with 1 Axes>"
      ]
     },
     "metadata": {},
     "output_type": "display_data"
    }
   ],
   "source": [
    "df_count = df.groupby(\"Year\")[\"Date\"].count()\n",
    "df_count[df_count.index > 1750].plot()\n",
    "plt.savefig(\"images/AttacksByYearSince1750\", bbox_inches=\"tight\") "
   ]
  },
  {
   "cell_type": "markdown",
   "metadata": {},
   "source": [
    "### Data Cleaning for the Column 'Type' "
   ]
  },
  {
   "cell_type": "code",
   "execution_count": 2359,
   "metadata": {},
   "outputs": [
    {
     "data": {
      "text/plain": [
       "array(['Unprovoked', 'Provoked', 'Questionable', 'Watercraft',\n",
       "       'Sea Disaster', 'Unknown', '?', 'Unconfirmed', 'Unverified',\n",
       "       'Invalid', 'Under investigation', 'Boat'], dtype=object)"
      ]
     },
     "execution_count": 2359,
     "metadata": {},
     "output_type": "execute_result"
    }
   ],
   "source": [
    "df.Type.unique() "
   ]
  },
  {
   "cell_type": "code",
   "execution_count": 2360,
   "metadata": {},
   "outputs": [
    {
     "name": "stdout",
     "output_type": "stream",
     "text": [
      "Type\n",
      "Unprovoked             5155\n",
      "Provoked                639\n",
      "Invalid                 552\n",
      "Watercraft              355\n",
      "Sea Disaster            242\n",
      "Questionable             22\n",
      "Unknown                  18\n",
      "Boat                      7\n",
      "?                         1\n",
      "Unconfirmed               1\n",
      "Unverified                1\n",
      "Under investigation       1\n",
      "Name: count, dtype: int64\n"
     ]
    }
   ],
   "source": [
    "print(df[\"Type\"].value_counts()) "
   ]
  },
  {
   "cell_type": "code",
   "execution_count": 2361,
   "metadata": {},
   "outputs": [
    {
     "name": "stdout",
     "output_type": "stream",
     "text": [
      "Type\n",
      "Unprovoked             5155\n",
      "Provoked                639\n",
      "Invalid                 552\n",
      "Watercraft              355\n",
      "Sea Disaster            242\n",
      "Questionable             22\n",
      "Unknown                  18\n",
      "Boat                      7\n",
      "?                         1\n",
      "Unconfirmed               1\n",
      "Unverified                1\n",
      "Under investigation       1\n",
      "Name: count, dtype: int64\n"
     ]
    }
   ],
   "source": [
    "print(df[\"Type\"].value_counts(dropna=False)) # I wanted to review the Nan "
   ]
  },
  {
   "cell_type": "code",
   "execution_count": 2362,
   "metadata": {},
   "outputs": [
    {
     "name": "stdout",
     "output_type": "stream",
     "text": [
      "['Unprovoked' 'Provoked' 'Questionable' 'Watercraft' 'Sea Disaster'\n",
      " 'Unknown' '?' 'Unconfirmed' 'Unverified' 'Invalid' 'Under investigation'\n",
      " 'Boat']\n"
     ]
    }
   ],
   "source": [
    "#Reviewing how many were provoked and unprovoked \n",
    "print(df[\"Type\"].unique())"
   ]
  },
  {
   "cell_type": "code",
   "execution_count": 2363,
   "metadata": {},
   "outputs": [
    {
     "name": "stdout",
     "output_type": "stream",
     "text": [
      "Type\n",
      "Unprovoked       5155\n",
      "Provoked          639\n",
      "Unknown           595\n",
      "Water Vehicle     362\n",
      "Sea Disaster      242\n",
      "Unverified          1\n",
      "Name: count, dtype: int64\n"
     ]
    }
   ],
   "source": [
    "df[\"Type\"] = df[\"Type\"].str.strip()\n",
    "df[\"Type\"] = df[\"Type\"].replace({\n",
    "    \" Provoked\": \"Provoked\", \n",
    "    \"Unconfirmed\": \"Unknown\",\n",
    "    \"?\" : \"Unknown\",\n",
    "    \"Invalid\": \"Unknown\",\n",
    "    \"Under investigation\": \"Unknown\",\n",
    "    \"Questionable\": \"Unknown\", \n",
    "    \"Watercraft\" : \"Water Vehicle\", \n",
    "    \"Boat\" : \"Water Vehicle\"\n",
    "})\n",
    "\n",
    "df[\"Type\"] = df[\"Type\"].fillna(\"Unknown\")\n",
    "print(df[\"Type\"].value_counts())"
   ]
  },
  {
   "cell_type": "code",
   "execution_count": 2364,
   "metadata": {},
   "outputs": [],
   "source": [
    "#Filter for Unprovoked Shark Attacks \n",
    "filter_provoked_gen = ((df[\"Type\"] == \"Unprovoked\") & (df[\"Year\"] >= 1960) & (df[\"Year\"]<2025))\n",
    "df = df.loc[filter_provoked_gen]"
   ]
  },
  {
   "cell_type": "markdown",
   "metadata": {},
   "source": [
    "### Data Cleaning for the Column 'Gender'"
   ]
  },
  {
   "cell_type": "code",
   "execution_count": 2365,
   "metadata": {},
   "outputs": [
    {
     "data": {
      "text/plain": [
       "array(['M', 'F', 'Unknown'], dtype=object)"
      ]
     },
     "execution_count": 2365,
     "metadata": {},
     "output_type": "execute_result"
    }
   ],
   "source": [
    "df[\"Gender\"] = df[\"Gender\"].replace({\n",
    "    \" M\": \"M\", \n",
    "    \"M \": \"M\", \n",
    "    \"M x 2\": \"M\", \n",
    "    \" nan\": \"Unknown\", \n",
    "    \"lli\": \"Unknown\", \n",
    "    \"N\": \"M\", \n",
    "    \".\": \"Unknown\"\n",
    "    })\n",
    "df[\"Gender\"] = df[\"Gender\"].fillna(\"Unknown\")\n",
    "df.Gender.unique()"
   ]
  },
  {
   "cell_type": "markdown",
   "metadata": {},
   "source": [
    "### Data Cleaning for the Column 'Species'"
   ]
  },
  {
   "cell_type": "code",
   "execution_count": 2366,
   "metadata": {},
   "outputs": [
    {
     "name": "stdout",
     "output_type": "stream",
     "text": [
      "['Reportedly a Tiger Shark' 'Unknown' 'Not stated'\n",
      " '1m shark species unknown' 'Great White Shark'\n",
      " 'Reported as a large Tiger shark' 'Bull or tiger 7-8ft' 'Bull shark'\n",
      " 'Bull shark 6ft' 'Bull shark 6-7ft' 'Reportedly a Great White'\n",
      " 'Reportedly Tiger Shark' 'Reef shark 6ft (1.8m)' '3m White Shark'\n",
      " 'Undetermined small shall shark' '4-5ft Blacktip shark' 'Not specified'\n",
      " 'Bull shark 6 ft' '6ft shark'\n",
      " 'Not stated area has Tiger and Galapogas sharks'\n",
      " 'Not specified Bull shark highly suspect' 'Large shark' '2.5m shark'\n",
      " '3m Sandbar shark' 'Bull shark 3m' 'Carribean reef shark 7ft'\n",
      " 'Great White' 'Tiger shark' \"Tiger shark 8'\" \"3' to 4' shark\"\n",
      " \"Bull shark, 7'\" 'White shark' \"White shark, 13'\" 'Broze whaler?'\n",
      " 'Sevengill shark' '1.8m bull shark' 'Lemon shark' 'White Shark, 4.5 m'\n",
      " \"8' tiger shark\" \"Nurse shark, 5' to 6'\" \"10' tiger shark\"\n",
      " \"10' to 12' Galapagos shark\" 'Tiger shark?' 'White shark, 3.8-4.2m'\n",
      " 'Blue shark' 'Wfite shark' 'Wobbegong shark' \"8' shark\"\n",
      " 'Oceanic whitetip shark' \"4' shark\" \"3' shark\" 'Sand tiger shark'\n",
      " 'Tiger sharks' \"Tiger shark, 13'\" 'Caribbean rreef shark'\n",
      " 'Grey reef shark, 2 m' 'Caribbean reef shark' \"Bull shark, 4'\" '1m shark'\n",
      " \"Bull shark, 6'\" 'Bronze whaler shark, 1.5 m' \"Tiger shark, 8'-10'\"\n",
      " \"Blacktip reef shark 5'\" '5m to 6m shark' 'A small shark' 'Tiger  shark?'\n",
      " 'Blacktip' 'Juvenile white shark' '3m shark' 'Bu.ll' 'Bronze whaler'\n",
      " 'White shark, 3 m' 'Blacktip shark' \"Bull shark, 9'\" 'Nurse shark'\n",
      " 'Blacktip shark?' \"6' shark\" '\"A small shark\"'\n",
      " \"Thought to involve a 4' sandtiger shark\" \"5'shark\"\n",
      " 'Oceaniic whitetip shark/tiger shark'\n",
      " 'Oceaniic whitetip shark/tiger shark, 2m shark'\n",
      " 'Shark involvement not confirmed' \"9' shark\" 'While shark'\n",
      " \"Tiger shark, 15'\" \"White shark, 16'\" 'Bronze whaler shark, 2m'\n",
      " 'Tiger shark, 2 to 2.5m' 'Tiger shark, 3 m' 'Blacktip or spinner shark'\n",
      " 'Blacktip reef shark' 'dogfish' 'Broadnose seven gill shark'\n",
      " 'White xhark' 'small blacktip shark' 'White shark, 3m'\n",
      " \"Spinner shark, 4'?\" \"2' to 3' shark\" 'Galapagos shark'\n",
      " \"White shark, 6' to 8'\" \"7' to 8' shark\" 'Bronze whaler shark, 2 m'\n",
      " \"5' shark\" 'White shark, 4.5 m' '5 to 8-ff tiger shark' '5.5 ft shark'\n",
      " '1.3m shark' 'Whaler or bull shark, 2m' \"3' to 5' shark\" ''\n",
      " 'Blacktip whaler,      Carcharhinus tilstoni, 2m' \"Blacktip shark, 6'\"\n",
      " 'Tiger shark, 4 m' 'Juvenile shark' '8\" shark' \"Bull shark, 6.5 to 10 '\"\n",
      " 'Tiger shark. 14\\'3\"' 'Tiger shark, 4m' \"Blacktip shark, 6' to 7'\"\n",
      " '\"Reef shark\"' '4m shark' 'Bronze whaler 1.5m' 'Nurse shark, juvenile'\n",
      " \"4' to 5' shark\" 'White shark, 2-to 3m' \"Nurse shark, 5'\"\n",
      " 'Blacktip or Spinner shark' 'White shark, 4m' \"Lemon shark, 8'\"\n",
      " 'Blacktip reef shark, juvenile' \"White shark, 11'?\"\n",
      " \"Reef shark, 5' to 6 '\" \"Bull shark. 6.5'\" \"Bull shark, 4' to 6'\"\n",
      " '2 m shark' 'White shark, 2.5 m' 'Juvenile bull shark?'\n",
      " 'White shark, 3.5 m' \"Bull shark, 8'\" 'Angel shark' \"5' to 6' shark\"\n",
      " 'Broadnose seven gill shark?'\n",
      " 'Shovelnose \"shark\" which is a ray, not a shark)' \"10'-12' tiger shark\"\n",
      " 'Juvenile blacktip shark' \"4' to 5' blacktip shark\"\n",
      " 'Juvenile white shark?' \"7' shark\" \"6' to 7' shark\" \"2' shark\"\n",
      " \"Galapagos shark, 5'-9'\" \"14' white shark\" 'Grey reef shark 1.5m'\n",
      " \"10' to 12' shark\" 'Cookiecutter shark' 'Sandtiger shark' 'shark pup'\n",
      " 'White shark, juvenile' 'Bull shark pup' \"Bull shark, 4' to 5'\"\n",
      " 'Bull shark, 3.5 m'\n",
      " 'Shark involvement unconfirmed but considered probable'\n",
      " 'Tiger shark, 4m to 5m' 'Grey nurse shark, 3 m female'\n",
      " \"Grey reef shark, 4'\" 'Spinner shark' 'Reef shark,' 'White shark, 4.6m'\n",
      " \"Mako shark, 7'\" 'Bronze whaler 2.5m' 'Reef shark x 2'\n",
      " \"White shark, 17' female\" 'Bull shark?' 'White Shark, 3.2m to 3.5m'\n",
      " \"White shark, 11'\" \"Tiger shark, 10' to 12'\" \"5' to 8' shark\"\n",
      " 'Reef shark' \"Said to involve a bull shark, 5' to 6'\"\n",
      " 'Said to involve a blacktip shark' '3 m shark' 'Juvenile bull shark'\n",
      " \"Tiger shark, 12'\" '3.5 m shark' '1.8 m shark'\n",
      " 'Juvenile white shark,  2.7 to 3.2 m' 'Bull shark, 2 m'\n",
      " 'Galapagos shark?' 'Bull shark, 3 m' 'Sicklefin Lemon Shark,'\n",
      " 'Grey reef shark. 2 m' 'small shark' 'Wobbegong shark?' \"Nurse shark. 5'\"\n",
      " 'Great White 6.0m' 'Tiger shark, female' 'White shark, 4.6 m'\n",
      " 'Wobbegong shark, 1 m' 'Spinner shark, 4 to 5 feet'\n",
      " 'Tiger shark, 8 to 10 feet' 'Porbeagle, 1.5 m' 'White shark, 3 to 3.5m'\n",
      " \"White shark, 5' to 7'\" 'Possibly a juvenile blacktip shark'\n",
      " 'Oceanic whitetip shark, 1.8 to 2 m' \"Sandtiger shark  2'\"\n",
      " \"Blue shark 6'\" \"White shark, 8' to 10'\" \"White shark, 9'\"\n",
      " 'Bull shark, 2m' 'White shark, 4 m' 'Seven-gill shark'\n",
      " '3m shark, probably a smooth hound' \"Bull shark, 5' to 7'\" \"10' shark\"\n",
      " 'Bull shark, 1.5' 'Bull shark, 4 m' 'Bull shark, 1 m' 'a small shark'\n",
      " \"6' to 8' shark\" \"Tiger shark, 10'\" \"White shark, 10' to 12'\"\n",
      " \"Lemon shark, 9'\" \"Caribbean reef shark, 4.5'\" '3+ m shark' 'Mako shark'\n",
      " 'Bronze whaler sharks x 3' \"Blacktip shark, 4'\"\n",
      " 'Blacktip shark, juvenile' 'Tiger shark, 2.5 m' \"Reef shark, 5'\"\n",
      " 'Bull sharks x 2' \"Tiger shark, 14'\" \"Silky shark, 6.5'\"\n",
      " \"Bronze whaler shark, 6'\" 'Tiger shark, 1.5 m' \"Spinner shark, 7'\"\n",
      " 'Bull shark, 2.8 to 3.1 m' \"Spinner shark, 5'\" \"Tiger shark, 7'\"\n",
      " \"Blacktip shark, 4' to 5'\" \"Blacktip shark, 5' to 6'\" 'juvenile shark'\n",
      " \"White shark, 11' to 12'\" \"4' shark?\" \"Blacktip or spinner shark, 4'\"\n",
      " 'White shark, 3.9 to 4.2 m' 'Bronze whaler shark, 1.5m' \"White shark, 7'\"\n",
      " 'White shark, 2m to 3 m' \"Bull shark, 5'\" 'small nurse shark'\n",
      " 'Bull shark, 2.5 m' '1m to 1.2 m shark' '3- to 4-foot shark'\n",
      " 'White shark, 6 m' 'Blue shark, 8 to 9 feet' 'Tiger shark, 8 to 12 feet'\n",
      " 'Blacktip Reef shark' 'Tiger shark, 3.5 m' '3.5 to 4 m shark'\n",
      " '2 m to  3 m shark' '1.5 m shark' 'White shark or oceanic whitetip shark'\n",
      " 'Raggedtooth shark, 1.3 m' 'White shark, 4 to 5 m' 'Goblin shark'\n",
      " '1 m shark' \"Bull shark, 3' to 4'\" \"8' to 10' shark\"\n",
      " '2 white shark: 13\\' & 9\"8\"' 'Spinner shark or blacktip shark'\n",
      " \"4' to 6' shark\" 'reef shark' \"Bull shark, 9' to 10'\" \"4' tp 5' shark\"\n",
      " 'Possibly juvenile tiger shark' '1.8 metre shark'\n",
      " \"Caribbean reef shark, 7' to 8'\" \"Sandbar shark, 3' to 4'\"\n",
      " 'Bull shark, 1.2m' \"white shark, 15'\" 'Cow shark' 'reef shark?'\n",
      " '3 m to 4 m white shark' 'Blacktip or spinner shark?' '7-gill shark?'\n",
      " '7-gill shark' 'Reported to involve a bull shark'\n",
      " 'Wobbegong shark, 1.6 to 1.8m' 'Tiger shark, 3m'\n",
      " 'Thought to involve a white shark' \"White shark, 10 '\"\n",
      " 'Reported to involve a white shark' 'Blacktip reef shark, 1m'\n",
      " 'Thought to involve a bull shark' 'Reported to involve a 4 m white shark'\n",
      " \"Whitetip reef shark, 4' to 6'\" 'Nurse shark?' 'Small bull shark'\n",
      " 'Salmon shark' \"Bull shark, 6' to 8'\" \"Tiger shark, 8' to 10'\"\n",
      " \"Possibly a Bull shark, 3'\" 'Grey nurse shark, 3m'\n",
      " 'Possibly a blacktip reef shark' 'Tiger shark, 4.8 m'\n",
      " 'Bronze whaler shark, 2.5m' '\"small sharks\"' 'Bronze whaler shark, 3m'\n",
      " '2.5 m shark' \"Tiger shark, 6'\" \"Tiger shark, 8'\"\n",
      " \"White shark, 15' to 16'\" '2m shark' 'Possibly a 3 m bull shark'\n",
      " \"3.5' to 4' shark\" \"Lemon shark, 4' to 5'\" 'Lemon shark, 2.5m to 3m'\n",
      " 'White shark or bronze whaler' 'White shark, 5m' \"15' shark\"\n",
      " 'possibly a bull shark' 'a small reef shark' 'small blacktip shark?'\n",
      " 'White shark, 2 m' '18\" to 24\" shark' 'Bull shark, 3m'\n",
      " 'White shark, 4 m to 5m' 'Possibly a bull shark'\n",
      " \"Possibly a 5' to 6' bull shark\" 'Grey nurse shark' 'White shark, 2.7 m'\n",
      " 'Allegedly a 4 m tiger shark' 'White shark, 2.5m' \"White shark, 10'\"\n",
      " \"White shark, 15'\" 'Port Jackson shark, 1m' 'Tiger shark, 2m'\n",
      " \"6' shark, possibly a blactip or spinner shark\" \"White shark, >6'\"\n",
      " \"Possibly a 5' to 6' sandtiger shark\" '4 m shark' 'Grey reef shark'\n",
      " 'White shark, 3m to 4m' 'Bull shark, 3m female' \"White shark, 5' k\"\n",
      " \"Sevengill shark, 6' to 8'\" 'Zambesi shark' 'Tiger shark, 2.8m'\n",
      " \"Bull shark, 12'\" 'reef shark, 1.5m' \"1' to 2' shark\"\n",
      " 'possibly a bronze whaler shark' 'Bull shark, 2.5m' '3 m to 4 m shark'\n",
      " 'White shark x 2' 'Oceanic whitetip shark, 2.5m'\n",
      " 'Oceanic whitetip shark, 2.5m, female' \"Porbeagle shark, 8'\"\n",
      " \"White shark, 14' to 18'\" 'Bull shark, 1.4m' \"Possibly a 6' lemon shark\"\n",
      " 'Possibly a small blacktip shark' \"Sandtiger shark, 4' to 5'\"\n",
      " 'A small spinner shark' '20 to 30kg shark' \"14' shark\"\n",
      " \"Oceanic whitetip shark, 6'\" 'Possibly a blue shark'\n",
      " 'Wobbegong shark, 1.6m' 'Thought to involve a juvenile hammerhead shark'\n",
      " 'Whitetip reef shark, 1m' 'Zambesi shark, 2m' 'White shark, 2.8 to 3 m'\n",
      " 'Thresher shark' \"Bull shark, 10'\" \"White shark, 5' to 6' juvenile\"\n",
      " 'White shark, 2m' 'Tiger shark, 12'\n",
      " 'Thought to involve a Bronze whale shark, 2m'\n",
      " 'Oceanic whitetip shark, 2.5 to 3m' 'blacktip or spinner shark'\n",
      " \"White shark, 12' to 15' female\" 'Bronze whaler shark?'\n",
      " 'Blacktip reef shark pup' 'Thought to involve a cookiecutter shark'\n",
      " '2.6 m shark' 'Bull shark, 2.7 m' \"White shark, 12'\" 'White sharks'\n",
      " 'Dusky shark, 2m' 'White shark, 3.5m' 'Broadnose sevengill shark'\n",
      " '4 to 5m white shark' 'Zambesi shark?' '5 m white shark' \"+3' shark\"\n",
      " \"2' to 3' juvenile shark\" \"White shark, 14' to 16'\"\n",
      " \"8' bull shark or Caribbean reef shark\" \"8' white shark or 7-gill shark\"\n",
      " \"3'  shark\" \"2'  shark\" \"2' to 3' reef shark\" \"Bull shark, 6' to 7'\"\n",
      " 'White shark, 4.5m' \"4.5 to 5' shark\" '2 small bull sharks'\n",
      " 'Bull shark, 1.8m' \"White shark, 12' to 15'\" 'Tiger shark, 2.3m'\n",
      " \"1.5' to 2' shark\" \"2.5' shark\"\n",
      " 'A bull shark, according to some of the divers on the boat'\n",
      " 'Blacktip shark, 2m' 'Possibly a hammerhead shark' '\"a small shark\"'\n",
      " '2.27 m shark' '1.5 to 2 m shark' 'Bronze whaler shark'\n",
      " \"Blacktip shark, 5'\" 'Oceanic whitetip sharks were in the vicinity'\n",
      " 'Gray reef shark' \"9.5' shark?\" \"Nurse shark, 2' to 3'\"\n",
      " 'Possibly a spinner shark' \"Possibly a 6' bull shark\"\n",
      " \"Possibly a 10' bull shark\" '2 to 2.5 m shark' '2.4 m shark'\n",
      " \"6' to 8' shark, possibly a tiger shark\" '2.5 to 3 m shark'\n",
      " '2 to 3 m shark' '2 m to 3 m shark' \"1' to 4' shark\" \"3' to 3.5' shark\"\n",
      " '5 m shark' 'Bull shark, 1.5m' 'White shark?' 'Angel shark, 1.2m'\n",
      " 'Bull or tiger shark' \"5' to 6' spinner or bull shark\"\n",
      " '1.8 m blacktip \"reef\" shark'\n",
      " \"Possibly a 1' to 3' blacktip or spinner shark\" \"Tiger shark, 8' to 12'\"\n",
      " 'Bronze whaler shark, a  juvenile' 'Raggedtooth shark, 2.5 m to 3 m'\n",
      " '3 m, 600-kg shark' \"Tiger shark, 5'\" \"5' to 7' shark\"\n",
      " 'Raggedtooth shark' '3.5 m white shark' 'Said to involve a 1.5 m shark'\n",
      " 'Whitetip reef shark' \"12' to 14' white shark\" \"18' white shark\"\n",
      " \"Tiger shark, less than 10'\" 'Caribbean reef sharks'\n",
      " \"14' to 16' white shark\" \"4 m [13'] white shark\" 'juvenile white shark'\n",
      " 'Possibly a sandbar shark or small blacktip shark' \"1.8 m [6'] shark\"\n",
      " \"[4.5' to 5'] shark\" \"[4' to 5']\" \"1.8 m [6'] bull shark\"\n",
      " 'On 8/13/2005 anglers from New Zealand caught a 2.8 m [9\\'3\"], 140-kg [309-lb] shark at the same spot. It was believed this was the same shark that killed Alysha'\n",
      " 'Unknown, but it was reported that a shark tooth was recovered from the wound'\n",
      " \"3 m [10'] white shark\" '\"small shark\"' '18\" to 36\" shark'\n",
      " \"Tiger shark, 3 m [10']\" \"2 m [6.75'] copper shark\"\n",
      " \"1.8 m [6'] blacktip shark\" 'small hammerhead shark' \"4 m [13'] shark\"\n",
      " \"6 m [20'] white shark\" \"Tiger shark, 2.4 m [8']\"\n",
      " \"1.8 m [6'] Caribbean reef shark\" \"3 m [10'] shark\"\n",
      " '4.5 m & 5 m white shark' \"5.5 m [18'] white shark\"\n",
      " \"2.5 m [8.25'] bull shark\" \"2 m [6.75'] white shark\"\n",
      " \"Bronze whaler shark, 2.4 m [8']\" \"1.8 m to 2.4 m [6' to 8'] white shark\"\n",
      " \"Tiger shark, 2.4 m to 3.7 m [8' to 12']\"\n",
      " \"Raggedtooth shark, 1.5 to 2 m [5' to 6.75']\"\n",
      " 'Thought to involve a 2.5 m bull or tiger shark' \"2.4 m [8'] shark\"\n",
      " \"0.9 m to 1.2 m [3' to 4'] white shark\"\n",
      " \"4.9 m to 5.5 m [16' to 18'] white shark\" \"1.2 m [4'] shark\"\n",
      " \"1.2 m to 1.5 m [4' to 5'] shark\"\n",
      " \"Longfin mako shark, 3.5 m [11.5'], 350-kg [772-lb]\"\n",
      " '2 sharks, 4.5 m & 3 m' '\"black tipped\" shark' '9\\'2\" white shark'\n",
      " \"Bronze whaler shark, 2.5 m [8.25']\" \"0.9 m to 1.5 m [3' to 5'] shark\"\n",
      " \"2.4 m to 3.7 m [8' to 12'] shark\" \"Mako shark, 1.8 m [6']\"\n",
      " \"Wobbegong shark, 1.2 m [4'] k\" 'small sharks' \"5 m [16.5'] white shark\"\n",
      " \"1.2 m [4'] bull shark\" 'bull shark'\n",
      " \"Tiger shark, 2.4 m to 3 m [8' to 10']\" \"Bronze whaler shark, 1.5 m [5']\"\n",
      " \"2 m [6.75'] sevengill  shark\" '60 cm [23.6\"] blind or brown shark'\n",
      " \"4 m to 5 m [13' to 16.5'] white shark\"\n",
      " 'Possibily a  1.5 to 2 m sandtiger shark'\n",
      " 'Bull shark, 1.65 m [5\\'5\"] was speared & killed'\n",
      " 'Bull shark, 132-kg [291-lb]' \"Raggedtooth shark, 3.5 m [11.5']\"\n",
      " \"Wobbegong shark, 1.2 m [4']\" \"Tiger shark, 4 m [13']  ?\"\n",
      " '2.5 oceanic whitetip shark'\n",
      " \"1.5 m [5'] shark, either a bronze whaler or a grey nurse shark\"\n",
      " '1.2 m [4\\'] \"grey-colored shark\"'\n",
      " \"4.5 m to 5.5 m [15' to 18'] white shark\" \"3.5 m [11.5'] white shark\"\n",
      " 'Unidentified species' \"1.5 m to 1.8 m [5' to 6'] shark\"\n",
      " \"2.1 m  [7'] bull shark\" \"8' great hammerhead shark\"\n",
      " \"106 cm [3.5']  shark\" '“small brown shark”'\n",
      " \"3.7 m to 4.3 m [12' to 14'] shark\" '\"sand shark\"'\n",
      " \"1.8 m [6'] reef shark - or a 2.1 m to 2.4 m [7' to 8'] grey-colored shark\"\n",
      " \"0.9 m to 1.2 m [3' to 4'] shark\" 'A “small” shark'\n",
      " '15 cm to 20 cm [6\" to 8\"] bite diameter just below left knee'\n",
      " \"Mako shark, 3 m [10']\" \"2.5 m [8.25'] white shark\"\n",
      " 'Species unidentified'\n",
      " \"Thought to involve a 2 m [6.75'] grey nurse shark\"\n",
      " \"Thought to involve a >2 m [6.75'] bull shark\"\n",
      " 'Reported to involve a hammerhead shark' 'White shark, 4 m white shark'\n",
      " 'Wobbegong shark, 1m' \"3 m to 4.5 m [10' to 15'] white shark\"\n",
      " \"2.4 m to 3 m [8' to 10'] grey colored shark\"\n",
      " \"1.8 m to 2.1 m [6' to 7']\\xa0 Caribbean Reef Shark\"\n",
      " 'Possibly a bull shark or tiger shark' \"3.5' to 4.5' shark\"\n",
      " \"1.2 m [4'] blacktip shark\" \"3 m to 3.7 m [10' to 12'] shark\"\n",
      " \"0.9 m  to 1.2 m [3' to 4'] shark\" \"Nurse shark, 1.5 m [5']\"\n",
      " \"1.2 m [4'] blacktip or sandbar shark\"\n",
      " \"Bull shark, 1.8 m to 2.1 m [6' to 7']\"\n",
      " \"1.2 m to 1.5 m [4' to 5'] shark, possibly a bull shark\"\n",
      " \"Tiger shark, 2.4 m to 2.7 m [8' to 9']\"\n",
      " \"0.9 m to 1.2 m [3' to 4'] shark; Tooth fragment recovered from hand\"\n",
      " \"1.5 to 2.5 m [5' to 8.25'] copper shark\"\n",
      " \"3.7 m to 4.3 m [12' to 14'] white shark\" '1 m  shark'\n",
      " \"2.1 m to 2.4 m [7' to 8'] shark\" \"White shark, 6m [20']\"\n",
      " 'Bull shark, 400-lb' \"0.9 m [3'] shark\" 'Nurse shark, 1m'\n",
      " \"Spinner shark, 3' to 4'\" '1.5 m [5\\'] \"whaler shark\"' 'Unidentified'\n",
      " \"Tiger shark, 1.8 m [6']\" \"Mako shark, 2 m [6.75']\" \"2' to 3.5' shark\"\n",
      " 'A large white shark was filmed by divers on a local wreck 2 days prior to the incident.'\n",
      " \"1.5 m [5'] shark\" \"3 m [10'] bull shark\"\n",
      " 'Possibly  a blacktip or spinner shark'\n",
      " \"3' shark, possibly  a blacktip or spinner shark\"\n",
      " \"1.9 m [6.5'] bull shark\" \"0.9 m  [3'] shark\" \"Bull shark, 2.3 m [7.5']\"\n",
      " \"1.2 m to 1.5 m [4.5' to 5'] shark\"\n",
      " \"White shark, 2.7 m to 3 m [9' to 10']\"\n",
      " 'Possibly a juvenile blacktip or spinner shark'\n",
      " \"Possibly a 1.5 m [5'] blacktip or spinner shark\"\n",
      " '1 m shark, possibly whitetip reef shark' \"White shark, 2.7 m [9']\"\n",
      " \"Spinner shark, 1.2 m to 1.5 m [4' to 5']\"\n",
      " \"Bronze whaler shark, 2.5 m [8.25']  k\" \"2 m [6.75'] shark\"\n",
      " '1.8 m to 2.4 m [6\\' to 8\\'] \"black finned shark\"' \"6 m [20'] shark\"\n",
      " \"Porbeagle shark, 3 m [10']rk\" \"1.2 m to 1.8 m [4' to 6'] shark\"\n",
      " \"White shark, 4.9 m [16']\" \"White shark, 5 m [16.5']\"\n",
      " \"White shark, 2.4 m to 3 m [8' to 10']\"\n",
      " \"Tiger shark, 1.8 m to 2.4 m [6' to 8']\" \"2.1 to 2.4 m [7' to 8'] shark\"\n",
      " \"Blacktip shark, 2'\"]\n"
     ]
    }
   ],
   "source": [
    "df[\"Species\"].unique()\n",
    "print(df[\"Species\"].unique()[:600])"
   ]
  },
  {
   "cell_type": "code",
   "execution_count": 2367,
   "metadata": {},
   "outputs": [
    {
     "name": "stdout",
     "output_type": "stream",
     "text": [
      "7       Reportedly a Tiger Shark\n",
      "8       Reportedly a Tiger Shark\n",
      "9                        Unknown\n",
      "10                       Unknown\n",
      "11       m shark species unknown\n",
      "                  ...           \n",
      "4706                     Unknown\n",
      "4707                     Unknown\n",
      "4708                     Unknown\n",
      "4709                     Unknown\n",
      "4710                          m \n",
      "Name: Species, Length: 3578, dtype: object\n"
     ]
    }
   ],
   "source": [
    "# Cleaning the Column 'Species' a bit \n",
    "df[\"Species\"] = df[\"Species\"].str.extract(r'([A-Za-z\\s-]+)').fillna(\"Unknown\") # Cleaning here the unnecessary details\n",
    "df[\"Species\"] = df[\"Species\"].replace({\n",
    "    \"Not stated\":\"Unknown\"\n",
    "})\n",
    "print(df[\"Species\"])"
   ]
  },
  {
   "cell_type": "code",
   "execution_count": 2368,
   "metadata": {},
   "outputs": [],
   "source": [
    "df[\"Species_Types\"] = df[\"Species\"].copy() # creating a copy of species and naming it Species_Types"
   ]
  },
  {
   "cell_type": "code",
   "execution_count": 2369,
   "metadata": {},
   "outputs": [],
   "source": [
    "df[\"Species_Types\"] = df[\"Species_Types\"].astype(str).str.strip()"
   ]
  },
  {
   "cell_type": "code",
   "execution_count": 2370,
   "metadata": {},
   "outputs": [],
   "source": [
    "df[\"Species_Types\"] = df[\"Species_Types\"].fillna(\"Unknown\").astype(str)"
   ]
  },
  {
   "cell_type": "code",
   "execution_count": 2371,
   "metadata": {},
   "outputs": [],
   "source": [
    "df[\"Species_Types\"] = df[\"Species_Types\"].replace({\n",
    "    \"Not stated\": \"Unknown\",\n",
    "    \"Not specified\": \"Unknown\",\n",
    "    \"Invalid\": \"Unknown\",\n",
    "    \"Great White Shark\": \"White Shark\"   \n",
    "}) "
   ]
  },
  {
   "cell_type": "code",
   "execution_count": 2372,
   "metadata": {},
   "outputs": [],
   "source": [
    "# Graphing Attacks by Species "
   ]
  },
  {
   "cell_type": "code",
   "execution_count": 2373,
   "metadata": {},
   "outputs": [
    {
     "name": "stdout",
     "output_type": "stream",
     "text": [
      "Species_Types\n",
      "Other/Unknown       2580\n",
      "White Shark          348\n",
      "Tiger Shark          204\n",
      "Bull Shark           160\n",
      "Blacktip Shark        86\n",
      "Reef Shark            29\n",
      "Grey Shark            28\n",
      "Whitetip Shark        27\n",
      "Lemon Shark           23\n",
      "Nurse Shark           23\n",
      "Spinner Shark         20\n",
      "Mako Shark            19\n",
      "Hammerhead Shark      17\n",
      "Sandtiger Shark       13\n",
      "Whale Shark            1\n",
      "Name: count, dtype: int64\n",
      "4706    Other/Unknown\n",
      "4707    Other/Unknown\n",
      "4708    Other/Unknown\n",
      "4709    Other/Unknown\n",
      "4710    Other/Unknown\n",
      "Name: Species_Types, dtype: object\n"
     ]
    }
   ],
   "source": [
    "def clean_shark_name(species): \n",
    "    species = species.strip().lower()\n",
    "\n",
    "    match = re.search(r\"(?:\\b\\w+\\s+)*?(great white|spinner|leopard|whitetip|sandtiger|lemon|horn|white|tiger|broadnos|bull|Bull|hammerhead|hammer|grey|Grey|Hammerhead|blacktip|Blacktip|whale|nurse|mako|reef|Reef)(?:\\s+\\w+)*?\\s*shark(?:\\s+\\w+)*?\", species)\n",
    "\n",
    "    if match:\n",
    "        #return match.group(0).title()\n",
    "        return match.group(1).title() + \" Shark\"\n",
    "    else: \n",
    "        return \"Other/Unknown\"\n",
    "\n",
    "df[\"Species_Types\"] = df[\"Species_Types\"].apply(clean_shark_name)\n",
    "\n",
    "print(df[\"Species_Types\"].value_counts())  # Check unique values\n",
    "print(df[\"Species_Types\"].tail())  # Display first few rows"
   ]
  },
  {
   "cell_type": "code",
   "execution_count": 2374,
   "metadata": {},
   "outputs": [
    {
     "data": {
      "text/plain": [
       "array(['Tiger Shark', 'Other/Unknown', 'White Shark', 'Bull Shark',\n",
       "       'Reef Shark', 'Lemon Shark', 'Nurse Shark', 'Whitetip Shark',\n",
       "       'Grey Shark', 'Blacktip Shark', 'Spinner Shark', 'Sandtiger Shark',\n",
       "       'Mako Shark', 'Hammerhead Shark', 'Whale Shark'], dtype=object)"
      ]
     },
     "execution_count": 2374,
     "metadata": {},
     "output_type": "execute_result"
    }
   ],
   "source": [
    "df[\"Species_Types\"].unique()"
   ]
  },
  {
   "cell_type": "code",
   "execution_count": 2375,
   "metadata": {},
   "outputs": [
    {
     "name": "stdout",
     "output_type": "stream",
     "text": [
      "Species_Types\n",
      "Other/Unknown       2580\n",
      "White Shark          348\n",
      "Tiger Shark          204\n",
      "Bull Shark           160\n",
      "Blacktip Shark        86\n",
      "Reef Shark            29\n",
      "Grey Shark            28\n",
      "Whitetip Shark        27\n",
      "Lemon Shark           23\n",
      "Nurse Shark           23\n",
      "Spinner Shark         20\n",
      "Mako Shark            19\n",
      "Hammerhead Shark      17\n",
      "Sandtiger Shark       13\n",
      "Whale Shark            1\n",
      "Name: count, dtype: int64\n"
     ]
    }
   ],
   "source": [
    "#df[\"Location\"] = df[\"Location\"].astype(str).str.strip()\n",
    "print(df[\"Species_Types\"].value_counts())"
   ]
  },
  {
   "cell_type": "markdown",
   "metadata": {},
   "source": [
    "### Data Cleaning for the Column 'Fatal'"
   ]
  },
  {
   "cell_type": "code",
   "execution_count": 2376,
   "metadata": {},
   "outputs": [
    {
     "data": {
      "text/plain": [
       "array(['N', 'Y', 'F', 'M', 'Unknown', 'Nq', 'UNKNOWN'], dtype=object)"
      ]
     },
     "execution_count": 2376,
     "metadata": {},
     "output_type": "execute_result"
    }
   ],
   "source": [
    "df[\"Fatal\"].unique()"
   ]
  },
  {
   "cell_type": "code",
   "execution_count": 2377,
   "metadata": {},
   "outputs": [],
   "source": [
    "df[\"Fatal\"] = df[\"Fatal\"].fillna(\"Unknown\").str.strip().astype(str)"
   ]
  },
  {
   "cell_type": "code",
   "execution_count": 2378,
   "metadata": {},
   "outputs": [
    {
     "data": {
      "text/plain": [
       "array(['NO', 'YES', 'Unknown'], dtype=object)"
      ]
     },
     "execution_count": 2378,
     "metadata": {},
     "output_type": "execute_result"
    }
   ],
   "source": [
    "# Data Cleaning for The Column Fatal\n",
    "df[\"Fatal\"] = df[\"Fatal\"].fillna(\"Unknown\")\n",
    "df[\"Fatal\"] = df[\"Fatal\"].str.strip()\n",
    "df[\"Fatal\"].value_counts(dropna=False)\n",
    "df[\"Fatal\"] = df[\"Fatal\"].astype(str)\n",
    "df[\"Fatal\"] = df[\"Fatal\"].replace({\n",
    "    \"Nan\": \"Unknown\",\n",
    "    \" N\": \"NO\",\n",
    "    \"UNKNOWN\": \"Unknown\",\n",
    "    \"F\": \"Unknown\",\\\n",
    "    \"M\": \"NO\",\n",
    "    \"n\": \"NO\",\n",
    "    \"N\": \"NO\",\n",
    "    \"Nq\": \"NO\",\n",
    "    \"Y\": \"YES\",\n",
    "    2017: \"Unknown\",\n",
    "    \"2017 \": \"Unknown\",\n",
    "     \"Y x 2\": \"Yes\",\n",
    "     \"y\": \"Yes\",\n",
    "     \"N   \": \"NO\",\n",
    "     \"nan\": \"Unknown\"\n",
    "})\n",
    "df[\"Fatal\"].unique()"
   ]
  },
  {
   "cell_type": "code",
   "execution_count": 2379,
   "metadata": {},
   "outputs": [
    {
     "data": {
      "image/png": "[encoded data removed]",
      "text/plain": [
       "<Figure size 640x480 with 1 Axes>"
      ]
     },
     "metadata": {},
     "output_type": "display_data"
    }
   ],
   "source": [
    "# Define colors and labels dynamically to match data\n",
    "slices = df[\"Fatal\"].value_counts().nlargest(2)\n",
    "labels = slices.index.tolist()  # Get correct labels\n",
    "colors = [\"dodgerblue\", \"lightcoral\"][:len(labels)]  # Ensure colors match number of slices\n",
    "explode = [0] * len(labels)  # No explode by default\n",
    "\n",
    "# Create pie chart\n",
    "plt.pie(slices, labels=labels, colors=colors, explode=explode, \n",
    "        autopct=\"%1.1f%%\", wedgeprops={\"edgecolor\": \"black\"})\n",
    "\n",
    "plt.title(\"Fatality Rate of Shark Attacks (1960-2024)\")\n",
    "plt.tight_layout()\n",
    "plt.savefig(\"images/AttacksFatalityRate.png\", bbox_inches=\"tight\")\n",
    "\n",
    "# Show the chart\n",
    "plt.show()\n"
   ]
  },
  {
   "cell_type": "code",
   "execution_count": 2380,
   "metadata": {},
   "outputs": [],
   "source": [
    "#print(df[\"Species_Types\"].value_counts())"
   ]
  },
  {
   "cell_type": "markdown",
   "metadata": {},
   "source": [
    "### Data Cleaning for the Column 'Country'"
   ]
  },
  {
   "cell_type": "code",
   "execution_count": 2381,
   "metadata": {},
   "outputs": [
    {
     "data": {
      "text/plain": [
       "array(['Egypt', 'Australia', 'Thailand', 'New Zealand', 'Maldives',\n",
       "       'Hawaii', 'USA', 'Honduras', 'Morocco', 'Jamaica', 'Belize',\n",
       "       'Maldive Islands', 'Turks and Caicos', 'French Polynesia',\n",
       "       'Tobago', 'Bahamas', 'AUSTRALIA', 'INDIA', 'BAHAMAS', 'MEXICO',\n",
       "       'NEW ZEALAND', 'BELIZE', 'EGYPT', 'PHILIPPINES', 'SPAIN', 'SAMOA',\n",
       "       'COLOMBIA', 'ECUADOR', 'FRENCH POLYNESIA', 'NEW CALEDONIA',\n",
       "       'TURKS and CaICOS', 'SOUTH AFRICA', 'BRAZIL', 'SEYCHELLES',\n",
       "       'MeXICO', 'ENGLAND', 'JAPAN', 'INDONESIA', 'JAMAICA', 'MALDIVES',\n",
       "       'THAILAND', 'COLUMBIA', 'British Overseas Territory', 'CANADA',\n",
       "       'JORDAN', 'ST KITTS / NEVIS', 'ST MARTIN', 'FIJI',\n",
       "       'PAPUA NEW GUINEA', 'CUBA', 'ISRAEL', 'REUNION ISLAND', 'ITALY',\n",
       "       'COSTA RICA', 'Unknown', 'MAURITIUS', 'SOLOMON ISLANDS',\n",
       "       'ST HELENA, British overseas territory', 'REUNION',\n",
       "       'UNITED KINGDOM', 'UNITED ARAB EMIRATES', 'CHINA', 'Fiji',\n",
       "       'DOMINICAN REPUBLIC', 'ARUBA', 'MOZAMBIQUE', 'PUERTO RICO',\n",
       "       'FRANCE', 'KIRIBATI', 'DIEGO GARCIA', 'TAIWAN', 'GUAM', 'NIGERIA',\n",
       "       'TONGA', 'SCOTLAND', 'KENYA', 'RUSSIA', 'TURKS & CAICOS',\n",
       "       'MALAYSIA', 'SOUTH KOREA', 'MALTA', 'VIETNAM', 'MADAGASCAR',\n",
       "       'UNITED ARAB EMIRATES (UAE)', 'PANAMA', 'CROATIA', 'YEMEN',\n",
       "       'GULF OF ADEN', 'Sierra Leone', 'ST. MAARTIN', 'GRAND CAYMAN',\n",
       "       'VANUATU', 'VENEZUELA', 'URUGUAY', 'MICRONESIA', 'OKINAWA',\n",
       "       'TANZANIA', 'MARSHALL ISLANDS', 'EGYPT / ISRAEL',\n",
       "       'NORTHERN ARABIAN SEA', 'HONG KONG', 'CHILE', 'SOMALIA',\n",
       "       'EL SALVADOR', 'ANGOLA', 'IRAN', 'TUNISIA', 'GREECE',\n",
       "       'SOUTH CHINA SEA', 'BERMUDA', 'PALAU', 'WESTERN SAMOA',\n",
       "       'BRITISH ISLES', 'GRENADA', 'SRI LANKA', 'IRAQ', 'SENEGAL',\n",
       "       'TURKEY', 'SINGAPORE', 'NEW BRITAIN', 'JOHNSTON ISLAND',\n",
       "       'PACIFIC OCEAN', 'SOUTH PACIFIC OCEAN', 'NEW GUINEA', 'RED SEA',\n",
       "       'FEDERATED STATES OF MICRONESIA', 'ADMIRALTY ISLANDS',\n",
       "       'BRITISH WEST INDIES', 'SOUTH ATLANTIC OCEAN',\n",
       "       'MID ATLANTIC OCEAN', 'PERSIAN GULF', 'NORTH PACIFIC OCEAN',\n",
       "       'NICARAGUA'], dtype=object)"
      ]
     },
     "execution_count": 2381,
     "metadata": {},
     "output_type": "execute_result"
    }
   ],
   "source": [
    "df[\"Country\"].unique()"
   ]
  },
  {
   "cell_type": "code",
   "execution_count": 2382,
   "metadata": {},
   "outputs": [
    {
     "data": {
      "text/plain": [
       "133"
      ]
     },
     "execution_count": 2382,
     "metadata": {},
     "output_type": "execute_result"
    }
   ],
   "source": [
    "len(df[\"Country\"].unique())"
   ]
  },
  {
   "cell_type": "code",
   "execution_count": 2383,
   "metadata": {},
   "outputs": [],
   "source": [
    "update_country = {\n",
    "    'AUSTRALIA': 'Australia',\n",
    "    'BAHAMAS': 'Bahamas',\n",
    "    'BELIZE': 'Belize',\n",
    "    'COLOMBIA': 'Colombia',\n",
    "    'COLUMBIA': 'Colombia',\n",
    "    'EGYPT': 'Egypt',\n",
    "    'ENGLAND': 'United Kingdom',\n",
    "    'FRENCH POLYNESIA': 'French Polynesia',\n",
    "    'INDIA': 'India',\n",
    "    'INDONESIA': 'Indonesia',\n",
    "    'JAMAICA': 'Jamaica',\n",
    "    'JAPAN': 'Japan',\n",
    "    'MALDIVE ISLANDS': 'Maldives',\n",
    "    'MALDIVES': 'Maldives',\n",
    "    'MEXICO': 'Mexico',\n",
    "    'MeXICO': 'Mexico',\n",
    "    'MEXICO ': 'Mexico',\n",
    "    'NEW CALEDONIA': 'New Caledonia',\n",
    "    'NEW ZEALAND': 'New Zealand',\n",
    "    'PHILIPPINES': 'Philippines',\n",
    "    'SPAIN': 'Spain',\n",
    "    'SOUTH AFRICA': 'South Africa',\n",
    "    'South Africa': 'South Africa',\n",
    "    'THAILAND': 'Thailand',\n",
    "    'TRINIDAD': 'Trinidad and Tobago',\n",
    "    'TRINIDAD & TOBAGO': 'Trinidad and Tobago',\n",
    "    'TURKS & CAICOS': 'Turks and Caicos',\n",
    "    'TURKS and CaICOS': 'Turks and Caicos',\n",
    "    'UNITED ARAB EMIRATES (UAE)': 'United Arab Emirates',\n",
    "    'UNITED KINGDOM': 'United Kingdom',\n",
    "    'USA': 'United States',\n",
    "    'UAE': 'United Arab Emirates',\n",
    "    'UNITED STATES': 'United States',\n",
    "    'REUNION ISLAND': 'Reunion',\n",
    "    'REUNION': 'Reunion',\n",
    "    'ST MARTIN': 'Saint Martin',\n",
    "    'ST. MARTIN': 'Saint Martin',\n",
    "    'ST. MAARTIN': 'Saint Martin',\n",
    "    'SAINT MAARTEN': 'Saint Martin',\n",
    "    'PAPUA NEW GUINEA': 'Papua New Guinea',\n",
    "    'FIJI': 'Fiji',\n",
    "    'Fiji': 'Fiji',\n",
    "    'CANADA': 'Canada',\n",
    "    'CUBA': 'Cuba',\n",
    "    'ARGENTINA': 'Argentina',\n",
    "    'BRAZIL': 'Brazil',\n",
    "    'CHILE': 'Chile',\n",
    "    'ECUADOR': 'Ecuador',\n",
    "    'PERU': 'Peru',\n",
    "    'VENEZUELA': 'Venezuela',\n",
    "    'COOK ISLANDS': 'Cook Islands',\n",
    "    'DOMINICAN REPUBLIC': 'Dominican Republic',\n",
    "    'SEYCHELLES': 'Seychelles',\n",
    "    'ST KITTS / NEVIS': 'Saint Kitts and Nevis',\n",
    "    'ST HELENA, British overseas territory': 'Saint Helena',\n",
    "    'SOLOMON ISLANDS': 'Solomon Islands',\n",
    "    'TONGA': 'Tonga',\n",
    "    ' TONGA': 'Tonga',\n",
    "    'KIRIBATI': 'Kiribati',\n",
    "    'PALAU': 'Palau',\n",
    "    'MALTA': 'Malta',\n",
    "    'SCOTLAND': 'United Kingdom',\n",
    "    'IRELAND': 'Ireland',\n",
    "    'ITALY': 'Italy',\n",
    "    'MALAYSIA': 'Malaysia',\n",
    "    'LIBYA': 'Libya',\n",
    "    'JORDAN': 'Jordan',\n",
    "    'ISRAEL': 'Israel',\n",
    "    'CHINA': 'China',\n",
    "    'TAIWAN': 'Taiwan',\n",
    "    'INDIAN OCEAN': 'Indian Ocean',\n",
    "    'INDIAN OCEAN?': 'Indian Ocean',\n",
    "    'INDIAN OCEAN?': 'Indian Ocean',\n",
    "    'NORTH ATLANTIC OCEAN': 'North Atlantic Ocean',\n",
    "    'NORTH ATLANTIC OCEAN ': 'North Atlantic Ocean',\n",
    "    'SOUTH ATLANTIC OCEAN': 'South Atlantic Ocean',\n",
    "    'ATLANTIC OCEAN': 'Atlantic Ocean',\n",
    "    'PACIFIC OCEAN': 'Pacific Ocean',\n",
    "    'PACIFIC OCEAN ': 'Pacific Ocean',\n",
    "    'SOUTH PACIFIC OCEAN': 'South Pacific Ocean',\n",
    "    'NORTH PACIFIC OCEAN': 'North Pacific Ocean',\n",
    "    'CARIBBEAN SEA': 'Caribbean Sea',\n",
    "    'MID ATLANTIC OCEAN': 'Mid Atlantic Ocean',\n",
    "    'SOUTH CHINA SEA': 'South China Sea',\n",
    "    'BAY OF BENGAL': 'Bay of Bengal',\n",
    "    'RED SEA': 'Red Sea',\n",
    "    'RED SEA?': 'Red Sea',\n",
    "    'RED SEA / INDIAN OCEAN': 'Red Sea',\n",
    "    'GULF OF ADEN': 'Gulf of Aden',\n",
    "    'PERSIAN GULF': 'Persian Gulf',\n",
    "    'CEYLON': 'Sri Lanka',\n",
    "    'CEYLON (SRI LANKA)': 'Sri Lanka',\n",
    "    'SRI LANKA': 'Sri Lanka',\n",
    "    'BANGLADESH': 'Bangladesh',\n",
    "    'BURMA': 'Myanmar',\n",
    "    'MYANMAR': 'Myanmar',\n",
    "    'VIETNAM': 'Vietnam',\n",
    "    'HONG KONG': 'Hong Kong',\n",
    "    'MARTINIQUE': 'Martinique',\n",
    "    'NETHERLANDS ANTILLES': 'Netherlands Antilles',\n",
    "    'NORTHERN MARIANA ISLANDS': 'Northern Mariana Islands',\n",
    "    'FEDERATED STATES OF MICRONESIA': 'Micronesia',\n",
    "    'MICRONESIA': 'Micronesia',\n",
    "    'FALKLAND ISLANDS': 'Falkland Islands',\n",
    "    'GIBRALTAR': 'Gibraltar',\n",
    "    'SAUDI ARABIA': 'Saudi Arabia',\n",
    "    'SINGAPORE': 'Singapore',\n",
    "    'SENEGAL': 'Senegal',\n",
    "    'SOMALIA': 'Somalia',\n",
    "    'SOUTH KOREA': 'South Korea',\n",
    "    'NORTH KOREA': 'North Korea',\n",
    "    'RUSSIA': 'Russia',\n",
    "    'GREECE': 'Greece',\n",
    "    'TUNISIA': 'Tunisia',\n",
    "    'TURKEY': 'Turkey',\n",
    "    'IRAN': 'Iran',\n",
    "    'IRAQ': 'Iraq',\n",
    "    'KUWAIT': 'Kuwait',\n",
    "    'LEBANON': 'Lebanon',\n",
    "    'SYRIA': 'Syria',\n",
    "    'AFRICA': 'Africa',\n",
    "    'Coast of AFRICA': 'Africa',\n",
    "    'GEORGIA': 'Georgia',\n",
    "    'GHANA': 'Ghana',\n",
    "    'GUINEA': 'Guinea',\n",
    "    'NAMIBIA': 'Namibia',\n",
    "    'TANZANIA': 'Tanzania',\n",
    "    'ALGERIA': 'Algeria',\n",
    "    'DJIBOUTI': 'Djibouti',\n",
    "    'EQUATORIAL GUINEA / CAMEROON': 'Equatorial Guinea',\n",
    "    'WEST INDIES': 'Caribbean',\n",
    "    'BRITISH ISLES': 'United Kingdom',\n",
    "    'BRITISH WEST INDIES': 'Caribbean',\n",
    "    'ST HELENA, British overseas territory': 'Saint Helena',\n",
    "    'NORWAY': 'Norway',\n",
    "    'ICELAND': 'Iceland',\n",
    "    'GABON': 'Gabon',\n",
    "    'MAYOTTE': 'Mayotte',\n",
    "    'SWEDEN': 'Sweden',\n",
    "    'SLOVENIA': 'Slovenia',\n",
    "    'CURACAO': 'Curaçao',\n",
    "    'HAITI': 'Haiti',\n",
    "    'GUATEMALA': 'Guatemala',\n",
    "    'NICARAGUA': 'Nicaragua',\n",
    "    'NICARAGUA ': 'Nicaragua',\n",
    "    'HONDURAS': 'Honduras',\n",
    "    'EL SALVADOR': 'El Salvador',\n",
    "    'COSTA RICA': 'Costa Rica',\n",
    "    'PANAMA': 'Panama',\n",
    "    'BARBADOS': 'Barbados',\n",
    "    'ARUBA': 'Aruba',\n",
    "    'GRAND CAYMAN': 'Cayman Islands',\n",
    "    'CAYMAN ISLANDS': 'Cayman Islands',\n",
    "    'SAINT LUCIA': 'Saint Lucia',\n",
    "    'USA': 'United States', \n",
    "    'Usa': 'United States'\n",
    "}"
   ]
  },
  {
   "cell_type": "code",
   "execution_count": 2384,
   "metadata": {},
   "outputs": [],
   "source": [
    "df['Country'] = df['Country'].replace(update_country).fillna('Unknown')"
   ]
  },
  {
   "cell_type": "code",
   "execution_count": 2385,
   "metadata": {},
   "outputs": [
    {
     "data": {
      "text/plain": [
       "array(['Egypt', 'Australia', 'Thailand', 'New Zealand', 'Maldives',\n",
       "       'Hawaii', 'United States', 'Honduras', 'Morocco', 'Jamaica',\n",
       "       'Belize', 'Maldive Islands', 'Turks and Caicos',\n",
       "       'French Polynesia', 'Tobago', 'Bahamas', 'India', 'Mexico',\n",
       "       'Philippines', 'Spain', 'SAMOA', 'Colombia', 'Ecuador',\n",
       "       'New Caledonia', 'South Africa', 'Brazil', 'Seychelles',\n",
       "       'United Kingdom', 'Japan', 'Indonesia',\n",
       "       'British Overseas Territory', 'Canada', 'Jordan',\n",
       "       'Saint Kitts and Nevis', 'Saint Martin', 'Fiji',\n",
       "       'Papua New Guinea', 'Cuba', 'Israel', 'Reunion', 'Italy',\n",
       "       'Costa Rica', 'Unknown', 'MAURITIUS', 'Solomon Islands',\n",
       "       'Saint Helena', 'UNITED ARAB EMIRATES', 'China',\n",
       "       'Dominican Republic', 'Aruba', 'MOZAMBIQUE', 'PUERTO RICO',\n",
       "       'FRANCE', 'Kiribati', 'DIEGO GARCIA', 'Taiwan', 'GUAM', 'NIGERIA',\n",
       "       'Tonga', 'KENYA', 'Russia', 'Malaysia', 'South Korea', 'Malta',\n",
       "       'Vietnam', 'MADAGASCAR', 'United Arab Emirates', 'Panama',\n",
       "       'CROATIA', 'YEMEN', 'Gulf of Aden', 'Sierra Leone',\n",
       "       'Cayman Islands', 'VANUATU', 'Venezuela', 'URUGUAY', 'Micronesia',\n",
       "       'OKINAWA', 'Tanzania', 'MARSHALL ISLANDS', 'EGYPT / ISRAEL',\n",
       "       'NORTHERN ARABIAN SEA', 'Hong Kong', 'Chile', 'Somalia',\n",
       "       'El Salvador', 'ANGOLA', 'Iran', 'Tunisia', 'Greece',\n",
       "       'South China Sea', 'BERMUDA', 'Palau', 'WESTERN SAMOA', 'GRENADA',\n",
       "       'Sri Lanka', 'Iraq', 'Senegal', 'Turkey', 'Singapore',\n",
       "       'NEW BRITAIN', 'JOHNSTON ISLAND', 'Pacific Ocean',\n",
       "       'South Pacific Ocean', 'NEW GUINEA', 'Red Sea',\n",
       "       'ADMIRALTY ISLANDS', 'Caribbean', 'South Atlantic Ocean',\n",
       "       'Mid Atlantic Ocean', 'Persian Gulf', 'North Pacific Ocean',\n",
       "       'Nicaragua'], dtype=object)"
      ]
     },
     "execution_count": 2385,
     "metadata": {},
     "output_type": "execute_result"
    }
   ],
   "source": [
    "df['Country'].unique()"
   ]
  },
  {
   "cell_type": "code",
   "execution_count": 2386,
   "metadata": {},
   "outputs": [
    {
     "name": "stdout",
     "output_type": "stream",
     "text": [
      "['Egypt' 'Australia' 'Thailand' 'New Zealand' 'Maldives' 'Hawaii'\n",
      " 'United States' 'Honduras' 'Morocco' 'Jamaica' 'Belize' 'Maldive Islands'\n",
      " 'Turks And Caicos' 'French Polynesia' 'Tobago' 'Bahamas' 'India' 'Mexico'\n",
      " 'Philippines' 'Spain' 'Samoa' 'Colombia' 'Ecuador' 'New Caledonia'\n",
      " 'South Africa' 'Brazil' 'Seychelles' 'United Kingdom' 'Japan' 'Indonesia'\n",
      " 'British Overseas Territory' 'Canada' 'Jordan' 'Saint Kitts And Nevis'\n",
      " 'Saint Martin' 'Fiji' 'Papua New Guinea' 'Cuba' 'Israel' 'Reunion'\n",
      " 'Italy' 'Costa Rica' 'Unknown' 'Mauritius' 'Solomon Islands'\n",
      " 'Saint Helena' 'United Arab Emirates' 'China' 'Dominican Republic'\n",
      " 'Aruba' 'Mozambique' 'Puerto Rico' 'France' 'Kiribati' 'Diego Garcia'\n",
      " 'Taiwan' 'Guam' 'Nigeria' 'Tonga' 'Kenya' 'Russia' 'Malaysia'\n",
      " 'South Korea' 'Malta' 'Vietnam' 'Madagascar' 'Panama' 'Croatia' 'Yemen'\n",
      " 'Gulf Of Aden' 'Sierra Leone' 'Cayman Islands' 'Vanuatu' 'Venezuela'\n",
      " 'Uruguay' 'Micronesia' 'Okinawa' 'Tanzania' 'Marshall Islands'\n",
      " 'Egypt  Israel' 'Northern Arabian Sea' 'Hong Kong' 'Chile' 'Somalia'\n",
      " 'El Salvador' 'Angola' 'Iran' 'Tunisia' 'Greece' 'South China Sea'\n",
      " 'Bermuda' 'Palau' 'Western Samoa' 'Grenada' 'Sri Lanka' 'Iraq' 'Senegal'\n",
      " 'Turkey' 'Singapore' 'New Britain' 'Johnston Island' 'Pacific Ocean'\n",
      " 'South Pacific Ocean' 'New Guinea' 'Red Sea' 'Admiralty Islands'\n",
      " 'Caribbean' 'South Atlantic Ocean' 'Mid Atlantic Ocean' 'Persian Gulf'\n",
      " 'North Pacific Ocean' 'Nicaragua']\n"
     ]
    }
   ],
   "source": [
    " #Data Cleaning for the column 'Country', I've tried to use regex \n",
    "df[\"Country\"] = df[\"Country\"].str.strip().str.title()\n",
    "df[\"Country\"] = df[\"Country\"].str.replace(r\"[^a-zA-Z\\s]\", \"\", regex=True)\n",
    "#df[\"Country\"] = df[\"Country\"].map(lambda x: x.upper())\n",
    "df[\"Country\"] = df[\"Country\"].fillna(\"Unknown\")\n",
    "print(df[\"Country\"].unique())"
   ]
  },
  {
   "cell_type": "code",
   "execution_count": 2387,
   "metadata": {},
   "outputs": [
    {
     "data": {
      "text/plain": [
       "112"
      ]
     },
     "execution_count": 2387,
     "metadata": {},
     "output_type": "execute_result"
    }
   ],
   "source": [
    "unique_country = len(df['Country'].unique())\n",
    "unique_country"
   ]
  },
  {
   "cell_type": "code",
   "execution_count": 2388,
   "metadata": {},
   "outputs": [
    {
     "data": {
      "text/plain": [
       "Country\n",
       "United States       1683\n",
       "Australia            608\n",
       "South Africa         303\n",
       "Bahamas               97\n",
       "Brazil                97\n",
       "New Zealand           61\n",
       "Reunion               55\n",
       "New Caledonia         53\n",
       "Papua New Guinea      49\n",
       "Mexico                48\n",
       "Name: Country, dtype: int64"
      ]
     },
     "execution_count": 2388,
     "metadata": {},
     "output_type": "execute_result"
    }
   ],
   "source": [
    "country_group = df.groupby('Country')\n",
    "number_of_attacks = country_group['Country'].count()\n",
    "number_of_attacks = number_of_attacks.sort_values(ascending=False)\n",
    "top_10_attacks = number_of_attacks.head(10)\n",
    "top_10_attacks"
   ]
  },
  {
   "cell_type": "code",
   "execution_count": 2389,
   "metadata": {},
   "outputs": [],
   "source": [
    "df[\"Country\"] = df[\"Country\"].replace(update_country) # Reassigning it back to \"Country\""
   ]
  },
  {
   "cell_type": "code",
   "execution_count": 2390,
   "metadata": {},
   "outputs": [
    {
     "data": {
      "image/png": "[encoded data removed]",
      "text/plain": [
       "<Figure size 640x480 with 1 Axes>"
      ]
     },
     "metadata": {},
     "output_type": "display_data"
    }
   ],
   "source": [
    "# Top 10 Country\n",
    "top_10_attacks_country = df[\"Country\"].value_counts().nlargest(10)\n",
    "\n",
    "# Graphic Attacks by State \n",
    "top_10_attacks_country.sort_values(ascending=True, inplace=True)\n",
    "top_10_attacks_country.plot.barh(color=\"dodgerblue\")\n",
    "\n",
    "plt.title(\"Top 10 Shark Attacks in Countries (1960-2024)\")\n",
    "plt.xlabel(\"Attacks\")\n",
    "plt.grid(axis=\"x\")\n",
    "plt.tight_layout()\n",
    "plt.savefig(\"images/AttacksByCountry.png\", bbox_inches=\"tight\") # Saving as an image "
   ]
  },
  {
   "cell_type": "markdown",
   "metadata": {},
   "source": [
    "### Data Cleaning for the Column 'States'"
   ]
  },
  {
   "cell_type": "code",
   "execution_count": 2391,
   "metadata": {},
   "outputs": [],
   "source": [
    "# A filter specifically for USA \n",
    "filter_usa = (df[\"Country\"] == \"United States\")\n",
    "usa_df = df.loc[filter_usa]\n",
    "\n",
    "# A filter specifically for Australia \n",
    "filter_aus = (df[\"Country\"] == \"Australia\")\n",
    "aus_df = df.loc[filter_aus]\n",
    "\n",
    "# A filter for the rest of the world\n",
    "rest_of_world_df = df[~df[\"Country\"].isin([\"United States\", \"Australia\"])]"
   ]
  },
  {
   "cell_type": "code",
   "execution_count": 2392,
   "metadata": {},
   "outputs": [
    {
     "data": {
      "text/plain": [
       "State\n",
       "Florida                      908\n",
       "Hawaii                       226\n",
       "New South Wales              200\n",
       "California                   183\n",
       "Western Australia            140\n",
       "                            ... \n",
       "Bois-Blanc                     1\n",
       "East New Britain               1\n",
       "Santa Elena                    1\n",
       "Trois-Bassins                  1\n",
       "West New Britain Province      1\n",
       "Name: count, Length: 434, dtype: int64"
      ]
     },
     "execution_count": 2392,
     "metadata": {},
     "output_type": "execute_result"
    }
   ],
   "source": [
    "# Top Shark Attacks by State\n",
    "top_attacks_usa = df[\"State\"].value_counts()\n",
    "top_attacks_usa"
   ]
  },
  {
   "cell_type": "code",
   "execution_count": 2393,
   "metadata": {},
   "outputs": [
    {
     "data": {
      "image/png": "[encoded data removed]",
      "text/plain": [
       "<Figure size 640x480 with 1 Axes>"
      ]
     },
     "metadata": {},
     "output_type": "display_data"
    }
   ],
   "source": [
    "# Top 10 Shark Attacks by State\n",
    "top_10_attacks_usa = df[\"State\"].value_counts().nlargest(9)\n",
    "\n",
    "# Graphic Attacks by State \n",
    "top_10_attacks_usa.sort_values(ascending=True, inplace=True)\n",
    "top_10_attacks_usa.plot.barh(color=\"dodgerblue\")\n",
    "\n",
    "plt.title(\"Shark Attacks in the U.S by State (1960-2024)\")\n",
    "plt.xlabel(\"Attacks\")\n",
    "plt.grid(axis=\"x\")\n",
    "plt.tight_layout()\n",
    "plt.savefig(\"images/AttacksByState.png\", bbox_inches=\"tight\") # Saving as an image "
   ]
  },
  {
   "cell_type": "markdown",
   "metadata": {},
   "source": [
    "### Data Cleaning for the Column 'Age'"
   ]
  },
  {
   "cell_type": "code",
   "execution_count": 2394,
   "metadata": {},
   "outputs": [
    {
     "data": {
      "text/plain": [
       "array([69, 48, 40, '60+', '?', 57, 24, 45, 61, 27, 38, 16, 33, 30, 15, 23,\n",
       "       41, 14, 26, 'Middle age', 21, 49, 25, 46, 19, 20, 65, 64, '13',\n",
       "       nan, '11', '46', '32', '29', '10', '64', '39', '22', '15', '16',\n",
       "       '21', '20', '44', '26', '47', '66', '55', '30', '8', '50', '52',\n",
       "       '45', '34', '30s', '37', '9', '35', '65', '20s', '77', '60', '49',\n",
       "       '42', '!2', '24', '73', '25', '50s', '58', '67', '14', '6', '59',\n",
       "       '53', '68', '43', '51', '19', '40', '38', '17', '31', 39, 58, 51,\n",
       "       17, 10, 13, 60, 28, '40s', 68, 35, 62, 'teen', 8, 22, 32, 56,\n",
       "       'Teen', 42, 36, 18, 'M', 9, 11, 34, '!6', 31, '!!', 12, 7, 71, 59,\n",
       "       53, 54, 75, 73, 52, 29, 70, 50, 4, 63, 37, '28 & 22', '22, 57, 31',\n",
       "       '60s', \"20's\", 43, 67, 'a minor', 55, 3, 82, 47, 66, 72, 6, 44,\n",
       "       '23', '12', '18', '36', '63', '71', '48', '70', '18 months', '41',\n",
       "       '7', '28', '61', '57', '74', '27', '56', '33', '28 & 26', '62',\n",
       "       '5', '54', '86', '18 or 20', '12 or 13', 77, 84, '30 or 36', '6½',\n",
       "       '21 & ?', '33 or 37', 'mid-30s', 5, ' 30', ' 28', '20?', \"60's\",\n",
       "       '87', 'Elderly', ' ', '21 or 26', '20 ', '>50', '18 to 22',\n",
       "       '9 & 12', '9 months', '25 to 35', '23 & 26', 1, '(adult)',\n",
       "       '25 or 28', '30 & 32'], dtype=object)"
      ]
     },
     "execution_count": 2394,
     "metadata": {},
     "output_type": "execute_result"
    }
   ],
   "source": [
    "df[\"Age\"].unique()"
   ]
  },
  {
   "cell_type": "code",
   "execution_count": 2395,
   "metadata": {},
   "outputs": [
    {
     "data": {
      "text/plain": [
       "count    2688.000000\n",
       "mean       28.336682\n",
       "std        14.713823\n",
       "min         1.000000\n",
       "25%        17.000000\n",
       "50%        25.000000\n",
       "75%        37.000000\n",
       "max        87.000000\n",
       "Name: Age, dtype: float64"
      ]
     },
     "execution_count": 2395,
     "metadata": {},
     "output_type": "execute_result"
    }
   ],
   "source": [
    "# Data Cleaning for the Column Age\n",
    "df[\"Age\"] = pd.to_numeric(df[\"Age\"], errors=\"coerce\")\n",
    "df[\"Age\"].describe()"
   ]
  },
  {
   "cell_type": "code",
   "execution_count": 2396,
   "metadata": {},
   "outputs": [
    {
     "name": "stdout",
     "output_type": "stream",
     "text": [
      "Age\n",
      "17.0    113\n",
      "16.0    111\n",
      "15.0    109\n",
      "19.0    101\n",
      "18.0     98\n",
      "       ... \n",
      "74.0      1\n",
      "72.0      1\n",
      "82.0      1\n",
      "3.0       1\n",
      "1.0       1\n",
      "Name: count, Length: 79, dtype: int64\n"
     ]
    },
    {
     "data": {
      "text/plain": [
       "count    2688.000000\n",
       "mean       28.336682\n",
       "std        14.713823\n",
       "min         1.000000\n",
       "25%        17.000000\n",
       "50%        25.000000\n",
       "75%        37.000000\n",
       "max        87.000000\n",
       "Name: Age, dtype: float64"
      ]
     },
     "execution_count": 2396,
     "metadata": {},
     "output_type": "execute_result"
    }
   ],
   "source": [
    "print(df[\"Age\"].value_counts())\n",
    "df[\"Age\"].describe()"
   ]
  },
  {
   "cell_type": "code",
   "execution_count": 2397,
   "metadata": {},
   "outputs": [],
   "source": [
    "df[\"Age\"] = df[\"Age\"].replace({\"20s\":\"25\", \"30s\":\"35\", \"teen\": \"15\", \"Teen\": \"15\", \"mid-30s\":\"35\", \"21 or 26\":\"24\", \"60's\":\"65\", \"60s\":\"65\", \"12 or 13\":\"12\", \"50s\":\"55\", \"Middle age\": \"40\", \"9 & 12\":\"9\", \"Elderly\": \"12\", \"6½\":\"6\"})"
   ]
  },
  {
   "cell_type": "code",
   "execution_count": 2398,
   "metadata": {},
   "outputs": [
    {
     "name": "stdout",
     "output_type": "stream",
     "text": [
      "[69. 48. 40. nan 57. 24. 45. 61. 27. 38. 16. 33. 30. 15. 23. 41. 14. 26.\n",
      " 21. 49. 25. 46. 19. 20. 65. 64. 13. 11. 32. 29. 10. 39. 22. 44. 47. 66.\n",
      " 55.  8. 50. 52. 34. 37.  9. 35. 77. 60. 42. 73. 58. 67.  6. 59. 53. 68.\n",
      " 43. 51. 17. 31. 28. 62. 56. 36. 18. 12.  7. 71. 54. 75. 70.  4. 63.  3.\n",
      " 82. 72. 74.  5. 86. 84. 87.  1.]\n"
     ]
    }
   ],
   "source": [
    "print(df[\"Age\"].unique()[:120])"
   ]
  },
  {
   "cell_type": "code",
   "execution_count": 2399,
   "metadata": {},
   "outputs": [
    {
     "data": {
      "image/png": "[encoded data removed]",
      "text/plain": [
       "<Figure size 800x600 with 1 Axes>"
      ]
     },
     "metadata": {},
     "output_type": "display_data"
    }
   ],
   "source": [
    "# Function to clean and process age values\n",
    "def age_process(age):\n",
    "    try:\n",
    "        age = int(age)\n",
    "    except:\n",
    "        age = 0\n",
    "    return age if 0 < age <= 100 else np.nan\n",
    "\n",
    "# Apply the age processing function\n",
    "df[\"Age\"].fillna(0, inplace=True)\n",
    "df[\"Age\"] = df[\"Age\"].apply(age_process)\n",
    "\n",
    "# Compute mean age\n",
    "mean_age = df[\"Age\"].dropna().mean()\n",
    "\n",
    "# Plot histogram with well-defined bars\n",
    "fig, ax = plt.subplots(figsize=(8,6))\n",
    "sns.histplot(df[\"Age\"].dropna().astype(int), \n",
    "             bins=15, \n",
    "             color=\"dodgerblue\", \n",
    "             edgecolor=\"black\",\n",
    "             alpha=0.7, \n",
    "             ax=ax)\n",
    "\n",
    "# Add a vertical line for the mean age\n",
    "plt.axvline(mean_age, color=\"lightcoral\", linestyle=\"--\", linewidth=2, label=f\"Mean Age: {mean_age:.1f}\")\n",
    "\n",
    "# Labels and title\n",
    "plt.xlabel(\"Age\")\n",
    "plt.ylabel(\"Count\")\n",
    "plt.title(\"Age Distribution\")\n",
    "plt.legend()  # \n",
    "plt.grid(axis=\"y\", linestyle=\"--\", alpha=0.6)  \n",
    "plt.tight_layout()\n",
    "\n",
    "# Show the plot\n",
    "plt.show()\n"
   ]
  },
  {
   "cell_type": "code",
   "execution_count": 2400,
   "metadata": {},
   "outputs": [
    {
     "data": {
      "image/png": "[encoded data removed]",
      "text/plain": [
       "<Figure size 640x480 with 1 Axes>"
      ]
     },
     "metadata": {},
     "output_type": "display_data"
    }
   ],
   "source": [
    "#Graphic Attacks By Age\n",
    "usa_df[\"Age\"] = pd.to_numeric(usa_df[\"Age\"], errors=\"coerce\")\n",
    "age_usa = usa_df[\"Age\"].dropna()\n",
    "\n",
    "# Making bins for age groups\n",
    "bins = [0, 10, 20, 30, 40, 50, 60, 70, 80, 100]\n",
    "plt.hist(age_usa, bins=bins, edgecolor = \"black\", color=\"dodgerblue\")\n",
    "\n",
    "#median = age_usa.median()\n",
    "#plt.axvline(median, color=\"lightcoral\", label= f\"Median Age: {median:.1f}\", linewidth=2)\n",
    "\n",
    "# Add a vertical line for the mean age\n",
    "plt.axvline(mean_age, color=\"lightcoral\", linestyle=\"--\", linewidth=2, label=f\"Mean Age: {mean_age:.1f}\")\n",
    "\n",
    "\n",
    "# Labels and Title \n",
    "plt.title(\"Ages of Shark Attack VIctims in the USA (1960-2024)\")\n",
    "plt.ylabel(\"Attacks\")\n",
    "plt.xlabel(\"Age\")\n",
    "\n",
    "# Formatting\n",
    "plt.legend()\n",
    "plt.grid(axis=\"y\")\n",
    "plt.tight_layout()\n",
    "plt.savefig(\"images/AttacksByAge.png\", bbox_inches=\"tight\")"
   ]
  },
  {
   "cell_type": "markdown",
   "metadata": {},
   "source": [
    "### Data Cleaning for the Column 'Location'"
   ]
  },
  {
   "cell_type": "code",
   "execution_count": 2401,
   "metadata": {},
   "outputs": [],
   "source": [
    "df[\"Location\"] = df[\"Location\"].astype(str).str.strip()\n",
    "df[\"Location\"] = df[\"Location\"].map(lambda x:x.upper())\n",
    "df[\"Location\"] = df[\"Location\"].fillna(\"Unknown\")\n",
    "df[\"Location\"] = df[\"Location\"].replace({ \"NAN\": \"Unknown\", \"nan\": \"Unknown\",\"Nan\": \"Unknown\"})"
   ]
  },
  {
   "cell_type": "code",
   "execution_count": 2402,
   "metadata": {},
   "outputs": [
    {
     "data": {
      "text/plain": [
       "array(['RED SEA', 'HUMPY ISLAND GREAT KEPPEL ISLAND',\n",
       "       'CURTIS ISLAND NEAR GLADSTONE QLD CENTRAL COAST',\n",
       "       'GREENOUGH RIVER MOUTH BEACH CAPE BURNEY 12KM SOUTH OF GERALDTON',\n",
       "       'KHAO LAK BEACH', 'CHATHAM ISLANDS', 'MAAFUSHI',\n",
       "       'SAND PILES WAIEHU BEACH PARK', 'WHITSUNDAY ISLANDS',\n",
       "       'BATHTUB BEACH, MARTIN COUNTY', 'ATLANTIDA',\n",
       "       'BREVARD COUNTY ORLANDO', 'PUERTO CASTILLO', 'WEST OF DAKHLA',\n",
       "       'FALMOUTH', 'CENTRAL AMERICA', 'NORTH SHORE BEACH, PORT MACQUARIE',\n",
       "       'TRIGG BEACH STERLING', 'PONCE DE LEON INLET VOLUSIA COUNTY',\n",
       "       'NEW SMYRNA BEACH', 'SOUTH PADRE ISLAND',\n",
       "       'NEW SMYRNA BEACH BEACH ACCESS 14 VOLUSIA COUNTY',\n",
       "       \"GOAT ISLAND (MOKU'AUIA) LA'IE BAY\", 'HALEIWA, OAHU',\n",
       "       'ROSEMARY BEACH WALTON COUNTY', 'WATER SOUND  BEACH WALTON COUNTY',\n",
       "       'DEL MAR BEACH SAN DIEGO', 'INDIAN OCEAN', 'JAMAICA BEACH',\n",
       "       'LEWARD REEF', 'MANGAREVA ATOLL',\n",
       "       \"Y-73' LEDGE REEF CHARESTON COAST\", 'TURTLE BEACH',\n",
       "       'FLYING FISH MARINA', 'WEST BEACH GLENELG',\n",
       "       'LIGHTHOUSE BOMBIE SURF SPOT EXEMOUTH', 'UNSPECIFIED',\n",
       "       'BARGARA BEACH', \"OLD MAN'S, WAIKIKI\", 'RAINBOWS, OAHU',\n",
       "       'SANDLND ISLAND, JURIAN BAY', 'VAITARNA RIVER, PALGHAR DISTRICT',\n",
       "       'ELIZABETH BAY, SYDNEY HARBOR', 'PARADISE ISLAND RESORT',\n",
       "       'WALKERS BEACH, ELLISTON', 'BABY BEACH, MAUI',\n",
       "       'TOJAHUI BEACH, YAVAROS, HUATABAMPO', 'ETHEL BEACH', 'OLD BAR',\n",
       "       'WEDGE ISLAND', 'RIVERTON', '1770', 'SANDALS RESORT',\n",
       "       'SAN PATRICIO MELAQUE', 'CLACK ISLAND', 'TIGER BEACH',\n",
       "       'PORT NOARLUNGA', 'JUNO BEACH, PALM BEACH COUNTY', 'PEAK ISLAND',\n",
       "       'CAPE PALLISTER', 'STREAKY BAY', 'PUA’ENA POINT,  HALEIWA, OAHU',\n",
       "       'SAN PEDRO , AMBERGRIS CAYE', 'HANALEI BAY, KAUAI',\n",
       "       'LINDA MAR, PACIFIC STATE BEACH, SAN MATEO COUNTY', 'PAIA, MAUI',\n",
       "       'BEACHPORT', 'WILDCAT BEACH, MARIN COUNTY',\n",
       "       'MYRTLE BEACH, HORRY COUNTY', 'DAHAB',\n",
       "       'SATELLITE BEACH, BREVARD COUNTY',\n",
       "       'PANGASINAN, ILOCOS NORTE, LUZON ISLAND',\n",
       "       'PONCE INLET, VOLUSIA COUNTY', 'LIGHTHOUSE BEACH, PORT MACQUARIE',\n",
       "       'OAK ISLAND, BRUNSWICK COUNTY', 'RABDELLS BEACH', 'LANO',\n",
       "       'ROCKAWAY', 'NEW SMYRNA BEACH, VOLUSIA COUNTY',\n",
       "       'ANNA MARIA ISLAND, MANATEE COUNTY', 'TAMPA BAY', 'GNARABUP BEACH',\n",
       "       'YALLINGUP LAGOON',\n",
       "       'SEA PINES BEACH, HILTON HEAD ISLAND, BEAUFORT COUNTY', 'NIRVANA',\n",
       "       'MOSQUERA ISLET', 'CHERRY GROVE, SUFFOLK COUNTY',\n",
       "       'FIRE ISLAND PINES, SUFFOLK COUNTY',\n",
       "       'QUOGUE VILLAGE BEACH, SUFFOLK COUNTY',\n",
       "       'KISMET BEACH, SUFFOLK COUNTY',\n",
       "       'BEACH 3, ROBERT MOSES STATE PARK, SUFFOLK COUNTY',\n",
       "       'COCOA BEACH, BREVARD COUNTY',\n",
       "       'FLAMINGO MARINA, HOMESTEAD, MIAMI-DADE COUNTY', 'LAYSAN',\n",
       "       'DREAM BEACH, HURGUDA', 'SHARK JUNCTION',\n",
       "       'MATAVAI BAY, ARUE, PAPETEE', 'TWAGNE', 'GRACE BAY BEACH',\n",
       "       'STONE HARBOR, CAPE MAY COUNTY'], dtype=object)"
      ]
     },
     "execution_count": 2402,
     "metadata": {},
     "output_type": "execute_result"
    }
   ],
   "source": [
    "df[\"Location\"].unique()[:100]"
   ]
  },
  {
   "cell_type": "code",
   "execution_count": 2403,
   "metadata": {},
   "outputs": [
    {
     "data": {
      "text/plain": [
       "7                                                 Red sea\n",
       "8                                                 Red sea\n",
       "9                        Humpy island great keppel island\n",
       "10         Curtis island near gladstone qld central coast\n",
       "11      Greenough river mouth beach cape burney 12km s...\n",
       "                              ...                        \n",
       "4706                            Covull reef, near lautoka\n",
       "4707                                              Unknown\n",
       "4708                               West nakanai,  talasea\n",
       "4709                                              Xai xai\n",
       "4710                                      Kei river mouth\n",
       "Name: Location, Length: 3578, dtype: object"
      ]
     },
     "execution_count": 2403,
     "metadata": {},
     "output_type": "execute_result"
    }
   ],
   "source": [
    "df[\"Location\"] = df[\"Location\"].str.strip().str.lower().str.capitalize()\n",
    "df[\"Location\"]"
   ]
  },
  {
   "cell_type": "code",
   "execution_count": 2404,
   "metadata": {},
   "outputs": [
    {
     "name": "stdout",
     "output_type": "stream",
     "text": [
      "Location\n",
      "New smyrna beach, volusia county    182\n",
      "Unknown                             159\n",
      "Daytona beach, volusia county        32\n",
      "Ponce inlet, volusia county          25\n",
      "Melbourne beach, brevard county      20\n",
      "Myrtle beach, horry county           19\n",
      "Cocoa beach, brevard  county         18\n",
      "Isle of palms, charleston county     15\n",
      "Boa viagem, recife                   14\n",
      "Cocoa beach, brevard county          13\n",
      "Name: count, dtype: int64\n"
     ]
    }
   ],
   "source": [
    "# Get the top 5 most common locations\n",
    "top_10_locations = df[\"Location\"].value_counts().nlargest(10)\n",
    "\n",
    "# Display results in the console\n",
    "print(top_10_locations)"
   ]
  },
  {
   "cell_type": "code",
   "execution_count": 2405,
   "metadata": {},
   "outputs": [
    {
     "data": {
      "text/plain": [
       "Location\n",
       "New smyrna beach, volusia county    182\n",
       "Unknown                             159\n",
       "Daytona beach, volusia county        32\n",
       "Ponce inlet, volusia county          25\n",
       "Melbourne beach, brevard county      20\n",
       "Name: count, dtype: int64"
      ]
     },
     "execution_count": 2405,
     "metadata": {},
     "output_type": "execute_result"
    }
   ],
   "source": [
    "top_5_locations = df[\"Location\"].value_counts().nlargest(5)\n",
    "top_5_locations "
   ]
  },
  {
   "cell_type": "code",
   "execution_count": 2435,
   "metadata": {},
   "outputs": [
    {
     "data": {
      "image/png": "[encoded data removed]",
      "text/plain": [
       "<Figure size 800x800 with 1 Axes>"
      ]
     },
     "metadata": {},
     "output_type": "display_data"
    }
   ],
   "source": [
    "# Create pie chart for location \n",
    "plt.figure(figsize=(8, 8))\n",
    "plt.pie(top_5_locations, labels=top_5_locations.index, autopct=\"%1.1f%%\", \n",
    "        colors=[\"dodgerblue\", \"lightcoral\", \"skyblue\", \"green\", \"pink\"], \n",
    "        startangle=140, wedgeprops={\"edgecolor\": \"black\"})\n",
    "\n",
    "# Formatting\n",
    "plt.title(\"Top 5 Locations for Shark Attacks (Percentage)\")\n",
    "plt.savefig(\"images/Top5LocationsSharks.png\", bbox_inches=\"tight\")\n",
    "plt.tight_layout()\n",
    "\n",
    "# Show the chart\n",
    "plt.show()"
   ]
  },
  {
   "cell_type": "code",
   "execution_count": 2436,
   "metadata": {},
   "outputs": [
    {
     "data": {
      "image/png": "[encoded data removed]",
      "text/plain": [
       "<Figure size 640x480 with 1 Axes>"
      ]
     },
     "metadata": {},
     "output_type": "display_data"
    }
   ],
   "source": [
    "#Graphic Attacks by Year \n",
    "world_attacks_year = df[\"Year\"].value_counts()\n",
    "world_attacks_year.sort_index(ascending=True, inplace=True)\n",
    "world_attacks_year.plot(color=\"dodgerblue\", label =\"Worldwide\")\n",
    "\n",
    "usa_attacks_year = usa_df[\"Year\"].value_counts()\n",
    "usa_attacks_year.sort_index(ascending=True, inplace=True)\n",
    "usa_attacks_year.plot(color=\"lightcoral\", label =\"United States\")\n",
    "\n",
    "x_years = df[\"Year\"].value_counts().sort_index().index\n",
    "\n",
    "plt.fill_between(x_years, usa_attacks_year, world_attacks_year, color=\"dodgerblue\", alpha=0.25)\n",
    "plt.fill_between(x_years, usa_attacks_year, color=\"lightcoral\", alpha=0.25)\n",
    "\n",
    "plt.legend()\n",
    "plt.tight_layout()\n",
    "plt.title(\"Shark Attacks Over The Years (1960-2024)\")\n",
    "plt.savefig(\"images/AttacksByYear.png\", bbox_inches=\"tight\")"
   ]
  },
  {
   "cell_type": "code",
   "execution_count": 2408,
   "metadata": {},
   "outputs": [
    {
     "name": "stdout",
     "output_type": "stream",
     "text": [
      "Worldwide counts: [2580, 348, 217, 160, 86, 29, 28, 27, 23, 23, 20, 19, 17, 13, 1]\n",
      "USA counts: [1265, 110, 114, 64, 61, 5, 0, 4, 9, 15, 20, 6, 10, 9, 0]\n",
      "Australia counts: [413, 103, 26, 34, 3, 7, 14, 2, 2, 0, 0, 1, 2, 2, 1]\n"
     ]
    },
    {
     "data": {
      "image/png": "[encoded data removed]",
      "text/plain": [
       "<Figure size 640x480 with 1 Axes>"
      ]
     },
     "metadata": {},
     "output_type": "display_data"
    }
   ],
   "source": [
    "# Ensure correct species names\n",
    "df[\"Species_Types\"] = df[\"Species_Types\"].str.strip()  #To remove extra spaces\n",
    "\n",
    "# Define shark species\n",
    "sharkname = [\"Other/Unknown\", \"White Shark\", \"Tiger Shark\", \"Bull Shark\", \"Blacktip Shark\",\n",
    "             \"Reef Shark\", \"Grey Shark\", \"Whitetip Shark\", \"Lemon Shark\", \"Nurse Shark\",\n",
    "             \"Spinner Shark\", \"Mako Shark\", \"Hammerhead Shark\", \"Sandtiger Shark\", \"Whale Shark\"]\n",
    "\n",
    "width = 0.35  # Width of bars\n",
    "xval = np.arange(len(sharkname))  #xval matches sharkname length\n",
    "\n",
    "# Filter by region\n",
    "usa_df = df[df[\"Country\"] == \"United States\"]\n",
    "aus_df = df[df[\"Country\"] == \"Australia\"]\n",
    "\n",
    "# Function to count shark species for a given DataFrame\n",
    "def count_shark_species(df):\n",
    "    return [\n",
    "        df[\"Species_Types\"].str.contains(\"Other/Unknown\", case=False, na=False).sum(),\n",
    "        df[\"Species_Types\"].str.contains(\"White shark\", case=False, na=False).sum(),\n",
    "        df[\"Species_Types\"].str.contains(\"Tiger shark\", case=False, na=False).sum(),\n",
    "        df[\"Species_Types\"].str.contains(\"Bull shark\", case=False, na=False).sum(),\n",
    "        df[\"Species_Types\"].str.contains(\"Blacktip shark\", case=False, na=False).sum(),\n",
    "        df[\"Species_Types\"].str.contains(\"Reef shark\", case=False, na=False).sum(),\n",
    "        df[\"Species_Types\"].str.contains(\"Grey shark\", case=False, na=False).sum(),\n",
    "        df[\"Species_Types\"].str.contains(\"Whitetip shark\", case=False, na=False).sum(),\n",
    "        df[\"Species_Types\"].str.contains(\"Lemon shark\", case=False, na=False).sum(),\n",
    "        df[\"Species_Types\"].str.contains(\"Nurse shark\", case=False, na=False).sum(),\n",
    "        df[\"Species_Types\"].str.contains(\"Spinner shark\", case=False, na=False).sum(),\n",
    "        df[\"Species_Types\"].str.contains(\"Mako shark\", case=False, na=False).sum(),\n",
    "        df[\"Species_Types\"].str.contains(\"Hammerhead shark\", case=False, na=False).sum(),\n",
    "        df[\"Species_Types\"].str.contains(\"Sandtiger shark\", case=False, na=False).sum(),\n",
    "        df[\"Species_Types\"].str.contains(\"Whale shark\", case=False, na=False).sum()\n",
    "    ]\n",
    "\n",
    "# Get counts for each region\n",
    "world_all_counts = count_shark_species(df)       # Worldwide\n",
    "usa_all_counts = count_shark_species(usa_df)     # USA\n",
    "aus_all_counts = count_shark_species(aus_df)     # Australia\n",
    "\n",
    "# Print counts before plotting\n",
    "print(\"Worldwide counts:\", world_all_counts)\n",
    "print(\"USA counts:\", usa_all_counts)\n",
    "print(\"Australia counts:\", aus_all_counts)\n",
    "\n",
    "# Plot bars\n",
    "plt.bar(xval - width, aus_all_counts, label=\"Australia\", width=width, color=\"lightcoral\")\n",
    "plt.bar(xval, usa_all_counts, label=\"United States\", width=width, color=\"dodgerblue\")\n",
    "plt.bar(xval + width, world_all_counts, label=\"Worldwide\", width=width, color=\"beige\")\n",
    "\n",
    "# Format x-axis\n",
    "plt.xticks(ticks=xval, labels=sharkname, rotation=60, ha=\"right\")\n",
    "plt.title(\"Shark Attacks by Shark Species Types (1960-2024)\")\n",
    "plt.ylabel(\"Number of Attacks\")\n",
    "plt.legend()\n",
    "plt.grid(axis=\"y\")\n",
    "\n",
    "#log scale\n",
    "plt.yscale(\"log\")\n",
    "\n",
    "plt.tight_layout()\n",
    "plt.savefig(\"images/AttacksBySpecies.png\", bbox_inches=\"tight\")\n",
    "plt.show()\n"
   ]
  },
  {
   "cell_type": "code",
   "execution_count": 2409,
   "metadata": {},
   "outputs": [
    {
     "name": "stdout",
     "output_type": "stream",
     "text": [
      "       Shark Species  Worldwide   USA  Australia\n",
      "0      Other/Unknown       2580  1265        413\n",
      "1        White Shark        348   110        103\n",
      "2        Tiger Shark        217   114         26\n",
      "3         Bull Shark        160    64         34\n",
      "4     Blacktip Shark         86    61          3\n",
      "5         Reef Shark         29     5          7\n",
      "6         Grey Shark         28     0         14\n",
      "7     Whitetip Shark         27     4          2\n",
      "8        Lemon Shark         23     9          2\n",
      "9        Nurse Shark         23    15          0\n",
      "10     Spinner Shark         20    20          0\n",
      "11        Mako Shark         19     6          1\n",
      "12  Hammerhead Shark         17    10          2\n",
      "13   Sandtiger Shark         13     9          2\n",
      "14       Whale Shark          1     0          1\n"
     ]
    }
   ],
   "source": [
    "# Convert data into a Pandas DataFrame for easy viewing\n",
    "data_table = pd.DataFrame({\n",
    "    \"Shark Species\": sharkname,\n",
    "    \"Worldwide\": world_all_counts,\n",
    "    \"USA\": usa_all_counts,\n",
    "    \"Australia\": aus_all_counts\n",
    "})\n",
    "print(data_table)  "
   ]
  },
  {
   "cell_type": "markdown",
   "metadata": {},
   "source": [
    "### Data Cleaning for the Column 'Activity'"
   ]
  },
  {
   "cell_type": "code",
   "execution_count": 2410,
   "metadata": {},
   "outputs": [
    {
     "data": {
      "text/plain": [
       "count        3578\n",
       "unique        543\n",
       "top       Surfing\n",
       "freq         1064\n",
       "Name: Activity, dtype: object"
      ]
     },
     "execution_count": 2410,
     "metadata": {},
     "output_type": "execute_result"
    }
   ],
   "source": [
    "df[\"Activity\"].describe()"
   ]
  },
  {
   "cell_type": "code",
   "execution_count": 2411,
   "metadata": {},
   "outputs": [
    {
     "data": {
      "text/plain": [
       "array(['SCUBA Diving', 'Spearfishing', 'Surfing', 'Swimming', 'Diving',\n",
       "       'Snorkeling', 'Diving for shellfish',\n",
       "       'Swimming - jumped off yacht', 'Swimming - Diving',\n",
       "       'Diving into Water', 'Wading', 'Playing football in the water',\n",
       "       'Unconfirmed Possibly swimming near the boat harbour',\n",
       "       'Swimming ocean training', 'Military ocean training',\n",
       "       'snorkelling', 'Freediving',\n",
       "       'Jumpinf from dock to boat acidentally fell into water at marina',\n",
       "       'Fishing', 'Free diving', 'Foil Boarding', 'Paddle boarding',\n",
       "       'Scuba diving', 'Towing a dead whale out to sea',\n",
       "       'Boogie boarding', 'Sitting', 'Standing', 'Filming',\n",
       "       'Kite surfing', 'Diving for crayfish', 'Windsurfing',\n",
       "       'Kite-Surfing', 'Surf-sking', 'Diving with  surface-supplied air',\n",
       "       'Surf skiing', 'Shipwreck', 'Swimming  or Snorkeling', 'Kayaking',\n",
       "       'Paddleboarding', 'Lobstering', 'Unknown',\n",
       "       'Lifeguard Training Exercise', 'Lifeguard Exercises', 'Scalloping',\n",
       "       'Jumped into water', 'Playing in the water', 'Fihing',\n",
       "       'Surface Supplied  Diving', 'Floating in inflatable pool ring',\n",
       "       'Wing Foil Surfing', 'Swimmingq', 'Playing',\n",
       "       'Fishing, fell in water', 'Squatting in the water', 'Canoeing',\n",
       "       'Parasailing', 'Kite Foiling', 'Boggie boarding',\n",
       "       'Stand Up Paddleboarding', 'Body boarding', 'Body surfing',\n",
       "       'Swimming / Kayaking', 'Fell off fishing boat', 'Body Surfing',\n",
       "       'Foil-boarding', 'Kayak fishing', 'Treading water',\n",
       "       'Stand-Up Paddleboarding', 'Stand-Up Paddle boarding',\n",
       "       'Swimming/ Treading water', 'Spearfishing / Diving',\n",
       "       'Body-surfing', 'Abalone diving', 'Body Boarding',\n",
       "       'Swimming with sharks', 'Diving / Filming', 'Swimming/Standing',\n",
       "       'Boogie Boarding', 'Floating', 'Scuba Diving', 'Walking',\n",
       "       'Surf-skiing', 'Foilboarding', 'Night bathing',\n",
       "       'Kayaking / Fishing', 'Swimming, poaching abalone', 'SUP',\n",
       "       'Skimboarding', 'Feeding sharks', 'Kakaying', 'Washing hands',\n",
       "       'Surfng', 'SUP Foil boarding', 'Floating in tube',\n",
       "       'Diving for beche-de-mer', 'Sea disaster', 'Lobster fishing',\n",
       "       'Swimming / Wading', 'Fishing for shrimp', 'Photographing fish'],\n",
       "      dtype=object)"
      ]
     },
     "execution_count": 2411,
     "metadata": {},
     "output_type": "execute_result"
    }
   ],
   "source": [
    "df['Activity'].unique()[:100]"
   ]
  },
  {
   "cell_type": "code",
   "execution_count": 2412,
   "metadata": {},
   "outputs": [
    {
     "data": {
      "text/plain": [
       "543"
      ]
     },
     "execution_count": 2412,
     "metadata": {},
     "output_type": "execute_result"
    }
   ],
   "source": [
    "len(df['Activity'].unique())"
   ]
  },
  {
   "cell_type": "code",
   "execution_count": 2413,
   "metadata": {},
   "outputs": [
    {
     "data": {
      "text/plain": [
       "7                                  SCUBA Diving\n",
       "8                                  SCUBA Diving\n",
       "9                                  Spearfishing\n",
       "10                                 Spearfishing\n",
       "11                                      Surfing\n",
       "                         ...                   \n",
       "4706                               Spearfishing\n",
       "4707    Spear fishing, removing fish from spear\n",
       "4708                                    Fishing\n",
       "4709                                   Swimming\n",
       "4710                                     Wading\n",
       "Name: Activity, Length: 3578, dtype: object"
      ]
     },
     "execution_count": 2413,
     "metadata": {},
     "output_type": "execute_result"
    }
   ],
   "source": [
    "# Data Cleaning for the Column 'Name' \n",
    "df[\"Activity\"] = df[\"Activity\"].fillna(\"Unknown\")\n",
    "df[\"Activity\"] = df[\"Activity\"].astype(str)\n",
    "df[\"Activity\"] = df[\"Activity\"].str.strip()\n",
    "df[\"Activity\"] = df[\"Activity\"].replace({\n",
    "    \"NAN\": \"Unknown\",\n",
    "     \"nan\": \"Unknown\",\n",
    "      \"Nan\": \"Unknown\"\n",
    "})\n",
    "df[\"Activity\"]"
   ]
  },
  {
   "cell_type": "code",
   "execution_count": 2414,
   "metadata": {},
   "outputs": [
    {
     "name": "stdout",
     "output_type": "stream",
     "text": [
      "Cleaned_Activity\n",
      "Surfing            1150\n",
      "Swimming            631\n",
      "Other/Unknown       618\n",
      "Spearfishing        307\n",
      "Wading              145\n",
      "Diving              132\n",
      "Snorkeling          126\n",
      "Fishing             116\n",
      "Scuba Diving         95\n",
      "Free Diving          64\n",
      "Boogie Boarding      53\n",
      "Floating             27\n",
      "Windsurfing          22\n",
      "Kite                 18\n",
      "Paddle               16\n",
      "Bathing              14\n",
      "Shark                13\n",
      "Paddleboarding       12\n",
      "Kayaking             10\n",
      "Canoeing              3\n",
      "Jet Skiing            2\n",
      "Sailing               2\n",
      "Bodyboarding          1\n",
      "Wakeboarding          1\n",
      "Name: count, dtype: int64\n",
      "4706    Spearfishing\n",
      "4707         Fishing\n",
      "4708         Fishing\n",
      "4709        Swimming\n",
      "4710          Wading\n",
      "Name: Cleaned_Activity, dtype: object\n"
     ]
    }
   ],
   "source": [
    "def clean_activity(activity): \n",
    "    if not isinstance(activity, str):  # Handle NaN values\n",
    "        return \"Other/Unknown\"\n",
    "    \n",
    "    activity = activity.strip().lower()  # Normalize text\n",
    "    \n",
    "    pattern = r\"(?:\\b\\w+\\s+)*?\\b(surfing|swimming|fishing|kite|paddle(?:boarding)?|snorkeling|Shark|diving|kayaking|bathing|bodyboarding|spearfishing|boogie boarding|wading|floating|scuba diving|free diving|wakeboarding|windsurfing|sailing|jet skiing|canoeing|rafting|water skiing)(?:\\s+\\w+)*?\\b\"\n",
    "    \n",
    "    match = re.search(pattern, activity, re.IGNORECASE)  # Applying regex\n",
    "    \n",
    "    if match:\n",
    "        return match.group(1).title()  # Capitalize the matched activity\n",
    "    else: \n",
    "        return \"Other/Unknown\"\n",
    "\n",
    "# Apply function to the dataframe\n",
    "df['Cleaned_Activity'] = df['Activity'].apply(clean_activity)\n",
    "\n",
    "# Check the results\n",
    "print(df[\"Cleaned_Activity\"].value_counts())  # Count occurrences of each category\n",
    "print(df[\"Cleaned_Activity\"].tail())  # Displaying last few rows"
   ]
  },
  {
   "cell_type": "code",
   "execution_count": 2415,
   "metadata": {},
   "outputs": [],
   "source": [
    "df[\"Cleaned_Activity\"] = df[\"Cleaned_Activity\"].replace({\"Kite\": \"Kite Surfing\", \"Shark\": \"Activity with Shark\"})"
   ]
  },
  {
   "cell_type": "code",
   "execution_count": 2416,
   "metadata": {},
   "outputs": [
    {
     "data": {
      "text/plain": [
       "Cleaned_Activity\n",
       "Surfing                1150\n",
       "Swimming                631\n",
       "Other/Unknown           618\n",
       "Spearfishing            307\n",
       "Wading                  145\n",
       "Diving                  132\n",
       "Snorkeling              126\n",
       "Fishing                 116\n",
       "Scuba Diving             95\n",
       "Free Diving              64\n",
       "Boogie Boarding          53\n",
       "Floating                 27\n",
       "Windsurfing              22\n",
       "Kite Surfing             18\n",
       "Paddle                   16\n",
       "Bathing                  14\n",
       "Activity with Shark      13\n",
       "Paddleboarding           12\n",
       "Kayaking                 10\n",
       "Canoeing                  3\n",
       "Jet Skiing                2\n",
       "Sailing                   2\n",
       "Bodyboarding              1\n",
       "Wakeboarding              1\n",
       "Name: count, dtype: int64"
      ]
     },
     "execution_count": 2416,
     "metadata": {},
     "output_type": "execute_result"
    }
   ],
   "source": [
    "df[\"Cleaned_Activity\"].value_counts()"
   ]
  },
  {
   "cell_type": "code",
   "execution_count": 2417,
   "metadata": {},
   "outputs": [
    {
     "name": "stdout",
     "output_type": "stream",
     "text": [
      "Gender                F       M  Unknown\n",
      "Cleaned_Activity                        \n",
      "Diving              9.0   113.0     10.0\n",
      "Fishing             6.0   107.0      3.0\n",
      "Free Diving         3.0    61.0      0.0\n",
      "Other/Unknown     114.0   455.0     49.0\n",
      "Scuba Diving       14.0    81.0      0.0\n",
      "Snorkeling         58.0    63.0      5.0\n",
      "Spearfishing        8.0   287.0     12.0\n",
      "Surfing            80.0  1046.0     24.0\n",
      "Swimming          170.0   449.0     12.0\n",
      "Wading             60.0    83.0      2.0\n"
     ]
    }
   ],
   "source": [
    "# Get the top 10 attacked activities\n",
    "top_10_activities = df[\"Cleaned_Activity\"].value_counts().nlargest(10).index\n",
    "\n",
    "# Filter the DataFrame to keep only these activities\n",
    "filtered_df = df[df[\"Cleaned_Activity\"].isin(top_10_activities)]\n",
    "\n",
    "# Group by Activity and Sex\n",
    "gender_counts = filtered_df.groupby([\"Cleaned_Activity\", \"Gender\"]).size().unstack()\n",
    "\n",
    "# Fill NaN values with 0 (in case some activities have only one gender recorded)\n",
    "gender_counts = gender_counts.fillna(0)\n",
    "\n",
    "# Display results\n",
    "print(gender_counts)"
   ]
  },
  {
   "cell_type": "code",
   "execution_count": 2418,
   "metadata": {},
   "outputs": [],
   "source": [
    "gender_counts[\"Total\"] = gender_counts.sum(axis=1)  # Create a total count column\n",
    "gender_counts = gender_counts.sort_values(by=\"Total\", ascending=False)  # Sort in ascending order\n",
    "gender_counts = gender_counts.drop(columns=[\"Total\"])  # Remove \"Total\" before plotting"
   ]
  },
  {
   "cell_type": "code",
   "execution_count": 2419,
   "metadata": {},
   "outputs": [
    {
     "data": {
      "image/png": "[encoded data removed]",
      "text/plain": [
       "<Figure size 1000x600 with 1 Axes>"
      ]
     },
     "metadata": {},
     "output_type": "display_data"
    }
   ],
   "source": [
    "# Define colors for different genders\n",
    "colors = [\"lightcoral\", \"dodgerblue\", \"lightsteelblue\"]  # F = Red, M = Dodgerblue, Unknown = lightsteelblue\n",
    "\n",
    "# Plot stacked bar chart\n",
    "gender_counts.plot(kind=\"bar\", stacked=True, figsize=(10,6), color=colors, edgecolor=\"black\")\n",
    "\n",
    "# Labels and title\n",
    "plt.xlabel(\"Activity\")\n",
    "plt.ylabel(\"Number of Attacks\")\n",
    "plt.title(\"Shark Attacks by Activity and Gender\")\n",
    "plt.xticks(rotation=45, ha=\"right\")\n",
    "plt.legend([\"Female\", \"Male\", \"Unknown\"])\n",
    "plt.grid(axis=\"y\", linestyle=\"--\", alpha=0.7)\n",
    "\n",
    "plt.tight_layout()\n",
    "plt.savefig(\"images/SharkAttackByActivity&Gender.png\", bbox_inches=\"tight\")\n",
    "plt.show()"
   ]
  },
  {
   "cell_type": "code",
   "execution_count": 2420,
   "metadata": {},
   "outputs": [],
   "source": [
    "# Age Victims of Men vs Women and Unknown\n",
    "\n",
    "male_ages = df[df[\"Gender\"] == \"M\"][\"Age\"]\n",
    "female_ages = df[df[\"Gender\"] == \"F\"][\"Age\"]\n",
    "unknown_ages = df[df[\"Gender\"] == \"Unknown\"][\"Age\"]"
   ]
  },
  {
   "cell_type": "code",
   "execution_count": 2421,
   "metadata": {},
   "outputs": [
    {
     "name": "stdout",
     "output_type": "stream",
     "text": [
      "Male Age Stats:\n",
      "count    2214.000000\n",
      "mean       28.426829\n",
      "std        14.169965\n",
      "min         1.000000\n",
      "25%        18.000000\n",
      "50%        25.000000\n",
      "75%        37.000000\n",
      "max        87.000000\n",
      "Name: Age, dtype: float64\n",
      "\n",
      "Female Age Stats:\n",
      "count    452.000000\n",
      "mean      28.126106\n",
      "std       17.219968\n",
      "min        3.000000\n",
      "25%       14.000000\n",
      "50%       22.000000\n",
      "75%       40.000000\n",
      "max       77.000000\n",
      "Name: Age, dtype: float64\n",
      "\n",
      "Unknown Age Stats:\n",
      "count    22.000000\n",
      "mean     23.590909\n",
      "std      12.179839\n",
      "min       9.000000\n",
      "25%      15.250000\n",
      "50%      18.500000\n",
      "75%      29.500000\n",
      "max      57.000000\n",
      "Name: Age, dtype: float64\n"
     ]
    }
   ],
   "source": [
    "# Summary statistics\n",
    "\n",
    "# Summary statistics for men\n",
    "print(\"Male Age Stats:\")\n",
    "print(male_ages.describe())  \n",
    "\n",
    "# Summary statistics for women\n",
    "print(\"\\nFemale Age Stats:\")\n",
    "print(female_ages.describe())  \n",
    "\n",
    "print(\"\\nUnknown Age Stats:\")\n",
    "print(unknown_ages.describe())  "
   ]
  },
  {
   "cell_type": "code",
   "execution_count": 2422,
   "metadata": {},
   "outputs": [
    {
     "data": {
      "image/png": "[encoded data removed]",
      "text/plain": [
       "<Figure size 800x600 with 1 Axes>"
      ]
     },
     "metadata": {},
     "output_type": "display_data"
    }
   ],
   "source": [
    "age_gender_df = pd.DataFrame({\n",
    "    \"Age\": pd.concat([male_ages, female_ages, unknown_ages]),\n",
    "    \"Gender\": ([\"Male\"] * len(male_ages)) + ([\"Female\"] * len(female_ages)) + ([\"Unknown\"] * len(unknown_ages))\n",
    "})\n",
    "\n",
    "# Boxplot to compare ages of male vs female victims\n",
    "plt.figure(figsize=(8,6))\n",
    "sns.boxplot(x=\"Gender\", y=\"Age\", data=age_gender_df, palette={\"Male\": \"dodgerblue\", \"Female\": \"lightcoral\", \"Unknown\": \"gray\"})\n",
    "\n",
    "# Formatting\n",
    "plt.xlabel(\"Gender\")\n",
    "plt.ylabel(\"Age\")\n",
    "plt.title(\"Age Distribution of Shark Attack Victims by Gender (Including Unknown)\")\n",
    "plt.grid(axis=\"y\", linestyle=\"--\", alpha=0.7)\n",
    "\n",
    "plt.savefig(\"images/AgeDistributionOfSharkAttackVictims.png\", bbox_inches=\"tight\")\n",
    "plt.show()"
   ]
  },
  {
   "cell_type": "code",
   "execution_count": 2438,
   "metadata": {},
   "outputs": [
    {
     "data": {
      "image/png": "[encoded data removed]",
      "text/plain": [
       "<Figure size 800x600 with 1 Axes>"
      ]
     },
     "metadata": {},
     "output_type": "display_data"
    }
   ],
   "source": [
    "plt.figure(figsize=(8,6))\n",
    "plt.hist(male_ages, bins=15, color=\"dodgerblue\", alpha=0.6, label=\"Male\", edgecolor=\"black\")\n",
    "plt.hist(female_ages, bins=15, color=\"lightcoral\", alpha=0.6, label=\"Female\", edgecolor=\"black\")\n",
    "plt.hist(unknown_ages, bins=15, color=\"gray\", alpha=0.6, label=\"Unknown\", edgecolor=\"black\")  # ✅ Now includes Unknown\n",
    "\n",
    "plt.xlabel(\"Age\")\n",
    "plt.ylabel(\"Number of Attacks\")\n",
    "plt.title(\"Age Distribution of Shark Attack Victims (Male, Female, and Unknown)\")\n",
    "plt.legend()\n",
    "plt.grid(axis=\"y\", linestyle=\"--\", alpha=0.7)\n",
    "plt.savefig(\"images/AgeDistribution.png\", bbox_inches=\"tight\")\n",
    "plt.show()"
   ]
  },
  {
   "cell_type": "markdown",
   "metadata": {},
   "source": [
    "### Distribution of Gender VS Injury"
   ]
  },
  {
   "cell_type": "code",
   "execution_count": 2424,
   "metadata": {},
   "outputs": [
    {
     "data": {
      "text/plain": [
       "array(['Injuries to stomach preventing attack on friend',\n",
       "       'Entire calf muscle removed and bitten both arms and legs',\n",
       "       'Life threatening injuries to neck and arm',\n",
       "       'Not stated but reported as minor injuries both arms',\n",
       "       'Not stated minor injuries',\n",
       "       'Minor to  moderate injuries both legs',\n",
       "       'Not stated but injuries fatal',\n",
       "       'Not stated but reported as minor injuries',\n",
       "       'Right leg severted below knee', '30cm (1ft) bite to lower calf',\n",
       "       'Both feet bitten', 'Back and thigh extensive tissue loss',\n",
       "       'Bite to left arm', 'Bite to left leg', 'Leg severed',\n",
       "       'Head right arm and leg severed',\n",
       "       'Right lower leg amputated after serious bite',\n",
       "       'Serious injury to leg', 'Minor injury to lower left leg',\n",
       "       'Lower left leg injury', 'Minor injury to left foot',\n",
       "       'Bite to left leg calf muscle removed',\n",
       "       'Minor injury to right foot four tendons ruptured',\n",
       "       'Not specific shark bite injuries to the body',\n",
       "       'Multiple serious lacerations to the body',\n",
       "       'Left hand bitten off and right leg bitten',\n",
       "       'Significant injuries to pelvic and abdominal region',\n",
       "       'Significant bites to torso left arm and hand',\n",
       "       'Wounds to lower extremities Fatal',\n",
       "       'Bitten on left hand by 4-5ft shark',\n",
       "       'Major damage to right leg later amputated lower left leg left hand and forearm',\n",
       "       'Bite left forearm several ripped tendons severed nerves deep muscle wounds',\n",
       "       'Bitten on left arm',\n",
       "       'Bite wounds to left arm and leg wounds to abdomen and left hand',\n",
       "       'Bitten on left leg puncture wounds to kneecap',\n",
       "       'Minor bite to left leg', 'Minor injuries left foot',\n",
       "       'Minor injury to left leg',\n",
       "       'Minor injuries to back, abdomen and legs',\n",
       "       'No injury, shark bit surfboard', 'Lacerations to left foot',\n",
       "       'Leg bitten', 'Calf of lower left leg injured', 'Right leg bitten',\n",
       "       'Right leg injured', 'FATAL', 'Injury to right thigh',\n",
       "       'Puncture wounds to right ankle', 'Significant injury to leg',\n",
       "       'Leg severely  injured'], dtype=object)"
      ]
     },
     "execution_count": 2424,
     "metadata": {},
     "output_type": "execute_result"
    }
   ],
   "source": [
    "df[\"Injury\"].unique()[:50]"
   ]
  },
  {
   "cell_type": "code",
   "execution_count": 2425,
   "metadata": {},
   "outputs": [
    {
     "data": {
      "image/png": "[encoded data removed]",
      "text/plain": [
       "<Figure size 800x800 with 1 Axes>"
      ]
     },
     "metadata": {},
     "output_type": "display_data"
    }
   ],
   "source": [
    "# Distribution of Gender & Injury\n",
    "gender_group = df.groupby(\"Gender\")\n",
    "gender_country_group = gender_group[\"Country\"].count()\n",
    "gender_of_injured = gender_country_group.sort_values(ascending=False)\n",
    "gender_of_injured.index = gender_of_injured.index.map({\"M\": \"Male\", \"F\": \"Female\"}).fillna(\"Unknown\")  # Map known values and keep \"Unknown\"\n",
    "\n",
    "plt.figure(figsize=(8, 8))\n",
    "plt.pie(gender_of_injured, labels=gender_of_injured.index, autopct=\"%1.1f%%\", startangle=90, colors=[\"dodgerblue\", \"lightcoral\", \"beige\"])\n",
    "plt.title(\"Gender Distribution in the Injured\")\n",
    "plt.savefig(\"images/GenderDistributionIntheInjured.png\", bbox_inches=\"tight\")\n",
    "plt.show()"
   ]
  },
  {
   "cell_type": "markdown",
   "metadata": {},
   "source": [
    "### Fatal Attack By Gender"
   ]
  },
  {
   "cell_type": "code",
   "execution_count": 2426,
   "metadata": {},
   "outputs": [],
   "source": [
    "df['Decade'] = pd.cut(df['Year'], bins=range(1900, 2030, 10), right=False)"
   ]
  },
  {
   "cell_type": "code",
   "execution_count": 2427,
   "metadata": {},
   "outputs": [
    {
     "data": {
      "image/png": "[encoded data removed]",
      "text/plain": [
       "<Figure size 640x480 with 1 Axes>"
      ]
     },
     "metadata": {},
     "output_type": "display_data"
    }
   ],
   "source": [
    "# Group by Decade and Fatality status, then reshape the data\n",
    "year_fatal_grp = df.groupby(['Decade', 'Fatal']).size().unstack()\n",
    "\n",
    "if \"No\" in year_fatal_grp.columns and \"Yes\" in year_fatal_grp.columns:\n",
    "    color_map = {\"No\": \"dodgerblue\", \"Yes\": \"coral\"}  # Explicit color mapping\n",
    "    colors = [color_map[col] for col in year_fatal_grp.columns]\n",
    "else:\n",
    "    colors = [\"dodgerblue\", \"coral\"]  # Default fallback\n",
    "\n",
    "# Plot the stacked bar chart with corrected color assignment\n",
    "year_fatal_grp.plot(kind='bar', stacked=True, color=colors)\n",
    "\n",
    "# Formatting\n",
    "plt.xlabel('Decade')\n",
    "plt.ylabel('Count')\n",
    "plt.title('Fatal Attacks by Decade')\n",
    "plt.legend(title=\"Fatal\", labels=[\"No\", \"Yes\"])  # Ensure correct legend order\n",
    "plt.savefig(\"images/FatalAttacksbyDecade.png\", bbox_inches=\"tight\")\n",
    "plt.show()"
   ]
  },
  {
   "cell_type": "markdown",
   "metadata": {},
   "source": [
    "### Data Cleaning for Time"
   ]
  },
  {
   "cell_type": "code",
   "execution_count": 2428,
   "metadata": {},
   "outputs": [
    {
     "data": {
      "text/plain": [
       "array(['?', '1637hr', 'AM', '16.30hrs', '1600hr', '11.30hr', '1100hr',\n",
       "       '1735hr', '11hr15', '16hr15', 'after 1200hr', '1400hr', 15.5,\n",
       "       '13h15', '9h', 1300, '14h', '15h30', 'Not stated', '13h30', '9h15',\n",
       "       'Not advised', '13h40', '12h30', '16h00', nan, '11h30', '20h00',\n",
       "       '13h00', '11h12', '16h30', '15h00', '02h00', '16h32', '11h00',\n",
       "       'Morning', '10h30', '13h20', '14h00', '09h00', '10h20', '15h05',\n",
       "       '15h45', '07h45', '10h40', '10h00', 'Afternoon', 'Evening',\n",
       "       '17h50', '09h30', '08h45', '\"Midday\"', '16h25', '13h55', '13h50',\n",
       "       '17h20', '13h45', '10h10', '14h35', '17h00', '19h15', '11h20',\n",
       "       '07h15', '07h00', '18h00', '08h00', '14h20', '17h30', '-16h30',\n",
       "       '12h00', '17h17', '11h15', '19h00', '07h53', '16h10', '11h17',\n",
       "       '17h45', 'Early  morning', '13h12', '07h30', '11hoo', '11h43',\n",
       "       '10h15', '14h09', '12h15', '15h20', '16h40', '07h50', '11h24',\n",
       "       '14h45', '06h30', '19h20', 'Dusk', '11h45', '06h40', '`17h00',\n",
       "       '07h51', '11h46', '07h07', '16h39'], dtype=object)"
      ]
     },
     "execution_count": 2428,
     "metadata": {},
     "output_type": "execute_result"
    }
   ],
   "source": [
    "df[\"Time\"].unique()[:100]"
   ]
  },
  {
   "cell_type": "code",
   "execution_count": 2429,
   "metadata": {},
   "outputs": [
    {
     "data": {
      "text/plain": [
       "Index(['Afternoon', '15h00', '11h00', '16h00', '14h00', 'Morning', '12h00',\n",
       "       '16h30', '13h00', '17h00'],\n",
       "      dtype='object', name='Time')"
      ]
     },
     "execution_count": 2429,
     "metadata": {},
     "output_type": "execute_result"
    }
   ],
   "source": [
    "top_time = df[\"Time\"].value_counts().nlargest(10).index\n",
    "top_time"
   ]
  },
  {
   "cell_type": "code",
   "execution_count": 2430,
   "metadata": {},
   "outputs": [
    {
     "name": "stdout",
     "output_type": "stream",
     "text": [
      "       Time Time_Category\n",
      "7         ?       Unknown\n",
      "8         ?       Unknown\n",
      "9    1637hr     Afternoon\n",
      "10        ?       Unknown\n",
      "11        ?       Unknown\n",
      "..      ...           ...\n",
      "117   13h45        Midday\n",
      "118     NaN       Unknown\n",
      "119   10h10       Morning\n",
      "120     NaN       Unknown\n",
      "121   15h00     Afternoon\n",
      "\n",
      "[100 rows x 2 columns]\n"
     ]
    }
   ],
   "source": [
    "# Function to clean and categorize time values into broad time periods\n",
    "def convert_time_category(value):\n",
    "    \"\"\"\n",
    "    This function takes in a time value from the dataset (which can be in multiple formats)\n",
    "    and standardizes it into broad time periods: Night, Dawn, Morning, Midday, Afternoon, \n",
    "    Dusk, and Night again for later hours.\n",
    "\n",
    "    It handles:\n",
    "    - Military time (e.g., \"1637hr\", \"1400hrs\")\n",
    "    - Hour-minute formats (e.g., \"16:30\", \"11h15\", \"15.5\")\n",
    "    - Text-based descriptions (e.g., \"Morning\", \"Afternoon\", \"Evening\", \"Dusk\")\n",
    "    - Common typos and missing values\n",
    "\n",
    "    If a time value is invalid or unclear, it returns \"Unknown\".\n",
    "    \"\"\"\n",
    "\n",
    "    # If the value is missing (NaN) or one of the known unclear labels, classify as \"Unknown\"\n",
    "    if pd.isna(value) or str(value).lower() in [\"not stated\", \"not advised\", \"unknown\", \"dusk\", \"midday\"]:\n",
    "        return \"Unknown\"\n",
    "\n",
    "    # Convert everything to lowercase and strip spaces to avoid unnecessary errors\n",
    "    value = str(value).strip().lower()\n",
    "\n",
    "    # Fix common typos in the dataset that could affect parsing\n",
    "    value = value.replace(\"hoo\", \"h00\").replace(\"`\", \"\")  # Example: Fix \"11hoo\" -> \"11h00\"\n",
    "\n",
    "    # Attempt to extract a time using regex for formats like \"1637hr\", \"1400hr\", \"15.5\"\n",
    "    match = re.search(r\"(\\d{2,4})[hH]?[rRsS]?\", value)\n",
    "    if match:\n",
    "        num = match.group(1)  # Extract the numeric part\n",
    "\n",
    "        if len(num) == 4:  \n",
    "            # If the number is 4 digits (e.g., \"1637\"), assume it's military time and extract hours\n",
    "            hour = int(num[:2])\n",
    "        elif len(num) == 2:  \n",
    "            # If the number is 2 digits (e.g., \"16\"), assume it's just an hour\n",
    "            hour = int(num)\n",
    "        else:\n",
    "            return \"Unknown\"  # If it's not a recognizable format, classify as \"Unknown\"\n",
    "    \n",
    "    else:\n",
    "        # If the format didn't match the previous regex, check for \"h\" format (e.g., \"14h30\", \"11h15\")\n",
    "        match = re.search(r\"(\\d{1,2})[hH](\\d{1,2})?\", value)\n",
    "        if match:\n",
    "            hour = int(match.group(1))  # Extract just the hour\n",
    "        else:\n",
    "            return \"Unknown\"  # If no recognizable format is found, classify as \"Unknown\"\n",
    "\n",
    "    # Now that we have extracted an hour, categorize it into general time periods:\n",
    "    \n",
    "    if 0 <= hour < 6:\n",
    "        return \"Night\"  # Covers midnight to just before dawn\n",
    "    elif 6 <= hour < 8:\n",
    "        return \"Dawn\"  # Covers early morning light before sunrise\n",
    "    elif 8 <= hour < 11:\n",
    "        return \"Morning\"  # Regular morning hours\n",
    "    elif 11 <= hour < 14:\n",
    "        return \"Midday\"  # Late morning to lunchtime hours\n",
    "    elif 14 <= hour < 17:\n",
    "        return \"Afternoon\"  # Afternoon hours before sunset\n",
    "    elif 17 <= hour < 19:\n",
    "        return \"Dusk\"  # Evening transition period (sunset time)\n",
    "    else:\n",
    "        return \"Night\"  # Covers evening into late night hours\n",
    "\n",
    "# Apply function and store results in a NEW column called \"Time_Category\"\n",
    "df[\"Time_Category\"] = df[\"Time\"].apply(convert_time_category)\n",
    "\n",
    "# Print first 10 rows to confirm that the function works correctly\n",
    "print(df[[\"Time\", \"Time_Category\"]].head(100))"
   ]
  },
  {
   "cell_type": "code",
   "execution_count": 2431,
   "metadata": {},
   "outputs": [
    {
     "name": "stdout",
     "output_type": "stream",
     "text": [
      "Time_Category\n",
      "Unknown      1453\n",
      "Afternoon     659\n",
      "Midday        591\n",
      "Morning       391\n",
      "Dusk          277\n",
      "Dawn          117\n",
      "Night          90\n",
      "Name: count, dtype: int64\n"
     ]
    }
   ],
   "source": [
    "# Count the number of occurrences per time category\n",
    "time_category_counts = df[\"Time_Category\"].value_counts()\n",
    "\n",
    "# Print the counts in descending order\n",
    "print(time_category_counts)"
   ]
  },
  {
   "cell_type": "code",
   "execution_count": 2432,
   "metadata": {},
   "outputs": [
    {
     "data": {
      "image/png": "[encoded data removed]",
      "text/plain": [
       "<Figure size 800x500 with 1 Axes>"
      ]
     },
     "metadata": {},
     "output_type": "display_data"
    }
   ],
   "source": [
    "# Count the number of occurrences per time category\n",
    "time_category_counts = df[\"Time_Category\"].value_counts()\n",
    "\n",
    "# Create a horizontal bar chart\n",
    "plt.figure(figsize=(8, 5))\n",
    "time_category_counts.sort_values(ascending=True).plot(kind=\"barh\", color=\"royalblue\", edgecolor=\"black\")\n",
    "\n",
    "# Formatting\n",
    "plt.xlabel(\"Number of Attacks\")\n",
    "plt.ylabel(\"Time Category\")\n",
    "plt.title(\"Number of Shark Attacks per Time Category\")\n",
    "plt.grid(axis=\"x\", linestyle=\"--\", alpha=0.7)\n",
    "plt.savefig(\"images/NumberOfSharksPerTimeCategory.png\", bbox_inches=\"tight\")\n",
    "\n",
    "# Show the plot\n",
    "plt.tight_layout()\n",
    "plt.show()"
   ]
  },
  {
   "cell_type": "code",
   "execution_count": 2433,
   "metadata": {},
   "outputs": [
    {
     "name": "stdout",
     "output_type": "stream",
     "text": [
      "The most recent year in the dataset is: 2024.0\n"
     ]
    }
   ],
   "source": [
    "newest_year = df[\"Year\"].max()\n",
    "print(f\"The most recent year in the dataset is: {newest_year}\")"
   ]
  },
  {
   "cell_type": "code",
   "execution_count": 2434,
   "metadata": {},
   "outputs": [],
   "source": [
    "# Saving the cleaned dataset as a Pickle file\n",
    "df.to_pickle(\"cleaned_data.pkl\")"
   ]
  }
 ],
 "metadata": {
  "kernelspec": {
   "display_name": "base",
   "language": "python",
   "name": "python3"
  },
  "language_info": {
   "codemirror_mode": {
    "name": "ipython",
    "version": 3
   },
   "file_extension": ".py",
   "mimetype": "text/x-python",
   "name": "python",
   "nbconvert_exporter": "python",
   "pygments_lexer": "ipython3",
   "version": "3.12.7"
  }
 },
 "nbformat": 4,
 "nbformat_minor": 2
}
