{
 "cells": [
  {
   "cell_type": "markdown",
   "metadata": {},
   "source": [
    "# Project: Sharktale, SharkTrack\n",
    "## Data Cleaning"
   ]
  },
  {
   "cell_type": "code",
   "execution_count": null,
   "metadata": {},
   "outputs": [],
   "source": [
    "!pip install xlrd #!pip install country_converter, keep this here pls"
   ]
  },
  {
   "cell_type": "markdown",
   "metadata": {},
   "source": [
    "### Import of Libraries"
   ]
  },
  {
   "cell_type": "code",
   "execution_count": null,
   "metadata": {},
   "outputs": [],
   "source": [
    "import pandas as pd\n",
    "import numpy as np\n",
    "import re\n",
    "import matplotlib.pyplot as plt\n",
    "import seaborn as sns\n",
    "import warnings\n",
    "warnings.filterwarnings('ignore')"
   ]
  },
  {
   "cell_type": "markdown",
   "metadata": {},
   "source": [
    "### Loading the Excel Data"
   ]
  },
  {
   "cell_type": "code",
   "execution_count": null,
   "metadata": {},
   "outputs": [],
   "source": [
    "df = pd.read_excel('https://www.sharkattackfile.net/spreadsheets/GSAF5.xls')\n",
    "df"
   ]
  },
  {
   "cell_type": "markdown",
   "metadata": {},
   "source": [
    "### Data at a Glance \n",
    "Reviewing how the database is organised by using .head(), .info(), .describe(), .tail(), .columns. This will help me on how to pepare the data cleaning process."
   ]
  },
  {
   "cell_type": "code",
   "execution_count": null,
   "metadata": {},
   "outputs": [],
   "source": [
    "df.head()"
   ]
  },
  {
   "cell_type": "code",
   "execution_count": null,
   "metadata": {},
   "outputs": [],
   "source": [
    "df.tail()"
   ]
  },
  {
   "cell_type": "code",
   "execution_count": null,
   "metadata": {},
   "outputs": [],
   "source": [
    "df.info()"
   ]
  },
  {
   "cell_type": "code",
   "execution_count": null,
   "metadata": {},
   "outputs": [],
   "source": [
    "df.describe()"
   ]
  },
  {
   "cell_type": "code",
   "execution_count": null,
   "metadata": {},
   "outputs": [],
   "source": [
    "df.columns"
   ]
  },
  {
   "cell_type": "markdown",
   "metadata": {},
   "source": [
    "### Columns Cleaning and Renaming "
   ]
  },
  {
   "cell_type": "markdown",
   "metadata": {},
   "source": [
    "I have reviewed the columns and decided to do the following: \n",
    "- Remove extra \" \" and also replacing extra \" \" with \"_\". \n",
    "- Dropping the following columns: \"Case_Number_1\", \"Unnamed_21\". \"Unnamed_22\" . \n",
    "- Renaming:  'Fatal Y/N': 'Fatal', 'Sex': 'Gender',  'pdf': 'PDF',  and  'Species ': 'Species', 'href': 'Link','original order': 'Original_Order', "
   ]
  },
  {
   "cell_type": "code",
   "execution_count": null,
   "metadata": {},
   "outputs": [],
   "source": [
    "df = df.rename(columns= {\n",
    "    'Fatal Y/N': 'Fatal',\n",
    "    'Species ': 'Species',\n",
    "    'pdf': 'PDF', \n",
    "    'Sex': 'Gender',\n",
    "    'href formula': 'Href_formula', \n",
    "    'href': 'Link',\n",
    "    'Case Number': 'Case_Number', \n",
    "    'Case Number.1': 'Case_Number_1',\n",
    "    'original order': 'Original_Order', \n",
    "    'Unnamed: 21': 'Unnamed_21', \n",
    "    'Unnamed: 22': 'Unnamed_22'\n",
    "})\n",
    "df.columns"
   ]
  },
  {
   "cell_type": "code",
   "execution_count": null,
   "metadata": {},
   "outputs": [],
   "source": [
    "df[\"Case_Number\"].isin(df[\"Case_Number_1\"]).value_counts() # There is less than 10% difference "
   ]
  },
  {
   "cell_type": "code",
   "execution_count": null,
   "metadata": {},
   "outputs": [],
   "source": [
    "# Dropping Columns\n",
    "df = df.drop(columns=[\"Unnamed_21\", \"Unnamed_22\", \"PDF\", \"Href_formula\", \"Case_Number_1\"])\n",
    "df.columns"
   ]
  },
  {
   "cell_type": "markdown",
   "metadata": {},
   "source": [
    "### Cleaning Column 'Month'"
   ]
  },
  {
   "cell_type": "code",
   "execution_count": null,
   "metadata": {},
   "outputs": [],
   "source": [
    "def finding_month(date): \n",
    "    months = [\"Jan\", \"Feb\", \"Mar\", \"Apr\", \"May\", \"Jun\", \"Jul\", \"Aug\", \"Oct\", \"Nov\", \"Dec\"]\n",
    "    #If it founds the info of a given month, it returns an output of this cleaning function\n",
    "    try:\n",
    "        for month in months: \n",
    "            if re.search(month, date):\n",
    "                return month\n",
    "    except TypeError:\n",
    "        pass \n",
    "  \n",
    "df[\"Month\"] = df[\"Date\"]\n",
    "df[\"Month\"] = df[\"Date\"].apply(finding_month)\n",
    "df[\"Month\"].fillna(value=\"Unknown\", inplace=True)\n",
    "print(df[\"Month\"].value_counts())  # Check unique values"
   ]
  },
  {
   "cell_type": "markdown",
   "metadata": {},
   "source": [
    "### Data Cleaning for the Column 'Type' "
   ]
  },
  {
   "cell_type": "code",
   "execution_count": null,
   "metadata": {},
   "outputs": [],
   "source": [
    "df.Type.unique() "
   ]
  },
  {
   "cell_type": "code",
   "execution_count": null,
   "metadata": {},
   "outputs": [],
   "source": [
    "print(df[\"Type\"].value_counts()) "
   ]
  },
  {
   "cell_type": "code",
   "execution_count": null,
   "metadata": {},
   "outputs": [],
   "source": [
    "print(df[\"Type\"].value_counts(dropna=False)) # I wanted to review the Nan "
   ]
  },
  {
   "cell_type": "code",
   "execution_count": null,
   "metadata": {},
   "outputs": [],
   "source": [
    "#Reviewing how many were provoked and unprovoked \n",
    "print(df[\"Type\"].unique())"
   ]
  },
  {
   "cell_type": "code",
   "execution_count": null,
   "metadata": {},
   "outputs": [],
   "source": [
    "df[\"Type\"] = df[\"Type\"].str.strip()\n",
    "df[\"Type\"] = df[\"Type\"].replace({\n",
    "    \" Provoked\": \"Provoked\", \n",
    "    \"Unconfirmed\": \"Unknown\",\n",
    "    \"?\" : \"Unknown\",\n",
    "    \"Invalid\": \"Unknown\",\n",
    "    \"Under investigation\": \"Unknown\",\n",
    "    \"Questionable\": \"Unknown\", \n",
    "    \"Watercraft\" : \"Water Vehicle\", \n",
    "    \"Boat\" : \"Water Vehicle\"\n",
    "})\n",
    "\n",
    "df[\"Type\"] = df[\"Type\"].fillna(\"Unknown\")\n",
    "print(df[\"Type\"].unique())"
   ]
  },
  {
   "cell_type": "markdown",
   "metadata": {},
   "source": [
    "## Data Cleaning for the Column 'Gender'"
   ]
  },
  {
   "cell_type": "code",
   "execution_count": null,
   "metadata": {},
   "outputs": [],
   "source": [
    "df[\"Gender\"] = df[\"Gender\"].replace({\n",
    "    \" M\": \"M\", \n",
    "    \"M \": \"M\", \n",
    "    \"M x 2\": \"M\", \n",
    "    \" nan\": \"Unknown\", \n",
    "    \"lli\": \"Unknown\", \n",
    "    \"N\": \"M\", \n",
    "    \".\": \"Unknown\"\n",
    "    })\n",
    "df[\"Gender\"] = df[\"Gender\"].fillna(\"Unknown\")\n",
    "df.Gender.unique()"
   ]
  },
  {
   "cell_type": "markdown",
   "metadata": {},
   "source": [
    "### Data Cleaning for the Column 'Species'"
   ]
  },
  {
   "cell_type": "code",
   "execution_count": null,
   "metadata": {},
   "outputs": [],
   "source": []
  }
 ],
 "metadata": {
  "kernelspec": {
   "display_name": "base",
   "language": "python",
   "name": "python3"
  },
  "language_info": {
   "codemirror_mode": {
    "name": "ipython",
    "version": 3
   },
   "file_extension": ".py",
   "mimetype": "text/x-python",
   "name": "python",
   "nbconvert_exporter": "python",
   "pygments_lexer": "ipython3",
   "version": "3.12.7"
  }
 },
 "nbformat": 4,
 "nbformat_minor": 2
}
