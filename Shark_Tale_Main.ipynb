{
 "cells": [
  {
   "cell_type": "code",
   "execution_count": null,
   "metadata": {},
   "outputs": [],
   "source": [
    "# keep this here pls\n",
    "!pip install xlrd \n",
    "#!pip install country_converter"
   ]
  },
  {
   "cell_type": "code",
   "execution_count": null,
   "metadata": {},
   "outputs": [],
   "source": [
    "import pandas as pd\n",
    "import numpy as np\n",
    "import re\n",
    "#import warnings\n",
    "#warnings.filterwarnings('ignore')"
   ]
  },
  {
   "cell_type": "code",
   "execution_count": 295,
   "metadata": {},
   "outputs": [
    {
     "data": {
      "text/html": [
       "<div>\n",
       "<style scoped>\n",
       "    .dataframe tbody tr th:only-of-type {\n",
       "        vertical-align: middle;\n",
       "    }\n",
       "\n",
       "    .dataframe tbody tr th {\n",
       "        vertical-align: top;\n",
       "    }\n",
       "\n",
       "    .dataframe thead th {\n",
       "        text-align: right;\n",
       "    }\n",
       "</style>\n",
       "<table border=\"1\" class=\"dataframe\">\n",
       "  <thead>\n",
       "    <tr style=\"text-align: right;\">\n",
       "      <th></th>\n",
       "      <th>Date</th>\n",
       "      <th>Year</th>\n",
       "      <th>Type</th>\n",
       "      <th>Country</th>\n",
       "      <th>State</th>\n",
       "      <th>Location</th>\n",
       "      <th>Activity</th>\n",
       "      <th>Name</th>\n",
       "      <th>Sex</th>\n",
       "      <th>Age</th>\n",
       "      <th>...</th>\n",
       "      <th>Species</th>\n",
       "      <th>Source</th>\n",
       "      <th>pdf</th>\n",
       "      <th>href formula</th>\n",
       "      <th>href</th>\n",
       "      <th>Case Number</th>\n",
       "      <th>Case Number.1</th>\n",
       "      <th>original order</th>\n",
       "      <th>Unnamed: 21</th>\n",
       "      <th>Unnamed: 22</th>\n",
       "    </tr>\n",
       "  </thead>\n",
       "  <tbody>\n",
       "    <tr>\n",
       "      <th>0</th>\n",
       "      <td>2025-01-23 00:00:00</td>\n",
       "      <td>2025.0</td>\n",
       "      <td>Unprovoked</td>\n",
       "      <td>Australia</td>\n",
       "      <td>Western Australia</td>\n",
       "      <td>Shipwreck Cove</td>\n",
       "      <td>Bathing</td>\n",
       "      <td>Boy</td>\n",
       "      <td>M</td>\n",
       "      <td>12</td>\n",
       "      <td>...</td>\n",
       "      <td>Not stated</td>\n",
       "      <td>Bob Myatt GSAF</td>\n",
       "      <td>NaN</td>\n",
       "      <td>NaN</td>\n",
       "      <td>NaN</td>\n",
       "      <td>NaN</td>\n",
       "      <td>NaN</td>\n",
       "      <td>NaN</td>\n",
       "      <td>NaN</td>\n",
       "      <td>NaN</td>\n",
       "    </tr>\n",
       "    <tr>\n",
       "      <th>1</th>\n",
       "      <td>2025-01-22 00:00:00</td>\n",
       "      <td>2025.0</td>\n",
       "      <td>Unprovoked</td>\n",
       "      <td>Australia</td>\n",
       "      <td>Western Australia</td>\n",
       "      <td>Cheynes beach</td>\n",
       "      <td>Surfing</td>\n",
       "      <td>Dale Kittow</td>\n",
       "      <td>M</td>\n",
       "      <td>37</td>\n",
       "      <td>...</td>\n",
       "      <td>Bronze whaler</td>\n",
       "      <td>Bob Myatt GSAF</td>\n",
       "      <td>NaN</td>\n",
       "      <td>NaN</td>\n",
       "      <td>NaN</td>\n",
       "      <td>NaN</td>\n",
       "      <td>NaN</td>\n",
       "      <td>NaN</td>\n",
       "      <td>NaN</td>\n",
       "      <td>NaN</td>\n",
       "    </tr>\n",
       "    <tr>\n",
       "      <th>2</th>\n",
       "      <td>2025-01-11 00:00:00</td>\n",
       "      <td>2025.0</td>\n",
       "      <td>Provoked</td>\n",
       "      <td>USA</td>\n",
       "      <td>Hawaii</td>\n",
       "      <td>Off Haleiwa Boat Harbour Oahu</td>\n",
       "      <td>Diving</td>\n",
       "      <td>Male not stated was a dive tour worker</td>\n",
       "      <td>M</td>\n",
       "      <td>23</td>\n",
       "      <td>...</td>\n",
       "      <td>Not stated</td>\n",
       "      <td>Kevin McMurray Trackingsharks.com</td>\n",
       "      <td>NaN</td>\n",
       "      <td>NaN</td>\n",
       "      <td>NaN</td>\n",
       "      <td>NaN</td>\n",
       "      <td>NaN</td>\n",
       "      <td>NaN</td>\n",
       "      <td>NaN</td>\n",
       "      <td>NaN</td>\n",
       "    </tr>\n",
       "    <tr>\n",
       "      <th>3</th>\n",
       "      <td>2025-01-02 00:00:00</td>\n",
       "      <td>2025.0</td>\n",
       "      <td>Unprovoked</td>\n",
       "      <td>New Caledonia</td>\n",
       "      <td>Grande Terre</td>\n",
       "      <td>Islet of Kendek near Koumac</td>\n",
       "      <td>Spearfishing</td>\n",
       "      <td>Robert Cuewapuru</td>\n",
       "      <td>M</td>\n",
       "      <td>40</td>\n",
       "      <td>...</td>\n",
       "      <td>Reportedly Tiger or Bull shark</td>\n",
       "      <td>Johannes Marchand Todd Smith</td>\n",
       "      <td>NaN</td>\n",
       "      <td>NaN</td>\n",
       "      <td>NaN</td>\n",
       "      <td>NaN</td>\n",
       "      <td>NaN</td>\n",
       "      <td>NaN</td>\n",
       "      <td>NaN</td>\n",
       "      <td>NaN</td>\n",
       "    </tr>\n",
       "    <tr>\n",
       "      <th>4</th>\n",
       "      <td>2025-01-02 00:00:00</td>\n",
       "      <td>2025.0</td>\n",
       "      <td>Unprovoked</td>\n",
       "      <td>Australia</td>\n",
       "      <td>South Australia</td>\n",
       "      <td>Granites Beach near Westall Streaky Bay</td>\n",
       "      <td>Surfing</td>\n",
       "      <td>Lance Appleby</td>\n",
       "      <td>M</td>\n",
       "      <td>28</td>\n",
       "      <td>...</td>\n",
       "      <td>Great White Shart estimated 4.8m 16 ft</td>\n",
       "      <td>Glen Folkard: Simon De Marchi News.com.au: The...</td>\n",
       "      <td>NaN</td>\n",
       "      <td>NaN</td>\n",
       "      <td>NaN</td>\n",
       "      <td>NaN</td>\n",
       "      <td>NaN</td>\n",
       "      <td>NaN</td>\n",
       "      <td>NaN</td>\n",
       "      <td>NaN</td>\n",
       "    </tr>\n",
       "    <tr>\n",
       "      <th>...</th>\n",
       "      <td>...</td>\n",
       "      <td>...</td>\n",
       "      <td>...</td>\n",
       "      <td>...</td>\n",
       "      <td>...</td>\n",
       "      <td>...</td>\n",
       "      <td>...</td>\n",
       "      <td>...</td>\n",
       "      <td>...</td>\n",
       "      <td>...</td>\n",
       "      <td>...</td>\n",
       "      <td>...</td>\n",
       "      <td>...</td>\n",
       "      <td>...</td>\n",
       "      <td>...</td>\n",
       "      <td>...</td>\n",
       "      <td>...</td>\n",
       "      <td>...</td>\n",
       "      <td>...</td>\n",
       "      <td>...</td>\n",
       "      <td>...</td>\n",
       "    </tr>\n",
       "    <tr>\n",
       "      <th>6987</th>\n",
       "      <td>Before 1903</td>\n",
       "      <td>0.0</td>\n",
       "      <td>Unprovoked</td>\n",
       "      <td>AUSTRALIA</td>\n",
       "      <td>Western Australia</td>\n",
       "      <td>Roebuck Bay</td>\n",
       "      <td>Diving</td>\n",
       "      <td>male</td>\n",
       "      <td>M</td>\n",
       "      <td>NaN</td>\n",
       "      <td>...</td>\n",
       "      <td>NaN</td>\n",
       "      <td>H. Taunton; N. Bartlett,  p. 234</td>\n",
       "      <td>ND-0005-RoebuckBay.pdf</td>\n",
       "      <td>http://sharkattackfile.net/spreadsheets/pdf_di...</td>\n",
       "      <td>http://sharkattackfile.net/spreadsheets/pdf_di...</td>\n",
       "      <td>ND.0005</td>\n",
       "      <td>ND.0005</td>\n",
       "      <td>6.0</td>\n",
       "      <td>NaN</td>\n",
       "      <td>NaN</td>\n",
       "    </tr>\n",
       "    <tr>\n",
       "      <th>6988</th>\n",
       "      <td>Before 1903</td>\n",
       "      <td>0.0</td>\n",
       "      <td>Unprovoked</td>\n",
       "      <td>AUSTRALIA</td>\n",
       "      <td>Western Australia</td>\n",
       "      <td>NaN</td>\n",
       "      <td>Pearl diving</td>\n",
       "      <td>Ahmun</td>\n",
       "      <td>M</td>\n",
       "      <td>NaN</td>\n",
       "      <td>...</td>\n",
       "      <td>NaN</td>\n",
       "      <td>H. Taunton; N. Bartlett,  pp. 233-234</td>\n",
       "      <td>ND-0004-Ahmun.pdf</td>\n",
       "      <td>http://sharkattackfile.net/spreadsheets/pdf_di...</td>\n",
       "      <td>http://sharkattackfile.net/spreadsheets/pdf_di...</td>\n",
       "      <td>ND.0004</td>\n",
       "      <td>ND.0004</td>\n",
       "      <td>5.0</td>\n",
       "      <td>NaN</td>\n",
       "      <td>NaN</td>\n",
       "    </tr>\n",
       "    <tr>\n",
       "      <th>6989</th>\n",
       "      <td>1900-1905</td>\n",
       "      <td>0.0</td>\n",
       "      <td>Unprovoked</td>\n",
       "      <td>USA</td>\n",
       "      <td>North Carolina</td>\n",
       "      <td>Ocracoke Inlet</td>\n",
       "      <td>Swimming</td>\n",
       "      <td>Coast Guard personnel</td>\n",
       "      <td>M</td>\n",
       "      <td>NaN</td>\n",
       "      <td>...</td>\n",
       "      <td>NaN</td>\n",
       "      <td>F. Schwartz, p.23; C. Creswell, GSAF</td>\n",
       "      <td>ND-0003-Ocracoke_1900-1905.pdf</td>\n",
       "      <td>http://sharkattackfile.net/spreadsheets/pdf_di...</td>\n",
       "      <td>http://sharkattackfile.net/spreadsheets/pdf_di...</td>\n",
       "      <td>ND.0003</td>\n",
       "      <td>ND.0003</td>\n",
       "      <td>4.0</td>\n",
       "      <td>NaN</td>\n",
       "      <td>NaN</td>\n",
       "    </tr>\n",
       "    <tr>\n",
       "      <th>6990</th>\n",
       "      <td>1883-1889</td>\n",
       "      <td>0.0</td>\n",
       "      <td>Unprovoked</td>\n",
       "      <td>PANAMA</td>\n",
       "      <td>NaN</td>\n",
       "      <td>Panama Bay 8ºN, 79ºW</td>\n",
       "      <td>NaN</td>\n",
       "      <td>Jules Patterson</td>\n",
       "      <td>M</td>\n",
       "      <td>NaN</td>\n",
       "      <td>...</td>\n",
       "      <td>NaN</td>\n",
       "      <td>The Sun, 10/20/1938</td>\n",
       "      <td>ND-0002-JulesPatterson.pdf</td>\n",
       "      <td>http://sharkattackfile.net/spreadsheets/pdf_di...</td>\n",
       "      <td>http://sharkattackfile.net/spreadsheets/pdf_di...</td>\n",
       "      <td>ND.0002</td>\n",
       "      <td>ND.0002</td>\n",
       "      <td>3.0</td>\n",
       "      <td>NaN</td>\n",
       "      <td>NaN</td>\n",
       "    </tr>\n",
       "    <tr>\n",
       "      <th>6991</th>\n",
       "      <td>1845-1853</td>\n",
       "      <td>0.0</td>\n",
       "      <td>Unprovoked</td>\n",
       "      <td>CEYLON (SRI LANKA)</td>\n",
       "      <td>Eastern Province</td>\n",
       "      <td>Below the English fort, Trincomalee</td>\n",
       "      <td>Swimming</td>\n",
       "      <td>male</td>\n",
       "      <td>M</td>\n",
       "      <td>15</td>\n",
       "      <td>...</td>\n",
       "      <td>NaN</td>\n",
       "      <td>S.W. Baker</td>\n",
       "      <td>ND-0001-Ceylon.pdf</td>\n",
       "      <td>http://sharkattackfile.net/spreadsheets/pdf_di...</td>\n",
       "      <td>http://sharkattackfile.net/spreadsheets/pdf_di...</td>\n",
       "      <td>ND.0001</td>\n",
       "      <td>ND.0001</td>\n",
       "      <td>2.0</td>\n",
       "      <td>NaN</td>\n",
       "      <td>NaN</td>\n",
       "    </tr>\n",
       "  </tbody>\n",
       "</table>\n",
       "<p>6992 rows × 23 columns</p>\n",
       "</div>"
      ],
      "text/plain": [
       "                     Date    Year        Type             Country  \\\n",
       "0     2025-01-23 00:00:00  2025.0  Unprovoked           Australia   \n",
       "1     2025-01-22 00:00:00  2025.0  Unprovoked           Australia   \n",
       "2     2025-01-11 00:00:00  2025.0    Provoked                 USA   \n",
       "3     2025-01-02 00:00:00  2025.0  Unprovoked       New Caledonia   \n",
       "4     2025-01-02 00:00:00  2025.0  Unprovoked           Australia   \n",
       "...                   ...     ...         ...                 ...   \n",
       "6987          Before 1903     0.0  Unprovoked           AUSTRALIA   \n",
       "6988          Before 1903     0.0  Unprovoked           AUSTRALIA   \n",
       "6989            1900-1905     0.0  Unprovoked                 USA   \n",
       "6990            1883-1889     0.0  Unprovoked              PANAMA   \n",
       "6991            1845-1853     0.0  Unprovoked  CEYLON (SRI LANKA)   \n",
       "\n",
       "                  State                                 Location  \\\n",
       "0     Western Australia                           Shipwreck Cove   \n",
       "1     Western Australia                           Cheynes beach    \n",
       "2                Hawaii            Off Haleiwa Boat Harbour Oahu   \n",
       "3          Grande Terre              Islet of Kendek near Koumac   \n",
       "4       South Australia  Granites Beach near Westall Streaky Bay   \n",
       "...                 ...                                      ...   \n",
       "6987  Western Australia                              Roebuck Bay   \n",
       "6988  Western Australia                                      NaN   \n",
       "6989     North Carolina                           Ocracoke Inlet   \n",
       "6990                NaN                     Panama Bay 8ºN, 79ºW   \n",
       "6991   Eastern Province      Below the English fort, Trincomalee   \n",
       "\n",
       "          Activity                                    Name Sex  Age  ...  \\\n",
       "0          Bathing                                    Boy    M   12  ...   \n",
       "1          Surfing                             Dale Kittow   M   37  ...   \n",
       "2           Diving  Male not stated was a dive tour worker   M   23  ...   \n",
       "3     Spearfishing                        Robert Cuewapuru   M   40  ...   \n",
       "4          Surfing                           Lance Appleby   M   28  ...   \n",
       "...            ...                                     ...  ..  ...  ...   \n",
       "6987        Diving                                    male   M  NaN  ...   \n",
       "6988  Pearl diving                                   Ahmun   M  NaN  ...   \n",
       "6989      Swimming                   Coast Guard personnel   M  NaN  ...   \n",
       "6990           NaN                         Jules Patterson   M  NaN  ...   \n",
       "6991      Swimming                                    male   M   15  ...   \n",
       "\n",
       "                                    Species   \\\n",
       "0                                 Not stated   \n",
       "1                              Bronze whaler   \n",
       "2                                 Not stated   \n",
       "3             Reportedly Tiger or Bull shark   \n",
       "4     Great White Shart estimated 4.8m 16 ft   \n",
       "...                                      ...   \n",
       "6987                                     NaN   \n",
       "6988                                     NaN   \n",
       "6989                                     NaN   \n",
       "6990                                     NaN   \n",
       "6991                                     NaN   \n",
       "\n",
       "                                                 Source  \\\n",
       "0                                        Bob Myatt GSAF   \n",
       "1                                        Bob Myatt GSAF   \n",
       "2                     Kevin McMurray Trackingsharks.com   \n",
       "3                         Johannes Marchand Todd Smith    \n",
       "4     Glen Folkard: Simon De Marchi News.com.au: The...   \n",
       "...                                                 ...   \n",
       "6987                   H. Taunton; N. Bartlett,  p. 234   \n",
       "6988              H. Taunton; N. Bartlett,  pp. 233-234   \n",
       "6989               F. Schwartz, p.23; C. Creswell, GSAF   \n",
       "6990                                The Sun, 10/20/1938   \n",
       "6991                                         S.W. Baker   \n",
       "\n",
       "                                 pdf  \\\n",
       "0                                NaN   \n",
       "1                                NaN   \n",
       "2                                NaN   \n",
       "3                                NaN   \n",
       "4                                NaN   \n",
       "...                              ...   \n",
       "6987          ND-0005-RoebuckBay.pdf   \n",
       "6988               ND-0004-Ahmun.pdf   \n",
       "6989  ND-0003-Ocracoke_1900-1905.pdf   \n",
       "6990      ND-0002-JulesPatterson.pdf   \n",
       "6991              ND-0001-Ceylon.pdf   \n",
       "\n",
       "                                           href formula  \\\n",
       "0                                                   NaN   \n",
       "1                                                   NaN   \n",
       "2                                                   NaN   \n",
       "3                                                   NaN   \n",
       "4                                                   NaN   \n",
       "...                                                 ...   \n",
       "6987  http://sharkattackfile.net/spreadsheets/pdf_di...   \n",
       "6988  http://sharkattackfile.net/spreadsheets/pdf_di...   \n",
       "6989  http://sharkattackfile.net/spreadsheets/pdf_di...   \n",
       "6990  http://sharkattackfile.net/spreadsheets/pdf_di...   \n",
       "6991  http://sharkattackfile.net/spreadsheets/pdf_di...   \n",
       "\n",
       "                                                   href Case Number  \\\n",
       "0                                                   NaN         NaN   \n",
       "1                                                   NaN         NaN   \n",
       "2                                                   NaN         NaN   \n",
       "3                                                   NaN         NaN   \n",
       "4                                                   NaN         NaN   \n",
       "...                                                 ...         ...   \n",
       "6987  http://sharkattackfile.net/spreadsheets/pdf_di...     ND.0005   \n",
       "6988  http://sharkattackfile.net/spreadsheets/pdf_di...     ND.0004   \n",
       "6989  http://sharkattackfile.net/spreadsheets/pdf_di...     ND.0003   \n",
       "6990  http://sharkattackfile.net/spreadsheets/pdf_di...     ND.0002   \n",
       "6991  http://sharkattackfile.net/spreadsheets/pdf_di...     ND.0001   \n",
       "\n",
       "     Case Number.1 original order Unnamed: 21 Unnamed: 22  \n",
       "0              NaN            NaN         NaN         NaN  \n",
       "1              NaN            NaN         NaN         NaN  \n",
       "2              NaN            NaN         NaN         NaN  \n",
       "3              NaN            NaN         NaN         NaN  \n",
       "4              NaN            NaN         NaN         NaN  \n",
       "...            ...            ...         ...         ...  \n",
       "6987       ND.0005            6.0         NaN         NaN  \n",
       "6988       ND.0004            5.0         NaN         NaN  \n",
       "6989       ND.0003            4.0         NaN         NaN  \n",
       "6990       ND.0002            3.0         NaN         NaN  \n",
       "6991       ND.0001            2.0         NaN         NaN  \n",
       "\n",
       "[6992 rows x 23 columns]"
      ]
     },
     "execution_count": 295,
     "metadata": {},
     "output_type": "execute_result"
    }
   ],
   "source": [
    "#define path to xls\n",
    "url = 'https://www.sharkattackfile.net/spreadsheets/GSAF5.xls'\n",
    "df = pd.read_excel(url)\n",
    "df  # 6992 rows × 23 columns"
   ]
  },
  {
   "cell_type": "code",
   "execution_count": null,
   "metadata": {},
   "outputs": [],
   "source": [
    "df.head()"
   ]
  },
  {
   "cell_type": "code",
   "execution_count": null,
   "metadata": {},
   "outputs": [],
   "source": [
    "df.tail()"
   ]
  },
  {
   "cell_type": "code",
   "execution_count": 334,
   "metadata": {},
   "outputs": [
    {
     "name": "stdout",
     "output_type": "stream",
     "text": [
      "Number of Rows:  6992\n",
      "Number of Columns:  24\n"
     ]
    },
    {
     "data": {
      "text/plain": [
       "Index(['Date', 'Year', 'Type', 'Country', 'State', 'Location', 'Activity',\n",
       "       'Name', 'Gender', 'Age', 'Injury', 'Fatal', 'Time', 'Species', 'Source',\n",
       "       'PDF', 'Href_formula', 'Href', 'Case_Number', 'Case_Number_1',\n",
       "       'Original_Order', 'Unnamed_21', 'Unnamed_22', 'Species_Types'],\n",
       "      dtype='object')"
      ]
     },
     "execution_count": 334,
     "metadata": {},
     "output_type": "execute_result"
    }
   ],
   "source": [
    "df.shape[0]\n",
    "df.shape[1]\n",
    "\n",
    "print(\"Number of Rows: \", df.shape[0])\n",
    "print(\"Number of Columns: \", df.shape[1])\n",
    "\n",
    "df.columns\n",
    "\n",
    "# Issues w/ og file –> extra 8 columns on VSC? to preserve NaN\n",
    "# Date, Year, Type, Country, State, Location, Activity, Name, Sex, Age, Injury, Fatal Y/N, Time, Specie, Source\n",
    "# check search tool between uppercase and lowercase e.g. Australia / AUSTRALIA"
   ]
  },
  {
   "cell_type": "code",
   "execution_count": null,
   "metadata": {},
   "outputs": [],
   "source": [
    "# df.columns"
   ]
  },
  {
   "cell_type": "code",
   "execution_count": 296,
   "metadata": {},
   "outputs": [
    {
     "name": "stdout",
     "output_type": "stream",
     "text": [
      "Index(['Date', 'Year', 'Type', 'Country', 'State', 'Location', 'Activity',\n",
      "       'Name', 'Gender', 'Age', 'Injury', 'Fatal', 'Time', 'Species', 'Source',\n",
      "       'PDF', 'Href_formula', 'Href', 'Case_Number', 'Case_Number_1',\n",
      "       'Original_Order', 'Unnamed_21', 'Unnamed_22'],\n",
      "      dtype='object')\n"
     ]
    }
   ],
   "source": [
    "df.rename(columns= {\n",
    "    'Fatal Y/N': 'Fatal',\n",
    "    'Species ': 'Species',\n",
    "    'pdf': 'PDF', \n",
    "    'Sex': 'Gender',\n",
    "    'href formula': 'Href_formula', \n",
    "    'href': 'Href',\n",
    "    'Case Number': 'Case_Number', \n",
    "    'Case Number.1': 'Case_Number_1',\n",
    "    'original order': 'Original_Order', \n",
    "    'Unnamed: 21': 'Unnamed_21', \n",
    "    'Unnamed: 22': 'Unnamed_22'\n",
    "}, inplace=True)\n",
    "print(df.columns)"
   ]
  },
  {
   "cell_type": "code",
   "execution_count": 335,
   "metadata": {},
   "outputs": [
    {
     "data": {
      "text/plain": [
       "Date               object\n",
       "Year              float64\n",
       "Type               object\n",
       "Country            object\n",
       "State              object\n",
       "Location           object\n",
       "Activity           object\n",
       "Name               object\n",
       "Gender             object\n",
       "Age                object\n",
       "Injury             object\n",
       "Fatal              object\n",
       "Time               object\n",
       "Species            object\n",
       "Source             object\n",
       "PDF                object\n",
       "Href_formula       object\n",
       "Href               object\n",
       "Case_Number        object\n",
       "Case_Number_1      object\n",
       "Original_Order    float64\n",
       "Unnamed_21         object\n",
       "Unnamed_22         object\n",
       "Species_Types      object\n",
       "dtype: object"
      ]
     },
     "execution_count": 335,
     "metadata": {},
     "output_type": "execute_result"
    }
   ],
   "source": [
    "df.dtypes"
   ]
  },
  {
   "cell_type": "code",
   "execution_count": 297,
   "metadata": {},
   "outputs": [
    {
     "name": "stdout",
     "output_type": "stream",
     "text": [
      "\n",
      "Unique value counts per column: \n",
      "Date              6040\n",
      "Year               261\n",
      "Type                12\n",
      "Country            239\n",
      "State              920\n",
      "Location          4553\n",
      "Activity          1598\n",
      "Name              5726\n",
      "Gender               8\n",
      "Age                246\n",
      "Injury            4121\n",
      "Fatal               12\n",
      "Time               434\n",
      "Species           1706\n",
      "Source            5345\n",
      "PDF               6789\n",
      "Href_formula      6784\n",
      "Href              6776\n",
      "Case_Number       6777\n",
      "Case_Number_1     6775\n",
      "Original_Order    6797\n",
      "Unnamed_21           1\n",
      "Unnamed_22           2\n",
      "dtype: int64\n"
     ]
    }
   ],
   "source": [
    "# Here I am trying to identify the number of unique values for each column and determine which columns appear to be categorical. \n",
    "unique_counts = df.nunique() # Identify the number of unique values for each column\n",
    "print(\"\\nUnique value counts per column: \")\n",
    "print(unique_counts)"
   ]
  },
  {
   "cell_type": "code",
   "execution_count": null,
   "metadata": {},
   "outputs": [],
   "source": [
    "#Checking for null values in each column \n",
    "df.isna().any()\n"
   ]
  },
  {
   "cell_type": "code",
   "execution_count": null,
   "metadata": {},
   "outputs": [],
   "source": [
    "df.isna().sum()"
   ]
  },
  {
   "cell_type": "code",
   "execution_count": null,
   "metadata": {},
   "outputs": [],
   "source": [
    "df.duplicated().sum()"
   ]
  },
  {
   "cell_type": "code",
   "execution_count": null,
   "metadata": {},
   "outputs": [],
   "source": [
    "df.duplicated().any()"
   ]
  },
  {
   "cell_type": "code",
   "execution_count": null,
   "metadata": {},
   "outputs": [],
   "source": [
    "df.describe()"
   ]
  },
  {
   "cell_type": "code",
   "execution_count": 298,
   "metadata": {},
   "outputs": [
    {
     "data": {
      "text/plain": [
       "Date                 0\n",
       "Year                 2\n",
       "Type                18\n",
       "Country             50\n",
       "State              482\n",
       "Location           565\n",
       "Activity           585\n",
       "Name               219\n",
       "Gender             579\n",
       "Age               2994\n",
       "Injury              35\n",
       "Fatal              561\n",
       "Time              3526\n",
       "Species           3132\n",
       "Source              19\n",
       "PDF                193\n",
       "Href_formula       198\n",
       "Href               196\n",
       "Case_Number        194\n",
       "Case_Number_1      195\n",
       "Original_Order     193\n",
       "Unnamed_21        6991\n",
       "Unnamed_22        6990\n",
       "dtype: int64"
      ]
     },
     "execution_count": 298,
     "metadata": {},
     "output_type": "execute_result"
    }
   ],
   "source": [
    "#Count the number of null values in each column\n",
    "df.isna().sum()"
   ]
  },
  {
   "cell_type": "code",
   "execution_count": null,
   "metadata": {},
   "outputs": [],
   "source": [
    "df.Type.unique()"
   ]
  },
  {
   "cell_type": "code",
   "execution_count": null,
   "metadata": {},
   "outputs": [],
   "source": [
    "print(df[\"Type\"].value_counts()) "
   ]
  },
  {
   "cell_type": "code",
   "execution_count": 299,
   "metadata": {},
   "outputs": [
    {
     "name": "stdout",
     "output_type": "stream",
     "text": [
      "Type\n",
      "Unprovoked             5153\n",
      "Provoked                637\n",
      "Invalid                 552\n",
      "Watercraft              355\n",
      "Sea Disaster            242\n",
      "Questionable             22\n",
      "NaN                      18\n",
      "Boat                      7\n",
      " Provoked                 2\n",
      "?                         1\n",
      "Unconfirmed               1\n",
      "Unverified                1\n",
      "Under investigation       1\n",
      "Name: count, dtype: int64\n"
     ]
    }
   ],
   "source": [
    "print(df[\"Type\"].value_counts(dropna=False)) # I wanted to review the Nan "
   ]
  },
  {
   "cell_type": "code",
   "execution_count": 300,
   "metadata": {},
   "outputs": [],
   "source": [
    "#df_nan = df[df[\"Type\"].isna()]\n",
    "#df_nan\n",
    "\n",
    "#3df[\"Type\"] = df[\"Type\"].isnull().sum"
   ]
  },
  {
   "cell_type": "code",
   "execution_count": 301,
   "metadata": {},
   "outputs": [
    {
     "name": "stdout",
     "output_type": "stream",
     "text": [
      "['Unprovoked' 'Provoked' ' Provoked' 'Questionable' 'Watercraft'\n",
      " 'Sea Disaster' nan '?' 'Unconfirmed' 'Unverified' 'Invalid'\n",
      " 'Under investigation' 'Boat']\n"
     ]
    }
   ],
   "source": [
    "# Data Cleaning for the Column 'Type' \n",
    "\n",
    "#Reviewing how many were provoked and unprovoked \n",
    "print(df[\"Type\"].unique())\n",
    "# What is the meaning in here as \"Provoked\"?? "
   ]
  },
  {
   "cell_type": "code",
   "execution_count": 336,
   "metadata": {},
   "outputs": [
    {
     "name": "stdout",
     "output_type": "stream",
     "text": [
      "['Unprovoked' 'Provoked' 'Unknown' 'Water Vehicle' 'Sea Disaster'\n",
      " 'Unverified']\n"
     ]
    }
   ],
   "source": [
    "df[\"Type\"] = df[\"Type\"].str.strip()\n",
    "df[\"Type\"] = df[\"Type\"].replace({\n",
    "    \" Provoked\": \"Provoked\", \n",
    "    \"Unconfirmed\": \"Unknown\",\n",
    "    \"?\" : \"Unknown\",\n",
    "    \"Invalid\": \"Unknown\",\n",
    "    \"Under investigation\": \"Unknown\",\n",
    "    \"Questionable\": \"Unknown\", \n",
    "    \"Watercraft\" : \"Water Vehicle\", \n",
    "    \"Boat\" : \"Water Vehicle\"\n",
    "\n",
    "})\n",
    "\n",
    "df[\"Type\"] = df[\"Type\"].fillna(\"Unknown\")\n",
    "print(df[\"Type\"].unique())"
   ]
  },
  {
   "cell_type": "code",
   "execution_count": 337,
   "metadata": {},
   "outputs": [
    {
     "data": {
      "text/plain": [
       "array(['M', 'F', 'Unknown'], dtype=object)"
      ]
     },
     "execution_count": 337,
     "metadata": {},
     "output_type": "execute_result"
    }
   ],
   "source": [
    "# Data Cleaning for the Column Gender\n",
    "\n",
    "df[\"Gender\"] = df[\"Gender\"].replace({\n",
    "    \" M\": \"M\", \n",
    "    \"M \": \"M\", \n",
    "    \"M x 2\": \"M\", \n",
    "    \" nan\": \"Unknown\", \n",
    "    \"lli\": \"Unknown\", \n",
    "    \"N\": \"M\", \n",
    "    \".\": \"Unknown\"\n",
    "    })\n",
    "df[\"Gender\"] = df[\"Gender\"].fillna(\"Unknown\")\n",
    "df.Gender.unique()"
   ]
  },
  {
   "cell_type": "code",
   "execution_count": 306,
   "metadata": {},
   "outputs": [
    {
     "name": "stdout",
     "output_type": "stream",
     "text": [
      "['Not stated' 'Bronze whaler' 'Reportedly Tiger or Bull shark'\n",
      " 'Great White Shart estimated ' 'Reportedly a Tiger Shark' 'Unknown '\n",
      " 'm shark species unknown' 'Unknown' 'Great White Shark'\n",
      " 'Reported as a large Tiger shark' 'Bull or tiger ' 'Bull shark'\n",
      " 'Bull shark ' 'Reportedly a Great White' 'Reportedly Tiger Shark'\n",
      " 'Reef shark ' 'm White Shark' 'Undetermined small shall shark' '-'\n",
      " 'Not specified' ' ft shark' 'ft shark'\n",
      " 'Not stated area has Tiger and Galapogas sharks'\n",
      " 'Not specified Bull shark highly suspect' 'Large shark' 'm shark'\n",
      " 'm Sandbar shark' 'Carribean reef shark ' 'Great White' 'Tiger shark'\n",
      " 'Tiger shark ' ' to ' 'Blacktip reef shark' 'White shark'\n",
      " 'Raggedtooth shark' 'Broze whaler' 'Sevengill shark'\n",
      " 'Shark involment not confirmed' 'm bull shark' 'Lemon shark'\n",
      " 'Oceanic whitetip shark' 'White Shark' ' tiger shark' 'Nurse shark'\n",
      " 'Cookiecutter sharks' 'Blue shark' 'Wfite shark' 'Wobbegong shark'\n",
      " ' shark' 'Sand tiger shark' 'Tiger sharks' 'Caribbean rreef shark'\n",
      " 'Grey reef shark' 'Caribbean reef shark'\n",
      " 'Shark involvement not confirmes' ' - ' 'Bronze whaler shark'\n",
      " 'Blacktip reef shark ' 'Authorities report injury caused bya barracuda'\n",
      " 'm to ' 'A small shark' 'Mako shark' 'Blacktip' 'Tiger  shark'\n",
      " 'Juvenile white shark' 'shark' 'Juvenile nurse shark' 'Bu'\n",
      " 'Blacktip shark' 'Shark involvement not confirmed' 'Lemon shark  '\n",
      " 'Thought to involve a ' 'Oceaniic whitetip shark' 'While shark'\n",
      " 'Atlantic blacktip shark' 'Epaulette shark' 'Blacktip or spinner shark'\n",
      " 'dogfish' 'Broadnose seven gill shark' 'No shark invovlement '\n",
      " 'White xhark' 'small blacktip shark' 'Sickelfin lemon shark'\n",
      " ' Spinner shark' 'Said to involve a bull shark' 'Galapagos shark'\n",
      " 'Tope shark' 'Whaler or bull shark' '  ' 'Blacktip whaler'\n",
      " 'Juvenile shark' ' ' 'Reef shark' 'Bronze whaler ' 'Small nurse shark'\n",
      " 'Injuries not caused by a shark' 'whitetip shark'\n",
      " 'Blacktip or Spinner shark' ' m shark' 'Juvenile bull shark'\n",
      " 'Shark involvement unconfirmed but considered probable' 'Angel shark'\n",
      " 'Shovelnose ' ' m tiger shark' 'Juvenile blacktip shark'\n",
      " ' blacktip shark' ' white shark' 'Grey reef shark ' 'Cookiecutter shark'\n",
      " 'Sandtiger shark' 'shark pup' 'Bull shark pup' 'Lemon shark pup'\n",
      " 'Grey nurse shark' 'Spinner shark'\n",
      " 'Reported as shark bite but injury caused by stingray'\n",
      " 'Reported as shark attacks but injuries caused by toadfish'\n",
      " 'Reef shark x ' 'reef shark' 'Said to involve a blacktip shark'\n",
      " 'Salmon shark' 'Injury most likely caused by barracuda'\n",
      " 'Invalid incident' 'Tawny nurse shark' 'Questionable'\n",
      " 'Possibly a wobbegong' 'Injury believed caused by an eel'\n",
      " 'Sicklefin Lemon Shark' 'small shark' 'Great White '\n",
      " 'Some drowned but other may have been killed by blue sharks' 'Porbeagle'\n",
      " 'Shark involvement questionable' 'Possibly a juvenile blacktip shark'\n",
      " 'Sandtiger shark  ' 'Blue shark '\n",
      " 'Shark involvement prior to death not confirmed' 'Seven-gill shark'\n",
      " 'Shark involvement highly doubtful'\n",
      " 'No shark invovlement - it ws a publicity stunt' 'a small shark'\n",
      " 'Broadnose sevengill shark' 'Invalid' 'dogfish shark'\n",
      " 'Said to involve an ' 'Bronze whaler sharks x ' 'No shark involvement'\n",
      " 'Bull sharks x ' 'Silky shark' 'Hammerhead sp' 'juvenile shark'\n",
      " 'Hammerhead shark' 'Shark involvement not cofirmed' 'small nurse shark'\n",
      " '- to ' 'Blacktip Reef shark ' ' m to  '\n",
      " 'White shark or oceanic whitetip shark'\n",
      " 'Shark involvement prior to death still to be determined'\n",
      " 'Shark involvement not confirmed ' 'Goblin shark'\n",
      " 'Spinner shark or blacktip shark' ' Bull shark' ' tp '\n",
      " 'Possibly juvenile tiger shark' ' metre shark' ' White shark'\n",
      " ' Lemon shark' ' Sandbar shark' ' Tawney nurse shark' 'Cow shark'\n",
      " ' Raggedtooth shark' ' m to ' '-gill shark'\n",
      " 'Reported to involve a bull shark' ' Wobbegong shark'\n",
      " 'Thought to involve a white shark' 'Reported to involve a white shark'\n",
      " 'Thought to involve a bull shark' 'Reported to involve a '\n",
      " 'Whitetip reef shark' 'Small bull shark' 'Possibly a Bull shark'\n",
      " 'Wobbegong' 'Possibly a blacktip reef shark'\n",
      " 'shark involvement not confirmed' 'small sharks' 'Possibly a '\n",
      " 'Porbeagle shark' 'White shark or bronze whaler' 'Salmon shark suspected'\n",
      " 'possibly a bull shark' 'a small reef shark' 'Blacktip shark '\n",
      " 'Possibly a bull shark' 'Allegedly a ' 'Port Jackson shark'\n",
      " 'Zambesi shark' ' Tiger shark' 'Sandbar shark'\n",
      " 'possibly a bronze whaler shark' 'Blacktip shark pup' 'White shark x '\n",
      " 'Mako shark ' 'Shark involvement prior to death was not confirmed'\n",
      " 'Possibly a small blacktip shark' 'A small spinner shark'\n",
      " 'Possibly a blue shark' 'Thought to involve a juvenile hammerhead shark'\n",
      " 'Thresher shark' 'Spurdog' 'Thought to involve a Bronze whale shark'\n",
      " 'Shark involvement probable' ' kg shark' 'blacktip or spinner shark'\n",
      " 'Blacktip reef shark pup' 'Thought to involve a cookiecutter shark'\n",
      " 'White sharks' 'Dusky shark' ' reef shark' ' m white shark'\n",
      " ' bull shark or Caribbean reef shark' ' white shark or ' '  shark'\n",
      " 'Starry smoothhound shark' 'Basking shark' 'Tiger sharks in area'\n",
      " ' small bull sharks' 'Reported by media as shark attack' 'A bull shark'\n",
      " 'Possibly a hammerhead shark' 'Not a shark attack'\n",
      " 'Oceanic whitetip sharks were in the vicinity' 'Gray reef shark'\n",
      " 'Possibly a spinner shark' 'Sand shark' ' small spotted catshark'\n",
      " 'Questionable Incident' 'A ' 'Lesser spotted dogfish' 'Silvertip shark'\n",
      " 'small catsharks' 'Thought to involve a mako shark' 'Bull or tiger shark'\n",
      " ' m blacktip ' ' m' 'Said to involve a ' 'Caribbean reef sharks' ' m '\n",
      " 'juvenile white shark' 'Possibly a sandbar shark or small blacktip shark'\n",
      " 'On ' 'Mr' 'small hammerhead shark' 'Longfin mako shark' ' sharks'\n",
      " 'black tipped' 'bull shark' ' cm ' 'Possibily a  '\n",
      " 'Shark involvement doubtful' 'Shortfin mako shark'\n",
      " ' oceanic whitetip shark' ' m cow shark' 'Unidentified species' ' m  '\n",
      " ' great hammerhead shark' 'small brown shark' 'sand shark' ' cm to '\n",
      " 'Species unidentified' 'Reported to involve a hammerhead shark'\n",
      " 'Possibly a bull shark or tiger shark' ' m  to ' '\\xa0 ' ' m  shark'\n",
      " 'Shark involvement prior to death unconfired' 'C' 'Unidentified'\n",
      " 'Questionable incident - shark bite may have precipitated drowning'\n",
      " ' sandtiger shark'\n",
      " 'A large white shark was filmed by divers on a local wreck '\n",
      " 'Possibly  a blacktip or spinner shark'\n",
      " 'Possibly a juvenile blacktip or spinner shark' '-kg '\n",
      " 'Thought to involve a Zambesi shark' 'Shark involvement  not confirmed'\n",
      " 'Tiger sharks ' 'Shark involvement  questionable' 'Miami'\n",
      " 'Thought to involve a white' ' bull sharks'\n",
      " 'Bronze whaler or tiger shark' 'Possibly a white shark'\n",
      " 'Though to involve a white shark' ' spinner shark'\n",
      " 'Small dusky shark or blackfin shark' 'sandtiger shark'\n",
      " 'Shark involvement prior to death suspected but not confirmed'\n",
      " 'Possibly a blacktip shark' 'Soupfin shark'\n",
      " 'Thought to involve an oceanic whitetip shark or a white shark'\n",
      " 'Possibly a sand shark' 'Possibly a Caribbean reef shark' 'm  to '\n",
      " 'a young shark' 'said to involve an oceanic whitetip shark' 'nurse shark'\n",
      " 'Possibly a tiger shark' 'sand' 'Two ' 'White shark '\n",
      " 'Though to involve a tiger shark' 'Leopard shark'\n",
      " 'Thought to involve a small sand shark' 'Small shark'\n",
      " 'Tiger shark said to be ' 'Tiger shark caught '\n",
      " 'Thought to involve a tiger shark' 'Remains recovered from '\n",
      " 'Possiby white shark' ' m hammerhead shark' 'Unidentified shark'\n",
      " 'Questionable incident' 'Bull shark or lemon shark' ' m grey shark'\n",
      " 'Shark involvement unconfirmed' '-kg' ' female shark'\n",
      " 'Shark had a very large girth'\n",
      " 'Shark involvement prior to death could not be determined'\n",
      " ' m hammerhead' 'Two sharks seen in vicinity'\n",
      " 'Shark involvement suspected but not confirmed' '-lb shark' 'Blue Shark '\n",
      " ' silvertip shark' 'Zambezi shark ' ' m copper shark' 'Doubtful '\n",
      " 'Tooth fragment of a white shark recovered'\n",
      " 'Thought to involve a Tiger shark' ' m silky shark'\n",
      " 'Possibly a small hammerhead shark' 'small blue shark'\n",
      " 'Raggedtooth shark ' ' m white-tipped reef shark' ' hammerhead shark'\n",
      " 'Blue sharks' 'Believed to involve a ' 'Reported as a shark attack'\n",
      " 'Said to involve a tiger shark or a hammerhead shark'\n",
      " 'Shark involvement prior to death remains unconfirmed' 'sandshark'\n",
      " 'Possibly a  ' 'gray shark' ' m  white shark'\n",
      " 'Juvenile dusky or blacktip shark'\n",
      " 'Said to involve a white shark but shark involvement not confirmed'\n",
      " 'Thought to involve a blacktip shark' 'Whale shark' 'White shark named '\n",
      " 'Juvenile dusky shark' 'Carpet shark' 'Copper shark' ' blue shark'\n",
      " 'Oceanic whitetip shark x ' ' m grey reef shark' ' m  porbeagle shark'\n",
      " 'White shark according to tooth pattern and witnesses' 'Dog shark'\n",
      " 'Wobbegong shark ' 'Considered a ' ' scalloped hammerhead sharks'\n",
      " 'a small hammerhead shark' 'm ' 'Not authenticated' 'Blue whaler'\n",
      " 'White shark or thresher shark' 'A pack of ' 'Spinner or blacktip sharks'\n",
      " 'Lemon shark or sandtiger shark'\n",
      " 'Local authorities speculated that the water was too cold for sharks'\n",
      " 'Believed white shark and other smaller species of sharks involved'\n",
      " 'Alleged to involve a White shark' ' sharks involved'\n",
      " 'Small shark with white-tipped dorsal fin' 'Less than ' 'white shark'\n",
      " 'Lemon shark ' 'Possibly a broadnose '\n",
      " 'Dooley believed his Injury was caused by stingray '\n",
      " 'Hand found in gut of ' 'Tooth fragments of ' ' Blacktip shark'\n",
      " 'A long thin brown-colored shark' 'Horn shar'\n",
      " 'Possibly a bronze whaler shark' ' Sevengill  shark' ' cm  shark '\n",
      " ' Grey nurse shark' 'Said to involve a Grey nurse shark '\n",
      " 'Next morning a ' 'Two shark' 'Oceanic whitetip shar'\n",
      " 'Six Zambesi sharks seen to ' '-lb hooked shark' 'According to Benjamin'\n",
      " 'Shark involvement prior to deaths was not confirmed' 'Blue pointer'\n",
      " 'Blacktail reef shark' 'A hammerhead shark' 'Said to involve white shark'\n",
      " 'Reported to involve a White shark' 'Bitten by several '\n",
      " 'Said to involve ' 'Sharks averaged ' 'Several sharks involved'\n",
      " 'Identified as carcharinid shark '\n",
      " 'Shark seen feeding on turtle scraps thrown overboard prior to incident'\n",
      " 'Said to involve a large mako shark' 'a sand shark'\n",
      " 'Porbeagle or white shark' '-lb sand shark' 'Survivors said '\n",
      " ' thresher or blue shark' 'Tooth fragments recovered from hull'\n",
      " 'small brown-colored shark' ' m  white shark  ' 'a little shark'\n",
      " 'Reported as  a shark bite but toothmarks appear to be those of a dolphin '\n",
      " 'White shark tooth fragment recovered from ankle '\n",
      " 'Bull shark suspected due to freshwater habitat' 'a '\n",
      " 'Attacked by a number of sharks' 'unknown' 'small carpet shark'\n",
      " 'Possibly a lemon shark' 'Whtietip reef shark'\n",
      " 'Alleged to involve a white shark ' 'Bonita sharkk' 'Whaler shark'\n",
      " 'His hand was found in a ' 'Said to be ' 'grey shark' 'Possibly C'\n",
      " 'Most likely' '  m ' 'Bull sharks to '\n",
      " 'Shark involvement prior to death unconfirmed' 'Reportedly'\n",
      " 'whaler shark' 'a large shark' 'Thought to involve bull sharks'\n",
      " 'grey-colored shark' ' days later a '\n",
      " 'Large tiger shark seen in the vicinity the following morning'\n",
      " 'Shovelnose shark' 'Blue nose shark'\n",
      " 'Thought to involve a mako or grey nurse shark'\n",
      " 'Teeth in hull identified as those from a white shark ' '-lb '\n",
      " 'a school of sharks' '-foot shark' 'a dog shark' 'Blue nose sharks'\n",
      " 'Moreno' 'Species unknown' 'whiptail shark' 'According to Carlsmith'\n",
      " 'a blue shark' 'Said to be a ' 'a very large shark' 'Atkins'\n",
      " 'Comrades saw shark' 'said to involve a tiger shark' 'Said to involve  '\n",
      " 'Remains recovered '\n",
      " 'Fishermen recovered partial remains from shark a week later' 'm'\n",
      " 'Shark was said to ' ' a small shark' 'Blue or porbeagle shark'\n",
      " 'Wobbegongs' 'Identified as C' 'Shark caught later'\n",
      " 'Remains recovered from shark caught days later'\n",
      " 'Shark involvement prior to deaths unconfirmed'\n",
      " 'Thought to involve a porbeagle or mako shark'\n",
      " 'Description of shark does not ring true' 'The fish was harpooned'\n",
      " 'Possibly white sharks' ' Galapagos shark' 'said to involve '\n",
      " 'A large hammerhead shark' 'Shovelnose guitarfish' 'A pack of sharks'\n",
      " 'Bull shark caught' 'a black-tipped shark' 'Blue pointers'\n",
      " 'Said to involve a grey nurse shark that leapt out of the water and  seized the boy but species identification is questionable']\n"
     ]
    }
   ],
   "source": [
    "df[\"Species\"].unique()\n",
    "print(df[\"Species\"].unique()[:600])"
   ]
  },
  {
   "cell_type": "code",
   "execution_count": 338,
   "metadata": {},
   "outputs": [
    {
     "name": "stdout",
     "output_type": "stream",
     "text": [
      "0                              Unknown\n",
      "1                        Bronze whaler\n",
      "2                              Unknown\n",
      "3       Reportedly Tiger or Bull shark\n",
      "4         Great White Shart estimated \n",
      "                     ...              \n",
      "6987                           Unknown\n",
      "6988                           Unknown\n",
      "6989                           Unknown\n",
      "6990                           Unknown\n",
      "6991                           Unknown\n",
      "Name: Species, Length: 6992, dtype: object\n"
     ]
    }
   ],
   "source": [
    "# Cleaning the Column 'Species' a bit \n",
    "df[\"Species\"] = df[\"Species\"].str.extract(r'([A-Za-z\\s-]+)').fillna(\"Unknown\") # Cleaning here the unnecessary details\n",
    "df[\"Species\"] = df[\"Species\"].replace({\n",
    "    \"Not stated\":\"Unknown\"\n",
    "})\n",
    "print(df[\"Species\"])"
   ]
  },
  {
   "cell_type": "code",
   "execution_count": 323,
   "metadata": {},
   "outputs": [],
   "source": [
    "df[\"Species_Types\"] = df[\"Species\"].copy() # creating a copy of species and naming it Species_Types"
   ]
  },
  {
   "cell_type": "code",
   "execution_count": 308,
   "metadata": {},
   "outputs": [],
   "source": [
    "df[\"Species_Types\"] = df[\"Species_Types\"].fillna(\"Unknown\").astype(str)"
   ]
  },
  {
   "cell_type": "code",
   "execution_count": null,
   "metadata": {},
   "outputs": [],
   "source": [
    "df[\"Species_Types\"] = df[\"Species_Types\"].replace({\n",
    "    \"Not stated\": \"Unknown\",\n",
    "    \"Not specified\": \"Unknown\",\n",
    "    \"Invalid\": \"Unknown\",\n",
    "    \"Great White Shark\": \"White Shark\"   \n",
    "}) "
   ]
  },
  {
   "cell_type": "code",
   "execution_count": 330,
   "metadata": {},
   "outputs": [
    {
     "name": "stdout",
     "output_type": "stream",
     "text": [
      "Species_Types\n",
      "Other/Unknown       5566\n",
      "White Shark          552\n",
      "Tiger Shark          314\n",
      "Bull Shark           196\n",
      "Nurse Shark          110\n",
      "Blacktip Shark       101\n",
      "Reef Shark            57\n",
      "Mako Shark            56\n",
      "Hammerhead Shark      37\n",
      "Whale Shark            3\n",
      "Name: count, dtype: int64\n",
      "6987    Other/Unknown\n",
      "6988    Other/Unknown\n",
      "6989    Other/Unknown\n",
      "6990    Other/Unknown\n",
      "6991    Other/Unknown\n",
      "Name: Species_Types, dtype: object\n"
     ]
    }
   ],
   "source": [
    "#Data Cleanining for the Column 'Species'\n",
    "#df[\"Species\"].unique() df[\"Species\"] = df[\"Species\"]\n",
    "#df[\"Species\"]\n",
    "#df.Species.unique()\n",
    "\n",
    "def clean_shark_name(species): \n",
    "    species = species.strip().lower()\n",
    "\n",
    "    match = re.search(r\"(?:\\b\\w+\\s+)*?(great white|horn|white|tiger|bull|Bull|hammerhead|hammer|Hammerhead|blacktip|whale|nurse|mako|reef|Reef)(?:\\s+\\w+)*?\\s*shark(?:\\s+\\w+)*?\", species)\n",
    "    #match = re.search(r\"(great white|white|tiger|bull|hammerhead|blacktip|whale|nurse|mako|reef)s*shark\", species)\n",
    "\n",
    "    if match:\n",
    "        #return match.group(0).title()\n",
    "        return match.group(1).title() + \" Shark\"\n",
    "    else: \n",
    "        return \"Other/Unknown\"\n",
    "\n",
    "df[\"Species_Types\"] = df[\"Species_Types\"].apply(clean_shark_name)\n",
    "\n",
    "print(df[\"Species_Types\"].value_counts())  # Check unique values\n",
    "print(df[\"Species_Types\"].tail())  # Display first few rows\n",
    "#print(df_Species.nunique()) \n",
    "#print(df_Species.unique()[:100])"
   ]
  },
  {
   "cell_type": "code",
   "execution_count": 340,
   "metadata": {},
   "outputs": [],
   "source": [
    "#df.dtypes"
   ]
  },
  {
   "cell_type": "code",
   "execution_count": 342,
   "metadata": {},
   "outputs": [],
   "source": [
    "df[\"Species_Types\"] = df[\"Species_Types\"].str.strip()"
   ]
  },
  {
   "cell_type": "code",
   "execution_count": 343,
   "metadata": {},
   "outputs": [
    {
     "name": "stdout",
     "output_type": "stream",
     "text": [
      "Species_Types\n",
      "Other/Unknown       5566\n",
      "White Shark          552\n",
      "Tiger Shark          314\n",
      "Bull Shark           196\n",
      "Nurse Shark          110\n",
      "Blacktip Shark       101\n",
      "Reef Shark            57\n",
      "Mako Shark            56\n",
      "Hammerhead Shark      37\n",
      "Whale Shark            3\n",
      "Name: count, dtype: int64\n"
     ]
    }
   ],
   "source": [
    "print(df[\"Species_Types\"].value_counts())"
   ]
  },
  {
   "cell_type": "code",
   "execution_count": 345,
   "metadata": {},
   "outputs": [],
   "source": [
    "#Group_Species = df.groupby(\"Species\")\n",
    "\n",
    "#for species, group in Group_Species:\n",
    "#    print(f\"Group name: {species}\")\n",
    "#   # display(group)\n",
    "#df[\"Species\"].nunique() == len(Grouped_Species)"
   ]
  },
  {
   "cell_type": "code",
   "execution_count": null,
   "metadata": {},
   "outputs": [],
   "source": [
    "#df[\"Date\"] = pd.to_datetime(df[\"Date\"], errors=\"coerce\")"
   ]
  },
  {
   "cell_type": "code",
   "execution_count": null,
   "metadata": {},
   "outputs": [],
   "source": [
    "# Data Cleaning for the column 'Country', I've tried to use regex \n",
    "df[\"Country\"] = df[\"Country\"].str.strip().str.title()\n",
    "df[\"Country\"] = df[\"Country\"].str.replace(r\"[^a-zA-Z\\s]\", \"\", regex=True)\n",
    "#df[\"Country\"] = df[\"Country\"].map(lambda x: x.upper())\n",
    "df[\"Country\"] = df[\"Country\"].fillna(\"Unknown\")\n",
    "print(df[\"Country\"].unique())"
   ]
  },
  {
   "cell_type": "code",
   "execution_count": null,
   "metadata": {},
   "outputs": [],
   "source": [
    "# Cleaning for location\n",
    "df[\"Location\"] = df[\"Location\"].astype(str)\n",
    "df[\"Location\"] = df[\"Location\"].map(lambda x:x.upper())\n",
    "df[\"Location\"] = df[\"Location\"].fillna(\"Unknown\")\n",
    "df[\"Location\"] = df[\"Location\"].str.strip()\n",
    "df[\"Location\"] = df[\"Location\"].replace({\n",
    "    \"NAN\": \"Unknown\",\n",
    "     \"nan\": \"Unknown\",\n",
    "      \"Nan\": \"Unknown\", \n",
    "})"
   ]
  },
  {
   "cell_type": "code",
   "execution_count": null,
   "metadata": {},
   "outputs": [],
   "source": [
    "# Data Cleaning for the Column 'State'\n",
    "#df[\"State\"] = df[\"State\"].\n",
    "df[\"State\"] = df[\"State\"].fillna(\"Unknown\")\n",
    "df[\"State\"] = df[\"State\"].astype(str)\n",
    "df[\"State\"] = df[\"State\"].str.strip()\n",
    "df[\"State\"] = df[\"State\"].replace({\n",
    "    \"NAN\": \"Unknown\",\n",
    "    \"nan\": \"Unknown\",\n",
    "    \"Nan\": \"Unknown\", \n",
    "    \" \": \"Unknown\",\n",
    "    \"  \": \"Unknown\"\n",
    "})\n",
    "print(df[\"State\"].unique())"
   ]
  },
  {
   "cell_type": "code",
   "execution_count": null,
   "metadata": {},
   "outputs": [],
   "source": [
    "# Data Cleaning for the Column Activity \n",
    "df[\"Activity\"] = df[\"Activity\"].fillna(\"Unknown\")\n",
    "df[\"Activity\"] = df[\"Activity\"].astype(str)\n",
    "df[\"Activity\"] = df[\"Activity\"].str.strip()\n",
    "df[\"Activity\"] = df[\"Activity\"].replace({\n",
    "    \"NAN\": \"Unknown\",\n",
    "     \"nan\": \"Unknown\",\n",
    "      \"Nan\": \"Unknown\",\n",
    "})\n",
    "# Needs more cleaning "
   ]
  },
  {
   "cell_type": "code",
   "execution_count": null,
   "metadata": {},
   "outputs": [],
   "source": [
    "df.isna().sum()"
   ]
  },
  {
   "cell_type": "code",
   "execution_count": null,
   "metadata": {},
   "outputs": [],
   "source": [
    "# Data Cleaning for the Column 'Name' \n",
    "df[\"Activity\"] = df[\"Activity\"].fillna(\"Unknown\")\n",
    "df[\"Activity\"] = df[\"Activity\"].astype(str)\n",
    "df[\"Activity\"] = df[\"Activity\"].str.strip()\n",
    "df[\"Activity\"] = df[\"Activity\"].replace({\n",
    "    \"NAN\": \"Unknown\",\n",
    "     \"nan\": \"Unknown\",\n",
    "      \"Nan\": \"Unknown\",\n",
    "})\n",
    "# Needs to be furthered cleaned "
   ]
  },
  {
   "cell_type": "code",
   "execution_count": null,
   "metadata": {},
   "outputs": [],
   "source": [
    "# Data Cleaning for the Column Age\n",
    "# df[\"Age\"] = df[\"Age\"].astype()\n",
    "# df[\"Age\"] = df[\"Age\"]\n",
    "# df[\"Age\"] = df[\"Age\"]\n"
   ]
  },
  {
   "cell_type": "code",
   "execution_count": null,
   "metadata": {},
   "outputs": [],
   "source": [
    "# Data Cleaning for The Column Fatal\n",
    "df[\"Fatal\"] = df[\"Fatal\"].fillna(\"Unknown\")\n",
    "df[\"Fatal\"] = df[\"Fatal\"].astype(str)\n",
    "df[\"Fatal\"] = df[\"Fatal\"].replace({\n",
    "    \"Nan\": \"Unknown\",\n",
    "    \" N\": \"N\",\n",
    "    \"UNKNOWN\": \"Unknown\",\n",
    "    \"F\": \"Unknown\",\\\n",
    "    \"M\": \"N\",\n",
    "    \"n\": \"N\",\n",
    "    \"Nq\": \"N\",\n",
    "     2017: \"Unknown\",\n",
    "     \"Y x 2\": \"Y\",\n",
    "     \"y\": \"Y\",\n",
    "     \"N   \": \"N\",\n",
    "})\n",
    "#df[\"Fatal\"] = df[\"Fatal\"]\n",
    "#df[\"Fatal\"] = df[\"Fatal\"]\n",
    "#df[\"Fatal\"] = df[\"Fatal\"]"
   ]
  },
  {
   "cell_type": "code",
   "execution_count": null,
   "metadata": {},
   "outputs": [],
   "source": [
    "df['Fatal'].value_counts(dropna=False)"
   ]
  },
  {
   "cell_type": "code",
   "execution_count": null,
   "metadata": {},
   "outputs": [],
   "source": [
    "df_count = df.groupby(\"Year\")[\"Date\"].count()\n",
    "df_count"
   ]
  },
  {
   "cell_type": "code",
   "execution_count": null,
   "metadata": {},
   "outputs": [],
   "source": [
    "df_count = df.groupby(\"Year\")[\"Date\"].count()\n",
    "df_count[df_count.index > 1750].plot()"
   ]
  },
  {
   "cell_type": "code",
   "execution_count": null,
   "metadata": {},
   "outputs": [],
   "source": [
    "df_count#.isna().sum()"
   ]
  },
  {
   "cell_type": "code",
   "execution_count": null,
   "metadata": {},
   "outputs": [],
   "source": [
    "df[df[\"Year\"] == 5]"
   ]
  },
  {
   "cell_type": "code",
   "execution_count": null,
   "metadata": {},
   "outputs": [],
   "source": [
    "df[\"Country\"].value_counts()\n"
   ]
  },
  {
   "cell_type": "code",
   "execution_count": null,
   "metadata": {},
   "outputs": [],
   "source": [
    "df_usa = df[df[\"Country\"] == \"USA\"]\n",
    "df_usa"
   ]
  },
  {
   "cell_type": "code",
   "execution_count": null,
   "metadata": {},
   "outputs": [],
   "source": [
    "df_usa[\"Date\"] = pd.to_datetime(df_usa[\"Date\"])"
   ]
  },
  {
   "cell_type": "code",
   "execution_count": null,
   "metadata": {},
   "outputs": [],
   "source": [
    "df_usa[\"Date\"].value_counts()"
   ]
  },
  {
   "cell_type": "code",
   "execution_count": null,
   "metadata": {},
   "outputs": [],
   "source": [
    "pd.to_datetime(df_usa[\"Data_Clean\"])"
   ]
  }
 ],
 "metadata": {
  "kernelspec": {
   "display_name": "base",
   "language": "python",
   "name": "python3"
  },
  "language_info": {
   "codemirror_mode": {
    "name": "ipython",
    "version": 3
   },
   "file_extension": ".py",
   "mimetype": "text/x-python",
   "name": "python",
   "nbconvert_exporter": "python",
   "pygments_lexer": "ipython3",
   "version": "3.12.7"
  }
 },
 "nbformat": 4,
 "nbformat_minor": 4
}
