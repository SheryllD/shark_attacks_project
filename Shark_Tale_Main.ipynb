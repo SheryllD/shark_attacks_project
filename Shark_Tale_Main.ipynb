{
 "cells": [
  {
   "cell_type": "markdown",
   "metadata": {},
   "source": [
    "# Project: Sharktale, SharkTrack"
   ]
  },
  {
   "cell_type": "code",
   "execution_count": null,
   "metadata": {},
   "outputs": [],
   "source": [
    "!pip install xlrd #!pip install country_converter, keep this here pls"
   ]
  },
  {
   "cell_type": "markdown",
   "metadata": {},
   "source": [
    "### Import of Libraries"
   ]
  },
  {
   "cell_type": "code",
   "execution_count": null,
   "metadata": {},
   "outputs": [],
   "source": [
    "import pandas as pd\n",
    "import numpy as np\n",
    "import re\n",
    "import matplotlib.pyplot as plt\n",
    "import seaborn as sns\n",
    "import warnings\n",
    "warnings.filterwarnings('ignore')"
   ]
  },
  {
   "cell_type": "markdown",
   "metadata": {},
   "source": [
    "## Loading the Shark Data"
   ]
  },
  {
   "cell_type": "code",
   "execution_count": null,
   "metadata": {},
   "outputs": [],
   "source": [
    "#define path to xls\n",
    "url = 'https://www.sharkattackfile.net/spreadsheets/GSAF5.xls'\n",
    "df = pd.read_excel(url)"
   ]
  },
  {
   "cell_type": "markdown",
   "metadata": {},
   "source": [
    "## The Data at a Glance:"
   ]
  },
  {
   "cell_type": "code",
   "execution_count": null,
   "metadata": {},
   "outputs": [],
   "source": [
    "df.head()"
   ]
  },
  {
   "cell_type": "code",
   "execution_count": null,
   "metadata": {},
   "outputs": [],
   "source": [
    "df.info()"
   ]
  },
  {
   "cell_type": "code",
   "execution_count": null,
   "metadata": {},
   "outputs": [],
   "source": [
    "df.tail()"
   ]
  },
  {
   "cell_type": "code",
   "execution_count": null,
   "metadata": {},
   "outputs": [],
   "source": [
    "df.shape[0]\n",
    "df.shape[1]\n",
    "\n",
    "print(\"Number of Rows: \", df.shape[0])\n",
    "print(\"Number of Columns: \", df.shape[1])\n",
    "\n",
    "df.columns\n",
    "# Issues w/ og file –> extra 8 columns on VSC? to preserve NaN\n",
    "# Date, Year, Type, Country, State, Location, Activity, Name, Sex, Age, Injury, Fatal Y/N, Time, Specie, Source\n",
    "# check search tool between uppercase and lowercase e.g. Australia / AUSTRALIA"
   ]
  },
  {
   "cell_type": "code",
   "execution_count": null,
   "metadata": {},
   "outputs": [],
   "source": [
    "df.describe()"
   ]
  },
  {
   "cell_type": "code",
   "execution_count": null,
   "metadata": {},
   "outputs": [],
   "source": [
    "df.rename(columns= {\n",
    "    'Fatal Y/N': 'Fatal',\n",
    "    'Species ': 'Species',\n",
    "    'pdf': 'PDF', \n",
    "    'Sex': 'Gender',\n",
    "    'href formula': 'Href_formula', \n",
    "    'href': 'Href',\n",
    "    'Case Number': 'Case_Number', \n",
    "    'Case Number.1': 'Case_Number_1',\n",
    "    'original order': 'Original_Order', \n",
    "    'Unnamed: 21': 'Unnamed_21', \n",
    "    'Unnamed: 22': 'Unnamed_22'\n",
    "}, inplace=True)\n",
    "print(df.columns)"
   ]
  },
  {
   "cell_type": "code",
   "execution_count": null,
   "metadata": {},
   "outputs": [],
   "source": [
    "df[\"Href_formula\"].equals(df[\"Href\"]) # Checking if its the same "
   ]
  },
  {
   "cell_type": "code",
   "execution_count": null,
   "metadata": {},
   "outputs": [],
   "source": [
    "df[\"Href_formula\"].isin(df[\"Href\"]).value_counts() # There is less than 10% difference between the columns. I am keeping Href"
   ]
  },
  {
   "cell_type": "code",
   "execution_count": null,
   "metadata": {},
   "outputs": [],
   "source": [
    "# Dropping Columns\n",
    "df = df.drop(columns=[\"Unnamed_21\", \"PDF\", \"Unnamed_22\", \"Href_formula\", \"Case_Number\", \"Case_Number_1\"])\n",
    "df.head()"
   ]
  },
  {
   "cell_type": "code",
   "execution_count": null,
   "metadata": {},
   "outputs": [],
   "source": [
    "df.head()"
   ]
  },
  {
   "cell_type": "code",
   "execution_count": null,
   "metadata": {},
   "outputs": [],
   "source": [
    "# Here I am trying to identify the number of unique values for each column and determine which columns appear to be categorical. \n",
    "unique_counts = df.nunique() # Identify the number of unique values for each column\n",
    "print(\"\\nUnique value counts per column: \")\n",
    "print(unique_counts)"
   ]
  },
  {
   "cell_type": "code",
   "execution_count": null,
   "metadata": {},
   "outputs": [],
   "source": [
    "#Checking for null values in each column \n",
    "df.isna().any()"
   ]
  },
  {
   "cell_type": "code",
   "execution_count": null,
   "metadata": {},
   "outputs": [],
   "source": [
    "df.isna().sum()"
   ]
  },
  {
   "cell_type": "code",
   "execution_count": null,
   "metadata": {},
   "outputs": [],
   "source": [
    "df.duplicated().sum()"
   ]
  },
  {
   "cell_type": "code",
   "execution_count": null,
   "metadata": {},
   "outputs": [],
   "source": [
    "df.duplicated().any()"
   ]
  },
  {
   "cell_type": "code",
   "execution_count": null,
   "metadata": {},
   "outputs": [],
   "source": [
    "#Count the number of null values in each column\n",
    "df.isna().sum()"
   ]
  },
  {
   "cell_type": "markdown",
   "metadata": {},
   "source": [
    "### Data Cleaning for the Column 'Type' "
   ]
  },
  {
   "cell_type": "code",
   "execution_count": 105,
   "metadata": {},
   "outputs": [
    {
     "data": {
      "text/plain": [
       "array(['Unprovoked', 'Provoked', ' Provoked', 'Questionable',\n",
       "       'Watercraft', 'Sea Disaster', nan, '?', 'Unconfirmed',\n",
       "       'Unverified', 'Invalid', 'Under investigation', 'Boat'],\n",
       "      dtype=object)"
      ]
     },
     "execution_count": 105,
     "metadata": {},
     "output_type": "execute_result"
    }
   ],
   "source": [
    "df.Type.unique()"
   ]
  },
  {
   "cell_type": "code",
   "execution_count": null,
   "metadata": {},
   "outputs": [],
   "source": [
    "print(df[\"Type\"].value_counts()) "
   ]
  },
  {
   "cell_type": "code",
   "execution_count": null,
   "metadata": {},
   "outputs": [],
   "source": [
    "print(df[\"Type\"].value_counts(dropna=False)) # I wanted to review the Nan "
   ]
  },
  {
   "cell_type": "code",
   "execution_count": null,
   "metadata": {},
   "outputs": [],
   "source": [
    "#df_nan = df[df[\"Type\"].isna()]\n",
    "#df_nan\n",
    "#df[\"Type\"] = df[\"Type\"].isnull().sum"
   ]
  },
  {
   "cell_type": "code",
   "execution_count": null,
   "metadata": {},
   "outputs": [],
   "source": [
    "#Reviewing how many were provoked and unprovoked \n",
    "print(df[\"Type\"].unique())\n"
   ]
  },
  {
   "cell_type": "code",
   "execution_count": null,
   "metadata": {},
   "outputs": [],
   "source": [
    "df[\"Type\"] = df[\"Type\"].str.strip()\n",
    "df[\"Type\"] = df[\"Type\"].replace({\n",
    "    \" Provoked\": \"Provoked\", \n",
    "    \"Unconfirmed\": \"Unknown\",\n",
    "    \"?\" : \"Unknown\",\n",
    "    \"Invalid\": \"Unknown\",\n",
    "    \"Under investigation\": \"Unknown\",\n",
    "    \"Questionable\": \"Unknown\", \n",
    "    \"Watercraft\" : \"Water Vehicle\", \n",
    "    \"Boat\" : \"Water Vehicle\"\n",
    "})\n",
    "\n",
    "df[\"Type\"] = df[\"Type\"].fillna(\"Unknown\")\n",
    "print(df[\"Type\"].unique())"
   ]
  },
  {
   "cell_type": "markdown",
   "metadata": {},
   "source": [
    "### Data Cleaning for the Column 'Gender'"
   ]
  },
  {
   "cell_type": "code",
   "execution_count": null,
   "metadata": {},
   "outputs": [],
   "source": [
    "df[\"Gender\"] = df[\"Gender\"].replace({\n",
    "    \" M\": \"M\", \n",
    "    \"M \": \"M\", \n",
    "    \"M x 2\": \"M\", \n",
    "    \" nan\": \"Unknown\", \n",
    "    \"lli\": \"Unknown\", \n",
    "    \"N\": \"M\", \n",
    "    \".\": \"Unknown\"\n",
    "    })\n",
    "df[\"Gender\"] = df[\"Gender\"].fillna(\"Unknown\")\n",
    "df.Gender.unique()"
   ]
  },
  {
   "cell_type": "markdown",
   "metadata": {},
   "source": [
    "#### Visualisation: Gender of Victims"
   ]
  },
  {
   "cell_type": "code",
   "execution_count": null,
   "metadata": {},
   "outputs": [],
   "source": [
    "# Piechart to see the distribution between \"M\", \"F\". \n",
    "df[df[\"Gender\"].isin([\"M\", \"F\", \"Unknown\"])][\"Gender\"].value_counts().plot(kind=\"pie\", title= \"Gender of the Victim\", autopct=\"%1.1f%%\", colors=[\"skyblue\", \"dodgerblue\", \"deepskyblue\"], table=True)"
   ]
  },
  {
   "cell_type": "code",
   "execution_count": null,
   "metadata": {},
   "outputs": [],
   "source": [
    "country_gender = df.groupby([\"Gender\", \"Country\"]).size().to_frame(\"count\").reset_index()\n",
    "country_gender"
   ]
  },
  {
   "cell_type": "markdown",
   "metadata": {},
   "source": [
    "### Data Cleaning for the Column 'Species'"
   ]
  },
  {
   "cell_type": "code",
   "execution_count": null,
   "metadata": {},
   "outputs": [],
   "source": [
    "df[\"Species\"].unique()\n",
    "print(df[\"Species\"].unique()[:600])"
   ]
  },
  {
   "cell_type": "code",
   "execution_count": null,
   "metadata": {},
   "outputs": [],
   "source": [
    "# Cleaning the Column 'Species' a bit \n",
    "df[\"Species\"] = df[\"Species\"].str.extract(r'([A-Za-z\\s-]+)').fillna(\"Unknown\") # Cleaning here the unnecessary details\n",
    "df[\"Species\"] = df[\"Species\"].replace({\n",
    "    \"Not stated\":\"Unknown\"\n",
    "})\n",
    "print(df[\"Species\"])"
   ]
  },
  {
   "cell_type": "code",
   "execution_count": null,
   "metadata": {},
   "outputs": [],
   "source": [
    "df[\"Species_Types\"] = df[\"Species\"].copy() # creating a copy of species and naming it Species_Types"
   ]
  },
  {
   "cell_type": "code",
   "execution_count": null,
   "metadata": {},
   "outputs": [],
   "source": [
    "df[\"Species_Types\"] = df[\"Species_Types\"].fillna(\"Unknown\").astype(str)"
   ]
  },
  {
   "cell_type": "code",
   "execution_count": null,
   "metadata": {},
   "outputs": [],
   "source": [
    "df[\"Species_Types\"] = df[\"Species_Types\"].replace({\n",
    "    \"Not stated\": \"Unknown\",\n",
    "    \"Not specified\": \"Unknown\",\n",
    "    \"Invalid\": \"Unknown\",\n",
    "    \"Great White Shark\": \"White Shark\"   \n",
    "}) "
   ]
  },
  {
   "cell_type": "code",
   "execution_count": null,
   "metadata": {},
   "outputs": [],
   "source": [
    "#Data Cleanining for the Column 'Species'\n",
    "#df[\"Species\"].unique() df[\"Species\"] = df[\"Species\"]\n",
    "#df[\"Species\"]\n",
    "#df.Species.unique()\n",
    "\n",
    "def clean_shark_name(species): \n",
    "    species = species.strip().lower()\n",
    "\n",
    "    match = re.search(r\"(?:\\b\\w+\\s+)*?(great white|horn|white|tiger|bull|Bull|hammerhead|hammer|Hammerhead|blacktip|whale|nurse|mako|reef|Reef)(?:\\s+\\w+)*?\\s*shark(?:\\s+\\w+)*?\", species)\n",
    "    #match = re.search(r\"(great white|white|tiger|bull|hammerhead|blacktip|whale|nurse|mako|reef)s*shark\", species)\n",
    "\n",
    "    if match:\n",
    "        #return match.group(0).title()\n",
    "        return match.group(1).title() + \" Shark\"\n",
    "    else: \n",
    "        return \"Other/Unknown\"\n",
    "\n",
    "df[\"Species_Types\"] = df[\"Species_Types\"].apply(clean_shark_name)\n",
    "\n",
    "print(df[\"Species_Types\"].value_counts())  # Check unique values\n",
    "print(df[\"Species_Types\"].tail())  # Display first few rows\n",
    "#print(df_Species.nunique()) \n",
    "#print(df_Species.unique()[:100])"
   ]
  },
  {
   "cell_type": "code",
   "execution_count": null,
   "metadata": {},
   "outputs": [],
   "source": [
    "#df.dtypes\n",
    "df[\"Species_Types\"].value_counts()"
   ]
  },
  {
   "cell_type": "code",
   "execution_count": null,
   "metadata": {},
   "outputs": [],
   "source": [
    "df[\"Species_Types\"] = df[\"Species_Types\"].str.strip()"
   ]
  },
  {
   "cell_type": "code",
   "execution_count": null,
   "metadata": {},
   "outputs": [],
   "source": [
    "print(df[\"Species_Types\"].value_counts())"
   ]
  },
  {
   "cell_type": "markdown",
   "metadata": {},
   "source": [
    "#### Visualisation for Species Types"
   ]
  },
  {
   "cell_type": "code",
   "execution_count": null,
   "metadata": {},
   "outputs": [],
   "source": [
    "species_types_group = df.groupby(\"Species_Types\")\n",
    "shark_attack_by_species_types = species_types_group[\"Species_Types\"].count()\n",
    "shark_attack_by_species_types = shark_attack_by_species_types.sort_values(ascending=False)\n",
    "top_species_types_attack = shark_attack_by_species_types.head(15)\n",
    "top_species_types_attack"
   ]
  },
  {
   "cell_type": "code",
   "execution_count": null,
   "metadata": {},
   "outputs": [],
   "source": [
    "plt.figure(figsize=(15,2))\n",
    "sns.barplot(x=top_species_types_attack.index, y=top_species_types_attack, color=\"skyblue\")\n",
    "plt.title(\"Number of Attacks by Species Types\")\n",
    "plt.ylabel(\"Number of Attacks\")\n",
    "plt.show()"
   ]
  },
  {
   "cell_type": "code",
   "execution_count": null,
   "metadata": {},
   "outputs": [],
   "source": [
    "# This can be ignored, but can be usable for in the future\n",
    "#Group_Species = df.groupby(\"Species\")\n",
    "\n",
    "#for species, group in Group_Species:\n",
    "#    print(f\"Group name: {species}\")\n",
    "#   # display(group)\n",
    "#df[\"Species\"].nunique() == len(Grouped_Species)"
   ]
  },
  {
   "cell_type": "code",
   "execution_count": null,
   "metadata": {},
   "outputs": [],
   "source": [
    "#df[\"Date\"] = pd.to_datetime(df[\"Date\"], errors=\"coerce\")"
   ]
  },
  {
   "cell_type": "markdown",
   "metadata": {},
   "source": [
    "### Data Cleaning for the 'Country' Column"
   ]
  },
  {
   "cell_type": "code",
   "execution_count": null,
   "metadata": {},
   "outputs": [],
   "source": [
    "df[\"Country\"].unique()"
   ]
  },
  {
   "cell_type": "code",
   "execution_count": null,
   "metadata": {},
   "outputs": [],
   "source": [
    "len(df[\"Country\"].unique())"
   ]
  },
  {
   "cell_type": "code",
   "execution_count": null,
   "metadata": {},
   "outputs": [],
   "source": [
    "update_country = {\n",
    "    'AUSTRALIA': 'Australia',\n",
    "    'BAHAMAS': 'Bahamas',\n",
    "    'BELIZE': 'Belize',\n",
    "    'COLOMBIA': 'Colombia',\n",
    "    'COLUMBIA': 'Colombia',\n",
    "    'EGYPT': 'Egypt',\n",
    "    'ENGLAND': 'United Kingdom',\n",
    "    'FRENCH POLYNESIA': 'French Polynesia',\n",
    "    'INDIA': 'India',\n",
    "    'INDONESIA': 'Indonesia',\n",
    "    'JAMAICA': 'Jamaica',\n",
    "    'JAPAN': 'Japan',\n",
    "    'MALDIVE ISLANDS': 'Maldives',\n",
    "    'MALDIVES': 'Maldives',\n",
    "    'MEXICO': 'Mexico',\n",
    "    'MeXICO': 'Mexico',\n",
    "    'MEXICO ': 'Mexico',\n",
    "    'NEW CALEDONIA': 'New Caledonia',\n",
    "    'NEW ZEALAND': 'New Zealand',\n",
    "    'PHILIPPINES': 'Philippines',\n",
    "    'SPAIN': 'Spain',\n",
    "    'SOUTH AFRICA': 'South Africa',\n",
    "    'South Africa': 'South Africa',\n",
    "    'THAILAND': 'Thailand',\n",
    "    'TRINIDAD': 'Trinidad and Tobago',\n",
    "    'TRINIDAD & TOBAGO': 'Trinidad and Tobago',\n",
    "    'TURKS & CAICOS': 'Turks and Caicos',\n",
    "    'TURKS and CaICOS': 'Turks and Caicos',\n",
    "    'UNITED ARAB EMIRATES (UAE)': 'United Arab Emirates',\n",
    "    'UNITED KINGDOM': 'United Kingdom',\n",
    "    'USA': 'United States',\n",
    "    'UAE': 'United Arab Emirates',\n",
    "    'UNITED STATES': 'United States',\n",
    "    'REUNION ISLAND': 'Reunion',\n",
    "    'REUNION': 'Reunion',\n",
    "    'ST MARTIN': 'Saint Martin',\n",
    "    'ST. MARTIN': 'Saint Martin',\n",
    "    'ST. MAARTIN': 'Saint Martin',\n",
    "    'SAINT MAARTEN': 'Saint Martin',\n",
    "    'PAPUA NEW GUINEA': 'Papua New Guinea',\n",
    "    'FIJI': 'Fiji',\n",
    "    'Fiji': 'Fiji',\n",
    "    'CANADA': 'Canada',\n",
    "    'CUBA': 'Cuba',\n",
    "    'ARGENTINA': 'Argentina',\n",
    "    'BRAZIL': 'Brazil',\n",
    "    'CHILE': 'Chile',\n",
    "    'ECUADOR': 'Ecuador',\n",
    "    'PERU': 'Peru',\n",
    "    'VENEZUELA': 'Venezuela',\n",
    "    'COOK ISLANDS': 'Cook Islands',\n",
    "    'DOMINICAN REPUBLIC': 'Dominican Republic',\n",
    "    'SEYCHELLES': 'Seychelles',\n",
    "    'ST KITTS / NEVIS': 'Saint Kitts and Nevis',\n",
    "    'ST HELENA, British overseas territory': 'Saint Helena',\n",
    "    'SOLOMON ISLANDS': 'Solomon Islands',\n",
    "    'TONGA': 'Tonga',\n",
    "    ' TONGA': 'Tonga',\n",
    "    'KIRIBATI': 'Kiribati',\n",
    "    'PALAU': 'Palau',\n",
    "    'MALTA': 'Malta',\n",
    "    'SCOTLAND': 'United Kingdom',\n",
    "    'IRELAND': 'Ireland',\n",
    "    'ITALY': 'Italy',\n",
    "    'MALAYSIA': 'Malaysia',\n",
    "    'LIBYA': 'Libya',\n",
    "    'JORDAN': 'Jordan',\n",
    "    'ISRAEL': 'Israel',\n",
    "    'CHINA': 'China',\n",
    "    'TAIWAN': 'Taiwan',\n",
    "    'INDIAN OCEAN': 'Indian Ocean',\n",
    "    'INDIAN OCEAN?': 'Indian Ocean',\n",
    "    'INDIAN OCEAN?': 'Indian Ocean',\n",
    "    'NORTH ATLANTIC OCEAN': 'North Atlantic Ocean',\n",
    "    'NORTH ATLANTIC OCEAN ': 'North Atlantic Ocean',\n",
    "    'SOUTH ATLANTIC OCEAN': 'South Atlantic Ocean',\n",
    "    'ATLANTIC OCEAN': 'Atlantic Ocean',\n",
    "    'PACIFIC OCEAN': 'Pacific Ocean',\n",
    "    'PACIFIC OCEAN ': 'Pacific Ocean',\n",
    "    'SOUTH PACIFIC OCEAN': 'South Pacific Ocean',\n",
    "    'NORTH PACIFIC OCEAN': 'North Pacific Ocean',\n",
    "    'CARIBBEAN SEA': 'Caribbean Sea',\n",
    "    'MID ATLANTIC OCEAN': 'Mid Atlantic Ocean',\n",
    "    'SOUTH CHINA SEA': 'South China Sea',\n",
    "    'BAY OF BENGAL': 'Bay of Bengal',\n",
    "    'RED SEA': 'Red Sea',\n",
    "    'RED SEA?': 'Red Sea',\n",
    "    'RED SEA / INDIAN OCEAN': 'Red Sea',\n",
    "    'GULF OF ADEN': 'Gulf of Aden',\n",
    "    'PERSIAN GULF': 'Persian Gulf',\n",
    "    'CEYLON': 'Sri Lanka',\n",
    "    'CEYLON (SRI LANKA)': 'Sri Lanka',\n",
    "    'SRI LANKA': 'Sri Lanka',\n",
    "    'BANGLADESH': 'Bangladesh',\n",
    "    'BURMA': 'Myanmar',\n",
    "    'MYANMAR': 'Myanmar',\n",
    "    'VIETNAM': 'Vietnam',\n",
    "    'HONG KONG': 'Hong Kong',\n",
    "    'MARTINIQUE': 'Martinique',\n",
    "    'NETHERLANDS ANTILLES': 'Netherlands Antilles',\n",
    "    'NORTHERN MARIANA ISLANDS': 'Northern Mariana Islands',\n",
    "    'FEDERATED STATES OF MICRONESIA': 'Micronesia',\n",
    "    'MICRONESIA': 'Micronesia',\n",
    "    'FALKLAND ISLANDS': 'Falkland Islands',\n",
    "    'GIBRALTAR': 'Gibraltar',\n",
    "    'SAUDI ARABIA': 'Saudi Arabia',\n",
    "    'SINGAPORE': 'Singapore',\n",
    "    'SENEGAL': 'Senegal',\n",
    "    'SOMALIA': 'Somalia',\n",
    "    'SOUTH KOREA': 'South Korea',\n",
    "    'NORTH KOREA': 'North Korea',\n",
    "    'RUSSIA': 'Russia',\n",
    "    'GREECE': 'Greece',\n",
    "    'TUNISIA': 'Tunisia',\n",
    "    'TURKEY': 'Turkey',\n",
    "    'IRAN': 'Iran',\n",
    "    'IRAQ': 'Iraq',\n",
    "    'KUWAIT': 'Kuwait',\n",
    "    'LEBANON': 'Lebanon',\n",
    "    'SYRIA': 'Syria',\n",
    "    'AFRICA': 'Africa',\n",
    "    'Coast of AFRICA': 'Africa',\n",
    "    'GEORGIA': 'Georgia',\n",
    "    'GHANA': 'Ghana',\n",
    "    'GUINEA': 'Guinea',\n",
    "    'NAMIBIA': 'Namibia',\n",
    "    'TANZANIA': 'Tanzania',\n",
    "    'ALGERIA': 'Algeria',\n",
    "    'DJIBOUTI': 'Djibouti',\n",
    "    'EQUATORIAL GUINEA / CAMEROON': 'Equatorial Guinea',\n",
    "    'WEST INDIES': 'Caribbean',\n",
    "    'BRITISH ISLES': 'United Kingdom',\n",
    "    'BRITISH WEST INDIES': 'Caribbean',\n",
    "    'ST HELENA, British overseas territory': 'Saint Helena',\n",
    "    'NORWAY': 'Norway',\n",
    "    'ICELAND': 'Iceland',\n",
    "    'GABON': 'Gabon',\n",
    "    'MAYOTTE': 'Mayotte',\n",
    "    'SWEDEN': 'Sweden',\n",
    "    'SLOVENIA': 'Slovenia',\n",
    "    'CURACAO': 'Curaçao',\n",
    "    'HAITI': 'Haiti',\n",
    "    'GUATEMALA': 'Guatemala',\n",
    "    'NICARAGUA': 'Nicaragua',\n",
    "    'NICARAGUA ': 'Nicaragua',\n",
    "    'HONDURAS': 'Honduras',\n",
    "    'EL SALVADOR': 'El Salvador',\n",
    "    'COSTA RICA': 'Costa Rica',\n",
    "    'PANAMA': 'Panama',\n",
    "    'BARBADOS': 'Barbados',\n",
    "    'ARUBA': 'Aruba',\n",
    "    'GRAND CAYMAN': 'Cayman Islands',\n",
    "    'CAYMAN ISLANDS': 'Cayman Islands',\n",
    "    'SAINT LUCIA': 'Saint Lucia',\n",
    "    'USA': 'United States', \n",
    "    'Usa': 'United States'\n",
    "}"
   ]
  },
  {
   "cell_type": "code",
   "execution_count": null,
   "metadata": {},
   "outputs": [],
   "source": [
    "df['Country'] = df['Country'].replace(update_country).fillna('Unknown')"
   ]
  },
  {
   "cell_type": "code",
   "execution_count": null,
   "metadata": {},
   "outputs": [],
   "source": [
    "df['Country'].unique()"
   ]
  },
  {
   "cell_type": "code",
   "execution_count": null,
   "metadata": {},
   "outputs": [],
   "source": [
    " #Data Cleaning for the column 'Country', I've tried to use regex \n",
    "df[\"Country\"] = df[\"Country\"].str.strip().str.title()\n",
    "df[\"Country\"] = df[\"Country\"].str.replace(r\"[^a-zA-Z\\s]\", \"\", regex=True)\n",
    "#df[\"Country\"] = df[\"Country\"].map(lambda x: x.upper())\n",
    "df[\"Country\"] = df[\"Country\"].fillna(\"Unknown\")\n",
    "print(df[\"Country\"].unique())"
   ]
  },
  {
   "cell_type": "code",
   "execution_count": null,
   "metadata": {},
   "outputs": [],
   "source": [
    "unique_country = len(df['Country'].unique())\n",
    "unique_country"
   ]
  },
  {
   "cell_type": "code",
   "execution_count": null,
   "metadata": {},
   "outputs": [],
   "source": [
    "df[\"Country\"] = df[\"Country\"].replace(update_country) # Reassigning it back to \"Country\""
   ]
  },
  {
   "cell_type": "code",
   "execution_count": null,
   "metadata": {},
   "outputs": [],
   "source": [
    "country_group = df.groupby('Country')\n",
    "number_of_attacks = country_group['Country'].count()\n",
    "number_of_attacks = number_of_attacks.sort_values(ascending=False)\n",
    "top_10_attacks = number_of_attacks.head(10)\n",
    "top_10_attacks"
   ]
  },
  {
   "cell_type": "markdown",
   "metadata": {},
   "source": [
    "#### Visualisation, Top 10 Countries of Number of Shark Attacks"
   ]
  },
  {
   "cell_type": "code",
   "execution_count": 101,
   "metadata": {},
   "outputs": [
    {
     "data": {
      "image/png": "[encoded data removed]",
      "text/plain": [
       "<Figure size 1500x300 with 1 Axes>"
      ]
     },
     "metadata": {},
     "output_type": "display_data"
    }
   ],
   "source": [
    "plt.figure(figsize=(15,3))\n",
    "sns.barplot(x=top_10_attacks.index, y=top_10_attacks, color=\"skyblue\")\n",
    "plt.title(\"Number of Attacks for the top 10 Most Effected Countries.\")\n",
    "plt.ylabel(\"Number of Attakcs\")\n",
    "plt.show()"
   ]
  },
  {
   "cell_type": "markdown",
   "metadata": {},
   "source": [
    "#### Top 10 Areas in The USA with Shark Attacks "
   ]
  },
  {
   "cell_type": "code",
   "execution_count": 103,
   "metadata": {},
   "outputs": [
    {
     "ename": "KeyError",
     "evalue": "'Area'",
     "output_type": "error",
     "traceback": [
      "\u001b[0;31m---------------------------------------------------------------------------\u001b[0m",
      "\u001b[0;31mKeyError\u001b[0m                                  Traceback (most recent call last)",
      "Cell \u001b[0;32mIn[103], line 1\u001b[0m\n\u001b[0;32m----> 1\u001b[0m USA_attacks \u001b[38;5;241m=\u001b[39m df[df\u001b[38;5;241m.\u001b[39mCountry \u001b[38;5;241m==\u001b[39m \u001b[38;5;124m\"\u001b[39m\u001b[38;5;124mUnited States\u001b[39m\u001b[38;5;124m\"\u001b[39m]\u001b[38;5;241m.\u001b[39mgroupby(\u001b[38;5;124m\"\u001b[39m\u001b[38;5;124mArea\u001b[39m\u001b[38;5;124m\"\u001b[39m)[\u001b[38;5;124m\"\u001b[39m\u001b[38;5;124mArea\u001b[39m\u001b[38;5;124m\"\u001b[39m]\u001b[38;5;241m.\u001b[39mcount()\u001b[38;5;241m.\u001b[39msort_values(ascending\u001b[38;5;241m=\u001b[39m\u001b[38;5;28;01mFalse\u001b[39;00m)[:\u001b[38;5;241m10\u001b[39m]\n",
      "File \u001b[0;32m/opt/anaconda3/lib/python3.12/site-packages/pandas/core/frame.py:9183\u001b[0m, in \u001b[0;36mDataFrame.groupby\u001b[0;34m(self, by, axis, level, as_index, sort, group_keys, observed, dropna)\u001b[0m\n\u001b[1;32m   9180\u001b[0m \u001b[38;5;28;01mif\u001b[39;00m level \u001b[38;5;129;01mis\u001b[39;00m \u001b[38;5;28;01mNone\u001b[39;00m \u001b[38;5;129;01mand\u001b[39;00m by \u001b[38;5;129;01mis\u001b[39;00m \u001b[38;5;28;01mNone\u001b[39;00m:\n\u001b[1;32m   9181\u001b[0m     \u001b[38;5;28;01mraise\u001b[39;00m \u001b[38;5;167;01mTypeError\u001b[39;00m(\u001b[38;5;124m\"\u001b[39m\u001b[38;5;124mYou have to supply one of \u001b[39m\u001b[38;5;124m'\u001b[39m\u001b[38;5;124mby\u001b[39m\u001b[38;5;124m'\u001b[39m\u001b[38;5;124m and \u001b[39m\u001b[38;5;124m'\u001b[39m\u001b[38;5;124mlevel\u001b[39m\u001b[38;5;124m'\u001b[39m\u001b[38;5;124m\"\u001b[39m)\n\u001b[0;32m-> 9183\u001b[0m \u001b[38;5;28;01mreturn\u001b[39;00m DataFrameGroupBy(\n\u001b[1;32m   9184\u001b[0m     obj\u001b[38;5;241m=\u001b[39m\u001b[38;5;28mself\u001b[39m,\n\u001b[1;32m   9185\u001b[0m     keys\u001b[38;5;241m=\u001b[39mby,\n\u001b[1;32m   9186\u001b[0m     axis\u001b[38;5;241m=\u001b[39maxis,\n\u001b[1;32m   9187\u001b[0m     level\u001b[38;5;241m=\u001b[39mlevel,\n\u001b[1;32m   9188\u001b[0m     as_index\u001b[38;5;241m=\u001b[39mas_index,\n\u001b[1;32m   9189\u001b[0m     sort\u001b[38;5;241m=\u001b[39msort,\n\u001b[1;32m   9190\u001b[0m     group_keys\u001b[38;5;241m=\u001b[39mgroup_keys,\n\u001b[1;32m   9191\u001b[0m     observed\u001b[38;5;241m=\u001b[39mobserved,\n\u001b[1;32m   9192\u001b[0m     dropna\u001b[38;5;241m=\u001b[39mdropna,\n\u001b[1;32m   9193\u001b[0m )\n",
      "File \u001b[0;32m/opt/anaconda3/lib/python3.12/site-packages/pandas/core/groupby/groupby.py:1329\u001b[0m, in \u001b[0;36mGroupBy.__init__\u001b[0;34m(self, obj, keys, axis, level, grouper, exclusions, selection, as_index, sort, group_keys, observed, dropna)\u001b[0m\n\u001b[1;32m   1326\u001b[0m \u001b[38;5;28mself\u001b[39m\u001b[38;5;241m.\u001b[39mdropna \u001b[38;5;241m=\u001b[39m dropna\n\u001b[1;32m   1328\u001b[0m \u001b[38;5;28;01mif\u001b[39;00m grouper \u001b[38;5;129;01mis\u001b[39;00m \u001b[38;5;28;01mNone\u001b[39;00m:\n\u001b[0;32m-> 1329\u001b[0m     grouper, exclusions, obj \u001b[38;5;241m=\u001b[39m get_grouper(\n\u001b[1;32m   1330\u001b[0m         obj,\n\u001b[1;32m   1331\u001b[0m         keys,\n\u001b[1;32m   1332\u001b[0m         axis\u001b[38;5;241m=\u001b[39maxis,\n\u001b[1;32m   1333\u001b[0m         level\u001b[38;5;241m=\u001b[39mlevel,\n\u001b[1;32m   1334\u001b[0m         sort\u001b[38;5;241m=\u001b[39msort,\n\u001b[1;32m   1335\u001b[0m         observed\u001b[38;5;241m=\u001b[39m\u001b[38;5;28;01mFalse\u001b[39;00m \u001b[38;5;28;01mif\u001b[39;00m observed \u001b[38;5;129;01mis\u001b[39;00m lib\u001b[38;5;241m.\u001b[39mno_default \u001b[38;5;28;01melse\u001b[39;00m observed,\n\u001b[1;32m   1336\u001b[0m         dropna\u001b[38;5;241m=\u001b[39m\u001b[38;5;28mself\u001b[39m\u001b[38;5;241m.\u001b[39mdropna,\n\u001b[1;32m   1337\u001b[0m     )\n\u001b[1;32m   1339\u001b[0m \u001b[38;5;28;01mif\u001b[39;00m observed \u001b[38;5;129;01mis\u001b[39;00m lib\u001b[38;5;241m.\u001b[39mno_default:\n\u001b[1;32m   1340\u001b[0m     \u001b[38;5;28;01mif\u001b[39;00m \u001b[38;5;28many\u001b[39m(ping\u001b[38;5;241m.\u001b[39m_passed_categorical \u001b[38;5;28;01mfor\u001b[39;00m ping \u001b[38;5;129;01min\u001b[39;00m grouper\u001b[38;5;241m.\u001b[39mgroupings):\n",
      "File \u001b[0;32m/opt/anaconda3/lib/python3.12/site-packages/pandas/core/groupby/grouper.py:1043\u001b[0m, in \u001b[0;36mget_grouper\u001b[0;34m(obj, key, axis, level, sort, observed, validate, dropna)\u001b[0m\n\u001b[1;32m   1041\u001b[0m         in_axis, level, gpr \u001b[38;5;241m=\u001b[39m \u001b[38;5;28;01mFalse\u001b[39;00m, gpr, \u001b[38;5;28;01mNone\u001b[39;00m\n\u001b[1;32m   1042\u001b[0m     \u001b[38;5;28;01melse\u001b[39;00m:\n\u001b[0;32m-> 1043\u001b[0m         \u001b[38;5;28;01mraise\u001b[39;00m \u001b[38;5;167;01mKeyError\u001b[39;00m(gpr)\n\u001b[1;32m   1044\u001b[0m \u001b[38;5;28;01melif\u001b[39;00m \u001b[38;5;28misinstance\u001b[39m(gpr, Grouper) \u001b[38;5;129;01mand\u001b[39;00m gpr\u001b[38;5;241m.\u001b[39mkey \u001b[38;5;129;01mis\u001b[39;00m \u001b[38;5;129;01mnot\u001b[39;00m \u001b[38;5;28;01mNone\u001b[39;00m:\n\u001b[1;32m   1045\u001b[0m     \u001b[38;5;66;03m# Add key to exclusions\u001b[39;00m\n\u001b[1;32m   1046\u001b[0m     exclusions\u001b[38;5;241m.\u001b[39madd(gpr\u001b[38;5;241m.\u001b[39mkey)\n",
      "\u001b[0;31mKeyError\u001b[0m: 'Area'"
     ]
    }
   ],
   "source": [
    "USA_attacks = df[df.Country == \"United States\"].groupby(\"Area\")[\"Area\"].count().sort_values(ascending=False)[:10]"
   ]
  },
  {
   "cell_type": "markdown",
   "metadata": {},
   "source": [
    "#### Visualisation: Gender Distribution of Victims of Shark Attacks."
   ]
  },
  {
   "cell_type": "code",
   "execution_count": null,
   "metadata": {},
   "outputs": [],
   "source": [
    "#df[\"Gender\"] = df[\"Gender\"].fillna(\"Unknown\")  # Replace NaN with \"Unknown\"\n",
    "\n",
    "gender_group = df.groupby(\"Gender\")\n",
    "gender_country_group = gender_group[\"Country\"].count()\n",
    "gender_of_injured = gender_country_group.sort_values(ascending=False)\n",
    "gender_of_injured.index = gender_of_injured.index.map({\"M\": \"Male\", \"F\": \"Female\"}).fillna(\"Unknown\")  # Map known values and keep \"Unknown\"\n",
    "\n",
    "plt.figure(figsize=(8, 8))\n",
    "plt.pie(gender_of_injured, labels=gender_of_injured.index, autopct=\"%1.1f%%\", startangle=90, colors=[\"skyblue\", \"dodgerblue\", \"deepskyblue\"])\n",
    "plt.title(\"Gender Distribution in the Injured\")\n",
    "plt.show()"
   ]
  },
  {
   "cell_type": "markdown",
   "metadata": {},
   "source": [
    "### Data Cleaning for the Column 'Location'"
   ]
  },
  {
   "cell_type": "code",
   "execution_count": null,
   "metadata": {},
   "outputs": [],
   "source": [
    "# Cleaning for location\n",
    "df[\"Location\"] = df[\"Location\"].astype(str)\n",
    "df[\"Location\"] = df[\"Location\"].map(lambda x:x.upper())\n",
    "df[\"Location\"] = df[\"Location\"].fillna(\"Unknown\")\n",
    "df[\"Location\"] = df[\"Location\"].str.strip()\n",
    "df[\"Location\"] = df[\"Location\"].replace({\n",
    "    \"NAN\": \"Unknown\",\n",
    "     \"nan\": \"Unknown\",\n",
    "      \"Nan\": \"Unknown\", \n",
    "})\n",
    "df[\"Location\"] "
   ]
  },
  {
   "cell_type": "markdown",
   "metadata": {},
   "source": [
    "### Visualisation for 'Location'"
   ]
  },
  {
   "cell_type": "code",
   "execution_count": null,
   "metadata": {},
   "outputs": [],
   "source": [
    "# Data Cleaning for the Column 'State'\n",
    "#df[\"State\"] = df[\"State\"].\n",
    "df[\"State\"] = df[\"State\"].fillna(\"Unknown\")\n",
    "df[\"State\"] = df[\"State\"].astype(str)\n",
    "df[\"State\"] = df[\"State\"].str.strip()\n",
    "df[\"State\"] = df[\"State\"].replace({\n",
    "    \"NAN\": \"Unknown\",\n",
    "    \"nan\": \"Unknown\",\n",
    "    \"Nan\": \"Unknown\", \n",
    "    \" \": \"Unknown\",\n",
    "    \"  \": \"Unknown\"\n",
    "})\n",
    "print(df[\"State\"].unique())"
   ]
  },
  {
   "cell_type": "code",
   "execution_count": null,
   "metadata": {},
   "outputs": [],
   "source": [
    "# Data Cleaning for the Column Activity \n",
    "df[\"Activity\"] = df[\"Activity\"].fillna(\"Unknown\")\n",
    "df[\"Activity\"] = df[\"Activity\"].astype(str)\n",
    "df[\"Activity\"] = df[\"Activity\"].str.strip()\n",
    "df[\"Activity\"] = df[\"Activity\"].replace({\n",
    "    \"NAN\": \"Unknown\",\n",
    "     \"nan\": \"Unknown\",\n",
    "      \"Nan\": \"Unknown\",\n",
    "})\n",
    "# Needs more cleaning "
   ]
  },
  {
   "cell_type": "markdown",
   "metadata": {},
   "source": [
    "### Data Cleaning for the Column 'Activity'"
   ]
  },
  {
   "cell_type": "code",
   "execution_count": null,
   "metadata": {},
   "outputs": [],
   "source": [
    "df[\"Activity\"].describe()"
   ]
  },
  {
   "cell_type": "code",
   "execution_count": null,
   "metadata": {},
   "outputs": [],
   "source": [
    "df['Activity'].unique()[:100]"
   ]
  },
  {
   "cell_type": "code",
   "execution_count": null,
   "metadata": {},
   "outputs": [],
   "source": [
    "len(df['Activity'].unique())"
   ]
  },
  {
   "cell_type": "code",
   "execution_count": null,
   "metadata": {},
   "outputs": [],
   "source": [
    "# Data Cleaning for the Column 'Name' \n",
    "df[\"Activity\"] = df[\"Activity\"].fillna(\"Unknown\")\n",
    "df[\"Activity\"] = df[\"Activity\"].astype(str)\n",
    "df[\"Activity\"] = df[\"Activity\"].str.strip()\n",
    "df[\"Activity\"] = df[\"Activity\"].replace({\n",
    "    \"NAN\": \"Unknown\",\n",
    "     \"nan\": \"Unknown\",\n",
    "      \"Nan\": \"Unknown\"\n",
    "})\n",
    "df[\"Activity\"]\n",
    "# Needs to be furthered cleaned "
   ]
  },
  {
   "cell_type": "code",
   "execution_count": null,
   "metadata": {},
   "outputs": [],
   "source": [
    "def clean_activity(activity): \n",
    "    if not isinstance(activity, str):  # Handle NaN values\n",
    "        return \"Other/Unknown\"\n",
    "    \n",
    "    activity = activity.strip().lower()  # Normalize text\n",
    "    \n",
    "    pattern = r\"(?:\\b\\w+\\s+)*?\\b(surfing|swimming|fishing|kite|paddle(?:boarding)?|snorkeling|Shark|diving|kayaking|bathing|bodyboarding|spearfishing|boogie boarding|wading|floating|scuba diving|free diving|wakeboarding|windsurfing|sailing|jet skiing|canoeing|rafting|water skiing)(?:\\s+\\w+)*?\\b\"\n",
    "    \n",
    "    match = re.search(pattern, activity, re.IGNORECASE)  # Applying regex\n",
    "    \n",
    "    if match:\n",
    "        return match.group(1).title()  # Capitalize the matched activity\n",
    "    else: \n",
    "        return \"Other/Unknown\"\n",
    "\n",
    "# Apply function to the dataframe\n",
    "df['Cleaned_Activity'] = df['Activity'].apply(clean_activity)\n",
    "\n",
    "# Check the results\n",
    "print(df[\"Cleaned_Activity\"].value_counts())  # Count occurrences of each category\n",
    "print(df[\"Cleaned_Activity\"].tail())  # Displaying last few rows"
   ]
  },
  {
   "cell_type": "code",
   "execution_count": null,
   "metadata": {},
   "outputs": [],
   "source": [
    "df['Cleaned_Activity'].unique()[:100]"
   ]
  },
  {
   "cell_type": "code",
   "execution_count": null,
   "metadata": {},
   "outputs": [],
   "source": [
    "df[\"Cleaned_Activity\"] = df[\"Cleaned_Activity\"].replace({\"Kite\": \"Kite Surfing\", \"Shark\": \"Activity with Shark\"})"
   ]
  },
  {
   "cell_type": "code",
   "execution_count": null,
   "metadata": {},
   "outputs": [],
   "source": [
    "df[\"Cleaned_Activity\"].value_counts()"
   ]
  },
  {
   "cell_type": "markdown",
   "metadata": {},
   "source": [
    "### Data Cleaning for the Column 'Age'"
   ]
  },
  {
   "cell_type": "code",
   "execution_count": null,
   "metadata": {},
   "outputs": [],
   "source": [
    "# Data Cleaning for the Column Age\n",
    "df[\"Age\"] = pd.to_numeric(df[\"Age\"], errors=\"coerce\")\n",
    "df[\"Age\"].describe()"
   ]
  },
  {
   "cell_type": "code",
   "execution_count": null,
   "metadata": {},
   "outputs": [],
   "source": [
    "df[\"Age\"].describe()"
   ]
  },
  {
   "cell_type": "code",
   "execution_count": null,
   "metadata": {},
   "outputs": [],
   "source": [
    "# Since the Mean is 28.104841, I am going to replace it with all the null values, without greatily altering the distribution of the \"Age\" Column. \n",
    "df[\"Age\"] = df[\"Age\"].fillna(28.104841)\n",
    "df[\"Age\"]"
   ]
  },
  {
   "cell_type": "markdown",
   "metadata": {},
   "source": [
    "#### Visualtisation for Data & Age"
   ]
  },
  {
   "cell_type": "code",
   "execution_count": null,
   "metadata": {},
   "outputs": [],
   "source": [
    "df.plot(kind='scatter', x='Age', y='Cleaned_Activity', figsize=(6,6))"
   ]
  },
  {
   "cell_type": "code",
   "execution_count": null,
   "metadata": {},
   "outputs": [],
   "source": [
    "# I am graphicing here the Data & Age\n",
    "fix, ax = plt.subplots(figsize=(8,6))\n",
    "ax = sns.distplot(df[\"Age\"],\n",
    "ax = ax, \n",
    "hist_kws = {\"alpha\": 0.6, \"color\": \"#517AE9\"}, \n",
    "kde=False, bins=20)\n",
    "plt.xlabel(\"Age of the Victim in Years\")\n",
    "plt.ylabel(\"Count\")\n",
    "plt.title(\"Age Distribution\")"
   ]
  },
  {
   "cell_type": "code",
   "execution_count": null,
   "metadata": {},
   "outputs": [],
   "source": [
    "#sns.pairplot(df)\n",
    "#plt.suptitle(\"Relationships between Age, Year and Original Order\")"
   ]
  },
  {
   "cell_type": "markdown",
   "metadata": {},
   "source": [
    "### Fatal Rate of Shark Attacks "
   ]
  },
  {
   "cell_type": "code",
   "execution_count": null,
   "metadata": {},
   "outputs": [],
   "source": [
    "df[\"Fatal\"].unique()"
   ]
  },
  {
   "cell_type": "code",
   "execution_count": null,
   "metadata": {},
   "outputs": [],
   "source": [
    "df[\"Fatal\"] = df[\"Fatal\"].fillna(\"Unknown\").str.strip().astype(str)"
   ]
  },
  {
   "cell_type": "code",
   "execution_count": null,
   "metadata": {},
   "outputs": [],
   "source": [
    "# Data Cleaning for The Column Fatal\n",
    "df[\"Fatal\"] = df[\"Fatal\"].fillna(\"Unknown\")\n",
    "df[\"Fatal\"] = df[\"Fatal\"].str.strip()\n",
    "df[\"Fatal\"].value_counts(dropna=False)\n",
    "df[\"Fatal\"] = df[\"Fatal\"].astype(str)\n",
    "df[\"Fatal\"] = df[\"Fatal\"].replace({\n",
    "    \"Nan\": \"Unknown\",\n",
    "    \" N\": \"NO\",\n",
    "    \"UNKNOWN\": \"Unknown\",\n",
    "    \"F\": \"Unknown\",\\\n",
    "    \"M\": \"NO\",\n",
    "    \"n\": \"NO\",\n",
    "    \"N\": \"NO\",\n",
    "    \"Nq\": \"NO\",\n",
    "    \"Y\": \"YES\",\n",
    "    2017: \"Unknown\",\n",
    "    \"2017 \": \"Unknown\",\n",
    "     \"Y x 2\": \"Yes\",\n",
    "     \"y\": \"Yes\",\n",
    "     \"N   \": \"NO\",\n",
    "})\n",
    "#df[\"Fatal\"] = df[\"Fatal\"]\n",
    "#df[\"Fatal\"] = df[\"Fatal\"]\n",
    "#df[\"Fatal\"] = df[\"Fatal\"]\n",
    "df[\"Fatal\"].unique()\n"
   ]
  },
  {
   "cell_type": "code",
   "execution_count": null,
   "metadata": {},
   "outputs": [],
   "source": [
    "gender_grp = df.groupby(\"Fatal\")\n",
    "gender_grp.count()"
   ]
  },
  {
   "cell_type": "markdown",
   "metadata": {},
   "source": [
    "#### Visualisation: Fatal Rate of Shark Attacks "
   ]
  },
  {
   "cell_type": "code",
   "execution_count": null,
   "metadata": {},
   "outputs": [],
   "source": [
    "# Plot Pie Chart Column and COunt of Occurrences \n",
    "\n",
    "# Grouping by Fatal Column and Count Occurrences \n",
    "fatal_counts = df[\"Fatal\"].value_counts()\n",
    "\n",
    "plt.figure(figsize=(8, 8))\n",
    "plt.pie(fatal_counts, labels=fatal_counts.index, autopct=\"%1.1f%%\", startangle=90)\n",
    "plt.title(\"Fatality Rate\")\n",
    "plt.show()"
   ]
  },
  {
   "cell_type": "markdown",
   "metadata": {},
   "source": [
    "#### Fatality Rate by Gender"
   ]
  },
  {
   "cell_type": "code",
   "execution_count": null,
   "metadata": {},
   "outputs": [],
   "source": [
    "# Group by gender and Fatality Rate\n",
    "gender_fatal_counts = df.groupby([\"Gender\", \"Fatal\"]).size().unstack()\n",
    "\n",
    "# Plot Stacked Bar Chart\n",
    "gender_fatal_counts.plot(kind=\"bar\", stacked=True, figsize=(4, 5))\n",
    "\n",
    "plt.xlabel(\"Gender\")\n",
    "plt.ylabel(\"Count\")\n",
    "plt.title(\"Fatality Rate by Gender\")\n",
    "plt.legend(title=\"Fatality\", labels=gender_fatal_counts.columns)\n",
    "plt.xticks(rotation=0)\n",
    "plt.show()"
   ]
  },
  {
   "cell_type": "code",
   "execution_count": null,
   "metadata": {},
   "outputs": [],
   "source": [
    "df_count = df.groupby(\"Year\")[\"Date\"].count()\n",
    "df_count"
   ]
  },
  {
   "cell_type": "markdown",
   "metadata": {},
   "source": [
    "### Data Cleaning for the Column 'Date'"
   ]
  },
  {
   "cell_type": "code",
   "execution_count": null,
   "metadata": {},
   "outputs": [],
   "source": [
    "df[\"Date\"].value_counts()"
   ]
  },
  {
   "cell_type": "markdown",
   "metadata": {},
   "source": [
    "#### Visualisation for Date"
   ]
  },
  {
   "cell_type": "code",
   "execution_count": null,
   "metadata": {},
   "outputs": [],
   "source": [
    "df_count = df.groupby(\"Year\")[\"Date\"].count()\n",
    "df_count[df_count.index > 1750].plot()"
   ]
  },
  {
   "cell_type": "code",
   "execution_count": null,
   "metadata": {},
   "outputs": [],
   "source": [
    "df_count#.isna().sum()"
   ]
  },
  {
   "cell_type": "code",
   "execution_count": null,
   "metadata": {},
   "outputs": [],
   "source": [
    "df_usa = df[df[\"Country\"] == \"USA\"]\n",
    "df_usa"
   ]
  },
  {
   "cell_type": "code",
   "execution_count": null,
   "metadata": {},
   "outputs": [],
   "source": [
    "#df_count = df.groupby(\"Country\")[\"Year\"].count()\n",
    "#df_count[df_count.index > 1750].plot()"
   ]
  },
  {
   "cell_type": "code",
   "execution_count": null,
   "metadata": {},
   "outputs": [],
   "source": [
    "#df[\"Date\"] = pd.to_datetime(df[\"Date\"]) # Converting Object to dfate \n",
    "set(df[\"Date\"].sample(n=50))"
   ]
  },
  {
   "cell_type": "code",
   "execution_count": null,
   "metadata": {},
   "outputs": [],
   "source": [
    "len(set(df[\"Date\"])) # Too Many Values To go One by One."
   ]
  },
  {
   "cell_type": "code",
   "execution_count": null,
   "metadata": {},
   "outputs": [],
   "source": [
    "#df_usa[\"Date\"].value_counts()"
   ]
  },
  {
   "cell_type": "code",
   "execution_count": null,
   "metadata": {},
   "outputs": [],
   "source": [
    "#pd.to_datetime(df_usa[\"Data_Clean\"])"
   ]
  }
 ],
 "metadata": {
  "kernelspec": {
   "display_name": "base",
   "language": "python",
   "name": "python3"
  },
  "language_info": {
   "codemirror_mode": {
    "name": "ipython",
    "version": 3
   },
   "file_extension": ".py",
   "mimetype": "text/x-python",
   "name": "python",
   "nbconvert_exporter": "python",
   "pygments_lexer": "ipython3",
   "version": "3.12.7"
  }
 },
 "nbformat": 4,
 "nbformat_minor": 4
}
